{
 "cells": [
  {
   "cell_type": "code",
   "execution_count": null,
   "id": "121501cf",
   "metadata": {},
   "outputs": [],
   "source": [
    "import os\n",
    "import numpy as np\n",
    "import pandas as pd\n",
    "from pandas_profiling import ProfileReport"
   ]
  },
  {
   "cell_type": "code",
   "execution_count": null,
   "id": "05b0c299",
   "metadata": {},
   "outputs": [],
   "source": [
    "try:\n",
    "    _ = first_run\n",
    "except NameError:\n",
    "    first_run = True\n",
    "    os.chdir(os.getcwd().rsplit(\"/\", 1)[0])"
   ]
  },
  {
   "cell_type": "markdown",
   "id": "05bf4aab",
   "metadata": {},
   "source": [
    "# Load Data"
   ]
  },
  {
   "cell_type": "code",
   "execution_count": null,
   "id": "8e0d6f56",
   "metadata": {},
   "outputs": [],
   "source": [
    "df = pd.read_csv(\"../data/train/X_train.csv\", index_col=0).join(\n",
    "    pd.read_csv(\"../data/train/y_train.csv\", index_col=0)\n",
    ")"
   ]
  },
  {
   "cell_type": "markdown",
   "id": "165e4b63",
   "metadata": {},
   "source": [
    "# Generate basic profile"
   ]
  },
  {
   "cell_type": "code",
   "execution_count": null,
   "id": "b7cc03f3",
   "metadata": {},
   "outputs": [],
   "source": [
    "profile = ProfileReport(\n",
    "    df,\n",
    "    title=\"Basic Profile Report - Klarna Dataset\",\n",
    "    explorative=True,\n",
    "    pool_size=8,\n",
    "    sort=\"ascending\",\n",
    "    vars={\"cat\": {\"words\": True, \"cardinality_threshold\": 10}},\n",
    "    html={\"style\": {\"full_width\": True}},\n",
    ")"
   ]
  },
  {
   "cell_type": "code",
   "execution_count": null,
   "id": "e04a7500",
   "metadata": {},
   "outputs": [],
   "source": [
    "profile.to_file(\"1_sanity/basic_profile.html\")"
   ]
  },
  {
   "cell_type": "markdown",
   "id": "d3251c84",
   "metadata": {},
   "source": [
    "## 1. Making sense of variables in the dataset\n",
    "\n",
    "Let's try to give a qualitative definition of each variable in the dataset\n",
    "\n",
    "**1. Personal variables**\n",
    "- age\n",
    "- name_in_email: how much of the account owner's name can be found in their email\n",
    "\n",
    "**2. Status variables**<br/>\n",
    "They seem to be ordinal (hence the max in some of them), with 1.0 being the normal status and 4.0 being the worst. From the principle \"customer obssession\", it seems reasonable to assume missing values should default to 1.0. In other words, the account is considered normal until proven otherwise.\n",
    "- account_status: the current status of the account\n",
    "- account_worst_status_M_Nm: the worst status (max) in the M to N period in months\n",
    "- account_days_in_dc_M_Nm: number of days an account was put into status \"dc\" between M and N months ago (?)\n",
    "- account_days_in_rem_M_Nm: number of days an account was put into status \"rem\" between M and N months ago (?)\n",
    "- account_days_in_term_M_Nm: number of days an account was put into status \"term\" between M and N months ago (terminated ?)\n",
    "- status_max_archived_M_N_months: the max (worst) status for archieved invoices\n",
    "- status_Nth_archived_M_Nm: status of the last Nth archived invoice between M and N months ago\n",
    "    - 0 through 5, with 1 being the most commom status... perhaps:\n",
    "        - 0 means paid on the spot\n",
    "        - 1 means paid fully in short term installments\n",
    "        - 2 means paid fully in longer term installments\n",
    "        - 3 means paid fully in installments with fee due to delays in payment\n",
    "        - 4 means not paid in full (is not present in the train dataset)\n",
    "        - 5 means not paid at all\n",
    "\n",
    "**3. Account variables**\n",
    "- account_amount_added_12_24m: money deposited into the app for cardless purchases\n",
    "- sum_capital_paid_account_M_Nm: the total amount of money paid with account funds between M and N months ago\n",
    "- account_incoming_debt_vs_paid_0_24m: ratio \"new_debt / old_paid_debt\"\n",
    "- num_unpaid_bills: number of installments still unpaid\n",
    "- sum_paid_inv_0_12m: the total amount of money paid with installments (card) between M and N months ago\n",
    "- max_paid_inv_M_Nm: the amount of the largest purchase the account has made between M and N months ago\n",
    "- num_active_inv: number of active invoices\n",
    "- num_active_div_by_paid_inv_M_Nm: ratio \"number_active_invoices / number_paid_invoices\" between M and N months ago\n",
    "    - null when number_paid_invoices is zero\n",
    "    - can be imputed, what's the best way?\n",
    "- avg_payment_span_M_Nm: the average number of days to liquidate debt looking back between M and N months ago\n",
    "- has_paid: whether the account has paid the latest installment\n",
    "\n",
    "**4. Archived variables**\n",
    "- num_arch_dc_M_Nm: number of archieved invoices with status \"dc\" between M and N months ago (?)\n",
    "- num_arch_ok_M_Nm: number of archieved invoices with status \"ok\" between M and N months ago\n",
    "- num_arch_rem_M_Nm: number of archieved invoices with status \"rem\" between M and N months ago (?)\n",
    "- num_arch_written_off_M_Nm: number of archieved invoices that were unpaid between M and N months ago\n",
    "\n",
    "**5. Order variables**\n",
    "- merchant_category: category of the merchant receiving the order\n",
    "- merchant_group: group of the merchant receiving the order"
   ]
  },
  {
   "cell_type": "markdown",
   "id": "36a076b0",
   "metadata": {},
   "source": [
    "---\n",
    "## 2. Making sense of macro behaviours in the dataset\n",
    "\n",
    "### Not-so-old accounts\n",
    "The account did not exist before 12 months:\n",
    "- account_days_in_dc_12_24m (11.9% missing, 87.9% zero)\n",
    "- account_days_in_rem_12_24m (11.9% missing, 78.5% zero)\n",
    "- account_days_in_term_12_24m (11.9% missing, 86.9% zero)\n",
    "- num_arch_dc_12_24m - not treated as missing, zero instead (96.0%)\n",
    "- num_arch_ok_12_24m - not treated as missing, zero instead (37.8%)\n",
    "- num_arch_written_off_12_24m - 18% missing and most observations are 0 (+99.9%)\n",
    "- sum_capital_paid_account_12_24m - not treated as missing, zero instead (74.7%)\n",
    "\n",
    "We can already get an idea that looking back further than 12 months is likely to introduce too much noise.\n",
    "\n",
    "### Missing account status\n",
    "Many accounts (>54.3%) do not have information about their statuses. The first scenario that comes to mind is that accounts that have not made a previous purchase cannot be assigned a status. **How can we check that?**\n",
    "- account_status (54.3%)\n",
    "- account_worst_status_0_3m (54.3%)\n",
    "- account_worst_status_12_24m (66.7%)\n",
    "- account_worst_status_3_6m (57.7%)\n",
    "- account_worst_status_6_12m (60.3%)\n",
    "\n",
    "\n",
    "#### Before going any further, let's try to verify whether these seemly inactive accounts can be removed from the dataset.\n",
    "(answer - they should not be removed)"
   ]
  },
  {
   "cell_type": "code",
   "execution_count": null,
   "id": "cd20175c",
   "metadata": {},
   "outputs": [],
   "source": [
    "feature_count = df.drop([\"uuid\"], axis=1).shape[1]\n",
    "\n",
    "account_irrelevant_values = (\n",
    "    df.drop([\"uuid\"], axis=1)\n",
    "    .replace(0, np.nan)\n",
    "    .apply(lambda account: account.isna().sum() / feature_count, axis=1)\n",
    ")\n",
    "\n",
    "account_irrelevant_values.plot.hist()"
   ]
  },
  {
   "cell_type": "markdown",
   "id": "a5467b57",
   "metadata": {},
   "source": [
    "### New accounts?\n",
    "\n",
    "We can see that there is a high concentration of accounts that have +80% of missing or zero value. We must find out what makes up the remaining <20% of apparently good information. If the missing data is related to snapshot variables, it becomes safer to assume that these are new accounts.\n",
    "> Note that zero values are not always bad, but having all (or most) variables as zero suggests that the register is irrelevant"
   ]
  },
  {
   "cell_type": "code",
   "execution_count": null,
   "id": "498c3b52",
   "metadata": {},
   "outputs": [],
   "source": [
    "# drop columns that are all NaN or Zero\n",
    "\n",
    "(\n",
    "    account_irrelevant_values.to_frame(name=\"missing_percent\")\n",
    "    .loc[(account_irrelevant_values >= 0.80) & (account_irrelevant_values < 0.85)]\n",
    "    .join(df)\n",
    "    .replace(0, np.nan)\n",
    "    .dropna(how=\"all\", axis=1)\n",
    "    .info()\n",
    ")"
   ]
  },
  {
   "cell_type": "markdown",
   "id": "b9177465",
   "metadata": {},
   "source": [
    "Taking a look at these columns, we can see that \"age\", merchant info, \"time_hours\" and \"name_in_email\" compose most of these accounts relevant information. We do not consider \"has_paid\" to be relevant in this set of accounts due to it likely being set to \"False\" by default.\n",
    "\n",
    "This observation makes it reasonable to assume these are mostly new accounts since they have close to none information about snapshot. Thus, imputing all values to zero and grouping them with the rest sounds rather irresponsible and is bound to deter any significant performance. Hence, we will need to break our solution into two separate processes, one for old accounts (warm-start) and another for new accounts (cold-start). Note that the latter makes up ~14% of our dataset.\n",
    "> Note that 20% of defaults are in the \\[.8, .85) group and none are in the (.85, 1.0\\]"
   ]
  },
  {
   "cell_type": "markdown",
   "id": "47ff68bd",
   "metadata": {},
   "source": [
    "### What about the second peak of accounts with 55-60% of missing or zero values?\n"
   ]
  },
  {
   "cell_type": "code",
   "execution_count": null,
   "id": "9d34a351",
   "metadata": {},
   "outputs": [],
   "source": [
    "# drop columns that are all NaN or Zero\n",
    "\n",
    "(\n",
    "    account_irrelevant_values.to_frame(name=\"missing_percent\")\n",
    "    .loc[(account_irrelevant_values >= 0.55) & (account_irrelevant_values < 0.6)]\n",
    "    .join(df)\n",
    "    .replace(0, np.nan)\n",
    "    .dropna(how=\"all\", axis=1)\n",
    "    .info()\n",
    ")"
   ]
  },
  {
   "cell_type": "markdown",
   "id": "a707365c",
   "metadata": {},
   "source": [
    "Although some columns have a lot of missing/zero values, they do have some relevant information which, in turn, possibly makes zero values relevant.\n",
    "\n",
    "The following columns have mostly missing values:\n",
    "- account_incoming_debt_vs_paid_0_24m\n",
    "- account_status\n",
    "- account_worst_status_0_3m\n",
    "- account_worst_status_12_24m\n",
    "- account_worst_status_3_6m\n",
    "- account_worst_status_6_12m\n",
    "- recovery_debt\n",
    "- worst_status_active_inv\n",
    "\n",
    "If we see that a sample of these variables explain well enough the default label, it becomes reasonable to think about imputing some of them. We will explore this in the next section.\n",
    "\n"
   ]
  }
 ],
 "metadata": {
  "jupytext": {
   "main_language": "python"
  },
  "kernelspec": {
   "display_name": "Python 3.8.8 64-bit ('klarna': conda)",
   "name": "python388jvsc74a57bd09f119b1d3a8a63730ae7ee508102d23a56b995c1f2248036bd772c0398b7d40e"
  }
 },
 "nbformat": 4,
 "nbformat_minor": 5
}

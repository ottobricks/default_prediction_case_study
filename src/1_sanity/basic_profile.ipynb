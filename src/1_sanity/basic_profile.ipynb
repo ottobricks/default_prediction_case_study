{
 "metadata": {
  "language_info": {
   "codemirror_mode": {
    "name": "ipython",
    "version": 3
   },
   "file_extension": ".py",
   "mimetype": "text/x-python",
   "name": "python",
   "nbconvert_exporter": "python",
   "pygments_lexer": "ipython3",
   "version": "3.8.8"
  },
  "orig_nbformat": 2,
  "kernelspec": {
   "name": "python388jvsc74a57bd09f119b1d3a8a63730ae7ee508102d23a56b995c1f2248036bd772c0398b7d40e",
   "display_name": "Python 3.8.8 64-bit ('klarna': conda)"
  }
 },
 "nbformat": 4,
 "nbformat_minor": 2,
 "cells": [
  {
   "cell_type": "code",
   "execution_count": 12,
   "metadata": {},
   "outputs": [],
   "source": [
    "import os\n",
    "import numpy as np\n",
    "import pandas as pd\n",
    "from pandas_profiling import ProfileReport"
   ]
  },
  {
   "cell_type": "code",
   "execution_count": 2,
   "metadata": {},
   "outputs": [],
   "source": [
    "try:\n",
    "    _ = first_run\n",
    "except NameError:\n",
    "    first_run = True\n",
    "    os.chdir(os.getcwd().rsplit(\"/\", 1)[0])"
   ]
  },
  {
   "source": [
    "# Load Data"
   ],
   "cell_type": "markdown",
   "metadata": {}
  },
  {
   "cell_type": "code",
   "execution_count": 3,
   "metadata": {},
   "outputs": [],
   "source": [
    "df = pd.read_csv(\"../data/train/X_train.csv\", index_col=0).join(pd.read_csv(\"../data/train/y_train.csv\", index_col=0))"
   ]
  },
  {
   "source": [
    "# Generate basic profile"
   ],
   "cell_type": "markdown",
   "metadata": {}
  },
  {
   "cell_type": "code",
   "execution_count": 4,
   "metadata": {},
   "outputs": [],
   "source": [
    "profile = ProfileReport(\n",
    "    df,\n",
    "    title=\"Basic Profile Report - Klarna Dataset\",\n",
    "    explorative=True,\n",
    "    pool_size=8,\n",
    "    sort=\"ascending\",\n",
    "    vars={\n",
    "        \"cat\": {\n",
    "            \"words\": True,\n",
    "            \"cardinality_threshold\": 10\n",
    "        }\n",
    "    },\n",
    "    html={\n",
    "        \"style\":{\n",
    "            \"full_width\": True\n",
    "        }\n",
    "    }\n",
    "\n",
    ")"
   ]
  },
  {
   "cell_type": "code",
   "execution_count": 63,
   "metadata": {},
   "outputs": [],
   "source": [
    "profile.to_file(\"1_sanity/basic_profile.html\")"
   ]
  },
  {
   "source": [
    "## 1. Making sense of variables in the dataset\n",
    "\n",
    "Let's try to give a qualitative definition of each variable in the dataset\n",
    "\n",
    "**Personal variables**\n",
    "- age\n",
    "- name_in_email: how much of the account owner's name can be found in their email\n",
    "\n",
    "**Status variables**<br/>\n",
    "They seem to be ordinal (hence the max in some of them), with 1.0 being the normal status and 4.0 being the worst. From the principle \"customer obssession\", it seems reasonable to assume missing values should default to 1.0. In other words, the account is considered normal until proven otherwise.\n",
    "- account_status: the current status of the account\n",
    "- account_worst_status_M_Nm: the worst status (max) in the M to N period in months\n",
    "- status_max_archived_M_N_months: the max (worst) status for archieved invoices\n",
    "- status_Nth_archived_M_Nm: status of the last Nth archived invoice between M and N months ago\n",
    "    - 0 through 5, with 1 being the most commom status... perhaps:\n",
    "        - 0 means paid on the spot\n",
    "        - 1 means paid fully in short term installments\n",
    "        - 2 means paid fully in longer term installments\n",
    "        - 3 means paid fully in installments with fee due to delays in payment\n",
    "        - 4 means not paid in full (is not present in the train dataset)\n",
    "        - 5 means not paid at all\n",
    "    \n",
    "**Account variables**\n",
    "- account_amount_added_12_24m: money deposited into the app for cardless purchases\n",
    "- account_incoming_debt_vs_paid_0_24m: ratio \"new_debt / old_paid_debt\"\n",
    "- account_days_in_dc_M_Nm: number of days an account was put into status \"dc\" between M and N months ago (?)\n",
    "- account_days_in_rem_M_Nm: number of days an account was put into status \"rem\" between M and N months ago (?)\n",
    "- account_days_in_term_M_Nm: number of days an account was put into status \"term\" between M and N months ago (terminated ?)\n",
    "\n",
    "**Payment variables**\n",
    "- avg_payment_span_M_Nm: the average number of days to liquidate debt looking back between M and N months ago\n",
    "- has_paid: whether the account has paid the latest installment\n",
    "- max_paid_inv_M_Nm: the amount of the largest purchase the account has made between M and N months ago\n",
    "- sum_capital_paid_account_M_Nm: the total amount of money paid with account funds between M and N months ago\n",
    "- sum_paid_inv_0_12m: the total amount of money paid with installments (card) between M and N months ago\n",
    "\n",
    "**Count variables**\n",
    "- num_active_inv: number of active invoices\n",
    "- num_unpaid_bills: number of installments still unpaid\n",
    "- num_active_div_by_paid_inv_M_Nm: ratio \"number_active_invoices / number_paid_invoices\" between M and N months ago\n",
    "    - null when number_paid_invoices is zero\n",
    "    - can be imputed, what's the best way?\n",
    "- num_arch_dc_M_Nm: number of archieved invoices with status \"dc\" between M and N months ago (?)\n",
    "- num_arch_ok_M_Nm: number of archieved invoices with status \"ok\" between M and N months ago\n",
    "- num_arch_rem_M_Nm: number of archieved invoices with status \"rem\" between M and N months ago (?)\n",
    "- num_arch_written_off_M_Nm: number of archieved invoices that were unpaid between M and N months ago\n",
    "\n",
    "**Order variables**\n",
    "- merchant_category: category of the merchant receiving the order\n",
    "- merchant_group: group of the merchant receiving the order"
   ],
   "cell_type": "markdown",
   "metadata": {}
  },
  {
   "source": [
    "---\n",
    "## 2. Making sense of macro behaviours in the dataset\n",
    "\n",
    "### Not-so-old accounts\n",
    "The account did not exist before 12 months:\n",
    "- account_days_in_dc_12_24m (11.9% missing, 87.9% zero)\n",
    "- account_days_in_rem_12_24m (11.9% missing, 78.5% zero)\n",
    "- account_days_in_term_12_24m (11.9% missing, 86.9% zero)\n",
    "- num_arch_dc_12_24m - not treated as missing, zero instead (96.0%)\n",
    "- num_arch_ok_12_24m - not treated as missing, zero instead (37.8%)\n",
    "- num_arch_written_off_12_24m - 18% missing and most observations are 0 (+99.9%)\n",
    "- sum_capital_paid_account_12_24m - not treated as missing, zero instead (74.7%)\n",
    "\n",
    "We can already get an idea that looking back further than 12 months is likely to introduce too much noise.\n",
    "\n",
    "### Missing account status\n",
    "Many accounts (>54.3%) do not have information about their statuses. The first scenario that comes to mind is that accounts that have not made a previous purchase cannot be assigned a status. **How can we check that?**\n",
    "- account_status (54.3%)\n",
    "- account_worst_status_0_3m (54.3%)\n",
    "- account_worst_status_12_24m (66.7%)\n",
    "- account_worst_status_3_6m (57.7%)\n",
    "- account_worst_status_6_12m (60.3%)\n",
    "\n",
    "\n",
    "#### Before going any further, let's try to verify whether these seemly inactive accounts can be removed from the dataset.\n",
    "(answer - they should not be removed)"
   ],
   "cell_type": "markdown",
   "metadata": {}
  },
  {
   "cell_type": "code",
   "execution_count": 79,
   "metadata": {},
   "outputs": [
    {
     "output_type": "execute_result",
     "data": {
      "text/plain": [
       "<AxesSubplot:ylabel='Frequency'>"
      ]
     },
     "metadata": {},
     "execution_count": 79
    },
    {
     "output_type": "display_data",
     "data": {
      "text/plain": "<Figure size 432x288 with 1 Axes>",
      "image/svg+xml": "<?xml version=\"1.0\" encoding=\"utf-8\" standalone=\"no\"?>\n<!DOCTYPE svg PUBLIC \"-//W3C//DTD SVG 1.1//EN\"\n  \"http://www.w3.org/Graphics/SVG/1.1/DTD/svg11.dtd\">\n<svg height=\"248.518125pt\" version=\"1.1\" viewBox=\"0 0 401.690625 248.518125\" width=\"401.690625pt\" xmlns=\"http://www.w3.org/2000/svg\" xmlns:xlink=\"http://www.w3.org/1999/xlink\">\n <metadata>\n  <rdf:RDF xmlns:cc=\"http://creativecommons.org/ns#\" xmlns:dc=\"http://purl.org/dc/elements/1.1/\" xmlns:rdf=\"http://www.w3.org/1999/02/22-rdf-syntax-ns#\">\n   <cc:Work>\n    <dc:type rdf:resource=\"http://purl.org/dc/dcmitype/StillImage\"/>\n    <dc:date>2021-05-19T11:06:59.837000</dc:date>\n    <dc:format>image/svg+xml</dc:format>\n    <dc:creator>\n     <cc:Agent>\n      <dc:title>Matplotlib v3.4.2, https://matplotlib.org/</dc:title>\n     </cc:Agent>\n    </dc:creator>\n   </cc:Work>\n  </rdf:RDF>\n </metadata>\n <defs>\n  <style type=\"text/css\">*{stroke-linecap:butt;stroke-linejoin:round;}</style>\n </defs>\n <g id=\"figure_1\">\n  <g id=\"patch_1\">\n   <path d=\"M 0 248.518125 \nL 401.690625 248.518125 \nL 401.690625 0 \nL 0 0 \nz\n\" style=\"fill:none;\"/>\n  </g>\n  <g id=\"axes_1\">\n   <g id=\"patch_2\">\n    <path d=\"M 59.690625 224.64 \nL 394.490625 224.64 \nL 394.490625 7.2 \nL 59.690625 7.2 \nz\n\" style=\"fill:#ffffff;\"/>\n   </g>\n   <g id=\"patch_3\">\n    <path clip-path=\"url(#pff802aef2a)\" d=\"M 74.908807 224.64 \nL 105.34517 224.64 \nL 105.34517 222.890754 \nL 74.908807 222.890754 \nz\n\" style=\"fill:#1f77b4;\"/>\n   </g>\n   <g id=\"patch_4\">\n    <path clip-path=\"url(#pff802aef2a)\" d=\"M 105.34517 224.64 \nL 135.781534 224.64 \nL 135.781534 184.869647 \nL 105.34517 184.869647 \nz\n\" style=\"fill:#1f77b4;\"/>\n   </g>\n   <g id=\"patch_5\">\n    <path clip-path=\"url(#pff802aef2a)\" d=\"M 135.781534 224.64 \nL 166.217898 224.64 \nL 166.217898 125.72015 \nL 135.781534 125.72015 \nz\n\" style=\"fill:#1f77b4;\"/>\n   </g>\n   <g id=\"patch_6\">\n    <path clip-path=\"url(#pff802aef2a)\" d=\"M 166.217898 224.64 \nL 196.654261 224.64 \nL 196.654261 84.987712 \nL 166.217898 84.987712 \nz\n\" style=\"fill:#1f77b4;\"/>\n   </g>\n   <g id=\"patch_7\">\n    <path clip-path=\"url(#pff802aef2a)\" d=\"M 196.654261 224.64 \nL 227.090625 224.64 \nL 227.090625 98.994173 \nL 196.654261 98.994173 \nz\n\" style=\"fill:#1f77b4;\"/>\n   </g>\n   <g id=\"patch_8\">\n    <path clip-path=\"url(#pff802aef2a)\" d=\"M 227.090625 224.64 \nL 257.526989 224.64 \nL 257.526989 146.798562 \nL 227.090625 146.798562 \nz\n\" style=\"fill:#1f77b4;\"/>\n   </g>\n   <g id=\"patch_9\">\n    <path clip-path=\"url(#pff802aef2a)\" d=\"M 257.526989 224.64 \nL 287.963352 224.64 \nL 287.963352 17.554286 \nL 257.526989 17.554286 \nz\n\" style=\"fill:#1f77b4;\"/>\n   </g>\n   <g id=\"patch_10\">\n    <path clip-path=\"url(#pff802aef2a)\" d=\"M 287.963352 224.64 \nL 318.399716 224.64 \nL 318.399716 185.681797 \nL 287.963352 185.681797 \nz\n\" style=\"fill:#1f77b4;\"/>\n   </g>\n   <g id=\"patch_11\">\n    <path clip-path=\"url(#pff802aef2a)\" d=\"M 318.399716 224.64 \nL 348.83608 224.64 \nL 348.83608 198.401313 \nL 318.399716 198.401313 \nz\n\" style=\"fill:#1f77b4;\"/>\n   </g>\n   <g id=\"patch_12\">\n    <path clip-path=\"url(#pff802aef2a)\" d=\"M 348.83608 224.64 \nL 379.272443 224.64 \nL 379.272443 81.139371 \nL 348.83608 81.139371 \nz\n\" style=\"fill:#1f77b4;\"/>\n   </g>\n   <g id=\"matplotlib.axis_1\">\n    <g id=\"xtick_1\">\n     <g id=\"line2d_1\">\n      <defs>\n       <path d=\"M 0 0 \nL 0 3.5 \n\" id=\"m75a7129d3d\" style=\"stroke:#000000;stroke-width:0.8;\"/>\n      </defs>\n      <g>\n       <use style=\"stroke:#000000;stroke-width:0.8;\" x=\"85.976575\" xlink:href=\"#m75a7129d3d\" y=\"224.64\"/>\n      </g>\n     </g>\n     <g id=\"text_1\">\n      <!-- 0.1 -->\n      <g transform=\"translate(78.025013 239.238437)scale(0.1 -0.1)\">\n       <defs>\n        <path d=\"M 2034 4250 \nQ 1547 4250 1301 3770 \nQ 1056 3291 1056 2328 \nQ 1056 1369 1301 889 \nQ 1547 409 2034 409 \nQ 2525 409 2770 889 \nQ 3016 1369 3016 2328 \nQ 3016 3291 2770 3770 \nQ 2525 4250 2034 4250 \nz\nM 2034 4750 \nQ 2819 4750 3233 4129 \nQ 3647 3509 3647 2328 \nQ 3647 1150 3233 529 \nQ 2819 -91 2034 -91 \nQ 1250 -91 836 529 \nQ 422 1150 422 2328 \nQ 422 3509 836 4129 \nQ 1250 4750 2034 4750 \nz\n\" id=\"DejaVuSans-30\" transform=\"scale(0.015625)\"/>\n        <path d=\"M 684 794 \nL 1344 794 \nL 1344 0 \nL 684 0 \nL 684 794 \nz\n\" id=\"DejaVuSans-2e\" transform=\"scale(0.015625)\"/>\n        <path d=\"M 794 531 \nL 1825 531 \nL 1825 4091 \nL 703 3866 \nL 703 4441 \nL 1819 4666 \nL 2450 4666 \nL 2450 531 \nL 3481 531 \nL 3481 0 \nL 794 0 \nL 794 531 \nz\n\" id=\"DejaVuSans-31\" transform=\"scale(0.015625)\"/>\n       </defs>\n       <use xlink:href=\"#DejaVuSans-30\"/>\n       <use x=\"63.623047\" xlink:href=\"#DejaVuSans-2e\"/>\n       <use x=\"95.410156\" xlink:href=\"#DejaVuSans-31\"/>\n      </g>\n     </g>\n    </g>\n    <g id=\"xtick_2\">\n     <g id=\"line2d_2\">\n      <g>\n       <use style=\"stroke:#000000;stroke-width:0.8;\" x=\"124.713765\" xlink:href=\"#m75a7129d3d\" y=\"224.64\"/>\n      </g>\n     </g>\n     <g id=\"text_2\">\n      <!-- 0.2 -->\n      <g transform=\"translate(116.762203 239.238437)scale(0.1 -0.1)\">\n       <defs>\n        <path d=\"M 1228 531 \nL 3431 531 \nL 3431 0 \nL 469 0 \nL 469 531 \nQ 828 903 1448 1529 \nQ 2069 2156 2228 2338 \nQ 2531 2678 2651 2914 \nQ 2772 3150 2772 3378 \nQ 2772 3750 2511 3984 \nQ 2250 4219 1831 4219 \nQ 1534 4219 1204 4116 \nQ 875 4013 500 3803 \nL 500 4441 \nQ 881 4594 1212 4672 \nQ 1544 4750 1819 4750 \nQ 2544 4750 2975 4387 \nQ 3406 4025 3406 3419 \nQ 3406 3131 3298 2873 \nQ 3191 2616 2906 2266 \nQ 2828 2175 2409 1742 \nQ 1991 1309 1228 531 \nz\n\" id=\"DejaVuSans-32\" transform=\"scale(0.015625)\"/>\n       </defs>\n       <use xlink:href=\"#DejaVuSans-30\"/>\n       <use x=\"63.623047\" xlink:href=\"#DejaVuSans-2e\"/>\n       <use x=\"95.410156\" xlink:href=\"#DejaVuSans-32\"/>\n      </g>\n     </g>\n    </g>\n    <g id=\"xtick_3\">\n     <g id=\"line2d_3\">\n      <g>\n       <use style=\"stroke:#000000;stroke-width:0.8;\" x=\"163.450956\" xlink:href=\"#m75a7129d3d\" y=\"224.64\"/>\n      </g>\n     </g>\n     <g id=\"text_3\">\n      <!-- 0.3 -->\n      <g transform=\"translate(155.499393 239.238437)scale(0.1 -0.1)\">\n       <defs>\n        <path d=\"M 2597 2516 \nQ 3050 2419 3304 2112 \nQ 3559 1806 3559 1356 \nQ 3559 666 3084 287 \nQ 2609 -91 1734 -91 \nQ 1441 -91 1130 -33 \nQ 819 25 488 141 \nL 488 750 \nQ 750 597 1062 519 \nQ 1375 441 1716 441 \nQ 2309 441 2620 675 \nQ 2931 909 2931 1356 \nQ 2931 1769 2642 2001 \nQ 2353 2234 1838 2234 \nL 1294 2234 \nL 1294 2753 \nL 1863 2753 \nQ 2328 2753 2575 2939 \nQ 2822 3125 2822 3475 \nQ 2822 3834 2567 4026 \nQ 2313 4219 1838 4219 \nQ 1578 4219 1281 4162 \nQ 984 4106 628 3988 \nL 628 4550 \nQ 988 4650 1302 4700 \nQ 1616 4750 1894 4750 \nQ 2613 4750 3031 4423 \nQ 3450 4097 3450 3541 \nQ 3450 3153 3228 2886 \nQ 3006 2619 2597 2516 \nz\n\" id=\"DejaVuSans-33\" transform=\"scale(0.015625)\"/>\n       </defs>\n       <use xlink:href=\"#DejaVuSans-30\"/>\n       <use x=\"63.623047\" xlink:href=\"#DejaVuSans-2e\"/>\n       <use x=\"95.410156\" xlink:href=\"#DejaVuSans-33\"/>\n      </g>\n     </g>\n    </g>\n    <g id=\"xtick_4\">\n     <g id=\"line2d_4\">\n      <g>\n       <use style=\"stroke:#000000;stroke-width:0.8;\" x=\"202.188146\" xlink:href=\"#m75a7129d3d\" y=\"224.64\"/>\n      </g>\n     </g>\n     <g id=\"text_4\">\n      <!-- 0.4 -->\n      <g transform=\"translate(194.236583 239.238437)scale(0.1 -0.1)\">\n       <defs>\n        <path d=\"M 2419 4116 \nL 825 1625 \nL 2419 1625 \nL 2419 4116 \nz\nM 2253 4666 \nL 3047 4666 \nL 3047 1625 \nL 3713 1625 \nL 3713 1100 \nL 3047 1100 \nL 3047 0 \nL 2419 0 \nL 2419 1100 \nL 313 1100 \nL 313 1709 \nL 2253 4666 \nz\n\" id=\"DejaVuSans-34\" transform=\"scale(0.015625)\"/>\n       </defs>\n       <use xlink:href=\"#DejaVuSans-30\"/>\n       <use x=\"63.623047\" xlink:href=\"#DejaVuSans-2e\"/>\n       <use x=\"95.410156\" xlink:href=\"#DejaVuSans-34\"/>\n      </g>\n     </g>\n    </g>\n    <g id=\"xtick_5\">\n     <g id=\"line2d_5\">\n      <g>\n       <use style=\"stroke:#000000;stroke-width:0.8;\" x=\"240.925336\" xlink:href=\"#m75a7129d3d\" y=\"224.64\"/>\n      </g>\n     </g>\n     <g id=\"text_5\">\n      <!-- 0.5 -->\n      <g transform=\"translate(232.973773 239.238437)scale(0.1 -0.1)\">\n       <defs>\n        <path d=\"M 691 4666 \nL 3169 4666 \nL 3169 4134 \nL 1269 4134 \nL 1269 2991 \nQ 1406 3038 1543 3061 \nQ 1681 3084 1819 3084 \nQ 2600 3084 3056 2656 \nQ 3513 2228 3513 1497 \nQ 3513 744 3044 326 \nQ 2575 -91 1722 -91 \nQ 1428 -91 1123 -41 \nQ 819 9 494 109 \nL 494 744 \nQ 775 591 1075 516 \nQ 1375 441 1709 441 \nQ 2250 441 2565 725 \nQ 2881 1009 2881 1497 \nQ 2881 1984 2565 2268 \nQ 2250 2553 1709 2553 \nQ 1456 2553 1204 2497 \nQ 953 2441 691 2322 \nL 691 4666 \nz\n\" id=\"DejaVuSans-35\" transform=\"scale(0.015625)\"/>\n       </defs>\n       <use xlink:href=\"#DejaVuSans-30\"/>\n       <use x=\"63.623047\" xlink:href=\"#DejaVuSans-2e\"/>\n       <use x=\"95.410156\" xlink:href=\"#DejaVuSans-35\"/>\n      </g>\n     </g>\n    </g>\n    <g id=\"xtick_6\">\n     <g id=\"line2d_6\">\n      <g>\n       <use style=\"stroke:#000000;stroke-width:0.8;\" x=\"279.662526\" xlink:href=\"#m75a7129d3d\" y=\"224.64\"/>\n      </g>\n     </g>\n     <g id=\"text_6\">\n      <!-- 0.6 -->\n      <g transform=\"translate(271.710963 239.238437)scale(0.1 -0.1)\">\n       <defs>\n        <path d=\"M 2113 2584 \nQ 1688 2584 1439 2293 \nQ 1191 2003 1191 1497 \nQ 1191 994 1439 701 \nQ 1688 409 2113 409 \nQ 2538 409 2786 701 \nQ 3034 994 3034 1497 \nQ 3034 2003 2786 2293 \nQ 2538 2584 2113 2584 \nz\nM 3366 4563 \nL 3366 3988 \nQ 3128 4100 2886 4159 \nQ 2644 4219 2406 4219 \nQ 1781 4219 1451 3797 \nQ 1122 3375 1075 2522 \nQ 1259 2794 1537 2939 \nQ 1816 3084 2150 3084 \nQ 2853 3084 3261 2657 \nQ 3669 2231 3669 1497 \nQ 3669 778 3244 343 \nQ 2819 -91 2113 -91 \nQ 1303 -91 875 529 \nQ 447 1150 447 2328 \nQ 447 3434 972 4092 \nQ 1497 4750 2381 4750 \nQ 2619 4750 2861 4703 \nQ 3103 4656 3366 4563 \nz\n\" id=\"DejaVuSans-36\" transform=\"scale(0.015625)\"/>\n       </defs>\n       <use xlink:href=\"#DejaVuSans-30\"/>\n       <use x=\"63.623047\" xlink:href=\"#DejaVuSans-2e\"/>\n       <use x=\"95.410156\" xlink:href=\"#DejaVuSans-36\"/>\n      </g>\n     </g>\n    </g>\n    <g id=\"xtick_7\">\n     <g id=\"line2d_7\">\n      <g>\n       <use style=\"stroke:#000000;stroke-width:0.8;\" x=\"318.399716\" xlink:href=\"#m75a7129d3d\" y=\"224.64\"/>\n      </g>\n     </g>\n     <g id=\"text_7\">\n      <!-- 0.7 -->\n      <g transform=\"translate(310.448153 239.238437)scale(0.1 -0.1)\">\n       <defs>\n        <path d=\"M 525 4666 \nL 3525 4666 \nL 3525 4397 \nL 1831 0 \nL 1172 0 \nL 2766 4134 \nL 525 4134 \nL 525 4666 \nz\n\" id=\"DejaVuSans-37\" transform=\"scale(0.015625)\"/>\n       </defs>\n       <use xlink:href=\"#DejaVuSans-30\"/>\n       <use x=\"63.623047\" xlink:href=\"#DejaVuSans-2e\"/>\n       <use x=\"95.410156\" xlink:href=\"#DejaVuSans-37\"/>\n      </g>\n     </g>\n    </g>\n    <g id=\"xtick_8\">\n     <g id=\"line2d_8\">\n      <g>\n       <use style=\"stroke:#000000;stroke-width:0.8;\" x=\"357.136906\" xlink:href=\"#m75a7129d3d\" y=\"224.64\"/>\n      </g>\n     </g>\n     <g id=\"text_8\">\n      <!-- 0.8 -->\n      <g transform=\"translate(349.185343 239.238437)scale(0.1 -0.1)\">\n       <defs>\n        <path d=\"M 2034 2216 \nQ 1584 2216 1326 1975 \nQ 1069 1734 1069 1313 \nQ 1069 891 1326 650 \nQ 1584 409 2034 409 \nQ 2484 409 2743 651 \nQ 3003 894 3003 1313 \nQ 3003 1734 2745 1975 \nQ 2488 2216 2034 2216 \nz\nM 1403 2484 \nQ 997 2584 770 2862 \nQ 544 3141 544 3541 \nQ 544 4100 942 4425 \nQ 1341 4750 2034 4750 \nQ 2731 4750 3128 4425 \nQ 3525 4100 3525 3541 \nQ 3525 3141 3298 2862 \nQ 3072 2584 2669 2484 \nQ 3125 2378 3379 2068 \nQ 3634 1759 3634 1313 \nQ 3634 634 3220 271 \nQ 2806 -91 2034 -91 \nQ 1263 -91 848 271 \nQ 434 634 434 1313 \nQ 434 1759 690 2068 \nQ 947 2378 1403 2484 \nz\nM 1172 3481 \nQ 1172 3119 1398 2916 \nQ 1625 2713 2034 2713 \nQ 2441 2713 2670 2916 \nQ 2900 3119 2900 3481 \nQ 2900 3844 2670 4047 \nQ 2441 4250 2034 4250 \nQ 1625 4250 1398 4047 \nQ 1172 3844 1172 3481 \nz\n\" id=\"DejaVuSans-38\" transform=\"scale(0.015625)\"/>\n       </defs>\n       <use xlink:href=\"#DejaVuSans-30\"/>\n       <use x=\"63.623047\" xlink:href=\"#DejaVuSans-2e\"/>\n       <use x=\"95.410156\" xlink:href=\"#DejaVuSans-38\"/>\n      </g>\n     </g>\n    </g>\n   </g>\n   <g id=\"matplotlib.axis_2\">\n    <g id=\"ytick_1\">\n     <g id=\"line2d_9\">\n      <defs>\n       <path d=\"M 0 0 \nL -3.5 0 \n\" id=\"mc063b6385a\" style=\"stroke:#000000;stroke-width:0.8;\"/>\n      </defs>\n      <g>\n       <use style=\"stroke:#000000;stroke-width:0.8;\" x=\"59.690625\" xlink:href=\"#mc063b6385a\" y=\"224.64\"/>\n      </g>\n     </g>\n     <g id=\"text_9\">\n      <!-- 0 -->\n      <g transform=\"translate(46.328125 228.439219)scale(0.1 -0.1)\">\n       <use xlink:href=\"#DejaVuSans-30\"/>\n      </g>\n     </g>\n    </g>\n    <g id=\"ytick_2\">\n     <g id=\"line2d_10\">\n      <g>\n       <use style=\"stroke:#000000;stroke-width:0.8;\" x=\"59.690625\" xlink:href=\"#mc063b6385a\" y=\"199.650774\"/>\n      </g>\n     </g>\n     <g id=\"text_10\">\n      <!-- 2000 -->\n      <g transform=\"translate(27.240625 203.449993)scale(0.1 -0.1)\">\n       <use xlink:href=\"#DejaVuSans-32\"/>\n       <use x=\"63.623047\" xlink:href=\"#DejaVuSans-30\"/>\n       <use x=\"127.246094\" xlink:href=\"#DejaVuSans-30\"/>\n       <use x=\"190.869141\" xlink:href=\"#DejaVuSans-30\"/>\n      </g>\n     </g>\n    </g>\n    <g id=\"ytick_3\">\n     <g id=\"line2d_11\">\n      <g>\n       <use style=\"stroke:#000000;stroke-width:0.8;\" x=\"59.690625\" xlink:href=\"#mc063b6385a\" y=\"174.661548\"/>\n      </g>\n     </g>\n     <g id=\"text_11\">\n      <!-- 4000 -->\n      <g transform=\"translate(27.240625 178.460767)scale(0.1 -0.1)\">\n       <use xlink:href=\"#DejaVuSans-34\"/>\n       <use x=\"63.623047\" xlink:href=\"#DejaVuSans-30\"/>\n       <use x=\"127.246094\" xlink:href=\"#DejaVuSans-30\"/>\n       <use x=\"190.869141\" xlink:href=\"#DejaVuSans-30\"/>\n      </g>\n     </g>\n    </g>\n    <g id=\"ytick_4\">\n     <g id=\"line2d_12\">\n      <g>\n       <use style=\"stroke:#000000;stroke-width:0.8;\" x=\"59.690625\" xlink:href=\"#mc063b6385a\" y=\"149.672323\"/>\n      </g>\n     </g>\n     <g id=\"text_12\">\n      <!-- 6000 -->\n      <g transform=\"translate(27.240625 153.471541)scale(0.1 -0.1)\">\n       <use xlink:href=\"#DejaVuSans-36\"/>\n       <use x=\"63.623047\" xlink:href=\"#DejaVuSans-30\"/>\n       <use x=\"127.246094\" xlink:href=\"#DejaVuSans-30\"/>\n       <use x=\"190.869141\" xlink:href=\"#DejaVuSans-30\"/>\n      </g>\n     </g>\n    </g>\n    <g id=\"ytick_5\">\n     <g id=\"line2d_13\">\n      <g>\n       <use style=\"stroke:#000000;stroke-width:0.8;\" x=\"59.690625\" xlink:href=\"#mc063b6385a\" y=\"124.683097\"/>\n      </g>\n     </g>\n     <g id=\"text_13\">\n      <!-- 8000 -->\n      <g transform=\"translate(27.240625 128.482316)scale(0.1 -0.1)\">\n       <use xlink:href=\"#DejaVuSans-38\"/>\n       <use x=\"63.623047\" xlink:href=\"#DejaVuSans-30\"/>\n       <use x=\"127.246094\" xlink:href=\"#DejaVuSans-30\"/>\n       <use x=\"190.869141\" xlink:href=\"#DejaVuSans-30\"/>\n      </g>\n     </g>\n    </g>\n    <g id=\"ytick_6\">\n     <g id=\"line2d_14\">\n      <g>\n       <use style=\"stroke:#000000;stroke-width:0.8;\" x=\"59.690625\" xlink:href=\"#mc063b6385a\" y=\"99.693871\"/>\n      </g>\n     </g>\n     <g id=\"text_14\">\n      <!-- 10000 -->\n      <g transform=\"translate(20.878125 103.49309)scale(0.1 -0.1)\">\n       <use xlink:href=\"#DejaVuSans-31\"/>\n       <use x=\"63.623047\" xlink:href=\"#DejaVuSans-30\"/>\n       <use x=\"127.246094\" xlink:href=\"#DejaVuSans-30\"/>\n       <use x=\"190.869141\" xlink:href=\"#DejaVuSans-30\"/>\n       <use x=\"254.492188\" xlink:href=\"#DejaVuSans-30\"/>\n      </g>\n     </g>\n    </g>\n    <g id=\"ytick_7\">\n     <g id=\"line2d_15\">\n      <g>\n       <use style=\"stroke:#000000;stroke-width:0.8;\" x=\"59.690625\" xlink:href=\"#mc063b6385a\" y=\"74.704645\"/>\n      </g>\n     </g>\n     <g id=\"text_15\">\n      <!-- 12000 -->\n      <g transform=\"translate(20.878125 78.503864)scale(0.1 -0.1)\">\n       <use xlink:href=\"#DejaVuSans-31\"/>\n       <use x=\"63.623047\" xlink:href=\"#DejaVuSans-32\"/>\n       <use x=\"127.246094\" xlink:href=\"#DejaVuSans-30\"/>\n       <use x=\"190.869141\" xlink:href=\"#DejaVuSans-30\"/>\n       <use x=\"254.492188\" xlink:href=\"#DejaVuSans-30\"/>\n      </g>\n     </g>\n    </g>\n    <g id=\"ytick_8\">\n     <g id=\"line2d_16\">\n      <g>\n       <use style=\"stroke:#000000;stroke-width:0.8;\" x=\"59.690625\" xlink:href=\"#mc063b6385a\" y=\"49.715419\"/>\n      </g>\n     </g>\n     <g id=\"text_16\">\n      <!-- 14000 -->\n      <g transform=\"translate(20.878125 53.514638)scale(0.1 -0.1)\">\n       <use xlink:href=\"#DejaVuSans-31\"/>\n       <use x=\"63.623047\" xlink:href=\"#DejaVuSans-34\"/>\n       <use x=\"127.246094\" xlink:href=\"#DejaVuSans-30\"/>\n       <use x=\"190.869141\" xlink:href=\"#DejaVuSans-30\"/>\n       <use x=\"254.492188\" xlink:href=\"#DejaVuSans-30\"/>\n      </g>\n     </g>\n    </g>\n    <g id=\"ytick_9\">\n     <g id=\"line2d_17\">\n      <g>\n       <use style=\"stroke:#000000;stroke-width:0.8;\" x=\"59.690625\" xlink:href=\"#mc063b6385a\" y=\"24.726194\"/>\n      </g>\n     </g>\n     <g id=\"text_17\">\n      <!-- 16000 -->\n      <g transform=\"translate(20.878125 28.525412)scale(0.1 -0.1)\">\n       <use xlink:href=\"#DejaVuSans-31\"/>\n       <use x=\"63.623047\" xlink:href=\"#DejaVuSans-36\"/>\n       <use x=\"127.246094\" xlink:href=\"#DejaVuSans-30\"/>\n       <use x=\"190.869141\" xlink:href=\"#DejaVuSans-30\"/>\n       <use x=\"254.492188\" xlink:href=\"#DejaVuSans-30\"/>\n      </g>\n     </g>\n    </g>\n    <g id=\"text_18\">\n     <!-- Frequency -->\n     <g transform=\"translate(14.798438 141.749687)rotate(-90)scale(0.1 -0.1)\">\n      <defs>\n       <path d=\"M 628 4666 \nL 3309 4666 \nL 3309 4134 \nL 1259 4134 \nL 1259 2759 \nL 3109 2759 \nL 3109 2228 \nL 1259 2228 \nL 1259 0 \nL 628 0 \nL 628 4666 \nz\n\" id=\"DejaVuSans-46\" transform=\"scale(0.015625)\"/>\n       <path d=\"M 2631 2963 \nQ 2534 3019 2420 3045 \nQ 2306 3072 2169 3072 \nQ 1681 3072 1420 2755 \nQ 1159 2438 1159 1844 \nL 1159 0 \nL 581 0 \nL 581 3500 \nL 1159 3500 \nL 1159 2956 \nQ 1341 3275 1631 3429 \nQ 1922 3584 2338 3584 \nQ 2397 3584 2469 3576 \nQ 2541 3569 2628 3553 \nL 2631 2963 \nz\n\" id=\"DejaVuSans-72\" transform=\"scale(0.015625)\"/>\n       <path d=\"M 3597 1894 \nL 3597 1613 \nL 953 1613 \nQ 991 1019 1311 708 \nQ 1631 397 2203 397 \nQ 2534 397 2845 478 \nQ 3156 559 3463 722 \nL 3463 178 \nQ 3153 47 2828 -22 \nQ 2503 -91 2169 -91 \nQ 1331 -91 842 396 \nQ 353 884 353 1716 \nQ 353 2575 817 3079 \nQ 1281 3584 2069 3584 \nQ 2775 3584 3186 3129 \nQ 3597 2675 3597 1894 \nz\nM 3022 2063 \nQ 3016 2534 2758 2815 \nQ 2500 3097 2075 3097 \nQ 1594 3097 1305 2825 \nQ 1016 2553 972 2059 \nL 3022 2063 \nz\n\" id=\"DejaVuSans-65\" transform=\"scale(0.015625)\"/>\n       <path d=\"M 947 1747 \nQ 947 1113 1208 752 \nQ 1469 391 1925 391 \nQ 2381 391 2643 752 \nQ 2906 1113 2906 1747 \nQ 2906 2381 2643 2742 \nQ 2381 3103 1925 3103 \nQ 1469 3103 1208 2742 \nQ 947 2381 947 1747 \nz\nM 2906 525 \nQ 2725 213 2448 61 \nQ 2172 -91 1784 -91 \nQ 1150 -91 751 415 \nQ 353 922 353 1747 \nQ 353 2572 751 3078 \nQ 1150 3584 1784 3584 \nQ 2172 3584 2448 3432 \nQ 2725 3281 2906 2969 \nL 2906 3500 \nL 3481 3500 \nL 3481 -1331 \nL 2906 -1331 \nL 2906 525 \nz\n\" id=\"DejaVuSans-71\" transform=\"scale(0.015625)\"/>\n       <path d=\"M 544 1381 \nL 544 3500 \nL 1119 3500 \nL 1119 1403 \nQ 1119 906 1312 657 \nQ 1506 409 1894 409 \nQ 2359 409 2629 706 \nQ 2900 1003 2900 1516 \nL 2900 3500 \nL 3475 3500 \nL 3475 0 \nL 2900 0 \nL 2900 538 \nQ 2691 219 2414 64 \nQ 2138 -91 1772 -91 \nQ 1169 -91 856 284 \nQ 544 659 544 1381 \nz\nM 1991 3584 \nL 1991 3584 \nz\n\" id=\"DejaVuSans-75\" transform=\"scale(0.015625)\"/>\n       <path d=\"M 3513 2113 \nL 3513 0 \nL 2938 0 \nL 2938 2094 \nQ 2938 2591 2744 2837 \nQ 2550 3084 2163 3084 \nQ 1697 3084 1428 2787 \nQ 1159 2491 1159 1978 \nL 1159 0 \nL 581 0 \nL 581 3500 \nL 1159 3500 \nL 1159 2956 \nQ 1366 3272 1645 3428 \nQ 1925 3584 2291 3584 \nQ 2894 3584 3203 3211 \nQ 3513 2838 3513 2113 \nz\n\" id=\"DejaVuSans-6e\" transform=\"scale(0.015625)\"/>\n       <path d=\"M 3122 3366 \nL 3122 2828 \nQ 2878 2963 2633 3030 \nQ 2388 3097 2138 3097 \nQ 1578 3097 1268 2742 \nQ 959 2388 959 1747 \nQ 959 1106 1268 751 \nQ 1578 397 2138 397 \nQ 2388 397 2633 464 \nQ 2878 531 3122 666 \nL 3122 134 \nQ 2881 22 2623 -34 \nQ 2366 -91 2075 -91 \nQ 1284 -91 818 406 \nQ 353 903 353 1747 \nQ 353 2603 823 3093 \nQ 1294 3584 2113 3584 \nQ 2378 3584 2631 3529 \nQ 2884 3475 3122 3366 \nz\n\" id=\"DejaVuSans-63\" transform=\"scale(0.015625)\"/>\n       <path d=\"M 2059 -325 \nQ 1816 -950 1584 -1140 \nQ 1353 -1331 966 -1331 \nL 506 -1331 \nL 506 -850 \nL 844 -850 \nQ 1081 -850 1212 -737 \nQ 1344 -625 1503 -206 \nL 1606 56 \nL 191 3500 \nL 800 3500 \nL 1894 763 \nL 2988 3500 \nL 3597 3500 \nL 2059 -325 \nz\n\" id=\"DejaVuSans-79\" transform=\"scale(0.015625)\"/>\n      </defs>\n      <use xlink:href=\"#DejaVuSans-46\"/>\n      <use x=\"50.269531\" xlink:href=\"#DejaVuSans-72\"/>\n      <use x=\"89.132812\" xlink:href=\"#DejaVuSans-65\"/>\n      <use x=\"150.65625\" xlink:href=\"#DejaVuSans-71\"/>\n      <use x=\"214.132812\" xlink:href=\"#DejaVuSans-75\"/>\n      <use x=\"277.511719\" xlink:href=\"#DejaVuSans-65\"/>\n      <use x=\"339.035156\" xlink:href=\"#DejaVuSans-6e\"/>\n      <use x=\"402.414062\" xlink:href=\"#DejaVuSans-63\"/>\n      <use x=\"457.394531\" xlink:href=\"#DejaVuSans-79\"/>\n     </g>\n    </g>\n   </g>\n   <g id=\"patch_13\">\n    <path d=\"M 59.690625 224.64 \nL 59.690625 7.2 \n\" style=\"fill:none;stroke:#000000;stroke-linecap:square;stroke-linejoin:miter;stroke-width:0.8;\"/>\n   </g>\n   <g id=\"patch_14\">\n    <path d=\"M 394.490625 224.64 \nL 394.490625 7.2 \n\" style=\"fill:none;stroke:#000000;stroke-linecap:square;stroke-linejoin:miter;stroke-width:0.8;\"/>\n   </g>\n   <g id=\"patch_15\">\n    <path d=\"M 59.690625 224.64 \nL 394.490625 224.64 \n\" style=\"fill:none;stroke:#000000;stroke-linecap:square;stroke-linejoin:miter;stroke-width:0.8;\"/>\n   </g>\n   <g id=\"patch_16\">\n    <path d=\"M 59.690625 7.2 \nL 394.490625 7.2 \n\" style=\"fill:none;stroke:#000000;stroke-linecap:square;stroke-linejoin:miter;stroke-width:0.8;\"/>\n   </g>\n  </g>\n </g>\n <defs>\n  <clipPath id=\"pff802aef2a\">\n   <rect height=\"217.44\" width=\"334.8\" x=\"59.690625\" y=\"7.2\"/>\n  </clipPath>\n </defs>\n</svg>\n",
      "image/png": "[encoded data removed]"
     },
     "metadata": {
      "needs_background": "light"
     }
    }
   ],
   "source": [
    "feature_count = df.drop([\"uuid\"], axis=1).shape[1]\n",
    "\n",
    "account_irrelevant_values = (\n",
    "    df.drop([\"uuid\"], axis=1)\n",
    "    .replace(0, np.nan)\n",
    "    .apply(lambda account: account.isna().sum() / feature_count, axis=1)\n",
    ")\n",
    "\n",
    "account_irrelevant_values.plot.hist()"
   ]
  },
  {
   "source": [
    "### New accounts?\n",
    "\n",
    "We can see that there is a high concentration of accounts that have +80% of missing or zero value. We must find out what makes up the remaining <20% of apparently good information. If the missing data is related to snapshot variables, it becomes safer to assume that these are new accounts.\n",
    "> Note that zero values are not always bad, but having all (or most) variables as zero suggests that the register is irrelevant"
   ],
   "cell_type": "markdown",
   "metadata": {}
  },
  {
   "cell_type": "code",
   "execution_count": 120,
   "metadata": {},
   "outputs": [
    {
     "output_type": "stream",
     "name": "stdout",
     "text": [
      "<class 'pandas.core.frame.DataFrame'>\nInt64Index: 271 entries, 4633 to 4754\nData columns (total 14 columns):\n #   Column                     Non-Null Count  Dtype  \n---  ------                     --------------  -----  \n 0   missing_percent            271 non-null    float64\n 1   uuid                       271 non-null    object \n 2   account_status             9 non-null      float64\n 3   account_worst_status_0_3m  9 non-null      float64\n 4   age                        271 non-null    int64  \n 5   merchant_category          271 non-null    object \n 6   merchant_group             271 non-null    object \n 7   has_paid                   271 non-null    bool   \n 8   max_paid_inv_0_24m         48 non-null     float64\n 9   name_in_email              271 non-null    object \n 10  num_unpaid_bills           10 non-null     float64\n 11  recovery_debt              1 non-null      float64\n 12  time_hours                 271 non-null    float64\n 13  default                    206 non-null    float64\ndtypes: bool(1), float64(8), int64(1), object(4)\nmemory usage: 38.0+ KB\n"
     ]
    }
   ],
   "source": [
    "# drop columns that are all NaN or Zero\n",
    "\n",
    "(\n",
    "    account_irrelevant_values.to_frame(name=\"missing_percent\")\n",
    "    .loc[(account_irrelevant_values >= .80) & (account_irrelevant_values < .85)]\n",
    "    .join(df)\n",
    "    .replace(0, np.nan)\n",
    "    .dropna(how=\"all\", axis=1)\n",
    "    .info()\n",
    ")"
   ]
  },
  {
   "source": [
    "Taking a look at these columns, we can see that \"age\", merchant info, \"time_hours\" and \"name_in_email\" compose most of these accounts relevant information. We do not consider \"has_paid\" to be relevant in this set of accounts due to it likely being set to \"False\" by default.\n",
    "\n",
    "This observation makes it reasonable to assume these are mostly new accounts since they have close to none information about snapshot. Thus, imputing all values to zero and grouping them with the rest sounds rather irresponsible and is bound to deter any significant performance. Hence, we will need to break our solution into two separate processes, one for old accounts (warm-start) and another for new accounts (cold-start). Note that the latter makes up ~14% of our dataset.\n",
    "> Note that 20% of defaults are in the \\[.8, .85) group and none are in the (.85, 1.0\\]"
   ],
   "cell_type": "markdown",
   "metadata": {}
  },
  {
   "source": [
    "### What about the second peak of accounts with 55-60% of missing or zero values?\n"
   ],
   "cell_type": "markdown",
   "metadata": {}
  },
  {
   "cell_type": "code",
   "execution_count": 82,
   "metadata": {},
   "outputs": [
    {
     "output_type": "stream",
     "name": "stdout",
     "text": [
      "<class 'pandas.core.frame.DataFrame'>\nInt64Index: 7186 entries, 74231 to 81884\nData columns (total 42 columns):\n #   Column                               Non-Null Count  Dtype  \n---  ------                               --------------  -----  \n 0   missing_percent                      7186 non-null   float64\n 1   uuid                                 7186 non-null   object \n 2   account_amount_added_12_24m          314 non-null    float64\n 3   account_days_in_dc_12_24m            3 non-null      float64\n 4   account_days_in_rem_12_24m           143 non-null    float64\n 5   account_days_in_term_12_24m          18 non-null     float64\n 6   account_incoming_debt_vs_paid_0_24m  302 non-null    float64\n 7   account_status                       678 non-null    float64\n 8   account_worst_status_0_3m            678 non-null    float64\n 9   account_worst_status_12_24m          387 non-null    float64\n 10  account_worst_status_3_6m            562 non-null    float64\n 11  account_worst_status_6_12m           498 non-null    float64\n 12  age                                  7186 non-null   int64  \n 13  avg_payment_span_0_12m               6570 non-null   float64\n 14  avg_payment_span_0_3m                2044 non-null   float64\n 15  merchant_category                    7186 non-null   object \n 16  merchant_group                       7186 non-null   object \n 17  has_paid                             7186 non-null   bool   \n 18  max_paid_inv_0_12m                   6769 non-null   float64\n 19  max_paid_inv_0_24m                   7078 non-null   float64\n 20  name_in_email                        7186 non-null   object \n 21  num_active_div_by_paid_inv_0_12m     162 non-null    float64\n 22  num_active_inv                       257 non-null    float64\n 23  num_arch_dc_0_12m                    79 non-null     float64\n 24  num_arch_dc_12_24m                   81 non-null     float64\n 25  num_arch_ok_0_12m                    6325 non-null   float64\n 26  num_arch_ok_12_24m                   4176 non-null   float64\n 27  num_arch_rem_0_12m                   621 non-null    float64\n 28  num_unpaid_bills                     627 non-null    float64\n 29  status_last_archived_0_24m           6918 non-null   float64\n 30  status_2nd_last_archived_0_24m       6531 non-null   float64\n 31  status_3rd_last_archived_0_24m       5353 non-null   float64\n 32  status_max_archived_0_6_months       4569 non-null   float64\n 33  status_max_archived_0_12_months      6596 non-null   float64\n 34  status_max_archived_0_24_months      6918 non-null   float64\n 35  recovery_debt                        2 non-null      float64\n 36  sum_capital_paid_account_0_12m       420 non-null    float64\n 37  sum_capital_paid_account_12_24m      266 non-null    float64\n 38  sum_paid_inv_0_12m                   6769 non-null   float64\n 39  time_hours                           7186 non-null   float64\n 40  worst_status_active_inv              257 non-null    float64\n 41  default                              79 non-null     float64\ndtypes: bool(1), float64(36), int64(1), object(4)\nmemory usage: 2.6+ MB\n"
     ]
    }
   ],
   "source": [
    "# drop columns that are all NaN or Zero\n",
    "\n",
    "(\n",
    "    account_irrelevant_values.to_frame(name=\"missing_percent\")\n",
    "    .loc[(account_irrelevant_values >= .55) & (account_irrelevant_values < .6)]\n",
    "    .join(df)\n",
    "    .replace(0, np.nan)\n",
    "    .dropna(how=\"all\", axis=1)\n",
    "    .info()\n",
    ")"
   ]
  },
  {
   "source": [
    "Although some columns have a lot of missing/zero values, they do have some relevant information which, in turn, possibly makes zero values relevant.\n",
    "\n",
    "The following columns have mostly missing values:\n",
    "- account_incoming_debt_vs_paid_0_24m\n",
    "- account_status\n",
    "- account_worst_status_0_3m\n",
    "- account_worst_status_12_24m\n",
    "- account_worst_status_3_6m\n",
    "- account_worst_status_6_12m\n",
    "- recovery_debt\n",
    "- worst_status_active_inv\n",
    "\n",
    "If we see that a sample of these variables explain well enough the default label, it becomes reasonable to think about imputing some of them. We will explore this in the next section.\n",
    "\n"
   ],
   "cell_type": "markdown",
   "metadata": {}
  }
 ]
}
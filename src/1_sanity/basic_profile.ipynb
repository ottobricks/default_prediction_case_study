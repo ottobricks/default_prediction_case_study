{
 "metadata": {
  "language_info": {
   "codemirror_mode": {
    "name": "ipython",
    "version": 3
   },
   "file_extension": ".py",
   "mimetype": "text/x-python",
   "name": "python",
   "nbconvert_exporter": "python",
   "pygments_lexer": "ipython3",
   "version": "3.8.8"
  },
  "orig_nbformat": 2,
  "kernelspec": {
   "name": "python388jvsc74a57bd09f119b1d3a8a63730ae7ee508102d23a56b995c1f2248036bd772c0398b7d40e",
   "display_name": "Python 3.8.8 64-bit ('klarna': conda)"
  }
 },
 "nbformat": 4,
 "nbformat_minor": 2,
 "cells": [
  {
   "cell_type": "code",
   "execution_count": 1,
   "metadata": {},
   "outputs": [],
   "source": [
    "import os\n",
    "import pandas as pd\n",
    "from pandas_profiling import ProfileReport"
   ]
  },
  {
   "cell_type": "code",
   "execution_count": 2,
   "metadata": {},
   "outputs": [],
   "source": [
    "try:\n",
    "    _ = first_run\n",
    "except NameError:\n",
    "    first_run = True\n",
    "    os.chdir(os.getcwd().rsplit(\"/\", 1)[0])"
   ]
  },
  {
   "source": [
    "# Load Data"
   ],
   "cell_type": "markdown",
   "metadata": {}
  },
  {
   "cell_type": "code",
   "execution_count": 9,
   "metadata": {},
   "outputs": [],
   "source": [
    "df = pd.read_csv(\"../data/train/X_train.csv\", index_col=0).join(pd.read_csv(\"../data/train/y_train.csv\", index_col=0))"
   ]
  },
  {
   "cell_type": "code",
   "execution_count": 10,
   "metadata": {},
   "outputs": [
    {
     "output_type": "stream",
     "name": "stdout",
     "text": [
      "<class 'pandas.core.frame.DataFrame'>\nInt64Index: 71980 entries, 27330 to 16866\nData columns (total 43 columns):\n #   Column                               Non-Null Count  Dtype  \n---  ------                               --------------  -----  \n 0   uuid                                 71980 non-null  object \n 1   account_amount_added_12_24m          71980 non-null  int64  \n 2   account_days_in_dc_12_24m            63440 non-null  float64\n 3   account_days_in_rem_12_24m           63440 non-null  float64\n 4   account_days_in_term_12_24m          63440 non-null  float64\n 5   account_incoming_debt_vs_paid_0_24m  29351 non-null  float64\n 6   account_status                       32880 non-null  float64\n 7   account_worst_status_0_3m            32880 non-null  float64\n 8   account_worst_status_12_24m          23962 non-null  float64\n 9   account_worst_status_3_6m            30480 non-null  float64\n 10  account_worst_status_6_12m           28565 non-null  float64\n 11  age                                  71980 non-null  int64  \n 12  avg_payment_span_0_12m               54894 non-null  float64\n 13  avg_payment_span_0_3m                36624 non-null  float64\n 14  merchant_category                    71980 non-null  object \n 15  merchant_group                       71980 non-null  object \n 16  has_paid                             71980 non-null  bool   \n 17  max_paid_inv_0_12m                   71980 non-null  float64\n 18  max_paid_inv_0_24m                   71980 non-null  float64\n 19  name_in_email                        71980 non-null  object \n 20  num_active_div_by_paid_inv_0_12m     55542 non-null  float64\n 21  num_active_inv                       71980 non-null  int64  \n 22  num_arch_dc_0_12m                    71980 non-null  int64  \n 23  num_arch_dc_12_24m                   71980 non-null  int64  \n 24  num_arch_ok_0_12m                    71980 non-null  int64  \n 25  num_arch_ok_12_24m                   71980 non-null  int64  \n 26  num_arch_rem_0_12m                   71980 non-null  int64  \n 27  num_arch_written_off_0_12m           59023 non-null  float64\n 28  num_arch_written_off_12_24m          59023 non-null  float64\n 29  num_unpaid_bills                     71980 non-null  int64  \n 30  status_last_archived_0_24m           71980 non-null  int64  \n 31  status_2nd_last_archived_0_24m       71980 non-null  int64  \n 32  status_3rd_last_archived_0_24m       71980 non-null  int64  \n 33  status_max_archived_0_6_months       71980 non-null  int64  \n 34  status_max_archived_0_12_months      71980 non-null  int64  \n 35  status_max_archived_0_24_months      71980 non-null  int64  \n 36  recovery_debt                        71980 non-null  int64  \n 37  sum_capital_paid_account_0_12m       71980 non-null  int64  \n 38  sum_capital_paid_account_12_24m      71980 non-null  int64  \n 39  sum_paid_inv_0_12m                   71980 non-null  int64  \n 40  time_hours                           71980 non-null  float64\n 41  worst_status_active_inv              22010 non-null  float64\n 42  default                              71980 non-null  float64\ndtypes: bool(1), float64(19), int64(19), object(4)\nmemory usage: 25.7+ MB\n"
     ]
    }
   ],
   "source": [
    "df.info()"
   ]
  },
  {
   "cell_type": "code",
   "execution_count": 11,
   "metadata": {},
   "outputs": [],
   "source": [
    "profile = ProfileReport(\n",
    "    df,\n",
    "    title=\"Basic Profile Report - Klarna Dataset\",\n",
    "    explorative=True,\n",
    "    pool_size=8,\n",
    "    sort=\"ascending\",\n",
    "    vars={\n",
    "        \"cat\": {\n",
    "            \"words\": True,\n",
    "            \"cardinality_threshold\": 10\n",
    "        }\n",
    "    },\n",
    "    html={\n",
    "        \"style\":{\n",
    "            \"full_width\": True\n",
    "        }\n",
    "    }\n",
    "\n",
    ")"
   ]
  },
  {
   "cell_type": "code",
   "execution_count": 12,
   "metadata": {},
   "outputs": [
    {
     "output_type": "stream",
     "name": "stderr",
     "text": [
      "Summarize dataset:  82%|████████▏ | 47/57 [00:15<00:05,  1.95it/s, Calculate kendall correlation] /home/ottok92/miniconda3/envs/klarna/lib/python3.8/site-packages/scipy/stats/stats.py:4594: RuntimeWarning: overflow encountered in long_scalars\n",
      "  (2 * xtie * ytie) / m + x0 * y0 / (9 * m * (size - 2)))\n",
      "Summarize dataset: 100%|██████████| 57/57 [01:42<00:00,  1.80s/it, Completed]\n",
      "Generate report structure: 100%|██████████| 1/1 [00:13<00:00, 13.16s/it]\n",
      "Render HTML: 100%|██████████| 1/1 [00:16<00:00, 16.61s/it]\n",
      "Export report to file: 100%|██████████| 1/1 [00:00<00:00, 11.99it/s]\n"
     ]
    }
   ],
   "source": [
    "profile.to_file(\"1_sanity/basic_profile.html\")"
   ]
  }
 ]
}
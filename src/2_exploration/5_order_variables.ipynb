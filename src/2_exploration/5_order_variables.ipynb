{
 "cells": [
  {
   "cell_type": "code",
   "execution_count": 1,
   "id": "976f24be",
   "metadata": {},
   "outputs": [],
   "source": [
    "import os\n",
    "import numpy as np\n",
    "import pandas as pd\n",
    "import plotly.io as pio\n",
    "import plotly.express as px\n",
    "import plotly.graph_objects as go\n",
    "from plotly.subplots import make_subplots\n",
    "import scipy.cluster.hierarchy as spc\n",
    "\n",
    "pio.templates.default = \"plotly_white\""
   ]
  },
  {
   "cell_type": "code",
   "execution_count": 2,
   "id": "7a93e3ff",
   "metadata": {},
   "outputs": [],
   "source": [
    "try:\n",
    "    _ = first_run\n",
    "except NameError:\n",
    "    first_run = True\n",
    "    os.chdir(os.getcwd().rsplit(\"/\", 1)[0])\n",
    "    from _aux import functions as func"
   ]
  },
  {
   "cell_type": "markdown",
   "id": "f587ff3e",
   "metadata": {},
   "source": [
    "# Load data"
   ]
  },
  {
   "cell_type": "code",
   "execution_count": 3,
   "id": "cf855b61",
   "metadata": {},
   "outputs": [],
   "source": [
    "default = (\n",
    "    pd.read_csv(\n",
    "        \"../data/train/X_train.csv\",\n",
    "        index_col=0,\n",
    "        usecols=[\n",
    "            \"row_id\",\n",
    "            \"merchant_category\",\n",
    "            \"merchant_group\",\n",
    "        ],\n",
    "    )\n",
    "    .join(pd.read_csv(\"../data/train/y_train.csv\", index_col=0))\n",
    "    .query(\"default == 1\")\n",
    ")\n",
    "\n",
    "not_default = (\n",
    "    pd.read_csv(\n",
    "        \"../data/train/X_train.csv\",\n",
    "        index_col=0,\n",
    "        usecols=[\n",
    "            \"row_id\",\n",
    "            \"merchant_category\",\n",
    "            \"merchant_group\",\n",
    "        ],\n",
    "    )\n",
    "    .join(pd.read_csv(\"../data/train/y_train.csv\", index_col=0))\n",
    "    .query(\"default == 0\")\n",
    ")\n",
    "\n",
    "df = pd.read_csv(\n",
    "    \"../data/train/X_train.csv\",\n",
    "    index_col=0,\n",
    ").join(pd.read_csv(\"../data/train/y_train.csv\", index_col=0))"
   ]
  },
  {
   "cell_type": "markdown",
   "id": "f2adf90a",
   "metadata": {},
   "source": [
    "## Overview\n",
    "\n",
    "Both \"merchant_category\" and \"merchant_group\" are highly correlated. We must explore whether they can help us predict defaults and the first step is to see how they relate:"
   ]
  },
  {
   "cell_type": "code",
   "execution_count": 4,
   "id": "ee056aa8",
   "metadata": {},
   "outputs": [
    {
     "output_type": "execute_result",
     "data": {
      "text/plain": [
       "<pandas.io.formats.style.Styler at 0x7fd02d67ea60>"
      ],
      "text/html": "<style  type=\"text/css\" >\n#T_5b01f_row1_col3,#T_5b01f_row7_col3,#T_5b01f_row9_col3,#T_5b01f_row17_col3,#T_5b01f_row18_col3,#T_5b01f_row18_col4,#T_5b01f_row19_col4,#T_5b01f_row20_col3,#T_5b01f_row20_col4,#T_5b01f_row21_col3,#T_5b01f_row21_col4,#T_5b01f_row22_col3,#T_5b01f_row22_col4,#T_5b01f_row23_col4,#T_5b01f_row25_col3,#T_5b01f_row38_col3,#T_5b01f_row41_col3,#T_5b01f_row41_col4,#T_5b01f_row42_col4,#T_5b01f_row43_col4,#T_5b01f_row44_col4,#T_5b01f_row53_col3{\n            background-color:  yellow;\n        }</style><table id=\"T_5b01f_\" ><thead>    <tr>        <th class=\"blank\" ></th>        <th class=\"blank level0\" ></th>        <th class=\"col_heading level0 col0\" >customers</th>        <th class=\"col_heading level0 col1\" >default</th>        <th class=\"col_heading level0 col2\" >not_default</th>        <th class=\"col_heading level0 col3\" >cat_contamination</th>        <th class=\"col_heading level0 col4\" >group_contamination</th>    </tr>    <tr>        <th class=\"index_name level0\" >merchant_group</th>        <th class=\"index_name level1\" >merchant_category</th>        <th class=\"blank\" ></th>        <th class=\"blank\" ></th>        <th class=\"blank\" ></th>        <th class=\"blank\" ></th>        <th class=\"blank\" ></th>    </tr></thead><tbody>\n                <tr>\n                        <th id=\"T_5b01f_level0_row0\" class=\"row_heading level0 row0\" rowspan=\"2\">Automotive Products</th>\n                        <th id=\"T_5b01f_level1_row0\" class=\"row_heading level1 row0\" >Automotive Parts & Accessories</th>\n                        <td id=\"T_5b01f_row0_col0\" class=\"data row0 col0\" >594</td>\n                        <td id=\"T_5b01f_row0_col1\" class=\"data row0 col1\" >7</td>\n                        <td id=\"T_5b01f_row0_col2\" class=\"data row0 col2\" >587</td>\n                        <td id=\"T_5b01f_row0_col3\" class=\"data row0 col3\" >1.18%</td>\n                        <td id=\"T_5b01f_row0_col4\" class=\"data row0 col4\" >1.63%</td>\n            </tr>\n            <tr>\n                                <th id=\"T_5b01f_level1_row1\" class=\"row_heading level1 row1\" >Wheels & Tires</th>\n                        <td id=\"T_5b01f_row1_col0\" class=\"data row1 col0\" >82</td>\n                        <td id=\"T_5b01f_row1_col1\" class=\"data row1 col1\" >4</td>\n                        <td id=\"T_5b01f_row1_col2\" class=\"data row1 col2\" >78</td>\n                        <td id=\"T_5b01f_row1_col3\" class=\"data row1 col3\" >4.88%</td>\n                        <td id=\"T_5b01f_row1_col4\" class=\"data row1 col4\" >1.63%</td>\n            </tr>\n            <tr>\n                        <th id=\"T_5b01f_level0_row2\" class=\"row_heading level0 row2\" rowspan=\"3\">Children Products</th>\n                        <th id=\"T_5b01f_level1_row2\" class=\"row_heading level1 row2\" >Children Clothes & Nurturing products</th>\n                        <td id=\"T_5b01f_row2_col0\" class=\"data row2 col0\" >1082</td>\n                        <td id=\"T_5b01f_row2_col1\" class=\"data row2 col1\" >15</td>\n                        <td id=\"T_5b01f_row2_col2\" class=\"data row2 col2\" >1067</td>\n                        <td id=\"T_5b01f_row2_col3\" class=\"data row2 col3\" >1.39%</td>\n                        <td id=\"T_5b01f_row2_col4\" class=\"data row2 col4\" >1.24%</td>\n            </tr>\n            <tr>\n                                <th id=\"T_5b01f_level1_row3\" class=\"row_heading level1 row3\" >Children toys</th>\n                        <td id=\"T_5b01f_row3_col0\" class=\"data row3 col0\" >460</td>\n                        <td id=\"T_5b01f_row3_col1\" class=\"data row3 col1\" >3</td>\n                        <td id=\"T_5b01f_row3_col2\" class=\"data row3 col2\" >457</td>\n                        <td id=\"T_5b01f_row3_col3\" class=\"data row3 col3\" >0.65%</td>\n                        <td id=\"T_5b01f_row3_col4\" class=\"data row3 col4\" >1.24%</td>\n            </tr>\n            <tr>\n                                <th id=\"T_5b01f_level1_row4\" class=\"row_heading level1 row4\" >Diversified children products</th>\n                        <td id=\"T_5b01f_row4_col0\" class=\"data row4 col0\" >2171</td>\n                        <td id=\"T_5b01f_row4_col1\" class=\"data row4 col1\" >28</td>\n                        <td id=\"T_5b01f_row4_col2\" class=\"data row4 col2\" >2143</td>\n                        <td id=\"T_5b01f_row4_col3\" class=\"data row4 col3\" >1.29%</td>\n                        <td id=\"T_5b01f_row4_col4\" class=\"data row4 col4\" >1.24%</td>\n            </tr>\n            <tr>\n                        <th id=\"T_5b01f_level0_row5\" class=\"row_heading level0 row5\" rowspan=\"4\">Clothing & Shoes</th>\n                        <th id=\"T_5b01f_level1_row5\" class=\"row_heading level1 row5\" >Adult Shoes & Clothing</th>\n                        <td id=\"T_5b01f_row5_col0\" class=\"data row5 col0\" >224</td>\n                        <td id=\"T_5b01f_row5_col1\" class=\"data row5 col1\" >5</td>\n                        <td id=\"T_5b01f_row5_col2\" class=\"data row5 col2\" >219</td>\n                        <td id=\"T_5b01f_row5_col3\" class=\"data row5 col3\" >2.23%</td>\n                        <td id=\"T_5b01f_row5_col4\" class=\"data row5 col4\" >2.31%</td>\n            </tr>\n            <tr>\n                                <th id=\"T_5b01f_level1_row6\" class=\"row_heading level1 row6\" >General Shoes & Clothing</th>\n                        <td id=\"T_5b01f_row6_col0\" class=\"data row6 col0\" >3359</td>\n                        <td id=\"T_5b01f_row6_col1\" class=\"data row6 col1\" >56</td>\n                        <td id=\"T_5b01f_row6_col2\" class=\"data row6 col2\" >3303</td>\n                        <td id=\"T_5b01f_row6_col3\" class=\"data row6 col3\" >1.67%</td>\n                        <td id=\"T_5b01f_row6_col4\" class=\"data row6 col4\" >2.31%</td>\n            </tr>\n            <tr>\n                                <th id=\"T_5b01f_level1_row7\" class=\"row_heading level1 row7\" >Underwear</th>\n                        <td id=\"T_5b01f_row7_col0\" class=\"data row7 col0\" >61</td>\n                        <td id=\"T_5b01f_row7_col1\" class=\"data row7 col1\" >2</td>\n                        <td id=\"T_5b01f_row7_col2\" class=\"data row7 col2\" >59</td>\n                        <td id=\"T_5b01f_row7_col3\" class=\"data row7 col3\" >3.28%</td>\n                        <td id=\"T_5b01f_row7_col4\" class=\"data row7 col4\" >2.31%</td>\n            </tr>\n            <tr>\n                                <th id=\"T_5b01f_level1_row8\" class=\"row_heading level1 row8\" >Youthful Shoes & Clothing</th>\n                        <td id=\"T_5b01f_row8_col0\" class=\"data row8 col0\" >8335</td>\n                        <td id=\"T_5b01f_row8_col1\" class=\"data row8 col1\" >214</td>\n                        <td id=\"T_5b01f_row8_col2\" class=\"data row8 col2\" >8121</td>\n                        <td id=\"T_5b01f_row8_col3\" class=\"data row8 col3\" >2.57%</td>\n                        <td id=\"T_5b01f_row8_col4\" class=\"data row8 col4\" >2.31%</td>\n            </tr>\n            <tr>\n                        <th id=\"T_5b01f_level0_row9\" class=\"row_heading level0 row9\" rowspan=\"5\">Electronics</th>\n                        <th id=\"T_5b01f_level1_row9\" class=\"row_heading level1 row9\" >Car electronics</th>\n                        <td id=\"T_5b01f_row9_col0\" class=\"data row9 col0\" >33</td>\n                        <td id=\"T_5b01f_row9_col1\" class=\"data row9 col1\" >2</td>\n                        <td id=\"T_5b01f_row9_col2\" class=\"data row9 col2\" >31</td>\n                        <td id=\"T_5b01f_row9_col3\" class=\"data row9 col3\" >6.06%</td>\n                        <td id=\"T_5b01f_row9_col4\" class=\"data row9 col4\" >2.38%</td>\n            </tr>\n            <tr>\n                                <th id=\"T_5b01f_level1_row10\" class=\"row_heading level1 row10\" >Diversified electronics</th>\n                        <td id=\"T_5b01f_row10_col0\" class=\"data row10 col0\" >1325</td>\n                        <td id=\"T_5b01f_row10_col1\" class=\"data row10 col1\" >34</td>\n                        <td id=\"T_5b01f_row10_col2\" class=\"data row10 col2\" >1291</td>\n                        <td id=\"T_5b01f_row10_col3\" class=\"data row10 col3\" >2.57%</td>\n                        <td id=\"T_5b01f_row10_col4\" class=\"data row10 col4\" >2.38%</td>\n            </tr>\n            <tr>\n                                <th id=\"T_5b01f_level1_row11\" class=\"row_heading level1 row11\" >Electronic equipment & Related accessories</th>\n                        <td id=\"T_5b01f_row11_col0\" class=\"data row11 col0\" >751</td>\n                        <td id=\"T_5b01f_row11_col1\" class=\"data row11 col1\" >15</td>\n                        <td id=\"T_5b01f_row11_col2\" class=\"data row11 col2\" >736</td>\n                        <td id=\"T_5b01f_row11_col3\" class=\"data row11 col3\" >2.00%</td>\n                        <td id=\"T_5b01f_row11_col4\" class=\"data row11 col4\" >2.38%</td>\n            </tr>\n            <tr>\n                                <th id=\"T_5b01f_level1_row12\" class=\"row_heading level1 row12\" >Household electronics (whitegoods/appliances)</th>\n                        <td id=\"T_5b01f_row12_col0\" class=\"data row12 col0\" >64</td>\n                        <td id=\"T_5b01f_row12_col1\" class=\"data row12 col1\" >1</td>\n                        <td id=\"T_5b01f_row12_col2\" class=\"data row12 col2\" >63</td>\n                        <td id=\"T_5b01f_row12_col3\" class=\"data row12 col3\" >1.56%</td>\n                        <td id=\"T_5b01f_row12_col4\" class=\"data row12 col4\" >2.38%</td>\n            </tr>\n            <tr>\n                                <th id=\"T_5b01f_level1_row13\" class=\"row_heading level1 row13\" >Office machines & Related accessories (excl. computers)</th>\n                        <td id=\"T_5b01f_row13_col0\" class=\"data row13 col0\" >9</td>\n                        <td id=\"T_5b01f_row13_col1\" class=\"data row13 col1\" >0</td>\n                        <td id=\"T_5b01f_row13_col2\" class=\"data row13 col2\" >9</td>\n                        <td id=\"T_5b01f_row13_col3\" class=\"data row13 col3\" >0.00%</td>\n                        <td id=\"T_5b01f_row13_col4\" class=\"data row13 col4\" >2.38%</td>\n            </tr>\n            <tr>\n                        <th id=\"T_5b01f_level0_row14\" class=\"row_heading level0 row14\" rowspan=\"4\">Entertainment</th>\n                        <th id=\"T_5b01f_level1_row14\" class=\"row_heading level1 row14\" >Books & Magazines</th>\n                        <td id=\"T_5b01f_row14_col0\" class=\"data row14 col0\" >6733</td>\n                        <td id=\"T_5b01f_row14_col1\" class=\"data row14 col1\" >33</td>\n                        <td id=\"T_5b01f_row14_col2\" class=\"data row14 col2\" >6700</td>\n                        <td id=\"T_5b01f_row14_col3\" class=\"data row14 col3\" >0.49%</td>\n                        <td id=\"T_5b01f_row14_col4\" class=\"data row14 col4\" >0.73%</td>\n            </tr>\n            <tr>\n                                <th id=\"T_5b01f_level1_row15\" class=\"row_heading level1 row15\" >Diversified entertainment</th>\n                        <td id=\"T_5b01f_row15_col0\" class=\"data row15 col0\" >27852</td>\n                        <td id=\"T_5b01f_row15_col1\" class=\"data row15 col1\" >202</td>\n                        <td id=\"T_5b01f_row15_col2\" class=\"data row15 col2\" >27650</td>\n                        <td id=\"T_5b01f_row15_col3\" class=\"data row15 col3\" >0.73%</td>\n                        <td id=\"T_5b01f_row15_col4\" class=\"data row15 col4\" >0.73%</td>\n            </tr>\n            <tr>\n                                <th id=\"T_5b01f_level1_row16\" class=\"row_heading level1 row16\" >Music & Movies</th>\n                        <td id=\"T_5b01f_row16_col0\" class=\"data row16 col0\" >86</td>\n                        <td id=\"T_5b01f_row16_col1\" class=\"data row16 col1\" >1</td>\n                        <td id=\"T_5b01f_row16_col2\" class=\"data row16 col2\" >85</td>\n                        <td id=\"T_5b01f_row16_col3\" class=\"data row16 col3\" >1.16%</td>\n                        <td id=\"T_5b01f_row16_col4\" class=\"data row16 col4\" >0.73%</td>\n            </tr>\n            <tr>\n                                <th id=\"T_5b01f_level1_row17\" class=\"row_heading level1 row17\" >Video Games & Related accessories</th>\n                        <td id=\"T_5b01f_row17_col0\" class=\"data row17 col0\" >480</td>\n                        <td id=\"T_5b01f_row17_col1\" class=\"data row17 col1\" >20</td>\n                        <td id=\"T_5b01f_row17_col2\" class=\"data row17 col2\" >460</td>\n                        <td id=\"T_5b01f_row17_col3\" class=\"data row17 col3\" >4.17%</td>\n                        <td id=\"T_5b01f_row17_col4\" class=\"data row17 col4\" >0.73%</td>\n            </tr>\n            <tr>\n                        <th id=\"T_5b01f_level0_row18\" class=\"row_heading level0 row18\" rowspan=\"3\">Erotic Materials</th>\n                        <th id=\"T_5b01f_level1_row18\" class=\"row_heading level1 row18\" >Diversified erotic material</th>\n                        <td id=\"T_5b01f_row18_col0\" class=\"data row18 col0\" >451</td>\n                        <td id=\"T_5b01f_row18_col1\" class=\"data row18 col1\" >20</td>\n                        <td id=\"T_5b01f_row18_col2\" class=\"data row18 col2\" >431</td>\n                        <td id=\"T_5b01f_row18_col3\" class=\"data row18 col3\" >4.43%</td>\n                        <td id=\"T_5b01f_row18_col4\" class=\"data row18 col4\" >4.44%</td>\n            </tr>\n            <tr>\n                                <th id=\"T_5b01f_level1_row19\" class=\"row_heading level1 row19\" >Erotic Clothing & Accessories</th>\n                        <td id=\"T_5b01f_row19_col0\" class=\"data row19 col0\" >58</td>\n                        <td id=\"T_5b01f_row19_col1\" class=\"data row19 col1\" >0</td>\n                        <td id=\"T_5b01f_row19_col2\" class=\"data row19 col2\" >58</td>\n                        <td id=\"T_5b01f_row19_col3\" class=\"data row19 col3\" >0.00%</td>\n                        <td id=\"T_5b01f_row19_col4\" class=\"data row19 col4\" >4.44%</td>\n            </tr>\n            <tr>\n                                <th id=\"T_5b01f_level1_row20\" class=\"row_heading level1 row20\" >Sex toys</th>\n                        <td id=\"T_5b01f_row20_col0\" class=\"data row20 col0\" >31</td>\n                        <td id=\"T_5b01f_row20_col1\" class=\"data row20 col1\" >4</td>\n                        <td id=\"T_5b01f_row20_col2\" class=\"data row20 col2\" >27</td>\n                        <td id=\"T_5b01f_row20_col3\" class=\"data row20 col3\" >12.90%</td>\n                        <td id=\"T_5b01f_row20_col4\" class=\"data row20 col4\" >4.44%</td>\n            </tr>\n            <tr>\n                        <th id=\"T_5b01f_level0_row21\" class=\"row_heading level0 row21\" rowspan=\"3\">Food & Beverage</th>\n                        <th id=\"T_5b01f_level1_row21\" class=\"row_heading level1 row21\" >Food & Beverage</th>\n                        <td id=\"T_5b01f_row21_col0\" class=\"data row21 col0\" >217</td>\n                        <td id=\"T_5b01f_row21_col1\" class=\"data row21 col1\" >17</td>\n                        <td id=\"T_5b01f_row21_col2\" class=\"data row21 col2\" >200</td>\n                        <td id=\"T_5b01f_row21_col3\" class=\"data row21 col3\" >7.83%</td>\n                        <td id=\"T_5b01f_row21_col4\" class=\"data row21 col4\" >8.86%</td>\n            </tr>\n            <tr>\n                                <th id=\"T_5b01f_level1_row22\" class=\"row_heading level1 row22\" >Tobacco</th>\n                        <td id=\"T_5b01f_row22_col0\" class=\"data row22 col0\" >47</td>\n                        <td id=\"T_5b01f_row22_col1\" class=\"data row22 col1\" >7</td>\n                        <td id=\"T_5b01f_row22_col2\" class=\"data row22 col2\" >40</td>\n                        <td id=\"T_5b01f_row22_col3\" class=\"data row22 col3\" >14.89%</td>\n                        <td id=\"T_5b01f_row22_col4\" class=\"data row22 col4\" >8.86%</td>\n            </tr>\n            <tr>\n                                <th id=\"T_5b01f_level1_row23\" class=\"row_heading level1 row23\" >Wine, Beer & Liquor</th>\n                        <td id=\"T_5b01f_row23_col0\" class=\"data row23 col0\" >7</td>\n                        <td id=\"T_5b01f_row23_col1\" class=\"data row23 col1\" >0</td>\n                        <td id=\"T_5b01f_row23_col2\" class=\"data row23 col2\" >7</td>\n                        <td id=\"T_5b01f_row23_col3\" class=\"data row23 col3\" >0.00%</td>\n                        <td id=\"T_5b01f_row23_col4\" class=\"data row23 col4\" >8.86%</td>\n            </tr>\n            <tr>\n                        <th id=\"T_5b01f_level0_row24\" class=\"row_heading level0 row24\" rowspan=\"8\">Health & Beauty</th>\n                        <th id=\"T_5b01f_level1_row24\" class=\"row_heading level1 row24\" >Body & Hair Care</th>\n                        <td id=\"T_5b01f_row24_col0\" class=\"data row24 col0\" >625</td>\n                        <td id=\"T_5b01f_row24_col1\" class=\"data row24 col1\" >11</td>\n                        <td id=\"T_5b01f_row24_col2\" class=\"data row24 col2\" >614</td>\n                        <td id=\"T_5b01f_row24_col3\" class=\"data row24 col3\" >1.76%</td>\n                        <td id=\"T_5b01f_row24_col4\" class=\"data row24 col4\" >1.55%</td>\n            </tr>\n            <tr>\n                                <th id=\"T_5b01f_level1_row25\" class=\"row_heading level1 row25\" >Cosmetics</th>\n                        <td id=\"T_5b01f_row25_col0\" class=\"data row25 col0\" >471</td>\n                        <td id=\"T_5b01f_row25_col1\" class=\"data row25 col1\" >15</td>\n                        <td id=\"T_5b01f_row25_col2\" class=\"data row25 col2\" >456</td>\n                        <td id=\"T_5b01f_row25_col3\" class=\"data row25 col3\" >3.18%</td>\n                        <td id=\"T_5b01f_row25_col4\" class=\"data row25 col4\" >1.55%</td>\n            </tr>\n            <tr>\n                                <th id=\"T_5b01f_level1_row26\" class=\"row_heading level1 row26\" >Dietary supplements</th>\n                        <td id=\"T_5b01f_row26_col0\" class=\"data row26 col0\" >2219</td>\n                        <td id=\"T_5b01f_row26_col1\" class=\"data row26 col1\" >35</td>\n                        <td id=\"T_5b01f_row26_col2\" class=\"data row26 col2\" >2184</td>\n                        <td id=\"T_5b01f_row26_col3\" class=\"data row26 col3\" >1.58%</td>\n                        <td id=\"T_5b01f_row26_col4\" class=\"data row26 col4\" >1.55%</td>\n            </tr>\n            <tr>\n                                <th id=\"T_5b01f_level1_row27\" class=\"row_heading level1 row27\" >Diversified Health & Beauty products</th>\n                        <td id=\"T_5b01f_row27_col0\" class=\"data row27 col0\" >580</td>\n                        <td id=\"T_5b01f_row27_col1\" class=\"data row27 col1\" >8</td>\n                        <td id=\"T_5b01f_row27_col2\" class=\"data row27 col2\" >572</td>\n                        <td id=\"T_5b01f_row27_col3\" class=\"data row27 col3\" >1.38%</td>\n                        <td id=\"T_5b01f_row27_col4\" class=\"data row27 col4\" >1.55%</td>\n            </tr>\n            <tr>\n                                <th id=\"T_5b01f_level1_row28\" class=\"row_heading level1 row28\" >Fragrances</th>\n                        <td id=\"T_5b01f_row28_col0\" class=\"data row28 col0\" >230</td>\n                        <td id=\"T_5b01f_row28_col1\" class=\"data row28 col1\" >2</td>\n                        <td id=\"T_5b01f_row28_col2\" class=\"data row28 col2\" >228</td>\n                        <td id=\"T_5b01f_row28_col3\" class=\"data row28 col3\" >0.87%</td>\n                        <td id=\"T_5b01f_row28_col4\" class=\"data row28 col4\" >1.55%</td>\n            </tr>\n            <tr>\n                                <th id=\"T_5b01f_level1_row29\" class=\"row_heading level1 row29\" >Personal care & Body improvement</th>\n                        <td id=\"T_5b01f_row29_col0\" class=\"data row29 col0\" >261</td>\n                        <td id=\"T_5b01f_row29_col1\" class=\"data row29 col1\" >3</td>\n                        <td id=\"T_5b01f_row29_col2\" class=\"data row29 col2\" >258</td>\n                        <td id=\"T_5b01f_row29_col3\" class=\"data row29 col3\" >1.15%</td>\n                        <td id=\"T_5b01f_row29_col4\" class=\"data row29 col4\" >1.55%</td>\n            </tr>\n            <tr>\n                                <th id=\"T_5b01f_level1_row30\" class=\"row_heading level1 row30\" >Pharmaceutical products</th>\n                        <td id=\"T_5b01f_row30_col0\" class=\"data row30 col0\" >273</td>\n                        <td id=\"T_5b01f_row30_col1\" class=\"data row30 col1\" >4</td>\n                        <td id=\"T_5b01f_row30_col2\" class=\"data row30 col2\" >269</td>\n                        <td id=\"T_5b01f_row30_col3\" class=\"data row30 col3\" >1.47%</td>\n                        <td id=\"T_5b01f_row30_col4\" class=\"data row30 col4\" >1.55%</td>\n            </tr>\n            <tr>\n                                <th id=\"T_5b01f_level1_row31\" class=\"row_heading level1 row31\" >Prescription optics</th>\n                        <td id=\"T_5b01f_row31_col0\" class=\"data row31 col0\" >643</td>\n                        <td id=\"T_5b01f_row31_col1\" class=\"data row31 col1\" >4</td>\n                        <td id=\"T_5b01f_row31_col2\" class=\"data row31 col2\" >639</td>\n                        <td id=\"T_5b01f_row31_col3\" class=\"data row31 col3\" >0.62%</td>\n                        <td id=\"T_5b01f_row31_col4\" class=\"data row31 col4\" >1.55%</td>\n            </tr>\n            <tr>\n                        <th id=\"T_5b01f_level0_row32\" class=\"row_heading level0 row32\" rowspan=\"9\">Home & Garden</th>\n                        <th id=\"T_5b01f_level1_row32\" class=\"row_heading level1 row32\" >Cleaning & Sanitary</th>\n                        <td id=\"T_5b01f_row32_col0\" class=\"data row32 col0\" >9</td>\n                        <td id=\"T_5b01f_row32_col1\" class=\"data row32 col1\" >0</td>\n                        <td id=\"T_5b01f_row32_col2\" class=\"data row32 col2\" >9</td>\n                        <td id=\"T_5b01f_row32_col3\" class=\"data row32 col3\" >0.00%</td>\n                        <td id=\"T_5b01f_row32_col4\" class=\"data row32 col4\" >1.81%</td>\n            </tr>\n            <tr>\n                                <th id=\"T_5b01f_level1_row33\" class=\"row_heading level1 row33\" >Decoration & Art</th>\n                        <td id=\"T_5b01f_row33_col0\" class=\"data row33 col0\" >479</td>\n                        <td id=\"T_5b01f_row33_col1\" class=\"data row33 col1\" >7</td>\n                        <td id=\"T_5b01f_row33_col2\" class=\"data row33 col2\" >472</td>\n                        <td id=\"T_5b01f_row33_col3\" class=\"data row33 col3\" >1.46%</td>\n                        <td id=\"T_5b01f_row33_col4\" class=\"data row33 col4\" >1.81%</td>\n            </tr>\n            <tr>\n                                <th id=\"T_5b01f_level1_row34\" class=\"row_heading level1 row34\" >Diversified Home & Garden products</th>\n                        <td id=\"T_5b01f_row34_col0\" class=\"data row34 col0\" >519</td>\n                        <td id=\"T_5b01f_row34_col1\" class=\"data row34 col1\" >10</td>\n                        <td id=\"T_5b01f_row34_col2\" class=\"data row34 col2\" >509</td>\n                        <td id=\"T_5b01f_row34_col3\" class=\"data row34 col3\" >1.93%</td>\n                        <td id=\"T_5b01f_row34_col4\" class=\"data row34 col4\" >1.81%</td>\n            </tr>\n            <tr>\n                                <th id=\"T_5b01f_level1_row35\" class=\"row_heading level1 row35\" >Furniture</th>\n                        <td id=\"T_5b01f_row35_col0\" class=\"data row35 col0\" >287</td>\n                        <td id=\"T_5b01f_row35_col1\" class=\"data row35 col1\" >4</td>\n                        <td id=\"T_5b01f_row35_col2\" class=\"data row35 col2\" >283</td>\n                        <td id=\"T_5b01f_row35_col3\" class=\"data row35 col3\" >1.39%</td>\n                        <td id=\"T_5b01f_row35_col4\" class=\"data row35 col4\" >1.81%</td>\n            </tr>\n            <tr>\n                                <th id=\"T_5b01f_level1_row36\" class=\"row_heading level1 row36\" >Kitchenware</th>\n                        <td id=\"T_5b01f_row36_col0\" class=\"data row36 col0\" >67</td>\n                        <td id=\"T_5b01f_row36_col1\" class=\"data row36 col1\" >1</td>\n                        <td id=\"T_5b01f_row36_col2\" class=\"data row36 col2\" >66</td>\n                        <td id=\"T_5b01f_row36_col3\" class=\"data row36 col3\" >1.49%</td>\n                        <td id=\"T_5b01f_row36_col4\" class=\"data row36 col4\" >1.81%</td>\n            </tr>\n            <tr>\n                                <th id=\"T_5b01f_level1_row37\" class=\"row_heading level1 row37\" >Pet supplies</th>\n                        <td id=\"T_5b01f_row37_col0\" class=\"data row37 col0\" >945</td>\n                        <td id=\"T_5b01f_row37_col1\" class=\"data row37 col1\" >20</td>\n                        <td id=\"T_5b01f_row37_col2\" class=\"data row37 col2\" >925</td>\n                        <td id=\"T_5b01f_row37_col3\" class=\"data row37 col3\" >2.12%</td>\n                        <td id=\"T_5b01f_row37_col4\" class=\"data row37 col4\" >1.81%</td>\n            </tr>\n            <tr>\n                                <th id=\"T_5b01f_level1_row38\" class=\"row_heading level1 row38\" >Plants & Flowers</th>\n                        <td id=\"T_5b01f_row38_col0\" class=\"data row38 col0\" >24</td>\n                        <td id=\"T_5b01f_row38_col1\" class=\"data row38 col1\" >3</td>\n                        <td id=\"T_5b01f_row38_col2\" class=\"data row38 col2\" >21</td>\n                        <td id=\"T_5b01f_row38_col3\" class=\"data row38 col3\" >12.50%</td>\n                        <td id=\"T_5b01f_row38_col4\" class=\"data row38 col4\" >1.81%</td>\n            </tr>\n            <tr>\n                                <th id=\"T_5b01f_level1_row39\" class=\"row_heading level1 row39\" >Safety products</th>\n                        <td id=\"T_5b01f_row39_col0\" class=\"data row39 col0\" >41</td>\n                        <td id=\"T_5b01f_row39_col1\" class=\"data row39 col1\" >0</td>\n                        <td id=\"T_5b01f_row39_col2\" class=\"data row39 col2\" >41</td>\n                        <td id=\"T_5b01f_row39_col3\" class=\"data row39 col3\" >0.00%</td>\n                        <td id=\"T_5b01f_row39_col4\" class=\"data row39 col4\" >1.81%</td>\n            </tr>\n            <tr>\n                                <th id=\"T_5b01f_level1_row40\" class=\"row_heading level1 row40\" >Tools & Home improvement</th>\n                        <td id=\"T_5b01f_row40_col0\" class=\"data row40 col0\" >330</td>\n                        <td id=\"T_5b01f_row40_col1\" class=\"data row40 col1\" >4</td>\n                        <td id=\"T_5b01f_row40_col2\" class=\"data row40 col2\" >326</td>\n                        <td id=\"T_5b01f_row40_col3\" class=\"data row40 col3\" >1.21%</td>\n                        <td id=\"T_5b01f_row40_col4\" class=\"data row40 col4\" >1.81%</td>\n            </tr>\n            <tr>\n                        <th id=\"T_5b01f_level0_row41\" class=\"row_heading level0 row41\" rowspan=\"4\">Intangible products</th>\n                        <th id=\"T_5b01f_level1_row41\" class=\"row_heading level1 row41\" >Dating services</th>\n                        <td id=\"T_5b01f_row41_col0\" class=\"data row41 col0\" >460</td>\n                        <td id=\"T_5b01f_row41_col1\" class=\"data row41 col1\" >45</td>\n                        <td id=\"T_5b01f_row41_col2\" class=\"data row41 col2\" >415</td>\n                        <td id=\"T_5b01f_row41_col3\" class=\"data row41 col3\" >9.78%</td>\n                        <td id=\"T_5b01f_row41_col4\" class=\"data row41 col4\" >6.40%</td>\n            </tr>\n            <tr>\n                                <th id=\"T_5b01f_level1_row42\" class=\"row_heading level1 row42\" >Digital services</th>\n                        <td id=\"T_5b01f_row42_col0\" class=\"data row42 col0\" >217</td>\n                        <td id=\"T_5b01f_row42_col1\" class=\"data row42 col1\" >4</td>\n                        <td id=\"T_5b01f_row42_col2\" class=\"data row42 col2\" >213</td>\n                        <td id=\"T_5b01f_row42_col3\" class=\"data row42 col3\" >1.84%</td>\n                        <td id=\"T_5b01f_row42_col4\" class=\"data row42 col4\" >6.40%</td>\n            </tr>\n            <tr>\n                                <th id=\"T_5b01f_level1_row43\" class=\"row_heading level1 row43\" >Event tickets</th>\n                        <td id=\"T_5b01f_row43_col0\" class=\"data row43 col0\" >8</td>\n                        <td id=\"T_5b01f_row43_col1\" class=\"data row43 col1\" >0</td>\n                        <td id=\"T_5b01f_row43_col2\" class=\"data row43 col2\" >8</td>\n                        <td id=\"T_5b01f_row43_col3\" class=\"data row43 col3\" >0.00%</td>\n                        <td id=\"T_5b01f_row43_col4\" class=\"data row43 col4\" >6.40%</td>\n            </tr>\n            <tr>\n                                <th id=\"T_5b01f_level1_row44\" class=\"row_heading level1 row44\" >Travel services</th>\n                        <td id=\"T_5b01f_row44_col0\" class=\"data row44 col0\" >128</td>\n                        <td id=\"T_5b01f_row44_col1\" class=\"data row44 col1\" >3</td>\n                        <td id=\"T_5b01f_row44_col2\" class=\"data row44 col2\" >125</td>\n                        <td id=\"T_5b01f_row44_col3\" class=\"data row44 col3\" >2.34%</td>\n                        <td id=\"T_5b01f_row44_col4\" class=\"data row44 col4\" >6.40%</td>\n            </tr>\n            <tr>\n                        <th id=\"T_5b01f_level0_row45\" class=\"row_heading level0 row45\" rowspan=\"4\">Jewelry & Accessories</th>\n                        <th id=\"T_5b01f_level1_row45\" class=\"row_heading level1 row45\" >Bags & Wallets</th>\n                        <td id=\"T_5b01f_row45_col0\" class=\"data row45 col0\" >19</td>\n                        <td id=\"T_5b01f_row45_col1\" class=\"data row45 col1\" >0</td>\n                        <td id=\"T_5b01f_row45_col2\" class=\"data row45 col2\" >19</td>\n                        <td id=\"T_5b01f_row45_col3\" class=\"data row45 col3\" >0.00%</td>\n                        <td id=\"T_5b01f_row45_col4\" class=\"data row45 col4\" >2.11%</td>\n            </tr>\n            <tr>\n                                <th id=\"T_5b01f_level1_row46\" class=\"row_heading level1 row46\" >Diversified Jewelry & Accessories</th>\n                        <td id=\"T_5b01f_row46_col0\" class=\"data row46 col0\" >38</td>\n                        <td id=\"T_5b01f_row46_col1\" class=\"data row46 col1\" >0</td>\n                        <td id=\"T_5b01f_row46_col2\" class=\"data row46 col2\" >38</td>\n                        <td id=\"T_5b01f_row46_col3\" class=\"data row46 col3\" >0.00%</td>\n                        <td id=\"T_5b01f_row46_col4\" class=\"data row46 col4\" >2.11%</td>\n            </tr>\n            <tr>\n                                <th id=\"T_5b01f_level1_row47\" class=\"row_heading level1 row47\" >Jewelry & Watches</th>\n                        <td id=\"T_5b01f_row47_col0\" class=\"data row47 col0\" >648</td>\n                        <td id=\"T_5b01f_row47_col1\" class=\"data row47 col1\" >15</td>\n                        <td id=\"T_5b01f_row47_col2\" class=\"data row47 col2\" >633</td>\n                        <td id=\"T_5b01f_row47_col3\" class=\"data row47 col3\" >2.31%</td>\n                        <td id=\"T_5b01f_row47_col4\" class=\"data row47 col4\" >2.11%</td>\n            </tr>\n            <tr>\n                                <th id=\"T_5b01f_level1_row48\" class=\"row_heading level1 row48\" >Non</th>\n                        <td id=\"T_5b01f_row48_col0\" class=\"data row48 col0\" >52</td>\n                        <td id=\"T_5b01f_row48_col1\" class=\"data row48 col1\" >1</td>\n                        <td id=\"T_5b01f_row48_col2\" class=\"data row48 col2\" >51</td>\n                        <td id=\"T_5b01f_row48_col3\" class=\"data row48 col3\" >1.92%</td>\n                        <td id=\"T_5b01f_row48_col4\" class=\"data row48 col4\" >2.11%</td>\n            </tr>\n            <tr>\n                        <th id=\"T_5b01f_level0_row49\" class=\"row_heading level0 row49\" rowspan=\"7\">Leisure, Sport & Hobby</th>\n                        <th id=\"T_5b01f_level1_row49\" class=\"row_heading level1 row49\" >Collectibles</th>\n                        <td id=\"T_5b01f_row49_col0\" class=\"data row49 col0\" >78</td>\n                        <td id=\"T_5b01f_row49_col1\" class=\"data row49 col1\" >1</td>\n                        <td id=\"T_5b01f_row49_col2\" class=\"data row49 col2\" >77</td>\n                        <td id=\"T_5b01f_row49_col3\" class=\"data row49 col3\" >1.28%</td>\n                        <td id=\"T_5b01f_row49_col4\" class=\"data row49 col4\" >1.79%</td>\n            </tr>\n            <tr>\n                                <th id=\"T_5b01f_level1_row50\" class=\"row_heading level1 row50\" >Concept stores & Miscellaneous</th>\n                        <td id=\"T_5b01f_row50_col0\" class=\"data row50 col0\" >3135</td>\n                        <td id=\"T_5b01f_row50_col1\" class=\"data row50 col1\" >45</td>\n                        <td id=\"T_5b01f_row50_col2\" class=\"data row50 col2\" >3090</td>\n                        <td id=\"T_5b01f_row50_col3\" class=\"data row50 col3\" >1.44%</td>\n                        <td id=\"T_5b01f_row50_col4\" class=\"data row50 col4\" >1.79%</td>\n            </tr>\n            <tr>\n                                <th id=\"T_5b01f_level1_row51\" class=\"row_heading level1 row51\" >Costumes & Party supplies</th>\n                        <td id=\"T_5b01f_row51_col0\" class=\"data row51 col0\" >105</td>\n                        <td id=\"T_5b01f_row51_col1\" class=\"data row51 col1\" >1</td>\n                        <td id=\"T_5b01f_row51_col2\" class=\"data row51 col2\" >104</td>\n                        <td id=\"T_5b01f_row51_col3\" class=\"data row51 col3\" >0.95%</td>\n                        <td id=\"T_5b01f_row51_col4\" class=\"data row51 col4\" >1.79%</td>\n            </tr>\n            <tr>\n                                <th id=\"T_5b01f_level1_row52\" class=\"row_heading level1 row52\" >Hobby articles</th>\n                        <td id=\"T_5b01f_row52_col0\" class=\"data row52 col0\" >657</td>\n                        <td id=\"T_5b01f_row52_col1\" class=\"data row52 col1\" >16</td>\n                        <td id=\"T_5b01f_row52_col2\" class=\"data row52 col2\" >641</td>\n                        <td id=\"T_5b01f_row52_col3\" class=\"data row52 col3\" >2.44%</td>\n                        <td id=\"T_5b01f_row52_col4\" class=\"data row52 col4\" >1.79%</td>\n            </tr>\n            <tr>\n                                <th id=\"T_5b01f_level1_row53\" class=\"row_heading level1 row53\" >Musical Instruments & Equipment</th>\n                        <td id=\"T_5b01f_row53_col0\" class=\"data row53 col0\" >54</td>\n                        <td id=\"T_5b01f_row53_col1\" class=\"data row53 col1\" >2</td>\n                        <td id=\"T_5b01f_row53_col2\" class=\"data row53 col2\" >52</td>\n                        <td id=\"T_5b01f_row53_col3\" class=\"data row53 col3\" >3.70%</td>\n                        <td id=\"T_5b01f_row53_col4\" class=\"data row53 col4\" >1.79%</td>\n            </tr>\n            <tr>\n                                <th id=\"T_5b01f_level1_row54\" class=\"row_heading level1 row54\" >Prints & Photos</th>\n                        <td id=\"T_5b01f_row54_col0\" class=\"data row54 col0\" >1200</td>\n                        <td id=\"T_5b01f_row54_col1\" class=\"data row54 col1\" >25</td>\n                        <td id=\"T_5b01f_row54_col2\" class=\"data row54 col2\" >1175</td>\n                        <td id=\"T_5b01f_row54_col3\" class=\"data row54 col3\" >2.08%</td>\n                        <td id=\"T_5b01f_row54_col4\" class=\"data row54 col4\" >1.79%</td>\n            </tr>\n            <tr>\n                                <th id=\"T_5b01f_level1_row55\" class=\"row_heading level1 row55\" >Sports gear & Outdoor</th>\n                        <td id=\"T_5b01f_row55_col0\" class=\"data row55 col0\" >2666</td>\n                        <td id=\"T_5b01f_row55_col1\" class=\"data row55 col1\" >51</td>\n                        <td id=\"T_5b01f_row55_col2\" class=\"data row55 col2\" >2615</td>\n                        <td id=\"T_5b01f_row55_col3\" class=\"data row55 col3\" >1.91%</td>\n                        <td id=\"T_5b01f_row55_col4\" class=\"data row55 col4\" >1.79%</td>\n            </tr>\n    </tbody></table>"
     },
     "metadata": {},
     "execution_count": 4
    }
   ],
   "source": [
    "def highlight_above_mean(s):\n",
    "    \"\"\"\n",
    "    highlight the maximum in a Series yellow.\n",
    "    \"\"\"\n",
    "    is_above_mean = s > s.mean()\n",
    "    return [\"background-color: yellow\" if v else \"\" for v in is_above_mean]\n",
    "\n",
    "\n",
    "df.groupby([\"merchant_group\", \"merchant_category\"]).agg(\n",
    "    customers=(\"uuid\", \"nunique\"),\n",
    "    default=(\"default\", \"sum\"),\n",
    "    not_default=(\"default\", func.complement),\n",
    "    cat_contamination=(\"default\", lambda s: s.sum() / s.shape[0]),\n",
    ").join(\n",
    "    df.groupby(\"merchant_group\").agg(\n",
    "        group_contamination=(\"default\", lambda s: s.sum() / s.shape[0])\n",
    "    ),\n",
    "    on=\"merchant_group\",\n",
    ").style.apply(\n",
    "    highlight_above_mean, subset=[\"cat_contamination\", \"group_contamination\"]\n",
    ").format(\n",
    "    {\n",
    "        \"default\": \"{:.0f}\",\n",
    "        \"not_default\": \"{:.0f}\",\n",
    "        \"cat_contamination\": \"{:.2%}\",\n",
    "        \"group_contamination\": \"{:.2%}\",\n",
    "    }\n",
    ")"
   ]
  },
  {
   "cell_type": "markdown",
   "id": "b79d7f1c",
   "metadata": {},
   "source": [
    "In the table above, we highlight groups and categories that have contamination higher than average. We can see that 12 categories go above average, 3 of which have nearly a 10 fold increase. Likewise, 3 groups are flagged as above average, but the variance within groups is considerably high so it's not clear that groups would be a good choice.\n",
    "\n",
    "On the other hand, 56 merchant categories also makes the variable ineligible. It seems that the best approach is to blacklist a set of categories and create a boolean variable with it. Before doing so, we present an analytical overview of \"merchant_category\":"
   ]
  },
  {
   "cell_type": "code",
   "execution_count": 5,
   "id": "e74e0ddc",
   "metadata": {},
   "outputs": [
    {
     "output_type": "display_data",
     "data": {
      "application/vnd.plotly.v1+json": {
       "config": {
        "plotlyServerURL": "https://plot.ly"
       },
       "data": [
        {
         "name": "not_default",
         "opacity": 0.4,
         "type": "bar",
         "x": [
          "Diversified entertainment",
          "Youthful Shoes & Clothing",
          "Books & Magazines",
          "General Shoes & Clothing",
          "Concept stores & Miscellaneous",
          "Sports gear & Outdoor",
          "Dietary supplements",
          "Diversified children products",
          "Diversified electronics",
          "Prints & Photos",
          "Children Clothes & Nurturing products",
          "Pet supplies",
          "Electronic equipment & Related accessories",
          "Hobby articles",
          "Jewelry & Watches",
          "Prescription optics",
          "Body & Hair Care",
          "Automotive Parts & Accessories",
          "Diversified Health & Beauty products",
          "Diversified Home & Garden products",
          "Video Games & Related accessories",
          "Decoration & Art",
          "Cosmetics",
          "Children toys",
          "Dating services",
          "Diversified erotic material",
          "Tools & Home improvement",
          "Furniture",
          "Pharmaceutical products",
          "Personal care & Body improvement",
          "Fragrances",
          "Adult Shoes & Clothing",
          "Digital services",
          "Food & Beverage",
          "Travel services",
          "Costumes & Party supplies",
          "Music & Movies",
          "Wheels & Tires",
          "Collectibles",
          "Kitchenware",
          "Household electronics (whitegoods/appliances)",
          "Underwear",
          "Erotic Clothing & Accessories",
          "Musical Instruments & Equipment",
          "Non",
          "Tobacco",
          "Safety products",
          "Diversified Jewelry & Accessories",
          "Car electronics",
          "Sex toys",
          "Plants & Flowers",
          "Bags & Wallets",
          "Office machines & Related accessories (excl. computers)",
          "Cleaning & Sanitary",
          "Event tickets",
          "Wine, Beer & Liquor"
         ],
         "xaxis": "x",
         "y": [
          0.9927473790033031,
          0.9743251349730054,
          0.9950987672657062,
          0.9833283715391485,
          0.9856459330143541,
          0.9808702175543886,
          0.9842271293375394,
          0.9871027176416398,
          0.9743396226415094,
          0.9791666666666666,
          0.9861367837338263,
          0.9788359788359788,
          0.9800266311584553,
          0.9756468797564688,
          0.9768518518518519,
          0.9937791601866252,
          0.9824,
          0.9882154882154882,
          0.9862068965517241,
          0.9807321772639692,
          0.9583333333333334,
          0.9853862212943633,
          0.9681528662420382,
          0.9934782608695653,
          0.9021739130434783,
          0.9556541019955654,
          0.9878787878787879,
          0.9860627177700348,
          0.9853479853479854,
          0.9885057471264368,
          0.991304347826087,
          0.9776785714285714,
          0.9815668202764977,
          0.9216589861751152,
          0.9765625,
          0.9904761904761905,
          0.9883720930232558,
          0.9512195121951219,
          0.9871794871794872,
          0.9850746268656716,
          0.984375,
          0.9672131147540983,
          1,
          0.9629629629629629,
          0.9807692307692307,
          0.851063829787234,
          1,
          1,
          0.9393939393939394,
          0.8709677419354839,
          0.875,
          1,
          1,
          1,
          1,
          1
         ],
         "yaxis": "y"
        },
        {
         "name": "default",
         "opacity": 0.4,
         "type": "bar",
         "x": [
          "Diversified entertainment",
          "Youthful Shoes & Clothing",
          "Books & Magazines",
          "General Shoes & Clothing",
          "Concept stores & Miscellaneous",
          "Sports gear & Outdoor",
          "Dietary supplements",
          "Diversified children products",
          "Diversified electronics",
          "Prints & Photos",
          "Children Clothes & Nurturing products",
          "Pet supplies",
          "Electronic equipment & Related accessories",
          "Hobby articles",
          "Jewelry & Watches",
          "Prescription optics",
          "Body & Hair Care",
          "Automotive Parts & Accessories",
          "Diversified Health & Beauty products",
          "Diversified Home & Garden products",
          "Video Games & Related accessories",
          "Decoration & Art",
          "Cosmetics",
          "Children toys",
          "Dating services",
          "Diversified erotic material",
          "Tools & Home improvement",
          "Furniture",
          "Pharmaceutical products",
          "Personal care & Body improvement",
          "Fragrances",
          "Adult Shoes & Clothing",
          "Digital services",
          "Food & Beverage",
          "Travel services",
          "Costumes & Party supplies",
          "Music & Movies",
          "Wheels & Tires",
          "Collectibles",
          "Kitchenware",
          "Household electronics (whitegoods/appliances)",
          "Underwear",
          "Erotic Clothing & Accessories",
          "Musical Instruments & Equipment",
          "Non",
          "Tobacco",
          "Safety products",
          "Diversified Jewelry & Accessories",
          "Car electronics",
          "Sex toys",
          "Plants & Flowers",
          "Bags & Wallets",
          "Office machines & Related accessories (excl. computers)",
          "Cleaning & Sanitary",
          "Event tickets",
          "Wine, Beer & Liquor"
         ],
         "xaxis": "x",
         "y": [
          0.007252620996696826,
          0.025674865026994603,
          0.004901232734293777,
          0.016671628460851445,
          0.014354066985645933,
          0.019129782445611403,
          0.015772870662460567,
          0.012897282358360202,
          0.025660377358490565,
          0.020833333333333332,
          0.013863216266173753,
          0.021164021164021163,
          0.019973368841544607,
          0.0243531202435312,
          0.023148148148148147,
          0.006220839813374806,
          0.0176,
          0.011784511784511785,
          0.013793103448275862,
          0.019267822736030827,
          0.041666666666666664,
          0.014613778705636743,
          0.03184713375796178,
          0.006521739130434782,
          0.09782608695652174,
          0.04434589800443459,
          0.012121212121212121,
          0.013937282229965157,
          0.014652014652014652,
          0.011494252873563218,
          0.008695652173913044,
          0.022321428571428572,
          0.018433179723502304,
          0.07834101382488479,
          0.0234375,
          0.009523809523809525,
          0.011627906976744186,
          0.04878048780487805,
          0.01282051282051282,
          0.014925373134328358,
          0.015625,
          0.03278688524590164,
          0,
          0.037037037037037035,
          0.019230769230769232,
          0.14893617021276595,
          0,
          0,
          0.06060606060606061,
          0.12903225806451613,
          0.125,
          0,
          0,
          0,
          0,
          0
         ],
         "yaxis": "y"
        },
        {
         "line": {
          "color": "indianred",
          "width": 4
         },
         "mode": "lines+markers",
         "name": "observations",
         "type": "scatter",
         "x": [
          "Diversified entertainment",
          "Youthful Shoes & Clothing",
          "Books & Magazines",
          "General Shoes & Clothing",
          "Concept stores & Miscellaneous",
          "Sports gear & Outdoor",
          "Dietary supplements",
          "Diversified children products",
          "Diversified electronics",
          "Prints & Photos",
          "Children Clothes & Nurturing products",
          "Pet supplies",
          "Electronic equipment & Related accessories",
          "Hobby articles",
          "Jewelry & Watches",
          "Prescription optics",
          "Body & Hair Care",
          "Automotive Parts & Accessories",
          "Diversified Health & Beauty products",
          "Diversified Home & Garden products",
          "Video Games & Related accessories",
          "Decoration & Art",
          "Cosmetics",
          "Children toys",
          "Dating services",
          "Diversified erotic material",
          "Tools & Home improvement",
          "Furniture",
          "Pharmaceutical products",
          "Personal care & Body improvement",
          "Fragrances",
          "Adult Shoes & Clothing",
          "Digital services",
          "Food & Beverage",
          "Travel services",
          "Costumes & Party supplies",
          "Music & Movies",
          "Wheels & Tires",
          "Collectibles",
          "Kitchenware",
          "Household electronics (whitegoods/appliances)",
          "Underwear",
          "Erotic Clothing & Accessories",
          "Musical Instruments & Equipment",
          "Non",
          "Tobacco",
          "Safety products",
          "Diversified Jewelry & Accessories",
          "Car electronics",
          "Sex toys",
          "Plants & Flowers",
          "Bags & Wallets",
          "Office machines & Related accessories (excl. computers)",
          "Cleaning & Sanitary",
          "Event tickets",
          "Wine, Beer & Liquor"
         ],
         "xaxis": "x",
         "y": [
          27852,
          8335,
          6733,
          3359,
          3135,
          2666,
          2219,
          2171,
          1325,
          1200,
          1082,
          945,
          751,
          657,
          648,
          643,
          625,
          594,
          580,
          519,
          480,
          479,
          471,
          460,
          460,
          451,
          330,
          287,
          273,
          261,
          230,
          224,
          217,
          217,
          128,
          105,
          86,
          82,
          78,
          67,
          64,
          61,
          58,
          54,
          52,
          47,
          41,
          38,
          33,
          31,
          24,
          19,
          9,
          9,
          8,
          7
         ],
         "yaxis": "y2"
        }
       ],
       "layout": {
        "barmode": "stack",
        "height": 600,
        "template": {
         "data": {
          "bar": [
           {
            "error_x": {
             "color": "#2a3f5f"
            },
            "error_y": {
             "color": "#2a3f5f"
            },
            "marker": {
             "line": {
              "color": "white",
              "width": 0.5
             }
            },
            "type": "bar"
           }
          ],
          "barpolar": [
           {
            "marker": {
             "line": {
              "color": "white",
              "width": 0.5
             }
            },
            "type": "barpolar"
           }
          ],
          "carpet": [
           {
            "aaxis": {
             "endlinecolor": "#2a3f5f",
             "gridcolor": "#C8D4E3",
             "linecolor": "#C8D4E3",
             "minorgridcolor": "#C8D4E3",
             "startlinecolor": "#2a3f5f"
            },
            "baxis": {
             "endlinecolor": "#2a3f5f",
             "gridcolor": "#C8D4E3",
             "linecolor": "#C8D4E3",
             "minorgridcolor": "#C8D4E3",
             "startlinecolor": "#2a3f5f"
            },
            "type": "carpet"
           }
          ],
          "choropleth": [
           {
            "colorbar": {
             "outlinewidth": 0,
             "ticks": ""
            },
            "type": "choropleth"
           }
          ],
          "contour": [
           {
            "colorbar": {
             "outlinewidth": 0,
             "ticks": ""
            },
            "colorscale": [
             [
              0,
              "#0d0887"
             ],
             [
              0.1111111111111111,
              "#46039f"
             ],
             [
              0.2222222222222222,
              "#7201a8"
             ],
             [
              0.3333333333333333,
              "#9c179e"
             ],
             [
              0.4444444444444444,
              "#bd3786"
             ],
             [
              0.5555555555555556,
              "#d8576b"
             ],
             [
              0.6666666666666666,
              "#ed7953"
             ],
             [
              0.7777777777777778,
              "#fb9f3a"
             ],
             [
              0.8888888888888888,
              "#fdca26"
             ],
             [
              1,
              "#f0f921"
             ]
            ],
            "type": "contour"
           }
          ],
          "contourcarpet": [
           {
            "colorbar": {
             "outlinewidth": 0,
             "ticks": ""
            },
            "type": "contourcarpet"
           }
          ],
          "heatmap": [
           {
            "colorbar": {
             "outlinewidth": 0,
             "ticks": ""
            },
            "colorscale": [
             [
              0,
              "#0d0887"
             ],
             [
              0.1111111111111111,
              "#46039f"
             ],
             [
              0.2222222222222222,
              "#7201a8"
             ],
             [
              0.3333333333333333,
              "#9c179e"
             ],
             [
              0.4444444444444444,
              "#bd3786"
             ],
             [
              0.5555555555555556,
              "#d8576b"
             ],
             [
              0.6666666666666666,
              "#ed7953"
             ],
             [
              0.7777777777777778,
              "#fb9f3a"
             ],
             [
              0.8888888888888888,
              "#fdca26"
             ],
             [
              1,
              "#f0f921"
             ]
            ],
            "type": "heatmap"
           }
          ],
          "heatmapgl": [
           {
            "colorbar": {
             "outlinewidth": 0,
             "ticks": ""
            },
            "colorscale": [
             [
              0,
              "#0d0887"
             ],
             [
              0.1111111111111111,
              "#46039f"
             ],
             [
              0.2222222222222222,
              "#7201a8"
             ],
             [
              0.3333333333333333,
              "#9c179e"
             ],
             [
              0.4444444444444444,
              "#bd3786"
             ],
             [
              0.5555555555555556,
              "#d8576b"
             ],
             [
              0.6666666666666666,
              "#ed7953"
             ],
             [
              0.7777777777777778,
              "#fb9f3a"
             ],
             [
              0.8888888888888888,
              "#fdca26"
             ],
             [
              1,
              "#f0f921"
             ]
            ],
            "type": "heatmapgl"
           }
          ],
          "histogram": [
           {
            "marker": {
             "colorbar": {
              "outlinewidth": 0,
              "ticks": ""
             }
            },
            "type": "histogram"
           }
          ],
          "histogram2d": [
           {
            "colorbar": {
             "outlinewidth": 0,
             "ticks": ""
            },
            "colorscale": [
             [
              0,
              "#0d0887"
             ],
             [
              0.1111111111111111,
              "#46039f"
             ],
             [
              0.2222222222222222,
              "#7201a8"
             ],
             [
              0.3333333333333333,
              "#9c179e"
             ],
             [
              0.4444444444444444,
              "#bd3786"
             ],
             [
              0.5555555555555556,
              "#d8576b"
             ],
             [
              0.6666666666666666,
              "#ed7953"
             ],
             [
              0.7777777777777778,
              "#fb9f3a"
             ],
             [
              0.8888888888888888,
              "#fdca26"
             ],
             [
              1,
              "#f0f921"
             ]
            ],
            "type": "histogram2d"
           }
          ],
          "histogram2dcontour": [
           {
            "colorbar": {
             "outlinewidth": 0,
             "ticks": ""
            },
            "colorscale": [
             [
              0,
              "#0d0887"
             ],
             [
              0.1111111111111111,
              "#46039f"
             ],
             [
              0.2222222222222222,
              "#7201a8"
             ],
             [
              0.3333333333333333,
              "#9c179e"
             ],
             [
              0.4444444444444444,
              "#bd3786"
             ],
             [
              0.5555555555555556,
              "#d8576b"
             ],
             [
              0.6666666666666666,
              "#ed7953"
             ],
             [
              0.7777777777777778,
              "#fb9f3a"
             ],
             [
              0.8888888888888888,
              "#fdca26"
             ],
             [
              1,
              "#f0f921"
             ]
            ],
            "type": "histogram2dcontour"
           }
          ],
          "mesh3d": [
           {
            "colorbar": {
             "outlinewidth": 0,
             "ticks": ""
            },
            "type": "mesh3d"
           }
          ],
          "parcoords": [
           {
            "line": {
             "colorbar": {
              "outlinewidth": 0,
              "ticks": ""
             }
            },
            "type": "parcoords"
           }
          ],
          "pie": [
           {
            "automargin": true,
            "type": "pie"
           }
          ],
          "scatter": [
           {
            "marker": {
             "colorbar": {
              "outlinewidth": 0,
              "ticks": ""
             }
            },
            "type": "scatter"
           }
          ],
          "scatter3d": [
           {
            "line": {
             "colorbar": {
              "outlinewidth": 0,
              "ticks": ""
             }
            },
            "marker": {
             "colorbar": {
              "outlinewidth": 0,
              "ticks": ""
             }
            },
            "type": "scatter3d"
           }
          ],
          "scattercarpet": [
           {
            "marker": {
             "colorbar": {
              "outlinewidth": 0,
              "ticks": ""
             }
            },
            "type": "scattercarpet"
           }
          ],
          "scattergeo": [
           {
            "marker": {
             "colorbar": {
              "outlinewidth": 0,
              "ticks": ""
             }
            },
            "type": "scattergeo"
           }
          ],
          "scattergl": [
           {
            "marker": {
             "colorbar": {
              "outlinewidth": 0,
              "ticks": ""
             }
            },
            "type": "scattergl"
           }
          ],
          "scattermapbox": [
           {
            "marker": {
             "colorbar": {
              "outlinewidth": 0,
              "ticks": ""
             }
            },
            "type": "scattermapbox"
           }
          ],
          "scatterpolar": [
           {
            "marker": {
             "colorbar": {
              "outlinewidth": 0,
              "ticks": ""
             }
            },
            "type": "scatterpolar"
           }
          ],
          "scatterpolargl": [
           {
            "marker": {
             "colorbar": {
              "outlinewidth": 0,
              "ticks": ""
             }
            },
            "type": "scatterpolargl"
           }
          ],
          "scatterternary": [
           {
            "marker": {
             "colorbar": {
              "outlinewidth": 0,
              "ticks": ""
             }
            },
            "type": "scatterternary"
           }
          ],
          "surface": [
           {
            "colorbar": {
             "outlinewidth": 0,
             "ticks": ""
            },
            "colorscale": [
             [
              0,
              "#0d0887"
             ],
             [
              0.1111111111111111,
              "#46039f"
             ],
             [
              0.2222222222222222,
              "#7201a8"
             ],
             [
              0.3333333333333333,
              "#9c179e"
             ],
             [
              0.4444444444444444,
              "#bd3786"
             ],
             [
              0.5555555555555556,
              "#d8576b"
             ],
             [
              0.6666666666666666,
              "#ed7953"
             ],
             [
              0.7777777777777778,
              "#fb9f3a"
             ],
             [
              0.8888888888888888,
              "#fdca26"
             ],
             [
              1,
              "#f0f921"
             ]
            ],
            "type": "surface"
           }
          ],
          "table": [
           {
            "cells": {
             "fill": {
              "color": "#EBF0F8"
             },
             "line": {
              "color": "white"
             }
            },
            "header": {
             "fill": {
              "color": "#C8D4E3"
             },
             "line": {
              "color": "white"
             }
            },
            "type": "table"
           }
          ]
         },
         "layout": {
          "annotationdefaults": {
           "arrowcolor": "#2a3f5f",
           "arrowhead": 0,
           "arrowwidth": 1
          },
          "autotypenumbers": "strict",
          "coloraxis": {
           "colorbar": {
            "outlinewidth": 0,
            "ticks": ""
           }
          },
          "colorscale": {
           "diverging": [
            [
             0,
             "#8e0152"
            ],
            [
             0.1,
             "#c51b7d"
            ],
            [
             0.2,
             "#de77ae"
            ],
            [
             0.3,
             "#f1b6da"
            ],
            [
             0.4,
             "#fde0ef"
            ],
            [
             0.5,
             "#f7f7f7"
            ],
            [
             0.6,
             "#e6f5d0"
            ],
            [
             0.7,
             "#b8e186"
            ],
            [
             0.8,
             "#7fbc41"
            ],
            [
             0.9,
             "#4d9221"
            ],
            [
             1,
             "#276419"
            ]
           ],
           "sequential": [
            [
             0,
             "#0d0887"
            ],
            [
             0.1111111111111111,
             "#46039f"
            ],
            [
             0.2222222222222222,
             "#7201a8"
            ],
            [
             0.3333333333333333,
             "#9c179e"
            ],
            [
             0.4444444444444444,
             "#bd3786"
            ],
            [
             0.5555555555555556,
             "#d8576b"
            ],
            [
             0.6666666666666666,
             "#ed7953"
            ],
            [
             0.7777777777777778,
             "#fb9f3a"
            ],
            [
             0.8888888888888888,
             "#fdca26"
            ],
            [
             1,
             "#f0f921"
            ]
           ],
           "sequentialminus": [
            [
             0,
             "#0d0887"
            ],
            [
             0.1111111111111111,
             "#46039f"
            ],
            [
             0.2222222222222222,
             "#7201a8"
            ],
            [
             0.3333333333333333,
             "#9c179e"
            ],
            [
             0.4444444444444444,
             "#bd3786"
            ],
            [
             0.5555555555555556,
             "#d8576b"
            ],
            [
             0.6666666666666666,
             "#ed7953"
            ],
            [
             0.7777777777777778,
             "#fb9f3a"
            ],
            [
             0.8888888888888888,
             "#fdca26"
            ],
            [
             1,
             "#f0f921"
            ]
           ]
          },
          "colorway": [
           "#636efa",
           "#EF553B",
           "#00cc96",
           "#ab63fa",
           "#FFA15A",
           "#19d3f3",
           "#FF6692",
           "#B6E880",
           "#FF97FF",
           "#FECB52"
          ],
          "font": {
           "color": "#2a3f5f"
          },
          "geo": {
           "bgcolor": "white",
           "lakecolor": "white",
           "landcolor": "white",
           "showlakes": true,
           "showland": true,
           "subunitcolor": "#C8D4E3"
          },
          "hoverlabel": {
           "align": "left"
          },
          "hovermode": "closest",
          "mapbox": {
           "style": "light"
          },
          "paper_bgcolor": "white",
          "plot_bgcolor": "white",
          "polar": {
           "angularaxis": {
            "gridcolor": "#EBF0F8",
            "linecolor": "#EBF0F8",
            "ticks": ""
           },
           "bgcolor": "white",
           "radialaxis": {
            "gridcolor": "#EBF0F8",
            "linecolor": "#EBF0F8",
            "ticks": ""
           }
          },
          "scene": {
           "xaxis": {
            "backgroundcolor": "white",
            "gridcolor": "#DFE8F3",
            "gridwidth": 2,
            "linecolor": "#EBF0F8",
            "showbackground": true,
            "ticks": "",
            "zerolinecolor": "#EBF0F8"
           },
           "yaxis": {
            "backgroundcolor": "white",
            "gridcolor": "#DFE8F3",
            "gridwidth": 2,
            "linecolor": "#EBF0F8",
            "showbackground": true,
            "ticks": "",
            "zerolinecolor": "#EBF0F8"
           },
           "zaxis": {
            "backgroundcolor": "white",
            "gridcolor": "#DFE8F3",
            "gridwidth": 2,
            "linecolor": "#EBF0F8",
            "showbackground": true,
            "ticks": "",
            "zerolinecolor": "#EBF0F8"
           }
          },
          "shapedefaults": {
           "line": {
            "color": "#2a3f5f"
           }
          },
          "ternary": {
           "aaxis": {
            "gridcolor": "#DFE8F3",
            "linecolor": "#A2B1C6",
            "ticks": ""
           },
           "baxis": {
            "gridcolor": "#DFE8F3",
            "linecolor": "#A2B1C6",
            "ticks": ""
           },
           "bgcolor": "white",
           "caxis": {
            "gridcolor": "#DFE8F3",
            "linecolor": "#A2B1C6",
            "ticks": ""
           }
          },
          "title": {
           "x": 0.05
          },
          "xaxis": {
           "automargin": true,
           "gridcolor": "#EBF0F8",
           "linecolor": "#EBF0F8",
           "ticks": "",
           "title": {
            "standoff": 15
           },
           "zerolinecolor": "#EBF0F8",
           "zerolinewidth": 2
          },
          "yaxis": {
           "automargin": true,
           "gridcolor": "#EBF0F8",
           "linecolor": "#EBF0F8",
           "ticks": "",
           "title": {
            "standoff": 15
           },
           "zerolinecolor": "#EBF0F8",
           "zerolinewidth": 2
          }
         }
        },
        "title": {
         "text": "Merchant Category"
        },
        "width": 1500,
        "xaxis": {
         "anchor": "y",
         "domain": [
          0,
          0.94
         ]
        },
        "yaxis": {
         "anchor": "x",
         "domain": [
          0,
          1
         ],
         "showgrid": false,
         "tickformat": "%",
         "title": {
          "text": ""
         }
        },
        "yaxis2": {
         "anchor": "x",
         "overlaying": "y",
         "range": [
          -0.001,
          4.5
         ],
         "side": "right",
         "title": {
          "text": "<b>Observations (log)</b>"
         },
         "type": "log"
        }
       }
      }
     },
     "metadata": {}
    }
   ],
   "source": [
    "plot_data = (\n",
    "    df.groupby(\"merchant_category\")\n",
    "    .agg(\n",
    "        default=(\"default\", lambda s: s.sum() / s.shape[0]),\n",
    "        not_default=(\"default\", lambda s: (s.shape[0] - s.sum()) / s.shape[0]),\n",
    "        counts=(\"default\", \"count\"),\n",
    "    )\n",
    "    .sort_values(\"counts\", ascending=False)\n",
    ")\n",
    "\n",
    "fig = make_subplots(specs=[[{\"secondary_y\": True}]])\n",
    "\n",
    "fig.add_trace(\n",
    "    go.Bar(\n",
    "        x=plot_data.index,\n",
    "        y=plot_data.not_default,\n",
    "        name=\"not_default\",\n",
    "    ),\n",
    "    secondary_y=False,\n",
    ")\n",
    "\n",
    "fig.add_trace(\n",
    "    go.Bar(\n",
    "        x=plot_data.index,\n",
    "        y=plot_data.default,\n",
    "        name=\"default\",\n",
    "    ),\n",
    "    secondary_y=False,\n",
    ")\n",
    "\n",
    "fig.update_traces(opacity=0.4)\n",
    "\n",
    "fig.add_trace(\n",
    "    go.Scatter(\n",
    "        x=plot_data.index,\n",
    "        y=plot_data.counts,\n",
    "        name=\"observations\",\n",
    "        mode=\"lines+markers\",\n",
    "        line_color=\"indianred\",\n",
    "        line_width=4,\n",
    "    ),\n",
    "    secondary_y=True,\n",
    ")\n",
    "\n",
    "fig.update_layout(\n",
    "    title=\"Merchant Category\",\n",
    "    barmode=\"stack\",\n",
    "    yaxis_tickformat=\"%\",\n",
    "    yaxis_title=\"\",\n",
    "    width=1500,\n",
    "    height=600,\n",
    ")\n",
    "\n",
    "fig.update_yaxes(\n",
    "    showgrid=False,\n",
    "    secondary_y=False,\n",
    ")\n",
    "\n",
    "fig.update_yaxes(\n",
    "    title_text=\"<b>Observations (log)</b>\",\n",
    "    secondary_y=True,\n",
    "    type=\"log\",\n",
    "    range=[-1e-3, 4.5],\n",
    ")\n",
    "\n",
    "fig.show()"
   ]
  },
  {
   "cell_type": "markdown",
   "id": "886b7a78",
   "metadata": {},
   "source": [
    "The plot above shows two main ideas, the first (left yaxis) explores how defaults are distributed across categories, the second (right yaxis) explores the ubiquity of each category with our customers. A few broad observations:\n",
    "- Diversified entertainment holds ~39% of all customers in the sample but sees only half the rate of defaults compared to the whole sample\n",
    "- 11 categories have at least 1K customers\n",
    "- 20 categories have less than 100 customers\n",
    "- \"Sex toys\" and \"Plants & Flowers\" see more than 10% of their customers default, and \"Tobacco\" almost 15%\n",
    "    - these merchants combined have less than 0.2% of our customers\n",
    "- In the mid-range, \"Dating services\" see almost 10% of customers default\n",
    "\n",
    "## 1. Blacklist variable\n",
    "\n",
    "We use the strategy of \"above ~10% contamination\" (over 5x the average rate) to choose categories in which defaults happen more frequently. We believe this information combined with all other features we proposed should have enough signal to do a decent job at predicting defaults. The categories we choose are:\n",
    "- Tobacco\n",
    "- Sex toys\n",
    "- Plants & Flowers\n",
    "- Dating services"
   ]
  },
  {
   "cell_type": "code",
   "execution_count": 6,
   "id": "674a17c7",
   "metadata": {},
   "outputs": [
    {
     "output_type": "execute_result",
     "data": {
      "text/plain": [
       "       default  not_default  count  contamination\n",
       "var                                              \n",
       "False    971.0      70447.0  71418       0.013596\n",
       "True      59.0        503.0    562       0.104982"
      ],
      "text/html": "<div>\n<style scoped>\n    .dataframe tbody tr th:only-of-type {\n        vertical-align: middle;\n    }\n\n    .dataframe tbody tr th {\n        vertical-align: top;\n    }\n\n    .dataframe thead th {\n        text-align: right;\n    }\n</style>\n<table border=\"1\" class=\"dataframe\">\n  <thead>\n    <tr style=\"text-align: right;\">\n      <th></th>\n      <th>default</th>\n      <th>not_default</th>\n      <th>count</th>\n      <th>contamination</th>\n    </tr>\n    <tr>\n      <th>var</th>\n      <th></th>\n      <th></th>\n      <th></th>\n      <th></th>\n    </tr>\n  </thead>\n  <tbody>\n    <tr>\n      <th>False</th>\n      <td>971.0</td>\n      <td>70447.0</td>\n      <td>71418</td>\n      <td>0.013596</td>\n    </tr>\n    <tr>\n      <th>True</th>\n      <td>59.0</td>\n      <td>503.0</td>\n      <td>562</td>\n      <td>0.104982</td>\n    </tr>\n  </tbody>\n</table>\n</div>"
     },
     "metadata": {},
     "execution_count": 6
    }
   ],
   "source": [
    "blacklist = [\n",
    "    \"Tobacco\",\n",
    "    \"Sex toys\",\n",
    "    \"Plants & Flowers\",\n",
    "    \"Dating services\",\n",
    "]\n",
    "\n",
    "(\n",
    "    df[[\"default\"]]\n",
    "    .assign(\n",
    "        var=df[\"merchant_category\"].isin(blacklist),\n",
    "    )\n",
    "    .groupby(\"var\")\n",
    "    .agg(\n",
    "        default=(\"default\", \"sum\"),\n",
    "        not_default=(\"default\", func.complement),\n",
    "        count=(\"default\", \"count\"),\n",
    "        contamination=(\"default\", lambda s: s.sum() / s.shape[0]),\n",
    "    )\n",
    ")"
   ]
  },
  {
   "cell_type": "markdown",
   "id": "55c0dd53",
   "metadata": {},
   "source": [
    "This indeed looks much better than the 56 categories we would have to one-hot encode. The recall of this feature is far from ideal, but we are hopefull that along with others, it will help us predict defaults.\n",
    "Feature:\n",
    "- is_merchant_category_blacklisted\n",
    "\n",
    "---\n",
    "\n",
    "Now that we are done with exploration, we move onto putting all features together to find out whether we need to drop some or come up with new ones."
   ]
  }
 ],
 "metadata": {
  "jupytext": {
   "main_language": "python"
  },
  "kernelspec": {
   "display_name": "Python 3.8.10 64-bit ('klarna': conda)",
   "name": "python381064bitklarnacondaf238ae83b93148ae9699955d68f1389c"
  }
 },
 "nbformat": 4,
 "nbformat_minor": 5
}
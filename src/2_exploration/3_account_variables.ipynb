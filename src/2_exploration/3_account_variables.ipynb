{
 "cells": [
  {
   "cell_type": "code",
   "execution_count": 1,
   "id": "4f48e974",
   "metadata": {},
   "outputs": [],
   "source": [
    "import os\n",
    "import numpy as np\n",
    "import pandas as pd\n",
    "import plotly.io as pio\n",
    "import plotly.express as px\n",
    "import plotly.graph_objects as go\n",
    "import scipy.cluster.hierarchy as spc\n",
    "\n",
    "pio.templates.default = \"plotly_white\""
   ]
  },
  {
   "cell_type": "code",
   "execution_count": 2,
   "id": "15300915",
   "metadata": {},
   "outputs": [],
   "source": [
    "try:\n",
    "    _ = first_run\n",
    "except NameError:\n",
    "    first_run = True\n",
    "    os.chdir(os.getcwd().rsplit(\"/\", 1)[0])\n",
    "    from _aux import functions as func"
   ]
  },
  {
   "cell_type": "markdown",
   "id": "cd0e79ff",
   "metadata": {},
   "source": [
    "# Load data"
   ]
  },
  {
   "cell_type": "code",
   "execution_count": 3,
   "id": "51a5cf91",
   "metadata": {},
   "outputs": [],
   "source": [
    "default = (\n",
    "    pd.read_csv(\n",
    "        \"../data/train/X_train.csv\",\n",
    "        index_col=0,\n",
    "        usecols=[\n",
    "            \"row_id\",\n",
    "            \"account_amount_added_12_24m\",\n",
    "            \"sum_capital_paid_account_0_12m\",\n",
    "            \"sum_capital_paid_account_12_24m\",\n",
    "            \"account_incoming_debt_vs_paid_0_24m\",\n",
    "            \"num_unpaid_bills\",\n",
    "            \"sum_paid_inv_0_12m\",\n",
    "            \"max_paid_inv_0_12m\",\n",
    "            \"max_paid_inv_0_24m\",\n",
    "            \"num_active_inv\",\n",
    "            \"num_active_div_by_paid_inv_0_12m\",\n",
    "        ],\n",
    "    )\n",
    "    .join(pd.read_csv(\"../data/train/y_train.csv\", index_col=0))\n",
    "    .query(\"default == 1\")\n",
    ")\n",
    "\n",
    "not_default = (\n",
    "    pd.read_csv(\n",
    "        \"../data/train/X_train.csv\",\n",
    "        index_col=0,\n",
    "        usecols=[\n",
    "            \"row_id\",\n",
    "            \"account_amount_added_12_24m\",\n",
    "            \"sum_capital_paid_account_0_12m\",\n",
    "            \"sum_capital_paid_account_12_24m\",\n",
    "            \"account_incoming_debt_vs_paid_0_24m\",\n",
    "            \"num_unpaid_bills\",\n",
    "            \"sum_paid_inv_0_12m\",\n",
    "            \"max_paid_inv_0_12m\",\n",
    "            \"max_paid_inv_0_24m\",\n",
    "            \"num_active_inv\",\n",
    "            \"num_active_div_by_paid_inv_0_12m\",\n",
    "        ],\n",
    "    )\n",
    "    .join(pd.read_csv(\"../data/train/y_train.csv\", index_col=0))\n",
    "    .query(\"default == 0\")\n",
    ")\n",
    "\n",
    "df = (\n",
    "    pd.read_csv(\n",
    "        \"../data/train/X_train.csv\",\n",
    "        index_col=0,\n",
    "    )\n",
    "    .join(pd.read_csv(\"../data/train/y_train.csv\", index_col=0))\n",
    ")"
   ]
  },
  {
   "cell_type": "markdown",
   "id": "ac748c5a",
   "metadata": {},
   "source": [
    "## Correlation between \"account\" variables\n",
    "\n",
    "As shown in our sanity profile report, account variables have high correlation amongst themselves mainly due to overlaping lookback windows for aggregation. The first thing we must do is choose one (or some) of them to represent the group, which can be achieved by correlation clustering."
   ]
  },
  {
   "cell_type": "code",
   "execution_count": 4,
   "metadata": {},
   "outputs": [
    {
     "output_type": "display_data",
     "data": {
      "application/vnd.plotly.v1+json": {
       "config": {
        "plotlyServerURL": "https://plot.ly"
       },
       "data": [
        {
         "colorscale": [
          [
           0,
           "rgb(103,0,31)"
          ],
          [
           0.1,
           "rgb(178,24,43)"
          ],
          [
           0.2,
           "rgb(214,96,77)"
          ],
          [
           0.3,
           "rgb(244,165,130)"
          ],
          [
           0.4,
           "rgb(253,219,199)"
          ],
          [
           0.5,
           "rgb(247,247,247)"
          ],
          [
           0.6,
           "rgb(209,229,240)"
          ],
          [
           0.7,
           "rgb(146,197,222)"
          ],
          [
           0.8,
           "rgb(67,147,195)"
          ],
          [
           0.9,
           "rgb(33,102,172)"
          ],
          [
           1,
           "rgb(5,48,97)"
          ]
         ],
         "type": "heatmap",
         "x": [
          "account_amount_added_12_24m",
          "account_incoming_debt_vs_paid_0_24m",
          "max_paid_inv_0_12m",
          "max_paid_inv_0_24m",
          "num_active_div_by_paid_inv_0_12m",
          "num_active_inv",
          "num_unpaid_bills",
          "sum_capital_paid_account_0_12m",
          "sum_capital_paid_account_12_24m",
          "sum_paid_inv_0_12m",
          "default"
         ],
         "y": [
          "account_amount_added_12_24m",
          "account_incoming_debt_vs_paid_0_24m",
          "max_paid_inv_0_12m",
          "max_paid_inv_0_24m",
          "num_active_div_by_paid_inv_0_12m",
          "num_active_inv",
          "num_unpaid_bills",
          "sum_capital_paid_account_0_12m",
          "sum_capital_paid_account_12_24m",
          "sum_paid_inv_0_12m",
          "default"
         ],
         "z": [
          [
           null,
           null,
           null,
           null,
           null,
           null,
           null,
           null,
           null,
           null,
           null
          ],
          [
           -0.01772268574631797,
           null,
           null,
           null,
           null,
           null,
           null,
           null,
           null,
           null,
           null
          ],
          [
           0.08057679971856681,
           -0.0032842567077192198,
           null,
           null,
           null,
           null,
           null,
           null,
           null,
           null,
           null
          ],
          [
           0.09770550154919834,
           -0.004854386177082364,
           0.8894504863894864,
           null,
           null,
           null,
           null,
           null,
           null,
           null,
           null
          ],
          [
           0.03428942680491229,
           0.0023996757815296383,
           -0.05544841675819635,
           -0.04496392757290031,
           null,
           null,
           null,
           null,
           null,
           null,
           null
          ],
          [
           0.16874364409409026,
           0.009061270808895586,
           0.1753393480947494,
           0.16733005332597553,
           0.305914451937029,
           null,
           null,
           null,
           null,
           null,
           null
          ],
          [
           0.3981166093169005,
           -0.0008616727709874562,
           0.07967069905860673,
           0.07628521928473829,
           0.12136302416434908,
           0.4944300901418052,
           null,
           null,
           null,
           null,
           null
          ],
          [
           0.6587487686030443,
           -0.024369726331598566,
           0.09684229559762465,
           0.12271920734847847,
           0.029816409791881673,
           0.1351752690272948,
           0.33947832231948366,
           null,
           null,
           null,
           null
          ],
          [
           0.707864951639701,
           -0.020983335891083824,
           0.08584571334096117,
           0.10380397888860363,
           0.026669032516668603,
           0.16463963684248406,
           0.3336116490744655,
           0.590716717599326,
           null,
           null,
           null
          ],
          [
           0.13111761332668212,
           0.0014714242901170138,
           0.5254524137456626,
           0.48823295311674314,
           -0.06255286174719027,
           0.5694101989294712,
           0.35583115555469097,
           0.12706162197250934,
           0.13418217885474004,
           null,
           null
          ],
          [
           0.006216788799103705,
           -0.00012523154608320102,
           -0.041734607215875,
           -0.0426656491323173,
           0.1371245651139541,
           0.018779685328408166,
           0.028195802506878608,
           0.0026483757431305715,
           0.005424436670884513,
           -0.0347970922572723,
           null
          ]
         ],
         "zmax": 1,
         "zmin": -1
        }
       ],
       "layout": {
        "height": 500,
        "template": {
         "data": {
          "bar": [
           {
            "error_x": {
             "color": "#2a3f5f"
            },
            "error_y": {
             "color": "#2a3f5f"
            },
            "marker": {
             "line": {
              "color": "white",
              "width": 0.5
             }
            },
            "type": "bar"
           }
          ],
          "barpolar": [
           {
            "marker": {
             "line": {
              "color": "white",
              "width": 0.5
             }
            },
            "type": "barpolar"
           }
          ],
          "carpet": [
           {
            "aaxis": {
             "endlinecolor": "#2a3f5f",
             "gridcolor": "#C8D4E3",
             "linecolor": "#C8D4E3",
             "minorgridcolor": "#C8D4E3",
             "startlinecolor": "#2a3f5f"
            },
            "baxis": {
             "endlinecolor": "#2a3f5f",
             "gridcolor": "#C8D4E3",
             "linecolor": "#C8D4E3",
             "minorgridcolor": "#C8D4E3",
             "startlinecolor": "#2a3f5f"
            },
            "type": "carpet"
           }
          ],
          "choropleth": [
           {
            "colorbar": {
             "outlinewidth": 0,
             "ticks": ""
            },
            "type": "choropleth"
           }
          ],
          "contour": [
           {
            "colorbar": {
             "outlinewidth": 0,
             "ticks": ""
            },
            "colorscale": [
             [
              0,
              "#0d0887"
             ],
             [
              0.1111111111111111,
              "#46039f"
             ],
             [
              0.2222222222222222,
              "#7201a8"
             ],
             [
              0.3333333333333333,
              "#9c179e"
             ],
             [
              0.4444444444444444,
              "#bd3786"
             ],
             [
              0.5555555555555556,
              "#d8576b"
             ],
             [
              0.6666666666666666,
              "#ed7953"
             ],
             [
              0.7777777777777778,
              "#fb9f3a"
             ],
             [
              0.8888888888888888,
              "#fdca26"
             ],
             [
              1,
              "#f0f921"
             ]
            ],
            "type": "contour"
           }
          ],
          "contourcarpet": [
           {
            "colorbar": {
             "outlinewidth": 0,
             "ticks": ""
            },
            "type": "contourcarpet"
           }
          ],
          "heatmap": [
           {
            "colorbar": {
             "outlinewidth": 0,
             "ticks": ""
            },
            "colorscale": [
             [
              0,
              "#0d0887"
             ],
             [
              0.1111111111111111,
              "#46039f"
             ],
             [
              0.2222222222222222,
              "#7201a8"
             ],
             [
              0.3333333333333333,
              "#9c179e"
             ],
             [
              0.4444444444444444,
              "#bd3786"
             ],
             [
              0.5555555555555556,
              "#d8576b"
             ],
             [
              0.6666666666666666,
              "#ed7953"
             ],
             [
              0.7777777777777778,
              "#fb9f3a"
             ],
             [
              0.8888888888888888,
              "#fdca26"
             ],
             [
              1,
              "#f0f921"
             ]
            ],
            "type": "heatmap"
           }
          ],
          "heatmapgl": [
           {
            "colorbar": {
             "outlinewidth": 0,
             "ticks": ""
            },
            "colorscale": [
             [
              0,
              "#0d0887"
             ],
             [
              0.1111111111111111,
              "#46039f"
             ],
             [
              0.2222222222222222,
              "#7201a8"
             ],
             [
              0.3333333333333333,
              "#9c179e"
             ],
             [
              0.4444444444444444,
              "#bd3786"
             ],
             [
              0.5555555555555556,
              "#d8576b"
             ],
             [
              0.6666666666666666,
              "#ed7953"
             ],
             [
              0.7777777777777778,
              "#fb9f3a"
             ],
             [
              0.8888888888888888,
              "#fdca26"
             ],
             [
              1,
              "#f0f921"
             ]
            ],
            "type": "heatmapgl"
           }
          ],
          "histogram": [
           {
            "marker": {
             "colorbar": {
              "outlinewidth": 0,
              "ticks": ""
             }
            },
            "type": "histogram"
           }
          ],
          "histogram2d": [
           {
            "colorbar": {
             "outlinewidth": 0,
             "ticks": ""
            },
            "colorscale": [
             [
              0,
              "#0d0887"
             ],
             [
              0.1111111111111111,
              "#46039f"
             ],
             [
              0.2222222222222222,
              "#7201a8"
             ],
             [
              0.3333333333333333,
              "#9c179e"
             ],
             [
              0.4444444444444444,
              "#bd3786"
             ],
             [
              0.5555555555555556,
              "#d8576b"
             ],
             [
              0.6666666666666666,
              "#ed7953"
             ],
             [
              0.7777777777777778,
              "#fb9f3a"
             ],
             [
              0.8888888888888888,
              "#fdca26"
             ],
             [
              1,
              "#f0f921"
             ]
            ],
            "type": "histogram2d"
           }
          ],
          "histogram2dcontour": [
           {
            "colorbar": {
             "outlinewidth": 0,
             "ticks": ""
            },
            "colorscale": [
             [
              0,
              "#0d0887"
             ],
             [
              0.1111111111111111,
              "#46039f"
             ],
             [
              0.2222222222222222,
              "#7201a8"
             ],
             [
              0.3333333333333333,
              "#9c179e"
             ],
             [
              0.4444444444444444,
              "#bd3786"
             ],
             [
              0.5555555555555556,
              "#d8576b"
             ],
             [
              0.6666666666666666,
              "#ed7953"
             ],
             [
              0.7777777777777778,
              "#fb9f3a"
             ],
             [
              0.8888888888888888,
              "#fdca26"
             ],
             [
              1,
              "#f0f921"
             ]
            ],
            "type": "histogram2dcontour"
           }
          ],
          "mesh3d": [
           {
            "colorbar": {
             "outlinewidth": 0,
             "ticks": ""
            },
            "type": "mesh3d"
           }
          ],
          "parcoords": [
           {
            "line": {
             "colorbar": {
              "outlinewidth": 0,
              "ticks": ""
             }
            },
            "type": "parcoords"
           }
          ],
          "pie": [
           {
            "automargin": true,
            "type": "pie"
           }
          ],
          "scatter": [
           {
            "marker": {
             "colorbar": {
              "outlinewidth": 0,
              "ticks": ""
             }
            },
            "type": "scatter"
           }
          ],
          "scatter3d": [
           {
            "line": {
             "colorbar": {
              "outlinewidth": 0,
              "ticks": ""
             }
            },
            "marker": {
             "colorbar": {
              "outlinewidth": 0,
              "ticks": ""
             }
            },
            "type": "scatter3d"
           }
          ],
          "scattercarpet": [
           {
            "marker": {
             "colorbar": {
              "outlinewidth": 0,
              "ticks": ""
             }
            },
            "type": "scattercarpet"
           }
          ],
          "scattergeo": [
           {
            "marker": {
             "colorbar": {
              "outlinewidth": 0,
              "ticks": ""
             }
            },
            "type": "scattergeo"
           }
          ],
          "scattergl": [
           {
            "marker": {
             "colorbar": {
              "outlinewidth": 0,
              "ticks": ""
             }
            },
            "type": "scattergl"
           }
          ],
          "scattermapbox": [
           {
            "marker": {
             "colorbar": {
              "outlinewidth": 0,
              "ticks": ""
             }
            },
            "type": "scattermapbox"
           }
          ],
          "scatterpolar": [
           {
            "marker": {
             "colorbar": {
              "outlinewidth": 0,
              "ticks": ""
             }
            },
            "type": "scatterpolar"
           }
          ],
          "scatterpolargl": [
           {
            "marker": {
             "colorbar": {
              "outlinewidth": 0,
              "ticks": ""
             }
            },
            "type": "scatterpolargl"
           }
          ],
          "scatterternary": [
           {
            "marker": {
             "colorbar": {
              "outlinewidth": 0,
              "ticks": ""
             }
            },
            "type": "scatterternary"
           }
          ],
          "surface": [
           {
            "colorbar": {
             "outlinewidth": 0,
             "ticks": ""
            },
            "colorscale": [
             [
              0,
              "#0d0887"
             ],
             [
              0.1111111111111111,
              "#46039f"
             ],
             [
              0.2222222222222222,
              "#7201a8"
             ],
             [
              0.3333333333333333,
              "#9c179e"
             ],
             [
              0.4444444444444444,
              "#bd3786"
             ],
             [
              0.5555555555555556,
              "#d8576b"
             ],
             [
              0.6666666666666666,
              "#ed7953"
             ],
             [
              0.7777777777777778,
              "#fb9f3a"
             ],
             [
              0.8888888888888888,
              "#fdca26"
             ],
             [
              1,
              "#f0f921"
             ]
            ],
            "type": "surface"
           }
          ],
          "table": [
           {
            "cells": {
             "fill": {
              "color": "#EBF0F8"
             },
             "line": {
              "color": "white"
             }
            },
            "header": {
             "fill": {
              "color": "#C8D4E3"
             },
             "line": {
              "color": "white"
             }
            },
            "type": "table"
           }
          ]
         },
         "layout": {
          "annotationdefaults": {
           "arrowcolor": "#2a3f5f",
           "arrowhead": 0,
           "arrowwidth": 1
          },
          "autotypenumbers": "strict",
          "coloraxis": {
           "colorbar": {
            "outlinewidth": 0,
            "ticks": ""
           }
          },
          "colorscale": {
           "diverging": [
            [
             0,
             "#8e0152"
            ],
            [
             0.1,
             "#c51b7d"
            ],
            [
             0.2,
             "#de77ae"
            ],
            [
             0.3,
             "#f1b6da"
            ],
            [
             0.4,
             "#fde0ef"
            ],
            [
             0.5,
             "#f7f7f7"
            ],
            [
             0.6,
             "#e6f5d0"
            ],
            [
             0.7,
             "#b8e186"
            ],
            [
             0.8,
             "#7fbc41"
            ],
            [
             0.9,
             "#4d9221"
            ],
            [
             1,
             "#276419"
            ]
           ],
           "sequential": [
            [
             0,
             "#0d0887"
            ],
            [
             0.1111111111111111,
             "#46039f"
            ],
            [
             0.2222222222222222,
             "#7201a8"
            ],
            [
             0.3333333333333333,
             "#9c179e"
            ],
            [
             0.4444444444444444,
             "#bd3786"
            ],
            [
             0.5555555555555556,
             "#d8576b"
            ],
            [
             0.6666666666666666,
             "#ed7953"
            ],
            [
             0.7777777777777778,
             "#fb9f3a"
            ],
            [
             0.8888888888888888,
             "#fdca26"
            ],
            [
             1,
             "#f0f921"
            ]
           ],
           "sequentialminus": [
            [
             0,
             "#0d0887"
            ],
            [
             0.1111111111111111,
             "#46039f"
            ],
            [
             0.2222222222222222,
             "#7201a8"
            ],
            [
             0.3333333333333333,
             "#9c179e"
            ],
            [
             0.4444444444444444,
             "#bd3786"
            ],
            [
             0.5555555555555556,
             "#d8576b"
            ],
            [
             0.6666666666666666,
             "#ed7953"
            ],
            [
             0.7777777777777778,
             "#fb9f3a"
            ],
            [
             0.8888888888888888,
             "#fdca26"
            ],
            [
             1,
             "#f0f921"
            ]
           ]
          },
          "colorway": [
           "#636efa",
           "#EF553B",
           "#00cc96",
           "#ab63fa",
           "#FFA15A",
           "#19d3f3",
           "#FF6692",
           "#B6E880",
           "#FF97FF",
           "#FECB52"
          ],
          "font": {
           "color": "#2a3f5f"
          },
          "geo": {
           "bgcolor": "white",
           "lakecolor": "white",
           "landcolor": "white",
           "showlakes": true,
           "showland": true,
           "subunitcolor": "#C8D4E3"
          },
          "hoverlabel": {
           "align": "left"
          },
          "hovermode": "closest",
          "mapbox": {
           "style": "light"
          },
          "paper_bgcolor": "white",
          "plot_bgcolor": "white",
          "polar": {
           "angularaxis": {
            "gridcolor": "#EBF0F8",
            "linecolor": "#EBF0F8",
            "ticks": ""
           },
           "bgcolor": "white",
           "radialaxis": {
            "gridcolor": "#EBF0F8",
            "linecolor": "#EBF0F8",
            "ticks": ""
           }
          },
          "scene": {
           "xaxis": {
            "backgroundcolor": "white",
            "gridcolor": "#DFE8F3",
            "gridwidth": 2,
            "linecolor": "#EBF0F8",
            "showbackground": true,
            "ticks": "",
            "zerolinecolor": "#EBF0F8"
           },
           "yaxis": {
            "backgroundcolor": "white",
            "gridcolor": "#DFE8F3",
            "gridwidth": 2,
            "linecolor": "#EBF0F8",
            "showbackground": true,
            "ticks": "",
            "zerolinecolor": "#EBF0F8"
           },
           "zaxis": {
            "backgroundcolor": "white",
            "gridcolor": "#DFE8F3",
            "gridwidth": 2,
            "linecolor": "#EBF0F8",
            "showbackground": true,
            "ticks": "",
            "zerolinecolor": "#EBF0F8"
           }
          },
          "shapedefaults": {
           "line": {
            "color": "#2a3f5f"
           }
          },
          "ternary": {
           "aaxis": {
            "gridcolor": "#DFE8F3",
            "linecolor": "#A2B1C6",
            "ticks": ""
           },
           "baxis": {
            "gridcolor": "#DFE8F3",
            "linecolor": "#A2B1C6",
            "ticks": ""
           },
           "bgcolor": "white",
           "caxis": {
            "gridcolor": "#DFE8F3",
            "linecolor": "#A2B1C6",
            "ticks": ""
           }
          },
          "title": {
           "x": 0.05
          },
          "xaxis": {
           "automargin": true,
           "gridcolor": "#EBF0F8",
           "linecolor": "#EBF0F8",
           "ticks": "",
           "title": {
            "standoff": 15
           },
           "zerolinecolor": "#EBF0F8",
           "zerolinewidth": 2
          },
          "yaxis": {
           "automargin": true,
           "gridcolor": "#EBF0F8",
           "linecolor": "#EBF0F8",
           "ticks": "",
           "title": {
            "standoff": 15
           },
           "zerolinecolor": "#EBF0F8",
           "zerolinewidth": 2
          }
         }
        },
        "title": {
         "text": "Correlation between 'account' variables"
        },
        "width": 1000,
        "xaxis": {
         "showgrid": false
        },
        "yaxis": {
         "autorange": "reversed",
         "showgrid": false
        }
       }
      }
     },
     "metadata": {}
    }
   ],
   "source": [
    "corr = pd.concat([default, not_default]).corr()\n",
    "mask = np.zeros_like(corr, dtype=bool)\n",
    "mask[np.triu_indices_from(mask)] = True\n",
    "\n",
    "fig = go.Figure()\n",
    "\n",
    "fig.add_trace(\n",
    "    go.Heatmap(\n",
    "        z=corr.mask(mask),\n",
    "        x=corr.columns,\n",
    "        y=corr.columns,\n",
    "        colorscale=px.colors.diverging.RdBu,\n",
    "        zmin=-1,\n",
    "        zmax=1,\n",
    "    )\n",
    ")\n",
    "\n",
    "fig.update_layout(\n",
    "    title=\"Correlation between 'account' variables\",\n",
    "    yaxis_autorange=\"reversed\",\n",
    "    xaxis_showgrid=False,\n",
    "    yaxis_showgrid=False,\n",
    "    width=1000,\n",
    "    height=500,\n",
    ")\n",
    "\n",
    "# fig.update_traces(opacity=0.6)\n",
    "fig.show()"
   ]
  },
  {
   "cell_type": "code",
   "execution_count": 5,
   "metadata": {},
   "outputs": [
    {
     "output_type": "execute_result",
     "data": {
      "text/plain": [
       "                                     corr_with_label  cluster\n",
       "account_amount_added_12_24m                 0.006217        1\n",
       "sum_capital_paid_account_12_24m             0.005424        1\n",
       "sum_capital_paid_account_0_12m              0.002648        1\n",
       "num_unpaid_bills                            0.028196        2\n",
       "num_active_inv                              0.018780        2\n",
       "sum_paid_inv_0_12m                         -0.034797        2\n",
       "max_paid_inv_0_12m                         -0.041735        2\n",
       "max_paid_inv_0_24m                         -0.042666        2\n",
       "num_active_div_by_paid_inv_0_12m            0.137125        3\n",
       "account_incoming_debt_vs_paid_0_24m        -0.000125        5"
      ],
      "text/html": "<div>\n<style scoped>\n    .dataframe tbody tr th:only-of-type {\n        vertical-align: middle;\n    }\n\n    .dataframe tbody tr th {\n        vertical-align: top;\n    }\n\n    .dataframe thead th {\n        text-align: right;\n    }\n</style>\n<table border=\"1\" class=\"dataframe\">\n  <thead>\n    <tr style=\"text-align: right;\">\n      <th></th>\n      <th>corr_with_label</th>\n      <th>cluster</th>\n    </tr>\n  </thead>\n  <tbody>\n    <tr>\n      <th>account_amount_added_12_24m</th>\n      <td>0.006217</td>\n      <td>1</td>\n    </tr>\n    <tr>\n      <th>sum_capital_paid_account_12_24m</th>\n      <td>0.005424</td>\n      <td>1</td>\n    </tr>\n    <tr>\n      <th>sum_capital_paid_account_0_12m</th>\n      <td>0.002648</td>\n      <td>1</td>\n    </tr>\n    <tr>\n      <th>num_unpaid_bills</th>\n      <td>0.028196</td>\n      <td>2</td>\n    </tr>\n    <tr>\n      <th>num_active_inv</th>\n      <td>0.018780</td>\n      <td>2</td>\n    </tr>\n    <tr>\n      <th>sum_paid_inv_0_12m</th>\n      <td>-0.034797</td>\n      <td>2</td>\n    </tr>\n    <tr>\n      <th>max_paid_inv_0_12m</th>\n      <td>-0.041735</td>\n      <td>2</td>\n    </tr>\n    <tr>\n      <th>max_paid_inv_0_24m</th>\n      <td>-0.042666</td>\n      <td>2</td>\n    </tr>\n    <tr>\n      <th>num_active_div_by_paid_inv_0_12m</th>\n      <td>0.137125</td>\n      <td>3</td>\n    </tr>\n    <tr>\n      <th>account_incoming_debt_vs_paid_0_24m</th>\n      <td>-0.000125</td>\n      <td>5</td>\n    </tr>\n  </tbody>\n</table>\n</div>"
     },
     "metadata": {},
     "execution_count": 5
    }
   ],
   "source": [
    "pdist = spc.distance.pdist(corr)\n",
    "linkage = spc.linkage(pdist, method=\"single\")\n",
    "idx = spc.fcluster(linkage, 0.5 * pdist.max(), \"distance\")\n",
    "\n",
    "columns = [default.columns.tolist()[i] for i in list((np.argsort(idx)))]\n",
    "clusterd_corr = pd.concat([default, not_default]).reindex(columns, axis=1).corr()\n",
    "\n",
    "mask = np.zeros_like(clusterd_corr, dtype=bool)\n",
    "mask[np.triu_indices_from(mask)] = True\n",
    "\n",
    "corr[\"default\"].to_frame(name=\"corr_with_label\").assign(cluster=idx).drop(\n",
    "    \"default\"\n",
    ").sort_values([\"cluster\", \"corr_with_label\"], ascending=[True, False])"
   ]
  },
  {
   "source": [
    "Despite our knowing that correlation is not equal to causation, lack of proper time for exploration leads us to the not so ideal path of using correlation to exclude variables. At this time. we choose to analyze only the variable \"num_active_div_by_paid_inv_0_12m\" at the cost of probably losing some good insights.\n",
    "\n",
    "## 1. \"num_active_div_by_paid_inv_0_12m\"\n",
    "\n",
    "This variable has 22.8% of missing values and 48.7% of zero values, on top of some hard-hitting outliers.\n",
    "One behaviour this variable describes is whether the customer has had a good experience with us and has come back for more. On the flip side, users that have not finished paying their first invoice yet (in a 12 month span) are attributed NaN simple because division by zero is undefined. Hence, a good customer will get NaN on their first purchase, but also an ill-intentioned customer that executes multiple orders with no intention to pay them. Therefore, we choose to fill missing values with the number of active invoices so that the latter can become visible through this variable.\n",
    "\n",
    "Next, we look at how defaults are distributed across the categories.\n"
   ],
   "cell_type": "markdown",
   "metadata": {}
  },
  {
   "cell_type": "code",
   "execution_count": 20,
   "metadata": {},
   "outputs": [
    {
     "output_type": "execute_result",
     "data": {
      "text/plain": [
       "       num_active_div_by_paid_inv_0_12m\n",
       "count                      71980.000000\n",
       "mean                           0.112705\n",
       "std                            0.310636\n",
       "min                            0.000000\n",
       "25%                            0.000000\n",
       "35%                            0.000000\n",
       "45.0%                          0.000000\n",
       "50%                            0.000000\n",
       "55.0%                          0.000000\n",
       "65.0%                          0.000000\n",
       "75.0%                          0.066667\n",
       "85.0%                          0.200000\n",
       "95.0%                          1.000000\n",
       "99%                            1.000000\n",
       "max                           10.000000"
      ],
      "text/html": "<div>\n<style scoped>\n    .dataframe tbody tr th:only-of-type {\n        vertical-align: middle;\n    }\n\n    .dataframe tbody tr th {\n        vertical-align: top;\n    }\n\n    .dataframe thead th {\n        text-align: right;\n    }\n</style>\n<table border=\"1\" class=\"dataframe\">\n  <thead>\n    <tr style=\"text-align: right;\">\n      <th></th>\n      <th>num_active_div_by_paid_inv_0_12m</th>\n    </tr>\n  </thead>\n  <tbody>\n    <tr>\n      <th>count</th>\n      <td>71980.000000</td>\n    </tr>\n    <tr>\n      <th>mean</th>\n      <td>0.112705</td>\n    </tr>\n    <tr>\n      <th>std</th>\n      <td>0.310636</td>\n    </tr>\n    <tr>\n      <th>min</th>\n      <td>0.000000</td>\n    </tr>\n    <tr>\n      <th>25%</th>\n      <td>0.000000</td>\n    </tr>\n    <tr>\n      <th>35%</th>\n      <td>0.000000</td>\n    </tr>\n    <tr>\n      <th>45.0%</th>\n      <td>0.000000</td>\n    </tr>\n    <tr>\n      <th>50%</th>\n      <td>0.000000</td>\n    </tr>\n    <tr>\n      <th>55.0%</th>\n      <td>0.000000</td>\n    </tr>\n    <tr>\n      <th>65.0%</th>\n      <td>0.000000</td>\n    </tr>\n    <tr>\n      <th>75.0%</th>\n      <td>0.066667</td>\n    </tr>\n    <tr>\n      <th>85.0%</th>\n      <td>0.200000</td>\n    </tr>\n    <tr>\n      <th>95.0%</th>\n      <td>1.000000</td>\n    </tr>\n    <tr>\n      <th>99%</th>\n      <td>1.000000</td>\n    </tr>\n    <tr>\n      <th>max</th>\n      <td>10.000000</td>\n    </tr>\n  </tbody>\n</table>\n</div>"
     },
     "metadata": {},
     "execution_count": 20
    }
   ],
   "source": [
    "df[[\"num_active_div_by_paid_inv_0_12m\"]].assign(\n",
    "    num_active_div_by_paid_inv_0_12m=df[\"num_active_div_by_paid_inv_0_12m\"].combine_first(df[\"num_active_inv\"])\n",
    ").describe(np.append(np.arange(.25, 1., .1), np.array([.99])))"
   ]
  },
  {
   "cell_type": "code",
   "execution_count": 44,
   "metadata": {},
   "outputs": [
    {
     "output_type": "stream",
     "name": "stdout",
     "text": [
      "Using 9 degrees of freedom\nReject null hypothesis with 1129.173122989313 > 16.91897760462045\n"
     ]
    },
    {
     "output_type": "execute_result",
     "data": {
      "text/plain": [
       "          default  not_default  count  expected_default  expected_not_default  \\\n",
       "bins_var                                                                        \n",
       "(-1, 0]       283        34788  35071        367.493464          34703.506536   \n",
       "(0, 1]        245        19749  19994        209.508264          19784.491736   \n",
       "(1, 2]         29          362    391          4.097116            386.902884   \n",
       "(2, 3]         12           47     59          0.618235             58.381765   \n",
       "(3, 4]          3            8     11          0.115264             10.884736   \n",
       "(4, 5]          5            4      9          0.094307              8.905693   \n",
       "(5, 6]          1            2      3          0.031436              2.968564   \n",
       "(6, 7]          1            0      1          0.010479              0.989521   \n",
       "(7, 8]          1            0      1          0.010479              0.989521   \n",
       "(8, 9]          2            0      2          0.020957              1.979043   \n",
       "\n",
       "          chi_default  chi_not_default  \n",
       "bins_var                                \n",
       "(-1, 0]     19.426592         0.205718  \n",
       "(0, 1]       6.012476         0.063669  \n",
       "(1, 2]     151.363469         1.602866  \n",
       "(2, 3]     209.539430         2.218922  \n",
       "(3, 4]      72.196801         0.764529  \n",
       "(4, 5]     255.185945         2.702297  \n",
       "(5, 6]      29.842432         0.316017  \n",
       "(6, 7]      93.443468         0.989521  \n",
       "(7, 8]      93.443468         0.989521  \n",
       "(8, 9]     186.886936         1.979043  "
      ],
      "text/html": "<div>\n<style scoped>\n    .dataframe tbody tr th:only-of-type {\n        vertical-align: middle;\n    }\n\n    .dataframe tbody tr th {\n        vertical-align: top;\n    }\n\n    .dataframe thead th {\n        text-align: right;\n    }\n</style>\n<table border=\"1\" class=\"dataframe\">\n  <thead>\n    <tr style=\"text-align: right;\">\n      <th></th>\n      <th>default</th>\n      <th>not_default</th>\n      <th>count</th>\n      <th>expected_default</th>\n      <th>expected_not_default</th>\n      <th>chi_default</th>\n      <th>chi_not_default</th>\n    </tr>\n    <tr>\n      <th>bins_var</th>\n      <th></th>\n      <th></th>\n      <th></th>\n      <th></th>\n      <th></th>\n      <th></th>\n      <th></th>\n    </tr>\n  </thead>\n  <tbody>\n    <tr>\n      <th>(-1, 0]</th>\n      <td>283</td>\n      <td>34788</td>\n      <td>35071</td>\n      <td>367.493464</td>\n      <td>34703.506536</td>\n      <td>19.426592</td>\n      <td>0.205718</td>\n    </tr>\n    <tr>\n      <th>(0, 1]</th>\n      <td>245</td>\n      <td>19749</td>\n      <td>19994</td>\n      <td>209.508264</td>\n      <td>19784.491736</td>\n      <td>6.012476</td>\n      <td>0.063669</td>\n    </tr>\n    <tr>\n      <th>(1, 2]</th>\n      <td>29</td>\n      <td>362</td>\n      <td>391</td>\n      <td>4.097116</td>\n      <td>386.902884</td>\n      <td>151.363469</td>\n      <td>1.602866</td>\n    </tr>\n    <tr>\n      <th>(2, 3]</th>\n      <td>12</td>\n      <td>47</td>\n      <td>59</td>\n      <td>0.618235</td>\n      <td>58.381765</td>\n      <td>209.539430</td>\n      <td>2.218922</td>\n    </tr>\n    <tr>\n      <th>(3, 4]</th>\n      <td>3</td>\n      <td>8</td>\n      <td>11</td>\n      <td>0.115264</td>\n      <td>10.884736</td>\n      <td>72.196801</td>\n      <td>0.764529</td>\n    </tr>\n    <tr>\n      <th>(4, 5]</th>\n      <td>5</td>\n      <td>4</td>\n      <td>9</td>\n      <td>0.094307</td>\n      <td>8.905693</td>\n      <td>255.185945</td>\n      <td>2.702297</td>\n    </tr>\n    <tr>\n      <th>(5, 6]</th>\n      <td>1</td>\n      <td>2</td>\n      <td>3</td>\n      <td>0.031436</td>\n      <td>2.968564</td>\n      <td>29.842432</td>\n      <td>0.316017</td>\n    </tr>\n    <tr>\n      <th>(6, 7]</th>\n      <td>1</td>\n      <td>0</td>\n      <td>1</td>\n      <td>0.010479</td>\n      <td>0.989521</td>\n      <td>93.443468</td>\n      <td>0.989521</td>\n    </tr>\n    <tr>\n      <th>(7, 8]</th>\n      <td>1</td>\n      <td>0</td>\n      <td>1</td>\n      <td>0.010479</td>\n      <td>0.989521</td>\n      <td>93.443468</td>\n      <td>0.989521</td>\n    </tr>\n    <tr>\n      <th>(8, 9]</th>\n      <td>2</td>\n      <td>0</td>\n      <td>2</td>\n      <td>0.020957</td>\n      <td>1.979043</td>\n      <td>186.886936</td>\n      <td>1.979043</td>\n    </tr>\n  </tbody>\n</table>\n</div>"
     },
     "metadata": {},
     "execution_count": 44
    }
   ],
   "source": [
    "_, var_profile = func.test_k_prop(\n",
    "    df[[\"num_active_div_by_paid_inv_0_12m\", \"default\"]].assign(\n",
    "        num_active_div_by_paid_inv_0_12m=df[\"num_active_div_by_paid_inv_0_12m\"].combine_first(df[\"num_active_inv\"]),\n",
    "        bins_var=pd.cut(df[\"num_active_div_by_paid_inv_0_12m\"], range(-1, 10))\n",
    "    )\n",
    "    .groupby(\"bins_var\")[\"default\"]\n",
    "    .agg([\"sum\", \"count\"])\n",
    "    .assign(\n",
    "        default=lambda df: df[\"sum\"], not_default=lambda df: df[\"count\"] - df[\"sum\"]\n",
    "    )[[\"default\", \"not_default\", \"count\"]]\n",
    "    .transform(lambda s: s.astype(int))\n",
    ")\n",
    "\n",
    "var_profile"
   ]
  },
  {
   "cell_type": "code",
   "execution_count": 55,
   "metadata": {},
   "outputs": [
    {
     "output_type": "display_data",
     "data": {
      "application/vnd.plotly.v1+json": {
       "config": {
        "plotlyServerURL": "https://plot.ly"
       },
       "data": [
        {
         "name": "not_default",
         "opacity": 0.75,
         "type": "bar",
         "x": [
          0,
          1,
          2,
          3,
          4,
          5,
          6,
          7,
          8,
          9
         ],
         "y": [
          0.9919306549570871,
          0.9877463238971691,
          0.9258312020460358,
          0.7966101694915254,
          0.7272727272727273,
          0.4444444444444444,
          0.6666666666666666,
          0,
          0,
          0
         ]
        },
        {
         "name": "default",
         "opacity": 0.75,
         "type": "bar",
         "x": [
          0,
          1,
          2,
          3,
          4,
          5,
          6,
          7,
          8,
          9
         ],
         "y": [
          0.008069345042912948,
          0.01225367610283085,
          0.0741687979539642,
          0.2033898305084746,
          0.2727272727272727,
          0.5555555555555556,
          0.3333333333333333,
          1,
          1,
          1
         ]
        }
       ],
       "layout": {
        "barmode": "relative",
        "template": {
         "data": {
          "bar": [
           {
            "error_x": {
             "color": "#2a3f5f"
            },
            "error_y": {
             "color": "#2a3f5f"
            },
            "marker": {
             "line": {
              "color": "white",
              "width": 0.5
             }
            },
            "type": "bar"
           }
          ],
          "barpolar": [
           {
            "marker": {
             "line": {
              "color": "white",
              "width": 0.5
             }
            },
            "type": "barpolar"
           }
          ],
          "carpet": [
           {
            "aaxis": {
             "endlinecolor": "#2a3f5f",
             "gridcolor": "#C8D4E3",
             "linecolor": "#C8D4E3",
             "minorgridcolor": "#C8D4E3",
             "startlinecolor": "#2a3f5f"
            },
            "baxis": {
             "endlinecolor": "#2a3f5f",
             "gridcolor": "#C8D4E3",
             "linecolor": "#C8D4E3",
             "minorgridcolor": "#C8D4E3",
             "startlinecolor": "#2a3f5f"
            },
            "type": "carpet"
           }
          ],
          "choropleth": [
           {
            "colorbar": {
             "outlinewidth": 0,
             "ticks": ""
            },
            "type": "choropleth"
           }
          ],
          "contour": [
           {
            "colorbar": {
             "outlinewidth": 0,
             "ticks": ""
            },
            "colorscale": [
             [
              0,
              "#0d0887"
             ],
             [
              0.1111111111111111,
              "#46039f"
             ],
             [
              0.2222222222222222,
              "#7201a8"
             ],
             [
              0.3333333333333333,
              "#9c179e"
             ],
             [
              0.4444444444444444,
              "#bd3786"
             ],
             [
              0.5555555555555556,
              "#d8576b"
             ],
             [
              0.6666666666666666,
              "#ed7953"
             ],
             [
              0.7777777777777778,
              "#fb9f3a"
             ],
             [
              0.8888888888888888,
              "#fdca26"
             ],
             [
              1,
              "#f0f921"
             ]
            ],
            "type": "contour"
           }
          ],
          "contourcarpet": [
           {
            "colorbar": {
             "outlinewidth": 0,
             "ticks": ""
            },
            "type": "contourcarpet"
           }
          ],
          "heatmap": [
           {
            "colorbar": {
             "outlinewidth": 0,
             "ticks": ""
            },
            "colorscale": [
             [
              0,
              "#0d0887"
             ],
             [
              0.1111111111111111,
              "#46039f"
             ],
             [
              0.2222222222222222,
              "#7201a8"
             ],
             [
              0.3333333333333333,
              "#9c179e"
             ],
             [
              0.4444444444444444,
              "#bd3786"
             ],
             [
              0.5555555555555556,
              "#d8576b"
             ],
             [
              0.6666666666666666,
              "#ed7953"
             ],
             [
              0.7777777777777778,
              "#fb9f3a"
             ],
             [
              0.8888888888888888,
              "#fdca26"
             ],
             [
              1,
              "#f0f921"
             ]
            ],
            "type": "heatmap"
           }
          ],
          "heatmapgl": [
           {
            "colorbar": {
             "outlinewidth": 0,
             "ticks": ""
            },
            "colorscale": [
             [
              0,
              "#0d0887"
             ],
             [
              0.1111111111111111,
              "#46039f"
             ],
             [
              0.2222222222222222,
              "#7201a8"
             ],
             [
              0.3333333333333333,
              "#9c179e"
             ],
             [
              0.4444444444444444,
              "#bd3786"
             ],
             [
              0.5555555555555556,
              "#d8576b"
             ],
             [
              0.6666666666666666,
              "#ed7953"
             ],
             [
              0.7777777777777778,
              "#fb9f3a"
             ],
             [
              0.8888888888888888,
              "#fdca26"
             ],
             [
              1,
              "#f0f921"
             ]
            ],
            "type": "heatmapgl"
           }
          ],
          "histogram": [
           {
            "marker": {
             "colorbar": {
              "outlinewidth": 0,
              "ticks": ""
             }
            },
            "type": "histogram"
           }
          ],
          "histogram2d": [
           {
            "colorbar": {
             "outlinewidth": 0,
             "ticks": ""
            },
            "colorscale": [
             [
              0,
              "#0d0887"
             ],
             [
              0.1111111111111111,
              "#46039f"
             ],
             [
              0.2222222222222222,
              "#7201a8"
             ],
             [
              0.3333333333333333,
              "#9c179e"
             ],
             [
              0.4444444444444444,
              "#bd3786"
             ],
             [
              0.5555555555555556,
              "#d8576b"
             ],
             [
              0.6666666666666666,
              "#ed7953"
             ],
             [
              0.7777777777777778,
              "#fb9f3a"
             ],
             [
              0.8888888888888888,
              "#fdca26"
             ],
             [
              1,
              "#f0f921"
             ]
            ],
            "type": "histogram2d"
           }
          ],
          "histogram2dcontour": [
           {
            "colorbar": {
             "outlinewidth": 0,
             "ticks": ""
            },
            "colorscale": [
             [
              0,
              "#0d0887"
             ],
             [
              0.1111111111111111,
              "#46039f"
             ],
             [
              0.2222222222222222,
              "#7201a8"
             ],
             [
              0.3333333333333333,
              "#9c179e"
             ],
             [
              0.4444444444444444,
              "#bd3786"
             ],
             [
              0.5555555555555556,
              "#d8576b"
             ],
             [
              0.6666666666666666,
              "#ed7953"
             ],
             [
              0.7777777777777778,
              "#fb9f3a"
             ],
             [
              0.8888888888888888,
              "#fdca26"
             ],
             [
              1,
              "#f0f921"
             ]
            ],
            "type": "histogram2dcontour"
           }
          ],
          "mesh3d": [
           {
            "colorbar": {
             "outlinewidth": 0,
             "ticks": ""
            },
            "type": "mesh3d"
           }
          ],
          "parcoords": [
           {
            "line": {
             "colorbar": {
              "outlinewidth": 0,
              "ticks": ""
             }
            },
            "type": "parcoords"
           }
          ],
          "pie": [
           {
            "automargin": true,
            "type": "pie"
           }
          ],
          "scatter": [
           {
            "marker": {
             "colorbar": {
              "outlinewidth": 0,
              "ticks": ""
             }
            },
            "type": "scatter"
           }
          ],
          "scatter3d": [
           {
            "line": {
             "colorbar": {
              "outlinewidth": 0,
              "ticks": ""
             }
            },
            "marker": {
             "colorbar": {
              "outlinewidth": 0,
              "ticks": ""
             }
            },
            "type": "scatter3d"
           }
          ],
          "scattercarpet": [
           {
            "marker": {
             "colorbar": {
              "outlinewidth": 0,
              "ticks": ""
             }
            },
            "type": "scattercarpet"
           }
          ],
          "scattergeo": [
           {
            "marker": {
             "colorbar": {
              "outlinewidth": 0,
              "ticks": ""
             }
            },
            "type": "scattergeo"
           }
          ],
          "scattergl": [
           {
            "marker": {
             "colorbar": {
              "outlinewidth": 0,
              "ticks": ""
             }
            },
            "type": "scattergl"
           }
          ],
          "scattermapbox": [
           {
            "marker": {
             "colorbar": {
              "outlinewidth": 0,
              "ticks": ""
             }
            },
            "type": "scattermapbox"
           }
          ],
          "scatterpolar": [
           {
            "marker": {
             "colorbar": {
              "outlinewidth": 0,
              "ticks": ""
             }
            },
            "type": "scatterpolar"
           }
          ],
          "scatterpolargl": [
           {
            "marker": {
             "colorbar": {
              "outlinewidth": 0,
              "ticks": ""
             }
            },
            "type": "scatterpolargl"
           }
          ],
          "scatterternary": [
           {
            "marker": {
             "colorbar": {
              "outlinewidth": 0,
              "ticks": ""
             }
            },
            "type": "scatterternary"
           }
          ],
          "surface": [
           {
            "colorbar": {
             "outlinewidth": 0,
             "ticks": ""
            },
            "colorscale": [
             [
              0,
              "#0d0887"
             ],
             [
              0.1111111111111111,
              "#46039f"
             ],
             [
              0.2222222222222222,
              "#7201a8"
             ],
             [
              0.3333333333333333,
              "#9c179e"
             ],
             [
              0.4444444444444444,
              "#bd3786"
             ],
             [
              0.5555555555555556,
              "#d8576b"
             ],
             [
              0.6666666666666666,
              "#ed7953"
             ],
             [
              0.7777777777777778,
              "#fb9f3a"
             ],
             [
              0.8888888888888888,
              "#fdca26"
             ],
             [
              1,
              "#f0f921"
             ]
            ],
            "type": "surface"
           }
          ],
          "table": [
           {
            "cells": {
             "fill": {
              "color": "#EBF0F8"
             },
             "line": {
              "color": "white"
             }
            },
            "header": {
             "fill": {
              "color": "#C8D4E3"
             },
             "line": {
              "color": "white"
             }
            },
            "type": "table"
           }
          ]
         },
         "layout": {
          "annotationdefaults": {
           "arrowcolor": "#2a3f5f",
           "arrowhead": 0,
           "arrowwidth": 1
          },
          "autotypenumbers": "strict",
          "coloraxis": {
           "colorbar": {
            "outlinewidth": 0,
            "ticks": ""
           }
          },
          "colorscale": {
           "diverging": [
            [
             0,
             "#8e0152"
            ],
            [
             0.1,
             "#c51b7d"
            ],
            [
             0.2,
             "#de77ae"
            ],
            [
             0.3,
             "#f1b6da"
            ],
            [
             0.4,
             "#fde0ef"
            ],
            [
             0.5,
             "#f7f7f7"
            ],
            [
             0.6,
             "#e6f5d0"
            ],
            [
             0.7,
             "#b8e186"
            ],
            [
             0.8,
             "#7fbc41"
            ],
            [
             0.9,
             "#4d9221"
            ],
            [
             1,
             "#276419"
            ]
           ],
           "sequential": [
            [
             0,
             "#0d0887"
            ],
            [
             0.1111111111111111,
             "#46039f"
            ],
            [
             0.2222222222222222,
             "#7201a8"
            ],
            [
             0.3333333333333333,
             "#9c179e"
            ],
            [
             0.4444444444444444,
             "#bd3786"
            ],
            [
             0.5555555555555556,
             "#d8576b"
            ],
            [
             0.6666666666666666,
             "#ed7953"
            ],
            [
             0.7777777777777778,
             "#fb9f3a"
            ],
            [
             0.8888888888888888,
             "#fdca26"
            ],
            [
             1,
             "#f0f921"
            ]
           ],
           "sequentialminus": [
            [
             0,
             "#0d0887"
            ],
            [
             0.1111111111111111,
             "#46039f"
            ],
            [
             0.2222222222222222,
             "#7201a8"
            ],
            [
             0.3333333333333333,
             "#9c179e"
            ],
            [
             0.4444444444444444,
             "#bd3786"
            ],
            [
             0.5555555555555556,
             "#d8576b"
            ],
            [
             0.6666666666666666,
             "#ed7953"
            ],
            [
             0.7777777777777778,
             "#fb9f3a"
            ],
            [
             0.8888888888888888,
             "#fdca26"
            ],
            [
             1,
             "#f0f921"
            ]
           ]
          },
          "colorway": [
           "#636efa",
           "#EF553B",
           "#00cc96",
           "#ab63fa",
           "#FFA15A",
           "#19d3f3",
           "#FF6692",
           "#B6E880",
           "#FF97FF",
           "#FECB52"
          ],
          "font": {
           "color": "#2a3f5f"
          },
          "geo": {
           "bgcolor": "white",
           "lakecolor": "white",
           "landcolor": "white",
           "showlakes": true,
           "showland": true,
           "subunitcolor": "#C8D4E3"
          },
          "hoverlabel": {
           "align": "left"
          },
          "hovermode": "closest",
          "mapbox": {
           "style": "light"
          },
          "paper_bgcolor": "white",
          "plot_bgcolor": "white",
          "polar": {
           "angularaxis": {
            "gridcolor": "#EBF0F8",
            "linecolor": "#EBF0F8",
            "ticks": ""
           },
           "bgcolor": "white",
           "radialaxis": {
            "gridcolor": "#EBF0F8",
            "linecolor": "#EBF0F8",
            "ticks": ""
           }
          },
          "scene": {
           "xaxis": {
            "backgroundcolor": "white",
            "gridcolor": "#DFE8F3",
            "gridwidth": 2,
            "linecolor": "#EBF0F8",
            "showbackground": true,
            "ticks": "",
            "zerolinecolor": "#EBF0F8"
           },
           "yaxis": {
            "backgroundcolor": "white",
            "gridcolor": "#DFE8F3",
            "gridwidth": 2,
            "linecolor": "#EBF0F8",
            "showbackground": true,
            "ticks": "",
            "zerolinecolor": "#EBF0F8"
           },
           "zaxis": {
            "backgroundcolor": "white",
            "gridcolor": "#DFE8F3",
            "gridwidth": 2,
            "linecolor": "#EBF0F8",
            "showbackground": true,
            "ticks": "",
            "zerolinecolor": "#EBF0F8"
           }
          },
          "shapedefaults": {
           "line": {
            "color": "#2a3f5f"
           }
          },
          "ternary": {
           "aaxis": {
            "gridcolor": "#DFE8F3",
            "linecolor": "#A2B1C6",
            "ticks": ""
           },
           "baxis": {
            "gridcolor": "#DFE8F3",
            "linecolor": "#A2B1C6",
            "ticks": ""
           },
           "bgcolor": "white",
           "caxis": {
            "gridcolor": "#DFE8F3",
            "linecolor": "#A2B1C6",
            "ticks": ""
           }
          },
          "title": {
           "x": 0.05
          },
          "xaxis": {
           "automargin": true,
           "gridcolor": "#EBF0F8",
           "linecolor": "#EBF0F8",
           "ticks": "",
           "title": {
            "standoff": 15
           },
           "zerolinecolor": "#EBF0F8",
           "zerolinewidth": 2
          },
          "yaxis": {
           "automargin": true,
           "gridcolor": "#EBF0F8",
           "linecolor": "#EBF0F8",
           "ticks": "",
           "title": {
            "standoff": 15
           },
           "zerolinecolor": "#EBF0F8",
           "zerolinewidth": 2
          }
         }
        },
        "title": {
         "text": "Distribution of observations across 'num_active_div_by_paid_inv_0_12m' classes"
        },
        "xaxis": {
         "tickvals": [
          0,
          1,
          2,
          3,
          4,
          5,
          6,
          7,
          8,
          9
         ],
         "title": {
          "text": "Ordered Bins"
         }
        },
        "yaxis": {
         "tickformat": "%",
         "title": {
          "text": "Percentage"
         }
        }
       }
      }
     },
     "metadata": {}
    }
   ],
   "source": [
    "fig = go.Figure()\n",
    "\n",
    "fig.add_trace(\n",
    "    go.Bar(\n",
    "        x=var_profile.reset_index().index.to_list(),\n",
    "        y=(var_profile[\"not_default\"] / var_profile[\"count\"]),\n",
    "        name=\"not_default\",\n",
    "    )\n",
    ")\n",
    "\n",
    "fig.add_trace(\n",
    "    go.Bar(\n",
    "        x=var_profile.reset_index().index.to_list(),\n",
    "        y=(var_profile[\"default\"] / var_profile[\"count\"]),\n",
    "        name=\"default\",\n",
    "    )\n",
    ")\n",
    "\n",
    "fig.update_layout(\n",
    "    title=\"Distribution of observations across 'num_active_div_by_paid_inv_0_12m' classes\",\n",
    "    barmode=\"relative\",\n",
    "    yaxis_title=\"Percentage\",\n",
    "    yaxis_tickformat=\"%\",\n",
    "    xaxis_title=\"Ordered Bins\",\n",
    "    xaxis_tickvals=[x for x in range(0, var_profile.shape[0])]\n",
    ")\n",
    "\n",
    "fig.update_traces(opacity=0.75)\n",
    "fig.show()"
   ]
  }
 ],
 "metadata": {
  "jupytext": {
   "main_language": "python"
  },
  "kernelspec": {
   "name": "python388jvsc74a57bd09f119b1d3a8a63730ae7ee508102d23a56b995c1f2248036bd772c0398b7d40e",
   "display_name": "Python 3.8.8 64-bit ('klarna': conda)"
  }
 },
 "nbformat": 4,
 "nbformat_minor": 5
}
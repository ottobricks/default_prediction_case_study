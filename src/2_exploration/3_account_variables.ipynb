{
 "cells": [
  {
   "cell_type": "code",
   "execution_count": 1,
   "id": "96af05f9",
   "metadata": {},
   "outputs": [],
   "source": [
    "import os\n",
    "import numpy as np\n",
    "import pandas as pd\n",
    "import plotly.io as pio\n",
    "import plotly.express as px\n",
    "import plotly.graph_objects as go\n",
    "import scipy.cluster.hierarchy as spc\n",
    "\n",
    "pio.templates.default = \"plotly_white\""
   ]
  },
  {
   "cell_type": "code",
   "execution_count": 2,
   "id": "97608089",
   "metadata": {},
   "outputs": [],
   "source": [
    "try:\n",
    "    _ = first_run\n",
    "except NameError:\n",
    "    first_run = True\n",
    "    os.chdir(os.getcwd().rsplit(\"/\", 1)[0])\n",
    "    from _aux import functions as func"
   ]
  },
  {
   "cell_type": "markdown",
   "id": "bfa9aee9",
   "metadata": {},
   "source": [
    "# Load data"
   ]
  },
  {
   "cell_type": "code",
   "execution_count": 3,
   "id": "7dfd3be6",
   "metadata": {},
   "outputs": [],
   "source": [
    "default = (\n",
    "    pd.read_csv(\n",
    "        \"../data/train/X_train.csv\",\n",
    "        index_col=0,\n",
    "        usecols=[\n",
    "            \"row_id\",\n",
    "            \"account_amount_added_12_24m\",\n",
    "            \"sum_capital_paid_account_0_12m\",\n",
    "            \"sum_capital_paid_account_12_24m\",\n",
    "            \"account_incoming_debt_vs_paid_0_24m\",\n",
    "            \"num_unpaid_bills\",\n",
    "            \"sum_paid_inv_0_12m\",\n",
    "            \"max_paid_inv_0_12m\",\n",
    "            \"max_paid_inv_0_24m\",\n",
    "            \"num_active_inv\",\n",
    "            \"num_active_div_by_paid_inv_0_12m\",\n",
    "        ],\n",
    "    )\n",
    "    .join(pd.read_csv(\"../data/train/y_train.csv\", index_col=0))\n",
    "    .query(\"default == 1\")\n",
    ")\n",
    "\n",
    "not_default = (\n",
    "    pd.read_csv(\n",
    "        \"../data/train/X_train.csv\",\n",
    "        index_col=0,\n",
    "        usecols=[\n",
    "            \"row_id\",\n",
    "            \"account_amount_added_12_24m\",\n",
    "            \"sum_capital_paid_account_0_12m\",\n",
    "            \"sum_capital_paid_account_12_24m\",\n",
    "            \"account_incoming_debt_vs_paid_0_24m\",\n",
    "            \"num_unpaid_bills\",\n",
    "            \"sum_paid_inv_0_12m\",\n",
    "            \"max_paid_inv_0_12m\",\n",
    "            \"max_paid_inv_0_24m\",\n",
    "            \"num_active_inv\",\n",
    "            \"num_active_div_by_paid_inv_0_12m\",\n",
    "        ],\n",
    "    )\n",
    "    .join(pd.read_csv(\"../data/train/y_train.csv\", index_col=0))\n",
    "    .query(\"default == 0\")\n",
    ")\n",
    "\n",
    "df = pd.read_csv(\n",
    "    \"../data/train/X_train.csv\",\n",
    "    index_col=0,\n",
    ").join(pd.read_csv(\"../data/train/y_train.csv\", index_col=0))"
   ]
  },
  {
   "cell_type": "markdown",
   "id": "7acd8323",
   "metadata": {},
   "source": [
    "## Correlation between \"account\" variables\n",
    "\n",
    "As shown in our sanity profile report, account variables have high correlation amongst themselves mainly due to overlaping lookback windows for aggregation. The first thing we must do is choose one (or some) of them to represent the group, which can be achieved by correlation clustering."
   ]
  },
  {
   "cell_type": "code",
   "execution_count": 4,
   "id": "be1610a3",
   "metadata": {},
   "outputs": [
    {
     "output_type": "display_data",
     "data": {
      "application/vnd.plotly.v1+json": {
       "config": {
        "plotlyServerURL": "https://plot.ly"
       },
       "data": [
        {
         "colorscale": [
          [
           0,
           "rgb(103,0,31)"
          ],
          [
           0.1,
           "rgb(178,24,43)"
          ],
          [
           0.2,
           "rgb(214,96,77)"
          ],
          [
           0.3,
           "rgb(244,165,130)"
          ],
          [
           0.4,
           "rgb(253,219,199)"
          ],
          [
           0.5,
           "rgb(247,247,247)"
          ],
          [
           0.6,
           "rgb(209,229,240)"
          ],
          [
           0.7,
           "rgb(146,197,222)"
          ],
          [
           0.8,
           "rgb(67,147,195)"
          ],
          [
           0.9,
           "rgb(33,102,172)"
          ],
          [
           1,
           "rgb(5,48,97)"
          ]
         ],
         "type": "heatmap",
         "x": [
          "account_amount_added_12_24m",
          "account_incoming_debt_vs_paid_0_24m",
          "max_paid_inv_0_12m",
          "max_paid_inv_0_24m",
          "num_active_div_by_paid_inv_0_12m",
          "num_active_inv",
          "num_unpaid_bills",
          "sum_capital_paid_account_0_12m",
          "sum_capital_paid_account_12_24m",
          "sum_paid_inv_0_12m",
          "default"
         ],
         "y": [
          "account_amount_added_12_24m",
          "account_incoming_debt_vs_paid_0_24m",
          "max_paid_inv_0_12m",
          "max_paid_inv_0_24m",
          "num_active_div_by_paid_inv_0_12m",
          "num_active_inv",
          "num_unpaid_bills",
          "sum_capital_paid_account_0_12m",
          "sum_capital_paid_account_12_24m",
          "sum_paid_inv_0_12m",
          "default"
         ],
         "z": [
          [
           null,
           null,
           null,
           null,
           null,
           null,
           null,
           null,
           null,
           null,
           null
          ],
          [
           -0.01772268574631797,
           null,
           null,
           null,
           null,
           null,
           null,
           null,
           null,
           null,
           null
          ],
          [
           0.08057679971856681,
           -0.0032842567077192198,
           null,
           null,
           null,
           null,
           null,
           null,
           null,
           null,
           null
          ],
          [
           0.09770550154919834,
           -0.004854386177082364,
           0.8894504863894864,
           null,
           null,
           null,
           null,
           null,
           null,
           null,
           null
          ],
          [
           0.03428942680491229,
           0.0023996757815296383,
           -0.05544841675819635,
           -0.04496392757290031,
           null,
           null,
           null,
           null,
           null,
           null,
           null
          ],
          [
           0.16874364409409026,
           0.009061270808895586,
           0.1753393480947494,
           0.16733005332597553,
           0.305914451937029,
           null,
           null,
           null,
           null,
           null,
           null
          ],
          [
           0.3981166093169005,
           -0.0008616727709874562,
           0.07967069905860673,
           0.07628521928473829,
           0.12136302416434908,
           0.4944300901418052,
           null,
           null,
           null,
           null,
           null
          ],
          [
           0.6587487686030443,
           -0.024369726331598566,
           0.09684229559762465,
           0.12271920734847847,
           0.029816409791881673,
           0.1351752690272948,
           0.33947832231948366,
           null,
           null,
           null,
           null
          ],
          [
           0.707864951639701,
           -0.020983335891083824,
           0.08584571334096117,
           0.10380397888860363,
           0.026669032516668603,
           0.16463963684248406,
           0.3336116490744655,
           0.590716717599326,
           null,
           null,
           null
          ],
          [
           0.13111761332668212,
           0.0014714242901170138,
           0.5254524137456626,
           0.48823295311674314,
           -0.06255286174719027,
           0.5694101989294712,
           0.35583115555469097,
           0.12706162197250934,
           0.13418217885474004,
           null,
           null
          ],
          [
           0.006216788799103705,
           -0.00012523154608320102,
           -0.041734607215875,
           -0.0426656491323173,
           0.1371245651139541,
           0.018779685328408166,
           0.028195802506878608,
           0.0026483757431305715,
           0.005424436670884513,
           -0.0347970922572723,
           null
          ]
         ],
         "zmax": 1,
         "zmin": -1
        }
       ],
       "layout": {
        "height": 500,
        "template": {
         "data": {
          "bar": [
           {
            "error_x": {
             "color": "#2a3f5f"
            },
            "error_y": {
             "color": "#2a3f5f"
            },
            "marker": {
             "line": {
              "color": "white",
              "width": 0.5
             }
            },
            "type": "bar"
           }
          ],
          "barpolar": [
           {
            "marker": {
             "line": {
              "color": "white",
              "width": 0.5
             }
            },
            "type": "barpolar"
           }
          ],
          "carpet": [
           {
            "aaxis": {
             "endlinecolor": "#2a3f5f",
             "gridcolor": "#C8D4E3",
             "linecolor": "#C8D4E3",
             "minorgridcolor": "#C8D4E3",
             "startlinecolor": "#2a3f5f"
            },
            "baxis": {
             "endlinecolor": "#2a3f5f",
             "gridcolor": "#C8D4E3",
             "linecolor": "#C8D4E3",
             "minorgridcolor": "#C8D4E3",
             "startlinecolor": "#2a3f5f"
            },
            "type": "carpet"
           }
          ],
          "choropleth": [
           {
            "colorbar": {
             "outlinewidth": 0,
             "ticks": ""
            },
            "type": "choropleth"
           }
          ],
          "contour": [
           {
            "colorbar": {
             "outlinewidth": 0,
             "ticks": ""
            },
            "colorscale": [
             [
              0,
              "#0d0887"
             ],
             [
              0.1111111111111111,
              "#46039f"
             ],
             [
              0.2222222222222222,
              "#7201a8"
             ],
             [
              0.3333333333333333,
              "#9c179e"
             ],
             [
              0.4444444444444444,
              "#bd3786"
             ],
             [
              0.5555555555555556,
              "#d8576b"
             ],
             [
              0.6666666666666666,
              "#ed7953"
             ],
             [
              0.7777777777777778,
              "#fb9f3a"
             ],
             [
              0.8888888888888888,
              "#fdca26"
             ],
             [
              1,
              "#f0f921"
             ]
            ],
            "type": "contour"
           }
          ],
          "contourcarpet": [
           {
            "colorbar": {
             "outlinewidth": 0,
             "ticks": ""
            },
            "type": "contourcarpet"
           }
          ],
          "heatmap": [
           {
            "colorbar": {
             "outlinewidth": 0,
             "ticks": ""
            },
            "colorscale": [
             [
              0,
              "#0d0887"
             ],
             [
              0.1111111111111111,
              "#46039f"
             ],
             [
              0.2222222222222222,
              "#7201a8"
             ],
             [
              0.3333333333333333,
              "#9c179e"
             ],
             [
              0.4444444444444444,
              "#bd3786"
             ],
             [
              0.5555555555555556,
              "#d8576b"
             ],
             [
              0.6666666666666666,
              "#ed7953"
             ],
             [
              0.7777777777777778,
              "#fb9f3a"
             ],
             [
              0.8888888888888888,
              "#fdca26"
             ],
             [
              1,
              "#f0f921"
             ]
            ],
            "type": "heatmap"
           }
          ],
          "heatmapgl": [
           {
            "colorbar": {
             "outlinewidth": 0,
             "ticks": ""
            },
            "colorscale": [
             [
              0,
              "#0d0887"
             ],
             [
              0.1111111111111111,
              "#46039f"
             ],
             [
              0.2222222222222222,
              "#7201a8"
             ],
             [
              0.3333333333333333,
              "#9c179e"
             ],
             [
              0.4444444444444444,
              "#bd3786"
             ],
             [
              0.5555555555555556,
              "#d8576b"
             ],
             [
              0.6666666666666666,
              "#ed7953"
             ],
             [
              0.7777777777777778,
              "#fb9f3a"
             ],
             [
              0.8888888888888888,
              "#fdca26"
             ],
             [
              1,
              "#f0f921"
             ]
            ],
            "type": "heatmapgl"
           }
          ],
          "histogram": [
           {
            "marker": {
             "colorbar": {
              "outlinewidth": 0,
              "ticks": ""
             }
            },
            "type": "histogram"
           }
          ],
          "histogram2d": [
           {
            "colorbar": {
             "outlinewidth": 0,
             "ticks": ""
            },
            "colorscale": [
             [
              0,
              "#0d0887"
             ],
             [
              0.1111111111111111,
              "#46039f"
             ],
             [
              0.2222222222222222,
              "#7201a8"
             ],
             [
              0.3333333333333333,
              "#9c179e"
             ],
             [
              0.4444444444444444,
              "#bd3786"
             ],
             [
              0.5555555555555556,
              "#d8576b"
             ],
             [
              0.6666666666666666,
              "#ed7953"
             ],
             [
              0.7777777777777778,
              "#fb9f3a"
             ],
             [
              0.8888888888888888,
              "#fdca26"
             ],
             [
              1,
              "#f0f921"
             ]
            ],
            "type": "histogram2d"
           }
          ],
          "histogram2dcontour": [
           {
            "colorbar": {
             "outlinewidth": 0,
             "ticks": ""
            },
            "colorscale": [
             [
              0,
              "#0d0887"
             ],
             [
              0.1111111111111111,
              "#46039f"
             ],
             [
              0.2222222222222222,
              "#7201a8"
             ],
             [
              0.3333333333333333,
              "#9c179e"
             ],
             [
              0.4444444444444444,
              "#bd3786"
             ],
             [
              0.5555555555555556,
              "#d8576b"
             ],
             [
              0.6666666666666666,
              "#ed7953"
             ],
             [
              0.7777777777777778,
              "#fb9f3a"
             ],
             [
              0.8888888888888888,
              "#fdca26"
             ],
             [
              1,
              "#f0f921"
             ]
            ],
            "type": "histogram2dcontour"
           }
          ],
          "mesh3d": [
           {
            "colorbar": {
             "outlinewidth": 0,
             "ticks": ""
            },
            "type": "mesh3d"
           }
          ],
          "parcoords": [
           {
            "line": {
             "colorbar": {
              "outlinewidth": 0,
              "ticks": ""
             }
            },
            "type": "parcoords"
           }
          ],
          "pie": [
           {
            "automargin": true,
            "type": "pie"
           }
          ],
          "scatter": [
           {
            "marker": {
             "colorbar": {
              "outlinewidth": 0,
              "ticks": ""
             }
            },
            "type": "scatter"
           }
          ],
          "scatter3d": [
           {
            "line": {
             "colorbar": {
              "outlinewidth": 0,
              "ticks": ""
             }
            },
            "marker": {
             "colorbar": {
              "outlinewidth": 0,
              "ticks": ""
             }
            },
            "type": "scatter3d"
           }
          ],
          "scattercarpet": [
           {
            "marker": {
             "colorbar": {
              "outlinewidth": 0,
              "ticks": ""
             }
            },
            "type": "scattercarpet"
           }
          ],
          "scattergeo": [
           {
            "marker": {
             "colorbar": {
              "outlinewidth": 0,
              "ticks": ""
             }
            },
            "type": "scattergeo"
           }
          ],
          "scattergl": [
           {
            "marker": {
             "colorbar": {
              "outlinewidth": 0,
              "ticks": ""
             }
            },
            "type": "scattergl"
           }
          ],
          "scattermapbox": [
           {
            "marker": {
             "colorbar": {
              "outlinewidth": 0,
              "ticks": ""
             }
            },
            "type": "scattermapbox"
           }
          ],
          "scatterpolar": [
           {
            "marker": {
             "colorbar": {
              "outlinewidth": 0,
              "ticks": ""
             }
            },
            "type": "scatterpolar"
           }
          ],
          "scatterpolargl": [
           {
            "marker": {
             "colorbar": {
              "outlinewidth": 0,
              "ticks": ""
             }
            },
            "type": "scatterpolargl"
           }
          ],
          "scatterternary": [
           {
            "marker": {
             "colorbar": {
              "outlinewidth": 0,
              "ticks": ""
             }
            },
            "type": "scatterternary"
           }
          ],
          "surface": [
           {
            "colorbar": {
             "outlinewidth": 0,
             "ticks": ""
            },
            "colorscale": [
             [
              0,
              "#0d0887"
             ],
             [
              0.1111111111111111,
              "#46039f"
             ],
             [
              0.2222222222222222,
              "#7201a8"
             ],
             [
              0.3333333333333333,
              "#9c179e"
             ],
             [
              0.4444444444444444,
              "#bd3786"
             ],
             [
              0.5555555555555556,
              "#d8576b"
             ],
             [
              0.6666666666666666,
              "#ed7953"
             ],
             [
              0.7777777777777778,
              "#fb9f3a"
             ],
             [
              0.8888888888888888,
              "#fdca26"
             ],
             [
              1,
              "#f0f921"
             ]
            ],
            "type": "surface"
           }
          ],
          "table": [
           {
            "cells": {
             "fill": {
              "color": "#EBF0F8"
             },
             "line": {
              "color": "white"
             }
            },
            "header": {
             "fill": {
              "color": "#C8D4E3"
             },
             "line": {
              "color": "white"
             }
            },
            "type": "table"
           }
          ]
         },
         "layout": {
          "annotationdefaults": {
           "arrowcolor": "#2a3f5f",
           "arrowhead": 0,
           "arrowwidth": 1
          },
          "autotypenumbers": "strict",
          "coloraxis": {
           "colorbar": {
            "outlinewidth": 0,
            "ticks": ""
           }
          },
          "colorscale": {
           "diverging": [
            [
             0,
             "#8e0152"
            ],
            [
             0.1,
             "#c51b7d"
            ],
            [
             0.2,
             "#de77ae"
            ],
            [
             0.3,
             "#f1b6da"
            ],
            [
             0.4,
             "#fde0ef"
            ],
            [
             0.5,
             "#f7f7f7"
            ],
            [
             0.6,
             "#e6f5d0"
            ],
            [
             0.7,
             "#b8e186"
            ],
            [
             0.8,
             "#7fbc41"
            ],
            [
             0.9,
             "#4d9221"
            ],
            [
             1,
             "#276419"
            ]
           ],
           "sequential": [
            [
             0,
             "#0d0887"
            ],
            [
             0.1111111111111111,
             "#46039f"
            ],
            [
             0.2222222222222222,
             "#7201a8"
            ],
            [
             0.3333333333333333,
             "#9c179e"
            ],
            [
             0.4444444444444444,
             "#bd3786"
            ],
            [
             0.5555555555555556,
             "#d8576b"
            ],
            [
             0.6666666666666666,
             "#ed7953"
            ],
            [
             0.7777777777777778,
             "#fb9f3a"
            ],
            [
             0.8888888888888888,
             "#fdca26"
            ],
            [
             1,
             "#f0f921"
            ]
           ],
           "sequentialminus": [
            [
             0,
             "#0d0887"
            ],
            [
             0.1111111111111111,
             "#46039f"
            ],
            [
             0.2222222222222222,
             "#7201a8"
            ],
            [
             0.3333333333333333,
             "#9c179e"
            ],
            [
             0.4444444444444444,
             "#bd3786"
            ],
            [
             0.5555555555555556,
             "#d8576b"
            ],
            [
             0.6666666666666666,
             "#ed7953"
            ],
            [
             0.7777777777777778,
             "#fb9f3a"
            ],
            [
             0.8888888888888888,
             "#fdca26"
            ],
            [
             1,
             "#f0f921"
            ]
           ]
          },
          "colorway": [
           "#636efa",
           "#EF553B",
           "#00cc96",
           "#ab63fa",
           "#FFA15A",
           "#19d3f3",
           "#FF6692",
           "#B6E880",
           "#FF97FF",
           "#FECB52"
          ],
          "font": {
           "color": "#2a3f5f"
          },
          "geo": {
           "bgcolor": "white",
           "lakecolor": "white",
           "landcolor": "white",
           "showlakes": true,
           "showland": true,
           "subunitcolor": "#C8D4E3"
          },
          "hoverlabel": {
           "align": "left"
          },
          "hovermode": "closest",
          "mapbox": {
           "style": "light"
          },
          "paper_bgcolor": "white",
          "plot_bgcolor": "white",
          "polar": {
           "angularaxis": {
            "gridcolor": "#EBF0F8",
            "linecolor": "#EBF0F8",
            "ticks": ""
           },
           "bgcolor": "white",
           "radialaxis": {
            "gridcolor": "#EBF0F8",
            "linecolor": "#EBF0F8",
            "ticks": ""
           }
          },
          "scene": {
           "xaxis": {
            "backgroundcolor": "white",
            "gridcolor": "#DFE8F3",
            "gridwidth": 2,
            "linecolor": "#EBF0F8",
            "showbackground": true,
            "ticks": "",
            "zerolinecolor": "#EBF0F8"
           },
           "yaxis": {
            "backgroundcolor": "white",
            "gridcolor": "#DFE8F3",
            "gridwidth": 2,
            "linecolor": "#EBF0F8",
            "showbackground": true,
            "ticks": "",
            "zerolinecolor": "#EBF0F8"
           },
           "zaxis": {
            "backgroundcolor": "white",
            "gridcolor": "#DFE8F3",
            "gridwidth": 2,
            "linecolor": "#EBF0F8",
            "showbackground": true,
            "ticks": "",
            "zerolinecolor": "#EBF0F8"
           }
          },
          "shapedefaults": {
           "line": {
            "color": "#2a3f5f"
           }
          },
          "ternary": {
           "aaxis": {
            "gridcolor": "#DFE8F3",
            "linecolor": "#A2B1C6",
            "ticks": ""
           },
           "baxis": {
            "gridcolor": "#DFE8F3",
            "linecolor": "#A2B1C6",
            "ticks": ""
           },
           "bgcolor": "white",
           "caxis": {
            "gridcolor": "#DFE8F3",
            "linecolor": "#A2B1C6",
            "ticks": ""
           }
          },
          "title": {
           "x": 0.05
          },
          "xaxis": {
           "automargin": true,
           "gridcolor": "#EBF0F8",
           "linecolor": "#EBF0F8",
           "ticks": "",
           "title": {
            "standoff": 15
           },
           "zerolinecolor": "#EBF0F8",
           "zerolinewidth": 2
          },
          "yaxis": {
           "automargin": true,
           "gridcolor": "#EBF0F8",
           "linecolor": "#EBF0F8",
           "ticks": "",
           "title": {
            "standoff": 15
           },
           "zerolinecolor": "#EBF0F8",
           "zerolinewidth": 2
          }
         }
        },
        "title": {
         "text": "Correlation between 'account' variables"
        },
        "width": 1000,
        "xaxis": {
         "showgrid": false
        },
        "yaxis": {
         "autorange": "reversed",
         "showgrid": false
        }
       }
      }
     },
     "metadata": {}
    }
   ],
   "source": [
    "corr = pd.concat([default, not_default]).corr()\n",
    "mask = np.zeros_like(corr, dtype=bool)\n",
    "mask[np.triu_indices_from(mask)] = True\n",
    "\n",
    "fig = go.Figure()\n",
    "\n",
    "fig.add_trace(\n",
    "    go.Heatmap(\n",
    "        z=corr.mask(mask),\n",
    "        x=corr.columns,\n",
    "        y=corr.columns,\n",
    "        colorscale=px.colors.diverging.RdBu,\n",
    "        zmin=-1,\n",
    "        zmax=1,\n",
    "    )\n",
    ")\n",
    "\n",
    "fig.update_layout(\n",
    "    title=\"Correlation between 'account' variables\",\n",
    "    yaxis_autorange=\"reversed\",\n",
    "    xaxis_showgrid=False,\n",
    "    yaxis_showgrid=False,\n",
    "    width=1000,\n",
    "    height=500,\n",
    ")\n",
    "\n",
    "# fig.update_traces(opacity=0.6)\n",
    "fig.show()"
   ]
  },
  {
   "cell_type": "code",
   "execution_count": 5,
   "id": "69775d1c",
   "metadata": {},
   "outputs": [
    {
     "output_type": "execute_result",
     "data": {
      "text/plain": [
       "                                     corr_with_label  cluster\n",
       "account_amount_added_12_24m                 0.006217        1\n",
       "sum_capital_paid_account_12_24m             0.005424        1\n",
       "sum_capital_paid_account_0_12m              0.002648        1\n",
       "num_unpaid_bills                            0.028196        2\n",
       "num_active_inv                              0.018780        2\n",
       "sum_paid_inv_0_12m                         -0.034797        2\n",
       "max_paid_inv_0_12m                         -0.041735        2\n",
       "max_paid_inv_0_24m                         -0.042666        2\n",
       "num_active_div_by_paid_inv_0_12m            0.137125        3\n",
       "account_incoming_debt_vs_paid_0_24m        -0.000125        5"
      ],
      "text/html": "<div>\n<style scoped>\n    .dataframe tbody tr th:only-of-type {\n        vertical-align: middle;\n    }\n\n    .dataframe tbody tr th {\n        vertical-align: top;\n    }\n\n    .dataframe thead th {\n        text-align: right;\n    }\n</style>\n<table border=\"1\" class=\"dataframe\">\n  <thead>\n    <tr style=\"text-align: right;\">\n      <th></th>\n      <th>corr_with_label</th>\n      <th>cluster</th>\n    </tr>\n  </thead>\n  <tbody>\n    <tr>\n      <th>account_amount_added_12_24m</th>\n      <td>0.006217</td>\n      <td>1</td>\n    </tr>\n    <tr>\n      <th>sum_capital_paid_account_12_24m</th>\n      <td>0.005424</td>\n      <td>1</td>\n    </tr>\n    <tr>\n      <th>sum_capital_paid_account_0_12m</th>\n      <td>0.002648</td>\n      <td>1</td>\n    </tr>\n    <tr>\n      <th>num_unpaid_bills</th>\n      <td>0.028196</td>\n      <td>2</td>\n    </tr>\n    <tr>\n      <th>num_active_inv</th>\n      <td>0.018780</td>\n      <td>2</td>\n    </tr>\n    <tr>\n      <th>sum_paid_inv_0_12m</th>\n      <td>-0.034797</td>\n      <td>2</td>\n    </tr>\n    <tr>\n      <th>max_paid_inv_0_12m</th>\n      <td>-0.041735</td>\n      <td>2</td>\n    </tr>\n    <tr>\n      <th>max_paid_inv_0_24m</th>\n      <td>-0.042666</td>\n      <td>2</td>\n    </tr>\n    <tr>\n      <th>num_active_div_by_paid_inv_0_12m</th>\n      <td>0.137125</td>\n      <td>3</td>\n    </tr>\n    <tr>\n      <th>account_incoming_debt_vs_paid_0_24m</th>\n      <td>-0.000125</td>\n      <td>5</td>\n    </tr>\n  </tbody>\n</table>\n</div>"
     },
     "metadata": {},
     "execution_count": 5
    }
   ],
   "source": [
    "pdist = spc.distance.pdist(corr)\n",
    "linkage = spc.linkage(pdist, method=\"single\")\n",
    "idx = spc.fcluster(linkage, 0.5 * pdist.max(), \"distance\")\n",
    "\n",
    "columns = [default.columns.tolist()[i] for i in list((np.argsort(idx)))]\n",
    "clusterd_corr = pd.concat([default, not_default]).reindex(columns, axis=1).corr()\n",
    "\n",
    "mask = np.zeros_like(clusterd_corr, dtype=bool)\n",
    "mask[np.triu_indices_from(mask)] = True\n",
    "\n",
    "corr[\"default\"].to_frame(name=\"corr_with_label\").assign(cluster=idx).drop(\n",
    "    \"default\"\n",
    ").sort_values([\"cluster\", \"corr_with_label\"], ascending=[True, False])"
   ]
  },
  {
   "cell_type": "markdown",
   "id": "4bf24539",
   "metadata": {},
   "source": [
    "Despite our knowing that correlation is not equal to causation, the lack of proper time for exploration leads us to the not-so-ideal path of using correlation to exclude variables. At this time. we choose to analyze only the variable \"num_active_div_by_paid_inv_0_12m\" at the cost of probably losing some good insights.\n",
    "\n",
    "## 1. \"num_active_div_by_paid_inv_0_12m\"\n",
    "\n",
    "This variable has 22.8% of missing values and 48.7% of zero values, on top of some hard-hitting outliers.\n",
    "One behaviour this variable describes is whether the customer has had a good experience with us and has come back for more. On the flip side, users that have not finished paying their first invoice yet (in a 12 month span) are attributed NaN simple because division by zero is undefined. Hence, a good customer will get NaN on their first purchase, but also an ill-intentioned customer that executes multiple orders with no intention to pay them. Therefore, we choose to fill missing values with the number of active invoices so that the latter can become visible through this variable.\n",
    "\n",
    "Next, we look at how defaults are distributed across the categories.\n"
   ]
  },
  {
   "cell_type": "code",
   "execution_count": 6,
   "id": "b7e01772",
   "metadata": {},
   "outputs": [
    {
     "output_type": "execute_result",
     "data": {
      "text/plain": [
       "       num_active_div_by_paid_inv_0_12m\n",
       "count                      71980.000000\n",
       "mean                           0.112705\n",
       "std                            0.310636\n",
       "min                            0.000000\n",
       "25%                            0.000000\n",
       "35%                            0.000000\n",
       "45.0%                          0.000000\n",
       "50%                            0.000000\n",
       "55.0%                          0.000000\n",
       "65.0%                          0.000000\n",
       "75.0%                          0.066667\n",
       "85.0%                          0.200000\n",
       "95.0%                          1.000000\n",
       "99%                            1.000000\n",
       "max                           10.000000"
      ],
      "text/html": "<div>\n<style scoped>\n    .dataframe tbody tr th:only-of-type {\n        vertical-align: middle;\n    }\n\n    .dataframe tbody tr th {\n        vertical-align: top;\n    }\n\n    .dataframe thead th {\n        text-align: right;\n    }\n</style>\n<table border=\"1\" class=\"dataframe\">\n  <thead>\n    <tr style=\"text-align: right;\">\n      <th></th>\n      <th>num_active_div_by_paid_inv_0_12m</th>\n    </tr>\n  </thead>\n  <tbody>\n    <tr>\n      <th>count</th>\n      <td>71980.000000</td>\n    </tr>\n    <tr>\n      <th>mean</th>\n      <td>0.112705</td>\n    </tr>\n    <tr>\n      <th>std</th>\n      <td>0.310636</td>\n    </tr>\n    <tr>\n      <th>min</th>\n      <td>0.000000</td>\n    </tr>\n    <tr>\n      <th>25%</th>\n      <td>0.000000</td>\n    </tr>\n    <tr>\n      <th>35%</th>\n      <td>0.000000</td>\n    </tr>\n    <tr>\n      <th>45.0%</th>\n      <td>0.000000</td>\n    </tr>\n    <tr>\n      <th>50%</th>\n      <td>0.000000</td>\n    </tr>\n    <tr>\n      <th>55.0%</th>\n      <td>0.000000</td>\n    </tr>\n    <tr>\n      <th>65.0%</th>\n      <td>0.000000</td>\n    </tr>\n    <tr>\n      <th>75.0%</th>\n      <td>0.066667</td>\n    </tr>\n    <tr>\n      <th>85.0%</th>\n      <td>0.200000</td>\n    </tr>\n    <tr>\n      <th>95.0%</th>\n      <td>1.000000</td>\n    </tr>\n    <tr>\n      <th>99%</th>\n      <td>1.000000</td>\n    </tr>\n    <tr>\n      <th>max</th>\n      <td>10.000000</td>\n    </tr>\n  </tbody>\n</table>\n</div>"
     },
     "metadata": {},
     "execution_count": 6
    }
   ],
   "source": [
    "df[[\"num_active_div_by_paid_inv_0_12m\"]].assign(\n",
    "    num_active_div_by_paid_inv_0_12m=df[\n",
    "        \"num_active_div_by_paid_inv_0_12m\"\n",
    "    ].combine_first(df[\"num_active_inv\"])\n",
    ").describe(np.append(np.arange(0.25, 1.0, 0.1), np.array([0.99])))"
   ]
  },
  {
   "cell_type": "code",
   "execution_count": 7,
   "id": "9715cb8a",
   "metadata": {},
   "outputs": [
    {
     "output_type": "stream",
     "name": "stdout",
     "text": [
      "Using 9 degrees of freedom\nReject null hypothesis with 1000.092329327441 > 16.91897760462045\n"
     ]
    },
    {
     "output_type": "execute_result",
     "data": {
      "text/plain": [
       "          default  not_default  count  expected_default  expected_not_default  \\\n",
       "bins_var                                                                        \n",
       "(-1, 0]       620        49350  49970        714.362939          49255.637061   \n",
       "(0, 1]        329        21040  21369        305.487726          21063.512274   \n",
       "(1, 2]         50          475    525          7.505314            517.494686   \n",
       "(2, 3]         14           66     80          1.143667             78.856333   \n",
       "(3, 4]          6           12     18          0.257325             17.742675   \n",
       "(4, 5]          5            5     10          0.142958              9.857042   \n",
       "(5, 6]          1            2      3          0.042888              2.957112   \n",
       "(6, 7]          1            0      1          0.014296              0.985704   \n",
       "(7, 8]          1            0      1          0.014296              0.985704   \n",
       "(8, 9]          2            0      2          0.028592              1.971408   \n",
       "\n",
       "          chi_default  chi_not_default  \n",
       "bins_var                                \n",
       "(-1, 0]     12.464762         0.180779  \n",
       "(0, 1]       1.809654         0.026246  \n",
       "(1, 2]     240.602635         3.489501  \n",
       "(2, 3]     144.522238         2.096031  \n",
       "(3, 4]     128.158200         1.858700  \n",
       "(4, 5]     165.019052         2.393300  \n",
       "(5, 6]      21.359700         0.309783  \n",
       "(6, 7]      67.964733         0.985704  \n",
       "(7, 8]      67.964733         0.985704  \n",
       "(8, 9]     135.929466         1.971408  "
      ],
      "text/html": "<div>\n<style scoped>\n    .dataframe tbody tr th:only-of-type {\n        vertical-align: middle;\n    }\n\n    .dataframe tbody tr th {\n        vertical-align: top;\n    }\n\n    .dataframe thead th {\n        text-align: right;\n    }\n</style>\n<table border=\"1\" class=\"dataframe\">\n  <thead>\n    <tr style=\"text-align: right;\">\n      <th></th>\n      <th>default</th>\n      <th>not_default</th>\n      <th>count</th>\n      <th>expected_default</th>\n      <th>expected_not_default</th>\n      <th>chi_default</th>\n      <th>chi_not_default</th>\n    </tr>\n    <tr>\n      <th>bins_var</th>\n      <th></th>\n      <th></th>\n      <th></th>\n      <th></th>\n      <th></th>\n      <th></th>\n      <th></th>\n    </tr>\n  </thead>\n  <tbody>\n    <tr>\n      <th>(-1, 0]</th>\n      <td>620</td>\n      <td>49350</td>\n      <td>49970</td>\n      <td>714.362939</td>\n      <td>49255.637061</td>\n      <td>12.464762</td>\n      <td>0.180779</td>\n    </tr>\n    <tr>\n      <th>(0, 1]</th>\n      <td>329</td>\n      <td>21040</td>\n      <td>21369</td>\n      <td>305.487726</td>\n      <td>21063.512274</td>\n      <td>1.809654</td>\n      <td>0.026246</td>\n    </tr>\n    <tr>\n      <th>(1, 2]</th>\n      <td>50</td>\n      <td>475</td>\n      <td>525</td>\n      <td>7.505314</td>\n      <td>517.494686</td>\n      <td>240.602635</td>\n      <td>3.489501</td>\n    </tr>\n    <tr>\n      <th>(2, 3]</th>\n      <td>14</td>\n      <td>66</td>\n      <td>80</td>\n      <td>1.143667</td>\n      <td>78.856333</td>\n      <td>144.522238</td>\n      <td>2.096031</td>\n    </tr>\n    <tr>\n      <th>(3, 4]</th>\n      <td>6</td>\n      <td>12</td>\n      <td>18</td>\n      <td>0.257325</td>\n      <td>17.742675</td>\n      <td>128.158200</td>\n      <td>1.858700</td>\n    </tr>\n    <tr>\n      <th>(4, 5]</th>\n      <td>5</td>\n      <td>5</td>\n      <td>10</td>\n      <td>0.142958</td>\n      <td>9.857042</td>\n      <td>165.019052</td>\n      <td>2.393300</td>\n    </tr>\n    <tr>\n      <th>(5, 6]</th>\n      <td>1</td>\n      <td>2</td>\n      <td>3</td>\n      <td>0.042888</td>\n      <td>2.957112</td>\n      <td>21.359700</td>\n      <td>0.309783</td>\n    </tr>\n    <tr>\n      <th>(6, 7]</th>\n      <td>1</td>\n      <td>0</td>\n      <td>1</td>\n      <td>0.014296</td>\n      <td>0.985704</td>\n      <td>67.964733</td>\n      <td>0.985704</td>\n    </tr>\n    <tr>\n      <th>(7, 8]</th>\n      <td>1</td>\n      <td>0</td>\n      <td>1</td>\n      <td>0.014296</td>\n      <td>0.985704</td>\n      <td>67.964733</td>\n      <td>0.985704</td>\n    </tr>\n    <tr>\n      <th>(8, 9]</th>\n      <td>2</td>\n      <td>0</td>\n      <td>2</td>\n      <td>0.028592</td>\n      <td>1.971408</td>\n      <td>135.929466</td>\n      <td>1.971408</td>\n    </tr>\n  </tbody>\n</table>\n</div>"
     },
     "metadata": {},
     "execution_count": 7
    }
   ],
   "source": [
    "_, var_profile = func.test_k_prop(\n",
    "    df[[\"default\"]]\n",
    "    .assign(\n",
    "        var=df[\"num_active_div_by_paid_inv_0_12m\"].combine_first(df[\"num_active_inv\"]),\n",
    "        bins_var=lambda frame: pd.cut(frame[\"var\"], range(-1, 10)),\n",
    "    )\n",
    "    .groupby(\"bins_var\")[\"default\"]\n",
    "    .agg([\"sum\", \"count\"])\n",
    "    .assign(\n",
    "        default=lambda df: df[\"sum\"], not_default=lambda df: df[\"count\"] - df[\"sum\"]\n",
    "    )[[\"default\", \"not_default\", \"count\"]]\n",
    "    .transform(lambda s: s.astype(int))\n",
    ")\n",
    "\n",
    "var_profile"
   ]
  },
  {
   "cell_type": "code",
   "execution_count": 8,
   "id": "44703931",
   "metadata": {},
   "outputs": [
    {
     "output_type": "display_data",
     "data": {
      "application/vnd.plotly.v1+json": {
       "config": {
        "plotlyServerURL": "https://plot.ly"
       },
       "data": [
        {
         "name": "not_default",
         "opacity": 0.75,
         "type": "bar",
         "x": [
          0,
          1,
          2,
          3,
          4,
          5,
          6,
          7,
          8,
          9
         ],
         "y": [
          0.98759255553332,
          0.9846038654125134,
          0.9047619047619048,
          0.825,
          0.6666666666666666,
          0.5,
          0.6666666666666666,
          0,
          0,
          0
         ]
        },
        {
         "name": "default",
         "opacity": 0.75,
         "type": "bar",
         "x": [
          0,
          1,
          2,
          3,
          4,
          5,
          6,
          7,
          8,
          9
         ],
         "y": [
          0.012407444466680007,
          0.015396134587486546,
          0.09523809523809523,
          0.175,
          0.3333333333333333,
          0.5,
          0.3333333333333333,
          1,
          1,
          1
         ]
        }
       ],
       "layout": {
        "barmode": "relative",
        "template": {
         "data": {
          "bar": [
           {
            "error_x": {
             "color": "#2a3f5f"
            },
            "error_y": {
             "color": "#2a3f5f"
            },
            "marker": {
             "line": {
              "color": "white",
              "width": 0.5
             }
            },
            "type": "bar"
           }
          ],
          "barpolar": [
           {
            "marker": {
             "line": {
              "color": "white",
              "width": 0.5
             }
            },
            "type": "barpolar"
           }
          ],
          "carpet": [
           {
            "aaxis": {
             "endlinecolor": "#2a3f5f",
             "gridcolor": "#C8D4E3",
             "linecolor": "#C8D4E3",
             "minorgridcolor": "#C8D4E3",
             "startlinecolor": "#2a3f5f"
            },
            "baxis": {
             "endlinecolor": "#2a3f5f",
             "gridcolor": "#C8D4E3",
             "linecolor": "#C8D4E3",
             "minorgridcolor": "#C8D4E3",
             "startlinecolor": "#2a3f5f"
            },
            "type": "carpet"
           }
          ],
          "choropleth": [
           {
            "colorbar": {
             "outlinewidth": 0,
             "ticks": ""
            },
            "type": "choropleth"
           }
          ],
          "contour": [
           {
            "colorbar": {
             "outlinewidth": 0,
             "ticks": ""
            },
            "colorscale": [
             [
              0,
              "#0d0887"
             ],
             [
              0.1111111111111111,
              "#46039f"
             ],
             [
              0.2222222222222222,
              "#7201a8"
             ],
             [
              0.3333333333333333,
              "#9c179e"
             ],
             [
              0.4444444444444444,
              "#bd3786"
             ],
             [
              0.5555555555555556,
              "#d8576b"
             ],
             [
              0.6666666666666666,
              "#ed7953"
             ],
             [
              0.7777777777777778,
              "#fb9f3a"
             ],
             [
              0.8888888888888888,
              "#fdca26"
             ],
             [
              1,
              "#f0f921"
             ]
            ],
            "type": "contour"
           }
          ],
          "contourcarpet": [
           {
            "colorbar": {
             "outlinewidth": 0,
             "ticks": ""
            },
            "type": "contourcarpet"
           }
          ],
          "heatmap": [
           {
            "colorbar": {
             "outlinewidth": 0,
             "ticks": ""
            },
            "colorscale": [
             [
              0,
              "#0d0887"
             ],
             [
              0.1111111111111111,
              "#46039f"
             ],
             [
              0.2222222222222222,
              "#7201a8"
             ],
             [
              0.3333333333333333,
              "#9c179e"
             ],
             [
              0.4444444444444444,
              "#bd3786"
             ],
             [
              0.5555555555555556,
              "#d8576b"
             ],
             [
              0.6666666666666666,
              "#ed7953"
             ],
             [
              0.7777777777777778,
              "#fb9f3a"
             ],
             [
              0.8888888888888888,
              "#fdca26"
             ],
             [
              1,
              "#f0f921"
             ]
            ],
            "type": "heatmap"
           }
          ],
          "heatmapgl": [
           {
            "colorbar": {
             "outlinewidth": 0,
             "ticks": ""
            },
            "colorscale": [
             [
              0,
              "#0d0887"
             ],
             [
              0.1111111111111111,
              "#46039f"
             ],
             [
              0.2222222222222222,
              "#7201a8"
             ],
             [
              0.3333333333333333,
              "#9c179e"
             ],
             [
              0.4444444444444444,
              "#bd3786"
             ],
             [
              0.5555555555555556,
              "#d8576b"
             ],
             [
              0.6666666666666666,
              "#ed7953"
             ],
             [
              0.7777777777777778,
              "#fb9f3a"
             ],
             [
              0.8888888888888888,
              "#fdca26"
             ],
             [
              1,
              "#f0f921"
             ]
            ],
            "type": "heatmapgl"
           }
          ],
          "histogram": [
           {
            "marker": {
             "colorbar": {
              "outlinewidth": 0,
              "ticks": ""
             }
            },
            "type": "histogram"
           }
          ],
          "histogram2d": [
           {
            "colorbar": {
             "outlinewidth": 0,
             "ticks": ""
            },
            "colorscale": [
             [
              0,
              "#0d0887"
             ],
             [
              0.1111111111111111,
              "#46039f"
             ],
             [
              0.2222222222222222,
              "#7201a8"
             ],
             [
              0.3333333333333333,
              "#9c179e"
             ],
             [
              0.4444444444444444,
              "#bd3786"
             ],
             [
              0.5555555555555556,
              "#d8576b"
             ],
             [
              0.6666666666666666,
              "#ed7953"
             ],
             [
              0.7777777777777778,
              "#fb9f3a"
             ],
             [
              0.8888888888888888,
              "#fdca26"
             ],
             [
              1,
              "#f0f921"
             ]
            ],
            "type": "histogram2d"
           }
          ],
          "histogram2dcontour": [
           {
            "colorbar": {
             "outlinewidth": 0,
             "ticks": ""
            },
            "colorscale": [
             [
              0,
              "#0d0887"
             ],
             [
              0.1111111111111111,
              "#46039f"
             ],
             [
              0.2222222222222222,
              "#7201a8"
             ],
             [
              0.3333333333333333,
              "#9c179e"
             ],
             [
              0.4444444444444444,
              "#bd3786"
             ],
             [
              0.5555555555555556,
              "#d8576b"
             ],
             [
              0.6666666666666666,
              "#ed7953"
             ],
             [
              0.7777777777777778,
              "#fb9f3a"
             ],
             [
              0.8888888888888888,
              "#fdca26"
             ],
             [
              1,
              "#f0f921"
             ]
            ],
            "type": "histogram2dcontour"
           }
          ],
          "mesh3d": [
           {
            "colorbar": {
             "outlinewidth": 0,
             "ticks": ""
            },
            "type": "mesh3d"
           }
          ],
          "parcoords": [
           {
            "line": {
             "colorbar": {
              "outlinewidth": 0,
              "ticks": ""
             }
            },
            "type": "parcoords"
           }
          ],
          "pie": [
           {
            "automargin": true,
            "type": "pie"
           }
          ],
          "scatter": [
           {
            "marker": {
             "colorbar": {
              "outlinewidth": 0,
              "ticks": ""
             }
            },
            "type": "scatter"
           }
          ],
          "scatter3d": [
           {
            "line": {
             "colorbar": {
              "outlinewidth": 0,
              "ticks": ""
             }
            },
            "marker": {
             "colorbar": {
              "outlinewidth": 0,
              "ticks": ""
             }
            },
            "type": "scatter3d"
           }
          ],
          "scattercarpet": [
           {
            "marker": {
             "colorbar": {
              "outlinewidth": 0,
              "ticks": ""
             }
            },
            "type": "scattercarpet"
           }
          ],
          "scattergeo": [
           {
            "marker": {
             "colorbar": {
              "outlinewidth": 0,
              "ticks": ""
             }
            },
            "type": "scattergeo"
           }
          ],
          "scattergl": [
           {
            "marker": {
             "colorbar": {
              "outlinewidth": 0,
              "ticks": ""
             }
            },
            "type": "scattergl"
           }
          ],
          "scattermapbox": [
           {
            "marker": {
             "colorbar": {
              "outlinewidth": 0,
              "ticks": ""
             }
            },
            "type": "scattermapbox"
           }
          ],
          "scatterpolar": [
           {
            "marker": {
             "colorbar": {
              "outlinewidth": 0,
              "ticks": ""
             }
            },
            "type": "scatterpolar"
           }
          ],
          "scatterpolargl": [
           {
            "marker": {
             "colorbar": {
              "outlinewidth": 0,
              "ticks": ""
             }
            },
            "type": "scatterpolargl"
           }
          ],
          "scatterternary": [
           {
            "marker": {
             "colorbar": {
              "outlinewidth": 0,
              "ticks": ""
             }
            },
            "type": "scatterternary"
           }
          ],
          "surface": [
           {
            "colorbar": {
             "outlinewidth": 0,
             "ticks": ""
            },
            "colorscale": [
             [
              0,
              "#0d0887"
             ],
             [
              0.1111111111111111,
              "#46039f"
             ],
             [
              0.2222222222222222,
              "#7201a8"
             ],
             [
              0.3333333333333333,
              "#9c179e"
             ],
             [
              0.4444444444444444,
              "#bd3786"
             ],
             [
              0.5555555555555556,
              "#d8576b"
             ],
             [
              0.6666666666666666,
              "#ed7953"
             ],
             [
              0.7777777777777778,
              "#fb9f3a"
             ],
             [
              0.8888888888888888,
              "#fdca26"
             ],
             [
              1,
              "#f0f921"
             ]
            ],
            "type": "surface"
           }
          ],
          "table": [
           {
            "cells": {
             "fill": {
              "color": "#EBF0F8"
             },
             "line": {
              "color": "white"
             }
            },
            "header": {
             "fill": {
              "color": "#C8D4E3"
             },
             "line": {
              "color": "white"
             }
            },
            "type": "table"
           }
          ]
         },
         "layout": {
          "annotationdefaults": {
           "arrowcolor": "#2a3f5f",
           "arrowhead": 0,
           "arrowwidth": 1
          },
          "autotypenumbers": "strict",
          "coloraxis": {
           "colorbar": {
            "outlinewidth": 0,
            "ticks": ""
           }
          },
          "colorscale": {
           "diverging": [
            [
             0,
             "#8e0152"
            ],
            [
             0.1,
             "#c51b7d"
            ],
            [
             0.2,
             "#de77ae"
            ],
            [
             0.3,
             "#f1b6da"
            ],
            [
             0.4,
             "#fde0ef"
            ],
            [
             0.5,
             "#f7f7f7"
            ],
            [
             0.6,
             "#e6f5d0"
            ],
            [
             0.7,
             "#b8e186"
            ],
            [
             0.8,
             "#7fbc41"
            ],
            [
             0.9,
             "#4d9221"
            ],
            [
             1,
             "#276419"
            ]
           ],
           "sequential": [
            [
             0,
             "#0d0887"
            ],
            [
             0.1111111111111111,
             "#46039f"
            ],
            [
             0.2222222222222222,
             "#7201a8"
            ],
            [
             0.3333333333333333,
             "#9c179e"
            ],
            [
             0.4444444444444444,
             "#bd3786"
            ],
            [
             0.5555555555555556,
             "#d8576b"
            ],
            [
             0.6666666666666666,
             "#ed7953"
            ],
            [
             0.7777777777777778,
             "#fb9f3a"
            ],
            [
             0.8888888888888888,
             "#fdca26"
            ],
            [
             1,
             "#f0f921"
            ]
           ],
           "sequentialminus": [
            [
             0,
             "#0d0887"
            ],
            [
             0.1111111111111111,
             "#46039f"
            ],
            [
             0.2222222222222222,
             "#7201a8"
            ],
            [
             0.3333333333333333,
             "#9c179e"
            ],
            [
             0.4444444444444444,
             "#bd3786"
            ],
            [
             0.5555555555555556,
             "#d8576b"
            ],
            [
             0.6666666666666666,
             "#ed7953"
            ],
            [
             0.7777777777777778,
             "#fb9f3a"
            ],
            [
             0.8888888888888888,
             "#fdca26"
            ],
            [
             1,
             "#f0f921"
            ]
           ]
          },
          "colorway": [
           "#636efa",
           "#EF553B",
           "#00cc96",
           "#ab63fa",
           "#FFA15A",
           "#19d3f3",
           "#FF6692",
           "#B6E880",
           "#FF97FF",
           "#FECB52"
          ],
          "font": {
           "color": "#2a3f5f"
          },
          "geo": {
           "bgcolor": "white",
           "lakecolor": "white",
           "landcolor": "white",
           "showlakes": true,
           "showland": true,
           "subunitcolor": "#C8D4E3"
          },
          "hoverlabel": {
           "align": "left"
          },
          "hovermode": "closest",
          "mapbox": {
           "style": "light"
          },
          "paper_bgcolor": "white",
          "plot_bgcolor": "white",
          "polar": {
           "angularaxis": {
            "gridcolor": "#EBF0F8",
            "linecolor": "#EBF0F8",
            "ticks": ""
           },
           "bgcolor": "white",
           "radialaxis": {
            "gridcolor": "#EBF0F8",
            "linecolor": "#EBF0F8",
            "ticks": ""
           }
          },
          "scene": {
           "xaxis": {
            "backgroundcolor": "white",
            "gridcolor": "#DFE8F3",
            "gridwidth": 2,
            "linecolor": "#EBF0F8",
            "showbackground": true,
            "ticks": "",
            "zerolinecolor": "#EBF0F8"
           },
           "yaxis": {
            "backgroundcolor": "white",
            "gridcolor": "#DFE8F3",
            "gridwidth": 2,
            "linecolor": "#EBF0F8",
            "showbackground": true,
            "ticks": "",
            "zerolinecolor": "#EBF0F8"
           },
           "zaxis": {
            "backgroundcolor": "white",
            "gridcolor": "#DFE8F3",
            "gridwidth": 2,
            "linecolor": "#EBF0F8",
            "showbackground": true,
            "ticks": "",
            "zerolinecolor": "#EBF0F8"
           }
          },
          "shapedefaults": {
           "line": {
            "color": "#2a3f5f"
           }
          },
          "ternary": {
           "aaxis": {
            "gridcolor": "#DFE8F3",
            "linecolor": "#A2B1C6",
            "ticks": ""
           },
           "baxis": {
            "gridcolor": "#DFE8F3",
            "linecolor": "#A2B1C6",
            "ticks": ""
           },
           "bgcolor": "white",
           "caxis": {
            "gridcolor": "#DFE8F3",
            "linecolor": "#A2B1C6",
            "ticks": ""
           }
          },
          "title": {
           "x": 0.05
          },
          "xaxis": {
           "automargin": true,
           "gridcolor": "#EBF0F8",
           "linecolor": "#EBF0F8",
           "ticks": "",
           "title": {
            "standoff": 15
           },
           "zerolinecolor": "#EBF0F8",
           "zerolinewidth": 2
          },
          "yaxis": {
           "automargin": true,
           "gridcolor": "#EBF0F8",
           "linecolor": "#EBF0F8",
           "ticks": "",
           "title": {
            "standoff": 15
           },
           "zerolinecolor": "#EBF0F8",
           "zerolinewidth": 2
          }
         }
        },
        "title": {
         "text": "Distribution of observations across 'num_active_div_by_paid_inv_0_12m' classes"
        },
        "xaxis": {
         "tickvals": [
          0,
          1,
          2,
          3,
          4,
          5,
          6,
          7,
          8,
          9
         ],
         "title": {
          "text": "Ordered Bins"
         }
        },
        "yaxis": {
         "tickformat": "%",
         "title": {
          "text": "Percentage"
         }
        }
       }
      }
     },
     "metadata": {}
    }
   ],
   "source": [
    "fig = go.Figure()\n",
    "\n",
    "fig.add_trace(\n",
    "    go.Bar(\n",
    "        x=var_profile.reset_index().index.to_list(),\n",
    "        y=(var_profile[\"not_default\"] / var_profile[\"count\"]),\n",
    "        name=\"not_default\",\n",
    "    )\n",
    ")\n",
    "\n",
    "fig.add_trace(\n",
    "    go.Bar(\n",
    "        x=var_profile.reset_index().index.to_list(),\n",
    "        y=(var_profile[\"default\"] / var_profile[\"count\"]),\n",
    "        name=\"default\",\n",
    "    )\n",
    ")\n",
    "\n",
    "fig.update_layout(\n",
    "    title=\"Distribution of observations across 'num_active_div_by_paid_inv_0_12m' classes\",\n",
    "    barmode=\"relative\",\n",
    "    yaxis_title=\"Percentage\",\n",
    "    yaxis_tickformat=\"%\",\n",
    "    xaxis_title=\"Ordered Bins\",\n",
    "    xaxis_tickvals=[x for x in range(0, var_profile.shape[0])],\n",
    ")\n",
    "\n",
    "fig.update_traces(opacity=0.75)\n",
    "fig.show()"
   ]
  },
  {
   "cell_type": "markdown",
   "id": "63a30321",
   "metadata": {},
   "source": [
    "Let's take a look at the impact of our imputing by printing the number of new cases being considered for each category"
   ]
  },
  {
   "cell_type": "code",
   "execution_count": 9,
   "id": "621b8098",
   "metadata": {},
   "outputs": [
    {
     "output_type": "execute_result",
     "data": {
      "text/plain": [
       "          default  not_default  count\n",
       "bins_var                             \n",
       "(-1, 0]       337        14562  14899\n",
       "(0, 1]         84         1291   1375\n",
       "(1, 2]         21          113    134\n",
       "(2, 3]          2           19     21\n",
       "(3, 4]          3            4      7\n",
       "(4, 5]          0            1      1\n",
       "(5, 6]          0            0      0\n",
       "(6, 7]          0            0      0\n",
       "(7, 8]          0            0      0\n",
       "(8, 9]          0            0      0"
      ],
      "text/html": "<div>\n<style scoped>\n    .dataframe tbody tr th:only-of-type {\n        vertical-align: middle;\n    }\n\n    .dataframe tbody tr th {\n        vertical-align: top;\n    }\n\n    .dataframe thead th {\n        text-align: right;\n    }\n</style>\n<table border=\"1\" class=\"dataframe\">\n  <thead>\n    <tr style=\"text-align: right;\">\n      <th></th>\n      <th>default</th>\n      <th>not_default</th>\n      <th>count</th>\n    </tr>\n    <tr>\n      <th>bins_var</th>\n      <th></th>\n      <th></th>\n      <th></th>\n    </tr>\n  </thead>\n  <tbody>\n    <tr>\n      <th>(-1, 0]</th>\n      <td>337</td>\n      <td>14562</td>\n      <td>14899</td>\n    </tr>\n    <tr>\n      <th>(0, 1]</th>\n      <td>84</td>\n      <td>1291</td>\n      <td>1375</td>\n    </tr>\n    <tr>\n      <th>(1, 2]</th>\n      <td>21</td>\n      <td>113</td>\n      <td>134</td>\n    </tr>\n    <tr>\n      <th>(2, 3]</th>\n      <td>2</td>\n      <td>19</td>\n      <td>21</td>\n    </tr>\n    <tr>\n      <th>(3, 4]</th>\n      <td>3</td>\n      <td>4</td>\n      <td>7</td>\n    </tr>\n    <tr>\n      <th>(4, 5]</th>\n      <td>0</td>\n      <td>1</td>\n      <td>1</td>\n    </tr>\n    <tr>\n      <th>(5, 6]</th>\n      <td>0</td>\n      <td>0</td>\n      <td>0</td>\n    </tr>\n    <tr>\n      <th>(6, 7]</th>\n      <td>0</td>\n      <td>0</td>\n      <td>0</td>\n    </tr>\n    <tr>\n      <th>(7, 8]</th>\n      <td>0</td>\n      <td>0</td>\n      <td>0</td>\n    </tr>\n    <tr>\n      <th>(8, 9]</th>\n      <td>0</td>\n      <td>0</td>\n      <td>0</td>\n    </tr>\n  </tbody>\n</table>\n</div>"
     },
     "metadata": {},
     "execution_count": 9
    }
   ],
   "source": [
    "(\n",
    "    df[[\"num_active_div_by_paid_inv_0_12m\", \"default\"]]\n",
    "    .assign(\n",
    "        # num_active_div_by_paid_inv_0_12m=df[\"num_active_div_by_paid_inv_0_12m\"].combine_first(df[\"num_active_inv\"]),\n",
    "        bins_var=pd.cut(df[\"num_active_div_by_paid_inv_0_12m\"], range(-1, 10))\n",
    "    )\n",
    "    .groupby(\"bins_var\")[\"default\"]\n",
    "    .agg([\"sum\", \"count\"])\n",
    "    .assign(\n",
    "        default=lambda df: df[\"sum\"], not_default=lambda df: df[\"count\"] - df[\"sum\"]\n",
    "    )[[\"default\", \"not_default\", \"count\"]]\n",
    "    .transform(lambda s: s.astype(int))\n",
    "    .assign(\n",
    "        default=lambda frame: var_profile[\"default\"] - frame[\"default\"],\n",
    "        not_default=lambda frame: var_profile[\"not_default\"] - frame[\"not_default\"],\n",
    "        count=lambda frame: var_profile[\"count\"] - frame[\"count\"],\n",
    "    )\n",
    ")"
   ]
  },
  {
   "cell_type": "markdown",
   "id": "7df249a9",
   "metadata": {},
   "source": [
    "We see that most new observations due to imputing fall in the first bin (equals zero). However, percentagewise, the increase of default cases in categories that hold less observations is significantly higher, which indicates that our imputing strategy was indeed a good idea.\n",
    "\n",
    "Now, let's look at the impact of transforming this variable into a binary one."
   ]
  },
  {
   "cell_type": "code",
   "execution_count": 10,
   "id": "ff46d924",
   "metadata": {},
   "outputs": [
    {
     "output_type": "stream",
     "name": "stdout",
     "text": [
      "Using 1 degrees of freedom\nReject null hypothesis with 575.7626090477304 > 3.8414588206941285\n"
     ]
    },
    {
     "output_type": "execute_result",
     "data": {
      "text/plain": [
       "             default  not_default  count  expected_default  \\\n",
       "bins_var                                                     \n",
       "(-1.0, 1.0]      949        70390  71339       1020.827591   \n",
       "(1.0, inf]        81          560    641          9.172409   \n",
       "\n",
       "             expected_not_default  chi_default  chi_not_default  \n",
       "bins_var                                                         \n",
       "(-1.0, 1.0]          70318.172409     5.053941         0.073369  \n",
       "(1.0, inf]             631.827591   562.469775         8.165523  "
      ],
      "text/html": "<div>\n<style scoped>\n    .dataframe tbody tr th:only-of-type {\n        vertical-align: middle;\n    }\n\n    .dataframe tbody tr th {\n        vertical-align: top;\n    }\n\n    .dataframe thead th {\n        text-align: right;\n    }\n</style>\n<table border=\"1\" class=\"dataframe\">\n  <thead>\n    <tr style=\"text-align: right;\">\n      <th></th>\n      <th>default</th>\n      <th>not_default</th>\n      <th>count</th>\n      <th>expected_default</th>\n      <th>expected_not_default</th>\n      <th>chi_default</th>\n      <th>chi_not_default</th>\n    </tr>\n    <tr>\n      <th>bins_var</th>\n      <th></th>\n      <th></th>\n      <th></th>\n      <th></th>\n      <th></th>\n      <th></th>\n      <th></th>\n    </tr>\n  </thead>\n  <tbody>\n    <tr>\n      <th>(-1.0, 1.0]</th>\n      <td>949</td>\n      <td>70390</td>\n      <td>71339</td>\n      <td>1020.827591</td>\n      <td>70318.172409</td>\n      <td>5.053941</td>\n      <td>0.073369</td>\n    </tr>\n    <tr>\n      <th>(1.0, inf]</th>\n      <td>81</td>\n      <td>560</td>\n      <td>641</td>\n      <td>9.172409</td>\n      <td>631.827591</td>\n      <td>562.469775</td>\n      <td>8.165523</td>\n    </tr>\n  </tbody>\n</table>\n</div>"
     },
     "metadata": {},
     "execution_count": 10
    }
   ],
   "source": [
    "_, bool_var_profile = func.test_k_prop(\n",
    "    df[[\"default\"]]\n",
    "    .assign(\n",
    "        var=df[\"num_active_div_by_paid_inv_0_12m\"].combine_first(df[\"num_active_inv\"]),\n",
    "        bins_var=lambda frame: pd.cut(frame[\"var\"], [-1, 1, np.inf]),\n",
    "    )\n",
    "    .groupby(\"bins_var\")[\"default\"]\n",
    "    .agg([\"sum\", \"count\"])\n",
    "    .assign(\n",
    "        default=lambda df: df[\"sum\"], not_default=lambda df: df[\"count\"] - df[\"sum\"]\n",
    "    )[[\"default\", \"not_default\", \"count\"]]\n",
    "    .transform(lambda s: s.astype(int))\n",
    ")\n",
    "\n",
    "bool_var_profile"
   ]
  },
  {
   "cell_type": "markdown",
   "id": "a9ea57f3",
   "metadata": {},
   "source": [
    "It is interesting that the contamination rate in the \"bellow 1\" class is very close to the dataset as a whole (~0.014), but the \"above 1\" class gets a nearly 10-fold increase in its contamination (~.13). It seems that transforming this variable into boolean will still capture some of the \"default\" behaviour whilst reducing the trouble with the Curse of Dimensionality.\n",
    "\n",
    "How does this new variable correlate to the target label?"
   ]
  },
  {
   "cell_type": "code",
   "execution_count": 11,
   "id": "1f6747c6",
   "metadata": {},
   "outputs": [
    {
     "output_type": "execute_result",
     "data": {
      "text/plain": [
       "         corr_with_label\n",
       "var             0.125188\n",
       "above_1         0.089437"
      ],
      "text/html": "<div>\n<style scoped>\n    .dataframe tbody tr th:only-of-type {\n        vertical-align: middle;\n    }\n\n    .dataframe tbody tr th {\n        vertical-align: top;\n    }\n\n    .dataframe thead th {\n        text-align: right;\n    }\n</style>\n<table border=\"1\" class=\"dataframe\">\n  <thead>\n    <tr style=\"text-align: right;\">\n      <th></th>\n      <th>corr_with_label</th>\n    </tr>\n  </thead>\n  <tbody>\n    <tr>\n      <th>var</th>\n      <td>0.125188</td>\n    </tr>\n    <tr>\n      <th>above_1</th>\n      <td>0.089437</td>\n    </tr>\n  </tbody>\n</table>\n</div>"
     },
     "metadata": {},
     "execution_count": 11
    }
   ],
   "source": [
    "df[[\"default\"]].assign(\n",
    "    var=df[\"num_active_div_by_paid_inv_0_12m\"].combine_first(df[\"num_active_inv\"]),\n",
    "    above_1=lambda frame: (frame[\"var\"] > 1).astype(float),\n",
    ").corr()[\"default\"].to_frame(name=\"corr_with_label\").drop(\"default\")"
   ]
  },
  {
   "cell_type": "markdown",
   "id": "b10a6b5d",
   "metadata": {},
   "source": [
    "It is to be expected that reducing granularity will also reduce power. However, we must remind ourselves that correlation is not causation, and that the trade-off should be worth it. In conclusion, we decide to move forward with the boolean (above 1?) equivalent of the \"num_active_div_by_paid_inv_0_12m\" variable.\n",
    "\n",
    "Next, we look at \"archived\" variables."
   ]
  }
 ],
 "metadata": {
  "jupytext": {
   "main_language": "python"
  },
  "kernelspec": {
   "name": "python388jvsc74a57bd09f119b1d3a8a63730ae7ee508102d23a56b995c1f2248036bd772c0398b7d40e",
   "display_name": "Python 3.8.8 64-bit ('klarna': conda)"
  }
 },
 "nbformat": 4,
 "nbformat_minor": 5
}
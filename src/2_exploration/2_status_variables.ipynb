{
 "cells": [
  {
   "cell_type": "code",
   "execution_count": 1,
   "id": "c0096674",
   "metadata": {},
   "outputs": [],
   "source": [
    "import os\n",
    "import numpy as np\n",
    "import pandas as pd\n",
    "import plotly.io as pio\n",
    "import plotly.express as px\n",
    "import plotly.graph_objects as go\n",
    "import scipy.cluster.hierarchy as spc\n",
    "\n",
    "pio.templates.default = \"plotly_white\""
   ]
  },
  {
   "cell_type": "code",
   "execution_count": 2,
   "id": "fa87ee29",
   "metadata": {},
   "outputs": [],
   "source": [
    "try:\n",
    "    _ = first_run\n",
    "except NameError:\n",
    "    first_run = True\n",
    "    os.chdir(os.getcwd().rsplit(\"/\", 1)[0])\n",
    "    from _aux import functions as func"
   ]
  },
  {
   "cell_type": "markdown",
   "id": "f44b530e",
   "metadata": {},
   "source": [
    "# Load data"
   ]
  },
  {
   "cell_type": "code",
   "execution_count": 3,
   "id": "fb1881ed",
   "metadata": {},
   "outputs": [],
   "source": [
    "default = (\n",
    "    pd.read_csv(\n",
    "        \"../data/train/X_train.csv\",\n",
    "        index_col=0,\n",
    "        usecols=[\n",
    "            \"row_id\",\n",
    "            \"account_status\",\n",
    "            \"account_worst_status_0_3m\",\n",
    "            \"account_worst_status_12_24m\",\n",
    "            \"account_worst_status_3_6m\",\n",
    "            \"account_worst_status_6_12m\",\n",
    "            \"status_2nd_last_archived_0_24m\",\n",
    "            \"status_3rd_last_archived_0_24m\",\n",
    "            \"status_last_archived_0_24m\",\n",
    "            \"status_max_archived_0_12_months\",\n",
    "            \"status_max_archived_0_24_months\",\n",
    "            \"status_max_archived_0_6_months\",\n",
    "            \"account_days_in_dc_12_24m\",\n",
    "            \"account_days_in_rem_12_24m\",\n",
    "            \"account_days_in_term_12_24m\",\n",
    "        ],\n",
    "    )\n",
    "    .join(pd.read_csv(\"../data/train/y_train.csv\", index_col=0))\n",
    "    .query(\"default == 1\")\n",
    ")\n",
    "\n",
    "not_default = (\n",
    "    pd.read_csv(\n",
    "        \"../data/train/X_train.csv\",\n",
    "        index_col=0,\n",
    "        usecols=[\n",
    "            \"row_id\",\n",
    "            \"account_status\",\n",
    "            \"account_worst_status_0_3m\",\n",
    "            \"account_worst_status_12_24m\",\n",
    "            \"account_worst_status_3_6m\",\n",
    "            \"account_worst_status_6_12m\",\n",
    "            \"status_2nd_last_archived_0_24m\",\n",
    "            \"status_3rd_last_archived_0_24m\",\n",
    "            \"status_last_archived_0_24m\",\n",
    "            \"status_max_archived_0_12_months\",\n",
    "            \"status_max_archived_0_24_months\",\n",
    "            \"status_max_archived_0_6_months\",\n",
    "            \"account_days_in_dc_12_24m\",\n",
    "            \"account_days_in_rem_12_24m\",\n",
    "            \"account_days_in_term_12_24m\",\n",
    "        ],\n",
    "    )\n",
    "    .join(pd.read_csv(\"../data/train/y_train.csv\", index_col=0))\n",
    "    .query(\"default == 0\")\n",
    ")"
   ]
  },
  {
   "cell_type": "markdown",
   "id": "3a69619e",
   "metadata": {},
   "source": [
    "## Correlation between status variables\n",
    "\n",
    "As shown in our sanity profile report, status variables have high correlation amongst themselves mainly due to overlaping lookback windows for aggregation. The first thing we must do is choose one (or some) of them to represent the group, which can be achieved by correlation clustering."
   ]
  },
  {
   "cell_type": "code",
   "execution_count": 4,
   "id": "502dfde7",
   "metadata": {},
   "outputs": [
    {
     "output_type": "display_data",
     "data": {
      "application/vnd.plotly.v1+json": {
       "config": {
        "plotlyServerURL": "https://plot.ly"
       },
       "data": [
        {
         "colorscale": [
          [
           0,
           "rgb(103,0,31)"
          ],
          [
           0.1,
           "rgb(178,24,43)"
          ],
          [
           0.2,
           "rgb(214,96,77)"
          ],
          [
           0.3,
           "rgb(244,165,130)"
          ],
          [
           0.4,
           "rgb(253,219,199)"
          ],
          [
           0.5,
           "rgb(247,247,247)"
          ],
          [
           0.6,
           "rgb(209,229,240)"
          ],
          [
           0.7,
           "rgb(146,197,222)"
          ],
          [
           0.8,
           "rgb(67,147,195)"
          ],
          [
           0.9,
           "rgb(33,102,172)"
          ],
          [
           1,
           "rgb(5,48,97)"
          ]
         ],
         "type": "heatmap",
         "x": [
          "account_days_in_dc_12_24m",
          "account_days_in_rem_12_24m",
          "account_days_in_term_12_24m",
          "account_status",
          "account_worst_status_0_3m",
          "account_worst_status_12_24m",
          "account_worst_status_3_6m",
          "account_worst_status_6_12m",
          "status_last_archived_0_24m",
          "status_2nd_last_archived_0_24m",
          "status_3rd_last_archived_0_24m",
          "status_max_archived_0_6_months",
          "status_max_archived_0_12_months",
          "status_max_archived_0_24_months",
          "default"
         ],
         "y": [
          "account_days_in_dc_12_24m",
          "account_days_in_rem_12_24m",
          "account_days_in_term_12_24m",
          "account_status",
          "account_worst_status_0_3m",
          "account_worst_status_12_24m",
          "account_worst_status_3_6m",
          "account_worst_status_6_12m",
          "status_last_archived_0_24m",
          "status_2nd_last_archived_0_24m",
          "status_3rd_last_archived_0_24m",
          "status_max_archived_0_6_months",
          "status_max_archived_0_12_months",
          "status_max_archived_0_24_months",
          "default"
         ],
         "z": [
          [
           null,
           null,
           null,
           null,
           null,
           null,
           null,
           null,
           null,
           null,
           null,
           null,
           null,
           null,
           null
          ],
          [
           0.07902591124828746,
           null,
           null,
           null,
           null,
           null,
           null,
           null,
           null,
           null,
           null,
           null,
           null,
           null,
           null
          ],
          [
           0.3227730156264648,
           0.3528462115167957,
           null,
           null,
           null,
           null,
           null,
           null,
           null,
           null,
           null,
           null,
           null,
           null,
           null
          ],
          [
           0.021131403939395995,
           0.16273260985521157,
           0.06451092550951303,
           null,
           null,
           null,
           null,
           null,
           null,
           null,
           null,
           null,
           null,
           null,
           null
          ],
          [
           0.055598798250907626,
           0.2557269856668642,
           0.12874923045873723,
           0.4289229326129004,
           null,
           null,
           null,
           null,
           null,
           null,
           null,
           null,
           null,
           null,
           null
          ],
          [
           0.3007413713975725,
           0.6050929859889753,
           0.5581061145607903,
           0.14160177743013233,
           0.29619949710993343,
           null,
           null,
           null,
           null,
           null,
           null,
           null,
           null,
           null,
           null
          ],
          [
           0.048947485030265504,
           0.28053014958185657,
           0.13668595151032628,
           0.22986917262895573,
           0.5033910982701589,
           0.30278983088948574,
           null,
           null,
           null,
           null,
           null,
           null,
           null,
           null,
           null
          ],
          [
           0.10965947699576284,
           0.39522135894019295,
           0.21349056855486997,
           0.17864301999687912,
           0.34719525354871394,
           0.4306465534693429,
           0.4646751659695051,
           null,
           null,
           null,
           null,
           null,
           null,
           null,
           null
          ],
          [
           0.03687900565411769,
           0.16088073303332562,
           0.1036020285713814,
           0.07323406335925979,
           0.15756290058346123,
           0.1873674100831117,
           0.16296602770668478,
           0.16444493796888898,
           null,
           null,
           null,
           null,
           null,
           null,
           null
          ],
          [
           0.025673393824798586,
           0.1487591304006895,
           0.07093957737565897,
           0.039465427054043066,
           0.10711669494841844,
           0.1332217350920873,
           0.11684469506455471,
           0.12442163818646403,
           0.5998710661008999,
           null,
           null,
           null,
           null,
           null,
           null
          ],
          [
           0.010790851041155455,
           0.12426826501677302,
           0.05118550759236894,
           0.019568016937155003,
           0.07070341318011722,
           0.07872491958536447,
           0.07308875364182904,
           0.07576834401849807,
           0.4909816313036747,
           0.6917093538243115,
           null,
           null,
           null,
           null,
           null
          ],
          [
           0.010745757339426648,
           0.0823003643624392,
           0.027437286871833715,
           0.00670337489280037,
           0.03591445778671504,
           0.0395480223431435,
           0.028495807317390303,
           0.03500806324734679,
           0.5133963868048367,
           0.5533899806484068,
           0.5473666329546614,
           null,
           null,
           null,
           null
          ],
          [
           0.020590347583107398,
           0.1511800818137586,
           0.06244735228678816,
           0.05426907633484799,
           0.12653679673314178,
           0.1412842133608254,
           0.11876826392388327,
           0.12489211063803246,
           0.6870549052943683,
           0.6724698579149956,
           0.636568017885323,
           0.7385986249335512,
           null,
           null,
           null
          ],
          [
           0.032591234991159124,
           0.21013023889020094,
           0.10338901579759681,
           0.0719018348421182,
           0.17260666750775655,
           0.23509722994829743,
           0.17412207914711417,
           0.20849734934879513,
           0.7637346574373791,
           0.6996618332564057,
           0.6458708265719156,
           0.6209351540122775,
           0.8430247592648415,
           null,
           null
          ],
          [
           0.07057299823531744,
           0.08409395121568698,
           0.08947457515508696,
           0.11511178824310803,
           0.15896010594507323,
           0.15787388693852974,
           0.15701417850685,
           0.16467396624214953,
           0.043865004823786455,
           0.003871992359323684,
           -0.016915258342070943,
           -0.028630887202627405,
           0.005627931647122224,
           0.025782058354826543,
           null
          ]
         ],
         "zmax": 1,
         "zmin": -1
        }
       ],
       "layout": {
        "height": 500,
        "template": {
         "data": {
          "bar": [
           {
            "error_x": {
             "color": "#2a3f5f"
            },
            "error_y": {
             "color": "#2a3f5f"
            },
            "marker": {
             "line": {
              "color": "white",
              "width": 0.5
             }
            },
            "type": "bar"
           }
          ],
          "barpolar": [
           {
            "marker": {
             "line": {
              "color": "white",
              "width": 0.5
             }
            },
            "type": "barpolar"
           }
          ],
          "carpet": [
           {
            "aaxis": {
             "endlinecolor": "#2a3f5f",
             "gridcolor": "#C8D4E3",
             "linecolor": "#C8D4E3",
             "minorgridcolor": "#C8D4E3",
             "startlinecolor": "#2a3f5f"
            },
            "baxis": {
             "endlinecolor": "#2a3f5f",
             "gridcolor": "#C8D4E3",
             "linecolor": "#C8D4E3",
             "minorgridcolor": "#C8D4E3",
             "startlinecolor": "#2a3f5f"
            },
            "type": "carpet"
           }
          ],
          "choropleth": [
           {
            "colorbar": {
             "outlinewidth": 0,
             "ticks": ""
            },
            "type": "choropleth"
           }
          ],
          "contour": [
           {
            "colorbar": {
             "outlinewidth": 0,
             "ticks": ""
            },
            "colorscale": [
             [
              0,
              "#0d0887"
             ],
             [
              0.1111111111111111,
              "#46039f"
             ],
             [
              0.2222222222222222,
              "#7201a8"
             ],
             [
              0.3333333333333333,
              "#9c179e"
             ],
             [
              0.4444444444444444,
              "#bd3786"
             ],
             [
              0.5555555555555556,
              "#d8576b"
             ],
             [
              0.6666666666666666,
              "#ed7953"
             ],
             [
              0.7777777777777778,
              "#fb9f3a"
             ],
             [
              0.8888888888888888,
              "#fdca26"
             ],
             [
              1,
              "#f0f921"
             ]
            ],
            "type": "contour"
           }
          ],
          "contourcarpet": [
           {
            "colorbar": {
             "outlinewidth": 0,
             "ticks": ""
            },
            "type": "contourcarpet"
           }
          ],
          "heatmap": [
           {
            "colorbar": {
             "outlinewidth": 0,
             "ticks": ""
            },
            "colorscale": [
             [
              0,
              "#0d0887"
             ],
             [
              0.1111111111111111,
              "#46039f"
             ],
             [
              0.2222222222222222,
              "#7201a8"
             ],
             [
              0.3333333333333333,
              "#9c179e"
             ],
             [
              0.4444444444444444,
              "#bd3786"
             ],
             [
              0.5555555555555556,
              "#d8576b"
             ],
             [
              0.6666666666666666,
              "#ed7953"
             ],
             [
              0.7777777777777778,
              "#fb9f3a"
             ],
             [
              0.8888888888888888,
              "#fdca26"
             ],
             [
              1,
              "#f0f921"
             ]
            ],
            "type": "heatmap"
           }
          ],
          "heatmapgl": [
           {
            "colorbar": {
             "outlinewidth": 0,
             "ticks": ""
            },
            "colorscale": [
             [
              0,
              "#0d0887"
             ],
             [
              0.1111111111111111,
              "#46039f"
             ],
             [
              0.2222222222222222,
              "#7201a8"
             ],
             [
              0.3333333333333333,
              "#9c179e"
             ],
             [
              0.4444444444444444,
              "#bd3786"
             ],
             [
              0.5555555555555556,
              "#d8576b"
             ],
             [
              0.6666666666666666,
              "#ed7953"
             ],
             [
              0.7777777777777778,
              "#fb9f3a"
             ],
             [
              0.8888888888888888,
              "#fdca26"
             ],
             [
              1,
              "#f0f921"
             ]
            ],
            "type": "heatmapgl"
           }
          ],
          "histogram": [
           {
            "marker": {
             "colorbar": {
              "outlinewidth": 0,
              "ticks": ""
             }
            },
            "type": "histogram"
           }
          ],
          "histogram2d": [
           {
            "colorbar": {
             "outlinewidth": 0,
             "ticks": ""
            },
            "colorscale": [
             [
              0,
              "#0d0887"
             ],
             [
              0.1111111111111111,
              "#46039f"
             ],
             [
              0.2222222222222222,
              "#7201a8"
             ],
             [
              0.3333333333333333,
              "#9c179e"
             ],
             [
              0.4444444444444444,
              "#bd3786"
             ],
             [
              0.5555555555555556,
              "#d8576b"
             ],
             [
              0.6666666666666666,
              "#ed7953"
             ],
             [
              0.7777777777777778,
              "#fb9f3a"
             ],
             [
              0.8888888888888888,
              "#fdca26"
             ],
             [
              1,
              "#f0f921"
             ]
            ],
            "type": "histogram2d"
           }
          ],
          "histogram2dcontour": [
           {
            "colorbar": {
             "outlinewidth": 0,
             "ticks": ""
            },
            "colorscale": [
             [
              0,
              "#0d0887"
             ],
             [
              0.1111111111111111,
              "#46039f"
             ],
             [
              0.2222222222222222,
              "#7201a8"
             ],
             [
              0.3333333333333333,
              "#9c179e"
             ],
             [
              0.4444444444444444,
              "#bd3786"
             ],
             [
              0.5555555555555556,
              "#d8576b"
             ],
             [
              0.6666666666666666,
              "#ed7953"
             ],
             [
              0.7777777777777778,
              "#fb9f3a"
             ],
             [
              0.8888888888888888,
              "#fdca26"
             ],
             [
              1,
              "#f0f921"
             ]
            ],
            "type": "histogram2dcontour"
           }
          ],
          "mesh3d": [
           {
            "colorbar": {
             "outlinewidth": 0,
             "ticks": ""
            },
            "type": "mesh3d"
           }
          ],
          "parcoords": [
           {
            "line": {
             "colorbar": {
              "outlinewidth": 0,
              "ticks": ""
             }
            },
            "type": "parcoords"
           }
          ],
          "pie": [
           {
            "automargin": true,
            "type": "pie"
           }
          ],
          "scatter": [
           {
            "marker": {
             "colorbar": {
              "outlinewidth": 0,
              "ticks": ""
             }
            },
            "type": "scatter"
           }
          ],
          "scatter3d": [
           {
            "line": {
             "colorbar": {
              "outlinewidth": 0,
              "ticks": ""
             }
            },
            "marker": {
             "colorbar": {
              "outlinewidth": 0,
              "ticks": ""
             }
            },
            "type": "scatter3d"
           }
          ],
          "scattercarpet": [
           {
            "marker": {
             "colorbar": {
              "outlinewidth": 0,
              "ticks": ""
             }
            },
            "type": "scattercarpet"
           }
          ],
          "scattergeo": [
           {
            "marker": {
             "colorbar": {
              "outlinewidth": 0,
              "ticks": ""
             }
            },
            "type": "scattergeo"
           }
          ],
          "scattergl": [
           {
            "marker": {
             "colorbar": {
              "outlinewidth": 0,
              "ticks": ""
             }
            },
            "type": "scattergl"
           }
          ],
          "scattermapbox": [
           {
            "marker": {
             "colorbar": {
              "outlinewidth": 0,
              "ticks": ""
             }
            },
            "type": "scattermapbox"
           }
          ],
          "scatterpolar": [
           {
            "marker": {
             "colorbar": {
              "outlinewidth": 0,
              "ticks": ""
             }
            },
            "type": "scatterpolar"
           }
          ],
          "scatterpolargl": [
           {
            "marker": {
             "colorbar": {
              "outlinewidth": 0,
              "ticks": ""
             }
            },
            "type": "scatterpolargl"
           }
          ],
          "scatterternary": [
           {
            "marker": {
             "colorbar": {
              "outlinewidth": 0,
              "ticks": ""
             }
            },
            "type": "scatterternary"
           }
          ],
          "surface": [
           {
            "colorbar": {
             "outlinewidth": 0,
             "ticks": ""
            },
            "colorscale": [
             [
              0,
              "#0d0887"
             ],
             [
              0.1111111111111111,
              "#46039f"
             ],
             [
              0.2222222222222222,
              "#7201a8"
             ],
             [
              0.3333333333333333,
              "#9c179e"
             ],
             [
              0.4444444444444444,
              "#bd3786"
             ],
             [
              0.5555555555555556,
              "#d8576b"
             ],
             [
              0.6666666666666666,
              "#ed7953"
             ],
             [
              0.7777777777777778,
              "#fb9f3a"
             ],
             [
              0.8888888888888888,
              "#fdca26"
             ],
             [
              1,
              "#f0f921"
             ]
            ],
            "type": "surface"
           }
          ],
          "table": [
           {
            "cells": {
             "fill": {
              "color": "#EBF0F8"
             },
             "line": {
              "color": "white"
             }
            },
            "header": {
             "fill": {
              "color": "#C8D4E3"
             },
             "line": {
              "color": "white"
             }
            },
            "type": "table"
           }
          ]
         },
         "layout": {
          "annotationdefaults": {
           "arrowcolor": "#2a3f5f",
           "arrowhead": 0,
           "arrowwidth": 1
          },
          "autotypenumbers": "strict",
          "coloraxis": {
           "colorbar": {
            "outlinewidth": 0,
            "ticks": ""
           }
          },
          "colorscale": {
           "diverging": [
            [
             0,
             "#8e0152"
            ],
            [
             0.1,
             "#c51b7d"
            ],
            [
             0.2,
             "#de77ae"
            ],
            [
             0.3,
             "#f1b6da"
            ],
            [
             0.4,
             "#fde0ef"
            ],
            [
             0.5,
             "#f7f7f7"
            ],
            [
             0.6,
             "#e6f5d0"
            ],
            [
             0.7,
             "#b8e186"
            ],
            [
             0.8,
             "#7fbc41"
            ],
            [
             0.9,
             "#4d9221"
            ],
            [
             1,
             "#276419"
            ]
           ],
           "sequential": [
            [
             0,
             "#0d0887"
            ],
            [
             0.1111111111111111,
             "#46039f"
            ],
            [
             0.2222222222222222,
             "#7201a8"
            ],
            [
             0.3333333333333333,
             "#9c179e"
            ],
            [
             0.4444444444444444,
             "#bd3786"
            ],
            [
             0.5555555555555556,
             "#d8576b"
            ],
            [
             0.6666666666666666,
             "#ed7953"
            ],
            [
             0.7777777777777778,
             "#fb9f3a"
            ],
            [
             0.8888888888888888,
             "#fdca26"
            ],
            [
             1,
             "#f0f921"
            ]
           ],
           "sequentialminus": [
            [
             0,
             "#0d0887"
            ],
            [
             0.1111111111111111,
             "#46039f"
            ],
            [
             0.2222222222222222,
             "#7201a8"
            ],
            [
             0.3333333333333333,
             "#9c179e"
            ],
            [
             0.4444444444444444,
             "#bd3786"
            ],
            [
             0.5555555555555556,
             "#d8576b"
            ],
            [
             0.6666666666666666,
             "#ed7953"
            ],
            [
             0.7777777777777778,
             "#fb9f3a"
            ],
            [
             0.8888888888888888,
             "#fdca26"
            ],
            [
             1,
             "#f0f921"
            ]
           ]
          },
          "colorway": [
           "#636efa",
           "#EF553B",
           "#00cc96",
           "#ab63fa",
           "#FFA15A",
           "#19d3f3",
           "#FF6692",
           "#B6E880",
           "#FF97FF",
           "#FECB52"
          ],
          "font": {
           "color": "#2a3f5f"
          },
          "geo": {
           "bgcolor": "white",
           "lakecolor": "white",
           "landcolor": "white",
           "showlakes": true,
           "showland": true,
           "subunitcolor": "#C8D4E3"
          },
          "hoverlabel": {
           "align": "left"
          },
          "hovermode": "closest",
          "mapbox": {
           "style": "light"
          },
          "paper_bgcolor": "white",
          "plot_bgcolor": "white",
          "polar": {
           "angularaxis": {
            "gridcolor": "#EBF0F8",
            "linecolor": "#EBF0F8",
            "ticks": ""
           },
           "bgcolor": "white",
           "radialaxis": {
            "gridcolor": "#EBF0F8",
            "linecolor": "#EBF0F8",
            "ticks": ""
           }
          },
          "scene": {
           "xaxis": {
            "backgroundcolor": "white",
            "gridcolor": "#DFE8F3",
            "gridwidth": 2,
            "linecolor": "#EBF0F8",
            "showbackground": true,
            "ticks": "",
            "zerolinecolor": "#EBF0F8"
           },
           "yaxis": {
            "backgroundcolor": "white",
            "gridcolor": "#DFE8F3",
            "gridwidth": 2,
            "linecolor": "#EBF0F8",
            "showbackground": true,
            "ticks": "",
            "zerolinecolor": "#EBF0F8"
           },
           "zaxis": {
            "backgroundcolor": "white",
            "gridcolor": "#DFE8F3",
            "gridwidth": 2,
            "linecolor": "#EBF0F8",
            "showbackground": true,
            "ticks": "",
            "zerolinecolor": "#EBF0F8"
           }
          },
          "shapedefaults": {
           "line": {
            "color": "#2a3f5f"
           }
          },
          "ternary": {
           "aaxis": {
            "gridcolor": "#DFE8F3",
            "linecolor": "#A2B1C6",
            "ticks": ""
           },
           "baxis": {
            "gridcolor": "#DFE8F3",
            "linecolor": "#A2B1C6",
            "ticks": ""
           },
           "bgcolor": "white",
           "caxis": {
            "gridcolor": "#DFE8F3",
            "linecolor": "#A2B1C6",
            "ticks": ""
           }
          },
          "title": {
           "x": 0.05
          },
          "xaxis": {
           "automargin": true,
           "gridcolor": "#EBF0F8",
           "linecolor": "#EBF0F8",
           "ticks": "",
           "title": {
            "standoff": 15
           },
           "zerolinecolor": "#EBF0F8",
           "zerolinewidth": 2
          },
          "yaxis": {
           "automargin": true,
           "gridcolor": "#EBF0F8",
           "linecolor": "#EBF0F8",
           "ticks": "",
           "title": {
            "standoff": 15
           },
           "zerolinecolor": "#EBF0F8",
           "zerolinewidth": 2
          }
         }
        },
        "title": {
         "text": "Correlation between 'status' variables"
        },
        "width": 1000,
        "xaxis": {
         "showgrid": false
        },
        "yaxis": {
         "autorange": "reversed",
         "showgrid": false
        }
       }
      }
     },
     "metadata": {}
    }
   ],
   "source": [
    "corr = pd.concat([default, not_default]).corr()\n",
    "mask = np.zeros_like(corr, dtype=bool)\n",
    "mask[np.triu_indices_from(mask)] = True\n",
    "\n",
    "fig = go.Figure()\n",
    "\n",
    "fig.add_trace(\n",
    "    go.Heatmap(\n",
    "        z=corr.mask(mask),\n",
    "        x=corr.columns,\n",
    "        y=corr.columns,\n",
    "        colorscale=px.colors.diverging.RdBu,\n",
    "        zmin=-1,\n",
    "        zmax=1,\n",
    "    )\n",
    ")\n",
    "\n",
    "fig.update_layout(\n",
    "    title=\"Correlation between 'status' variables\",\n",
    "    yaxis_autorange=\"reversed\",\n",
    "    xaxis_showgrid=False,\n",
    "    yaxis_showgrid=False,\n",
    "    width=1000,\n",
    "    height=500,\n",
    ")\n",
    "\n",
    "# fig.update_traces(opacity=0.6)\n",
    "fig.show()"
   ]
  },
  {
   "cell_type": "code",
   "execution_count": 12,
   "id": "7bb71570",
   "metadata": {},
   "outputs": [
    {
     "output_type": "execute_result",
     "data": {
      "text/plain": [
       "                                 corr_with_label  cluster\n",
       "status_last_archived_0_24m              0.043865        1\n",
       "status_max_archived_0_24_months         0.025782        1\n",
       "status_max_archived_0_12_months         0.005628        1\n",
       "status_2nd_last_archived_0_24m          0.003872        1\n",
       "status_3rd_last_archived_0_24m         -0.016915        1\n",
       "status_max_archived_0_6_months         -0.028631        1\n",
       "account_worst_status_6_12m              0.164674        2\n",
       "account_worst_status_0_3m               0.158960        2\n",
       "account_worst_status_12_24m             0.157874        2\n",
       "account_worst_status_3_6m               0.157014        2\n",
       "account_status                          0.115112        2\n",
       "account_days_in_term_12_24m             0.089475        2\n",
       "account_days_in_rem_12_24m              0.084094        2\n",
       "account_days_in_dc_12_24m               0.070573        2"
      ],
      "text/html": "<div>\n<style scoped>\n    .dataframe tbody tr th:only-of-type {\n        vertical-align: middle;\n    }\n\n    .dataframe tbody tr th {\n        vertical-align: top;\n    }\n\n    .dataframe thead th {\n        text-align: right;\n    }\n</style>\n<table border=\"1\" class=\"dataframe\">\n  <thead>\n    <tr style=\"text-align: right;\">\n      <th></th>\n      <th>corr_with_label</th>\n      <th>cluster</th>\n    </tr>\n  </thead>\n  <tbody>\n    <tr>\n      <th>status_last_archived_0_24m</th>\n      <td>0.043865</td>\n      <td>1</td>\n    </tr>\n    <tr>\n      <th>status_max_archived_0_24_months</th>\n      <td>0.025782</td>\n      <td>1</td>\n    </tr>\n    <tr>\n      <th>status_max_archived_0_12_months</th>\n      <td>0.005628</td>\n      <td>1</td>\n    </tr>\n    <tr>\n      <th>status_2nd_last_archived_0_24m</th>\n      <td>0.003872</td>\n      <td>1</td>\n    </tr>\n    <tr>\n      <th>status_3rd_last_archived_0_24m</th>\n      <td>-0.016915</td>\n      <td>1</td>\n    </tr>\n    <tr>\n      <th>status_max_archived_0_6_months</th>\n      <td>-0.028631</td>\n      <td>1</td>\n    </tr>\n    <tr>\n      <th>account_worst_status_6_12m</th>\n      <td>0.164674</td>\n      <td>2</td>\n    </tr>\n    <tr>\n      <th>account_worst_status_0_3m</th>\n      <td>0.158960</td>\n      <td>2</td>\n    </tr>\n    <tr>\n      <th>account_worst_status_12_24m</th>\n      <td>0.157874</td>\n      <td>2</td>\n    </tr>\n    <tr>\n      <th>account_worst_status_3_6m</th>\n      <td>0.157014</td>\n      <td>2</td>\n    </tr>\n    <tr>\n      <th>account_status</th>\n      <td>0.115112</td>\n      <td>2</td>\n    </tr>\n    <tr>\n      <th>account_days_in_term_12_24m</th>\n      <td>0.089475</td>\n      <td>2</td>\n    </tr>\n    <tr>\n      <th>account_days_in_rem_12_24m</th>\n      <td>0.084094</td>\n      <td>2</td>\n    </tr>\n    <tr>\n      <th>account_days_in_dc_12_24m</th>\n      <td>0.070573</td>\n      <td>2</td>\n    </tr>\n  </tbody>\n</table>\n</div>"
     },
     "metadata": {},
     "execution_count": 12
    }
   ],
   "source": [
    "pdist = spc.distance.pdist(corr)\n",
    "linkage = spc.linkage(pdist, method=\"single\")\n",
    "idx = spc.fcluster(linkage, 0.5 * pdist.max(), \"distance\")\n",
    "\n",
    "columns = [default.columns.tolist()[i] for i in list((np.argsort(idx)))]\n",
    "clusterd_corr = pd.concat([default, not_default]).reindex(columns, axis=1).corr()\n",
    "\n",
    "mask = np.zeros_like(clusterd_corr, dtype=bool)\n",
    "mask[np.triu_indices_from(mask)] = True\n",
    "\n",
    "corr[\"default\"].to_frame(name=\"corr_with_label\").assign(cluster=idx).drop(\n",
    "    \"default\"\n",
    ").sort_values([\"cluster\", \"corr_with_label\"], ascending=[True, False])"
   ]
  },
  {
   "cell_type": "markdown",
   "id": "189f04cc",
   "metadata": {},
   "source": [
    "As we can see, our correlation clustering strategy yields 2 clusters of variables. The variables from each cluster that best correlate with the target label are \"status_last_archived_0_24m\" and \"account_worst_status_6_12m\". By and large, the first cluster has very little correlation with the target label, so we will keep its variable whilst keeping a close watch on whether it decreases inference performance.\n",
    "\n",
    "> Note that any correlation with the target label is very loosely accurate as the label is boolean, not numeric. Despite there being better ways, we consider this a \"good enough\" approach to choose the representative of each cluster.\n",
    "\n",
    "There is one thing we can do that should improve even further how much the second cluster explains the target, which is to aggregate its variables into one. In fact, we will create one that spans 12 months and another that spans all 24 months and check how they correlate to the target."
   ]
  },
  {
   "cell_type": "code",
   "execution_count": 6,
   "id": "cdb67ee3",
   "metadata": {},
   "outputs": [
    {
     "output_type": "execute_result",
     "data": {
      "text/plain": [
       "                            corr_with_target\n",
       "account_worst_status_0_12m          0.142014\n",
       "account_worst_status_0_24m          0.139908"
      ],
      "text/html": "<div>\n<style scoped>\n    .dataframe tbody tr th:only-of-type {\n        vertical-align: middle;\n    }\n\n    .dataframe tbody tr th {\n        vertical-align: top;\n    }\n\n    .dataframe thead th {\n        text-align: right;\n    }\n</style>\n<table border=\"1\" class=\"dataframe\">\n  <thead>\n    <tr style=\"text-align: right;\">\n      <th></th>\n      <th>corr_with_target</th>\n    </tr>\n  </thead>\n  <tbody>\n    <tr>\n      <th>account_worst_status_0_12m</th>\n      <td>0.142014</td>\n    </tr>\n    <tr>\n      <th>account_worst_status_0_24m</th>\n      <td>0.139908</td>\n    </tr>\n  </tbody>\n</table>\n</div>"
     },
     "metadata": {},
     "execution_count": 6
    }
   ],
   "source": [
    "pd.concat([default, not_default]).assign(\n",
    "    account_worst_status_0_12m=lambda df: df[\n",
    "        [\n",
    "            \"account_worst_status_0_3m\",\n",
    "            \"account_worst_status_3_6m\",\n",
    "            \"account_worst_status_6_12m\",\n",
    "        ]\n",
    "    ]\n",
    "    .max(axis=1)\n",
    "    .combine_first(df.assign(dummy=1).dummy),\n",
    "    account_worst_status_0_24m=lambda df: df[\n",
    "        [\n",
    "            \"account_worst_status_0_3m\",\n",
    "            \"account_worst_status_3_6m\",\n",
    "            \"account_worst_status_6_12m\",\n",
    "            \"account_worst_status_12_24m\",\n",
    "        ]\n",
    "    ]\n",
    "    .max(axis=1)\n",
    "    .combine_first(df.assign(dummy=1).dummy),\n",
    ")[[\"account_worst_status_0_12m\", \"account_worst_status_0_24m\", \"default\"]].corr()[\n",
    "    \"default\"\n",
    "].to_frame(\n",
    "    \"corr_with_target\"\n",
    ").drop(\n",
    "    \"default\"\n",
    ")"
   ]
  },
  {
   "cell_type": "markdown",
   "id": "c4653629",
   "metadata": {},
   "source": [
    "On top of aggregating features of the second cluster, we decided to impute missing values to 1 (the best status), which is in line with the principle of customer obssesion as we choose to give the customer the benefit of the doubt. This does slightly reduce the correlation index but since these columns have over 54% percent of missing data, the fact that imputing reduces less than 0.03 suggests that it was a good decision. We will consider only the previous 12 months as it was the better of the two\n",
    "\n",
    "Next, we take advantage of K Proportions Theory once again to test the null hypothesis that \"the probability with which defaults happen is the same across all categories\" against the alternate hypothesis that \"the probability with which defaults happen differs across some categories\"\n",
    "\n",
    "### 1. Test the null hypothesis for \"status_last_archived_0_24m\""
   ]
  },
  {
   "cell_type": "code",
   "execution_count": 10,
   "metadata": {},
   "outputs": [
    {
     "output_type": "stream",
     "name": "stdout",
     "text": [
      "Using 3 degrees of freedom\nReject null hypothesis with 2207.2045706697118 > 7.814727903251178\n"
     ]
    },
    {
     "output_type": "execute_result",
     "data": {
      "text/plain": [
       "                            default  not_default  count  expected_default  \\\n",
       "status_last_archived_0_24m                                                  \n",
       "0                               383        13047  13430        192.176994   \n",
       "1                               311        51495  51806        741.319533   \n",
       "2                               156         5461   5617         80.376632   \n",
       "3                               180          947   1127         16.126841   \n",
       "\n",
       "                            expected_not_default  chi_default  chi_not_default  \n",
       "status_last_archived_0_24m                                                      \n",
       "0                                   13237.823006   189.478559         2.750711  \n",
       "1                                   51064.680467   249.790937         3.626281  \n",
       "2                                    5536.623368    71.151199         1.032921  \n",
       "3                                    1110.873159  1665.199816        24.174148  "
      ],
      "text/html": "<div>\n<style scoped>\n    .dataframe tbody tr th:only-of-type {\n        vertical-align: middle;\n    }\n\n    .dataframe tbody tr th {\n        vertical-align: top;\n    }\n\n    .dataframe thead th {\n        text-align: right;\n    }\n</style>\n<table border=\"1\" class=\"dataframe\">\n  <thead>\n    <tr style=\"text-align: right;\">\n      <th></th>\n      <th>default</th>\n      <th>not_default</th>\n      <th>count</th>\n      <th>expected_default</th>\n      <th>expected_not_default</th>\n      <th>chi_default</th>\n      <th>chi_not_default</th>\n    </tr>\n    <tr>\n      <th>status_last_archived_0_24m</th>\n      <th></th>\n      <th></th>\n      <th></th>\n      <th></th>\n      <th></th>\n      <th></th>\n      <th></th>\n    </tr>\n  </thead>\n  <tbody>\n    <tr>\n      <th>0</th>\n      <td>383</td>\n      <td>13047</td>\n      <td>13430</td>\n      <td>192.176994</td>\n      <td>13237.823006</td>\n      <td>189.478559</td>\n      <td>2.750711</td>\n    </tr>\n    <tr>\n      <th>1</th>\n      <td>311</td>\n      <td>51495</td>\n      <td>51806</td>\n      <td>741.319533</td>\n      <td>51064.680467</td>\n      <td>249.790937</td>\n      <td>3.626281</td>\n    </tr>\n    <tr>\n      <th>2</th>\n      <td>156</td>\n      <td>5461</td>\n      <td>5617</td>\n      <td>80.376632</td>\n      <td>5536.623368</td>\n      <td>71.151199</td>\n      <td>1.032921</td>\n    </tr>\n    <tr>\n      <th>3</th>\n      <td>180</td>\n      <td>947</td>\n      <td>1127</td>\n      <td>16.126841</td>\n      <td>1110.873159</td>\n      <td>1665.199816</td>\n      <td>24.174148</td>\n    </tr>\n  </tbody>\n</table>\n</div>"
     },
     "metadata": {},
     "execution_count": 10
    }
   ],
   "source": [
    "# It's worth noting that this variable has no missing values\n",
    "\n",
    "arch_status_profile = (\n",
    "    pd.concat(\n",
    "        [\n",
    "            default[[\"status_last_archived_0_24m\", \"default\"]],\n",
    "            not_default[[\"status_last_archived_0_24m\", \"default\"]],\n",
    "        ]\n",
    "    )\n",
    "    .groupby(\"status_last_archived_0_24m\")\n",
    "    .agg(\n",
    "        default=(\"default\", \"sum\"),\n",
    "        not_default=(\"default\", func.complement),\n",
    "        count=(\"default\", \"count\"),\n",
    "    )\n",
    "    .transform(lambda s: s.astype(int))\n",
    ")\n",
    "\n",
    "\n",
    "_, arch_status_profile_chi2 = func.test_k_prop(arch_status_profile)\n",
    "\n",
    "arch_status_profile_chi2"
   ]
  },
  {
   "cell_type": "markdown",
   "id": "904a5ff7",
   "metadata": {},
   "source": [
    "These results follow the common sense that the probability of default varies accordingly to the status of one's previous purchase. We believe that a shorter span, perhaps 6 months, would make for a better predictor for the target. However, this is just an intuition that needs testing.\n",
    "\n",
    "We choose to include this variable in our effort to select the best features for our models.\n",
    "\n",
    "---\n",
    "\n",
    "### 2. Test the null hypothesis for \"account_worst_status_0_12m\""
   ]
  },
  {
   "cell_type": "code",
   "execution_count": 9,
   "id": "b92299a4",
   "metadata": {},
   "outputs": [
    {
     "output_type": "stream",
     "name": "stdout",
     "text": [
      "Using 3 degrees of freedom\nReject null hypothesis with 1848.8880186293527 > 7.814727903251178\n"
     ]
    },
    {
     "output_type": "execute_result",
     "data": {
      "text/plain": [
       "                            default  not_default  count  expected_default  \\\n",
       "account_worst_status_0_12m                                                  \n",
       "1.0                             578        61597  62175        889.695054   \n",
       "2.0                             289         8305   8594        122.976104   \n",
       "3.0                             103          864    967         13.837316   \n",
       "4.0                              60          184    244          3.491525   \n",
       "\n",
       "                            expected_not_default  chi_default  chi_not_default  \n",
       "account_worst_status_0_12m                                                      \n",
       "1.0                                 61285.304946   109.198996         1.585271  \n",
       "2.0                                  8471.023896   224.140568         3.253908  \n",
       "3.0                                   953.162684   574.532249         8.340637  \n",
       "4.0                                   240.508475   914.559487        13.276903  "
      ],
      "text/html": "<div>\n<style scoped>\n    .dataframe tbody tr th:only-of-type {\n        vertical-align: middle;\n    }\n\n    .dataframe tbody tr th {\n        vertical-align: top;\n    }\n\n    .dataframe thead th {\n        text-align: right;\n    }\n</style>\n<table border=\"1\" class=\"dataframe\">\n  <thead>\n    <tr style=\"text-align: right;\">\n      <th></th>\n      <th>default</th>\n      <th>not_default</th>\n      <th>count</th>\n      <th>expected_default</th>\n      <th>expected_not_default</th>\n      <th>chi_default</th>\n      <th>chi_not_default</th>\n    </tr>\n    <tr>\n      <th>account_worst_status_0_12m</th>\n      <th></th>\n      <th></th>\n      <th></th>\n      <th></th>\n      <th></th>\n      <th></th>\n      <th></th>\n    </tr>\n  </thead>\n  <tbody>\n    <tr>\n      <th>1.0</th>\n      <td>578</td>\n      <td>61597</td>\n      <td>62175</td>\n      <td>889.695054</td>\n      <td>61285.304946</td>\n      <td>109.198996</td>\n      <td>1.585271</td>\n    </tr>\n    <tr>\n      <th>2.0</th>\n      <td>289</td>\n      <td>8305</td>\n      <td>8594</td>\n      <td>122.976104</td>\n      <td>8471.023896</td>\n      <td>224.140568</td>\n      <td>3.253908</td>\n    </tr>\n    <tr>\n      <th>3.0</th>\n      <td>103</td>\n      <td>864</td>\n      <td>967</td>\n      <td>13.837316</td>\n      <td>953.162684</td>\n      <td>574.532249</td>\n      <td>8.340637</td>\n    </tr>\n    <tr>\n      <th>4.0</th>\n      <td>60</td>\n      <td>184</td>\n      <td>244</td>\n      <td>3.491525</td>\n      <td>240.508475</td>\n      <td>914.559487</td>\n      <td>13.276903</td>\n    </tr>\n  </tbody>\n</table>\n</div>"
     },
     "metadata": {},
     "execution_count": 9
    }
   ],
   "source": [
    "agg_worst_status = lambda df: df.assign(\n",
    "    account_worst_status_0_12m=lambda df: df[\n",
    "        [\n",
    "            \"account_worst_status_0_3m\",\n",
    "            \"account_worst_status_3_6m\",\n",
    "            \"account_worst_status_6_12m\",\n",
    "        ]\n",
    "    ]\n",
    "    .max(axis=1)\n",
    "    .combine_first(df.assign(dummy=1).dummy)\n",
    ")\n",
    "\n",
    "worst_status_profile = (\n",
    "    pd.concat(\n",
    "        [\n",
    "            agg_worst_status(default)[[\"account_worst_status_0_12m\", \"default\"]],\n",
    "            agg_worst_status(not_default)[[\"account_worst_status_0_12m\", \"default\"]],\n",
    "        ]\n",
    "    )\n",
    "    .groupby(\"account_worst_status_0_12m\")\n",
    "    .agg(\n",
    "        default=(\"default\", \"sum\"),\n",
    "        not_default=(\"default\", func.complement),\n",
    "        count=(\"default\", \"count\"),\n",
    "    )\n",
    "    .transform(lambda s: s.astype(int))\n",
    ")\n",
    "\n",
    "_, worst_status_profile_chi2 = func.test_k_prop(worst_status_profile)\n",
    "\n",
    "worst_status_profile_chi2"
   ]
  },
  {
   "source": [
    "Results show that the probability with which defaults happen differs across categories in the \"worst status\" variable. This is rather intuitive, as a prior case of default could be explained by some personality traits, economic status and other exogenous variables. However, money shortage due to no fault of one's own also plays a considerable part, as it has saddly become more evident with the Covid-19 pandemic. All in all, we choose to employ the variable to induce our models but warn of the risk of irresponsible social profiling that could reverb the already existing overall prejudice and racism against minorities and the poor.\n",
    "\n",
    "--\n",
    "\n",
    "To sum up, we show that \"status_last_archived_0_24m\" and \"account_worst_status_0_12m\" are good candidates for features. Hence, we move forward with 2 candidates for features from \"status\" variables:\n",
    "\n",
    "- status_last_archived_0_24m\n",
    "- account_worst_status_0_12m\n",
    "\n",
    "Next, we look at \"account\" variables."
   ],
   "cell_type": "markdown",
   "metadata": {}
  }
 ],
 "metadata": {
  "jupytext": {
   "main_language": "python"
  },
  "kernelspec": {
   "name": "python388jvsc74a57bd09f119b1d3a8a63730ae7ee508102d23a56b995c1f2248036bd772c0398b7d40e",
   "display_name": "Python 3.8.8 64-bit ('klarna': conda)"
  }
 },
 "nbformat": 4,
 "nbformat_minor": 5
}
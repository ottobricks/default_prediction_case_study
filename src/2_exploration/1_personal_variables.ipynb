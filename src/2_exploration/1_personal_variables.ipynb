{
 "cells": [
  {
   "cell_type": "code",
   "execution_count": null,
   "id": "ef84d44a",
   "metadata": {},
   "outputs": [],
   "source": [
    "import os\n",
    "import pandas as pd\n",
    "import plotly.graph_objects as go"
   ]
  },
  {
   "cell_type": "code",
   "execution_count": null,
   "id": "a413fbc0",
   "metadata": {},
   "outputs": [],
   "source": [
    "try:\n",
    "    _ = first_run\n",
    "except NameError:\n",
    "    first_run = True\n",
    "    os.chdir(os.getcwd().rsplit(\"/\", 1)[0])"
   ]
  },
  {
   "cell_type": "markdown",
   "id": "408de0cb",
   "metadata": {},
   "source": [
    "# Load data"
   ]
  },
  {
   "cell_type": "code",
   "execution_count": null,
   "id": "2b3fca0b",
   "metadata": {},
   "outputs": [],
   "source": [
    "default = (\n",
    "    pd.read_csv(\n",
    "        \"../data/train/X_train.csv\", index_col=0, usecols=[\"age\", \"name_in_email\"]\n",
    "    )\n",
    "    .join(pd.read_csv(\"../data/train/y_train.csv\", index_col=0))\n",
    "    .query(\"default == 1\")\n",
    ")\n",
    "not_default = (\n",
    "    pd.read_csv(\n",
    "        \"../data/train/X_train.csv\", index_col=0, usecols=[\"age\", \"name_in_email\"]\n",
    "    )\n",
    "    .join(pd.read_csv(\"../data/train/y_train.csv\", index_col=0))\n",
    "    .query(\"default == 0\")\n",
    ")"
   ]
  },
  {
   "cell_type": "markdown",
   "id": "517d373b",
   "metadata": {},
   "source": [
    "## 1. Personal Variables\n",
    "Be it due to less financial stability, more impulsive behaviour or dimmed ability to weight consequences, common knowledge tells us that younger customers should be more likely to default their payments than their older counterparts. However, time and time again, common knowledge has prooved to be rather flimsy ally when making decisions and predictions. Next, we test the hypothesis that \"younger customers are more likely to default\" against the alternative hypothesis that \"younger customers are not more likely to default\"\n"
   ]
  },
  {
   "cell_type": "code",
   "execution_count": null,
   "id": "9a8f58c6",
   "metadata": {},
   "outputs": [],
   "source": [
    "fig = go.Figure()\n",
    "fig.add_trace(\n",
    "    go.Histogram(\n",
    "        x=default.age.sample(1000, replace=True, random_state=42),\n",
    "        name=\"default\",\n",
    "        histfunc=\"count\",\n",
    "        # histnorm='probability',\n",
    "        xbins=dict(start=18, end=100, size=5),\n",
    "    )\n",
    ")\n",
    "\n",
    "fig.add_trace(\n",
    "    go.Histogram(\n",
    "        x=not_default.age.sample(1000, replace=True, random_state=42),\n",
    "        name=\"not_default\",\n",
    "        histfunc=\"count\",\n",
    "        # histnorm='probability',\n",
    "        xbins=dict(start=18, end=100, size=5),\n",
    "    )\n",
    ")\n",
    "\n",
    "\n",
    "fig.update_layout(title=\"Are youngsters more likely to default?\", barmode=\"overlay\")\n",
    "\n",
    "fig.update_traces(opacity=0.75)\n",
    "fig.show()"
   ]
  }
 ],
 "metadata": {
  "jupytext": {
   "main_language": "python"
  },
  "kernelspec": {
   "display_name": "Python 3.8.8 64-bit ('klarna': conda)",
   "name": "python388jvsc74a57bd09f119b1d3a8a63730ae7ee508102d23a56b995c1f2248036bd772c0398b7d40e"
  }
 },
 "nbformat": 4,
 "nbformat_minor": 5
}
{
 "cells": [
  {
   "cell_type": "code",
   "execution_count": null,
   "id": "a68addeb",
   "metadata": {},
   "outputs": [],
   "source": [
    "import os\n",
    "import numpy as np\n",
    "import pandas as pd\n",
    "import plotly.io as pio\n",
    "import plotly.graph_objects as go\n",
    "from sklearn.utils import resample\n",
    "\n",
    "pio.templates.default = \"plotly_white\""
   ]
  },
  {
   "cell_type": "code",
   "execution_count": null,
   "id": "9a050a5b",
   "metadata": {},
   "outputs": [],
   "source": [
    "try:\n",
    "    _ = first_run\n",
    "except NameError:\n",
    "    first_run = True\n",
    "    os.chdir(os.getcwd().rsplit(\"/\", 1)[0])\n",
    "    from _aux import functions as func"
   ]
  },
  {
   "cell_type": "markdown",
   "id": "9f12dadf",
   "metadata": {},
   "source": [
    "# Load data"
   ]
  },
  {
   "cell_type": "code",
   "execution_count": null,
   "id": "3b1faf84",
   "metadata": {},
   "outputs": [],
   "source": [
    "default = (\n",
    "    pd.read_csv(\n",
    "        \"../data/train/X_train.csv\",\n",
    "        index_col=0,\n",
    "        usecols=[\"row_id\", \"age\", \"name_in_email\"],\n",
    "    )\n",
    "    .join(pd.read_csv(\"../data/train/y_train.csv\", index_col=0))\n",
    "    .query(\"default == 1\")\n",
    ")\n",
    "\n",
    "not_default = (\n",
    "    pd.read_csv(\n",
    "        \"../data/train/X_train.csv\",\n",
    "        index_col=0,\n",
    "        usecols=[\"row_id\", \"age\", \"name_in_email\"],\n",
    "    )\n",
    "    .join(pd.read_csv(\"../data/train/y_train.csv\", index_col=0))\n",
    "    .query(\"default == 0\")\n",
    ")"
   ]
  },
  {
   "cell_type": "markdown",
   "id": "5926b2c8",
   "metadata": {},
   "source": [
    "## 1. Age\n",
    "Be it due to less financial stability, more impulsive behaviour or dimmed ability to weight consequences, common knowledge tells us that younger customers should be more likely to default their payments than their older counterparts. However, time and time again, common knowledge has prooved to be rather flimsy ally when making decisions and predictions. Next, we test the hypothesis that \"customers who default are the same age as those who don't\" against the alternative hypothesis that \"customers who default are more likely to be younger\".\n"
   ]
  },
  {
   "cell_type": "code",
   "execution_count": null,
   "id": "c8db2ea5",
   "metadata": {},
   "outputs": [],
   "source": [
    "fig = go.Figure()\n",
    "\n",
    "fig.add_trace(\n",
    "    go.Histogram(\n",
    "        x=not_default.age.sample(1000, replace=True, random_state=42),\n",
    "        name=\"not_default\",\n",
    "        histfunc=\"count\",\n",
    "        # histnorm='probability',\n",
    "        xbins=dict(start=18, end=100, size=5),\n",
    "    )\n",
    ")\n",
    "\n",
    "fig.add_trace(\n",
    "    go.Histogram(\n",
    "        x=default.age.sample(1000, replace=True, random_state=42),\n",
    "        name=\"default\",\n",
    "        histfunc=\"count\",\n",
    "        # histnorm='probability',\n",
    "        xbins=dict(start=18, end=100, size=5),\n",
    "    )\n",
    ")\n",
    "\n",
    "fig.update_layout(title=\"Are youngsters more likely to default?\", barmode=\"overlay\")\n",
    "\n",
    "fig.update_traces(opacity=0.6)\n",
    "fig.show()"
   ]
  },
  {
   "cell_type": "markdown",
   "id": "6461b0b0",
   "metadata": {},
   "source": [
    "Although comparing histograms for a random sample of each label is suggestive towards customers who default being younger, it is not rigorous enough to draw any conclusion. Hence, we employ a bootstrap analysis of the difference of the mean between the two groups to yield more robust evidence.\n",
    "\n",
    "The rationale behind our test is the following. Give that two samples are randomly drawn from the population*, what is the distribution of the difference of their means? With such distribution in hand, we can then look at the difference observed between the mean of the \"default\" sample and the \"not default\" sample to judge how likely the result is to happen by random chance. The more unlikely te result is to happen by chance, the more confident we are that it is significant.\n",
    "\n",
    "\\*refering to the original sample, not the actual population from which it is drawn."
   ]
  },
  {
   "cell_type": "code",
   "execution_count": null,
   "id": "f6c43833",
   "metadata": {},
   "outputs": [],
   "source": [
    "num_iterations = 100_000\n",
    "sample1 = []\n",
    "sample2 = []\n",
    "combined = np.concatenate((default.age, not_default.age), axis=0)\n",
    "\n",
    "for i in range(num_iterations):\n",
    "    np.random.seed(i)\n",
    "    combined = np.concatenate(\n",
    "        (\n",
    "            default.age.sample(1_000, replace=True),\n",
    "            not_default.age.sample(1_000, replace=True),\n",
    "        ),\n",
    "        axis=0,\n",
    "    )\n",
    "    sample1.append(resample(combined, n_samples=500))\n",
    "    sample2.append(resample(combined, n_samples=500))\n",
    "\n",
    "diff_bootstrap_means = np.mean(sample1, axis=1) - np.mean(sample2, axis=1)\n",
    "\n",
    "observed_difference = np.mean(\n",
    "    default.age.sample(1_000, replace=True, random_state=42)\n",
    ") - np.mean(not_default.age.sample(1_000, replace=True, random_state=42))\n",
    "\n",
    "p_value = (\n",
    "    diff_bootstrap_means[diff_bootstrap_means < observed_difference].shape[0]\n",
    "    / num_iterations\n",
    ")"
   ]
  },
  {
   "cell_type": "markdown",
   "id": "b6d5fae1",
   "metadata": {},
   "source": [
    "We choose to combine fixed-size random subsamples of the \"default\" and \"not default\" samples to balance both classes. The rationale is that if we combine them as they are, \"default\" will make up less than 15% of observations, which would lead to an unfair comparassion of difference in means. Bootstrap samples would mostly be composed of \"not default\" observations, which could make the observed difference artificially more unlikely."
   ]
  },
  {
   "cell_type": "code",
   "execution_count": null,
   "id": "4bbd781b",
   "metadata": {
    "lines_to_next_cell": 2
   },
   "outputs": [],
   "source": [
    "fig = go.Figure()\n",
    "\n",
    "fig.add_trace(\n",
    "    go.Histogram(\n",
    "        x=diff_bootstrap_means,\n",
    "        name=\"sample_difference\",\n",
    "        histfunc=\"count\",\n",
    "    )\n",
    ")\n",
    "\n",
    "fig.add_vline(\n",
    "    x=observed_difference,\n",
    "    line_width=3,\n",
    "    line_color=\"red\",\n",
    "    line_dash=\"dash\",\n",
    "    annotation_text=f\"Observed\",\n",
    ")\n",
    "\n",
    "fig.update_layout(\n",
    "    title=\"Distribution of difference in means for 2 bootstrap samples\",\n",
    "    barmode=\"overlay\",\n",
    ")\n",
    "\n",
    "fig.update_traces(opacity=0.75)\n",
    "fig.update_xaxes(range=[-5, 5])\n",
    "fig.show()"
   ]
  },
  {
   "cell_type": "markdown",
   "id": "999e1edb",
   "metadata": {},
   "source": [
    "As we can see, the observed difference is very unlikely to happen by chance even in a balance population* sample. This should give us confidence to reject te null hypothesis that \"customers who default are the same age as those who don't\" in favor of the alternate hypothesis that \"customers who default are more likely to be younger\". Indeed, common sense does prevail at times. We will definitely use this variable as feature for our models."
   ]
  },
  {
   "cell_type": "markdown",
   "id": "6eb260da",
   "metadata": {},
   "source": [
    "## 2. Name in email\n",
    "Right off the bat, there isn't much intuition on how a person's good or bad taste for email handles relates to the likelyhood of them defaulting payments. So, it seems to be a good idea to look at how observations are distributed among the possible classes."
   ]
  },
  {
   "cell_type": "code",
   "execution_count": null,
   "id": "276e11af",
   "metadata": {},
   "outputs": [],
   "source": [
    "default_email_dist = default.name_in_email.value_counts()\n",
    "not_default_email_dist = not_default.name_in_email.value_counts()\n",
    "\n",
    "fig = go.Figure()\n",
    "\n",
    "fig.add_trace(\n",
    "    go.Bar(\n",
    "        x=not_default_email_dist.index.to_list(),\n",
    "        y=(not_default_email_dist.values / np.sum(not_default_email_dist)),\n",
    "        name=\"not_default\",\n",
    "    )\n",
    ")\n",
    "\n",
    "fig.add_trace(\n",
    "    go.Bar(\n",
    "        x=default_email_dist.index.to_list(),\n",
    "        y=(default_email_dist.values / np.sum(default_email_dist)),\n",
    "        name=\"default\",\n",
    "    )\n",
    ")\n",
    "\n",
    "fig.update_layout(\n",
    "    title=\"Distribution of observations among 'name_in_email' classes\",\n",
    "    barmode=\"group\",\n",
    "    yaxis_title=\"Percentage\",\n",
    "    yaxis_tickformat=\"%\",\n",
    ")\n",
    "\n",
    "fig.update_traces(opacity=0.75)\n",
    "fig.show()"
   ]
  },
  {
   "cell_type": "markdown",
   "id": "caedb5ff",
   "metadata": {},
   "source": [
    "The plot above looks at what percentage of all observations fall into each category, considering the \"default\" and \"not_default\" samples independently. It still seems that there is no clear distinction between how defaulting and non-defaulting clients choose their email. However, we can change the perspective with which we look at the problem and pose it as follows:\n",
    "- Are the difference in default proportions across categories due to chance, or are they significantly different?\n"
   ]
  },
  {
   "cell_type": "code",
   "execution_count": null,
   "id": "e81c2f54",
   "metadata": {},
   "outputs": [],
   "source": [
    "cat_profile = (\n",
    "    pd.concat(\n",
    "        [\n",
    "            default[[\"name_in_email\", \"default\"]],\n",
    "            not_default[[\"name_in_email\", \"default\"]],\n",
    "        ]\n",
    "    )\n",
    "    .groupby(\"name_in_email\")[\"default\"]\n",
    "    .agg([\"sum\", \"count\"])\n",
    "    .assign(\n",
    "        default=lambda df: df[\"sum\"], not_default=lambda df: df[\"count\"] - df[\"sum\"]\n",
    "    )[[\"default\", \"not_default\", \"count\"]]\n",
    "    .transform(lambda s: s.astype(int))\n",
    ")\n",
    "\n",
    "cat_profile"
   ]
  },
  {
   "cell_type": "code",
   "execution_count": null,
   "id": "b815fdf4",
   "metadata": {},
   "outputs": [],
   "source": [
    "fig = go.Figure()\n",
    "\n",
    "fig.add_trace(\n",
    "    go.Bar(\n",
    "        x=cat_profile.index.to_list(),\n",
    "        y=(cat_profile[\"not_default\"] / cat_profile[\"count\"]),\n",
    "        name=\"not_default\",\n",
    "    )\n",
    ")\n",
    "\n",
    "fig.add_trace(\n",
    "    go.Bar(\n",
    "        x=cat_profile.index.to_list(),\n",
    "        y=(cat_profile[\"default\"] / cat_profile[\"count\"]),\n",
    "        name=\"default\",\n",
    "    )\n",
    ")\n",
    "\n",
    "fig.update_layout(\n",
    "    title=\"Distribution of observations among 'name_in_email' classes\",\n",
    "    barmode=\"relative\",\n",
    "    yaxis_title=\"Percentage\",\n",
    "    yaxis_tickformat=\"%\",\n",
    ")\n",
    "\n",
    "fig.update_traces(opacity=0.75)\n",
    "fig.show()"
   ]
  },
  {
   "cell_type": "markdown",
   "id": "4167fe6b",
   "metadata": {},
   "source": [
    "It stills looks like there is no significant difference between the proportion in classes, but it also could just be that the imbalance between \"default\" and \"not_default\" is hiding such difference. Thus, we employ K Proportions Theory[\\[pdf\\]][1] to test the null hypothesis that \"the probability with which defaults happen is the same across all categories\" against the alternate hypothesis that \"the probability with which defaults happen differs across some categories\".\n",
    "\n",
    "[1]: https://web.williams.edu/Mathematics/sjmiller/public_html/BrownClasses/162/Handouts/StatsTests04.pdf"
   ]
  },
  {
   "cell_type": "code",
   "execution_count": null,
   "id": "dc3d3a23",
   "metadata": {},
   "outputs": [],
   "source": [
    "_, result_df = func.test_k_prop(cat_profile)\n",
    "\n",
    "result_df"
   ]
  },
  {
   "cell_type": "markdown",
   "id": "7ce40cf0",
   "metadata": {},
   "source": [
    "Results show that the probability with which defaults happen differs across some categories, specially higher when the category is \"no_match\". This opens the possibility of creating a binary feature (match or no match) instead of having a categorical one. We will evaluate this possibility in the \"Feature Selection\" section.\n",
    "\n",
    "Despite the rather counter intuitive result, our exploration has provided some evidence that \"name_in_email\" is a suitable candidate as feature for our models. Next, we move onto exploring variables with regards to account status."
   ]
  },
  {
   "cell_type": "code",
   "execution_count": null,
   "id": "7e2f9839",
   "metadata": {},
   "outputs": [],
   "source": []
  }
 ],
 "metadata": {
  "jupytext": {
   "main_language": "python"
  },
  "kernelspec": {
   "display_name": "Python 3.8.8 64-bit ('klarna': conda)",
   "name": "python388jvsc74a57bd09f119b1d3a8a63730ae7ee508102d23a56b995c1f2248036bd772c0398b7d40e"
  }
 },
 "nbformat": 4,
 "nbformat_minor": 5
}
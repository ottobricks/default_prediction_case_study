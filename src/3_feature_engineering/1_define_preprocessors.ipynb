{
 "metadata": {
  "language_info": {
   "codemirror_mode": {
    "name": "ipython",
    "version": 3
   },
   "file_extension": ".py",
   "mimetype": "text/x-python",
   "name": "python",
   "nbconvert_exporter": "python",
   "pygments_lexer": "ipython3",
   "version": "3.8.8"
  },
  "orig_nbformat": 2,
  "kernelspec": {
   "name": "python388jvsc74a57bd09f119b1d3a8a63730ae7ee508102d23a56b995c1f2248036bd772c0398b7d40e",
   "display_name": "Python 3.8.8 64-bit ('klarna': conda)"
  }
 },
 "nbformat": 4,
 "nbformat_minor": 2,
 "cells": [
  {
   "cell_type": "code",
   "execution_count": 1,
   "metadata": {},
   "outputs": [],
   "source": [
    "%load_ext autoreload\n",
    "%autoreload 2"
   ]
  },
  {
   "cell_type": "code",
   "execution_count": 58,
   "metadata": {},
   "outputs": [],
   "source": [
    "import os\n",
    "import numpy as np\n",
    "import pandas as pd\n",
    "from sklearn.compose import ColumnTransformer\n",
    "from sklearn.pipeline import Pipeline\n",
    "import sklearn.preprocessing as pp"
   ]
  },
  {
   "cell_type": "code",
   "execution_count": 3,
   "metadata": {},
   "outputs": [],
   "source": [
    "try:\n",
    "    _ = first_run\n",
    "except NameError:\n",
    "    first_run = True\n",
    "    os.chdir(os.getcwd().rsplit(\"/\", 1)[0])\n",
    "    import _aux.features as F"
   ]
  },
  {
   "source": [
    "# Load Data"
   ],
   "cell_type": "markdown",
   "metadata": {}
  },
  {
   "cell_type": "code",
   "execution_count": 4,
   "metadata": {},
   "outputs": [],
   "source": [
    "df = pd.read_csv(\"../data/train/X_train.csv\", index_col=0,).join(pd.read_csv(\"../data/train/y_train.csv\", index_col=0))"
   ]
  },
  {
   "source": [
    "# Variables from our exploration\n",
    "\n",
    "### 1. Personal\n",
    "- age\n",
    "### 2. Status\n",
    "- status_last_archived_0_24m\n",
    "- account_worst_status_0_12m\n",
    "- is_last_arch_worst_status_possible\n",
    "- is_account_worst_status_0_12m_normal\n",
    "\n",
    "### 3. Account\n",
    "- num_active_div_by_paid_inv_0_12m_is_above_1\n",
    "### 4. Archieved\n",
    "- num_arch_dc_0_12m\n",
    "- num_arch_dc_0_12m_binned\n",
    "- num_arch_ok_0_12m\n",
    "### 5. Order\n",
    "- is_merchant_category_blacklisted\n",
    "    - Tobacco\n",
    "    - Sex toys\n",
    "    - Plants & Flowers\n",
    "    - Dating services"
   ],
   "cell_type": "markdown",
   "metadata": {}
  },
  {
   "source": [
    "# Preprocessors"
   ],
   "cell_type": "markdown",
   "metadata": {}
  },
  {
   "cell_type": "code",
   "execution_count": 110,
   "metadata": {},
   "outputs": [],
   "source": [
    "preprocessor = ColumnTransformer(\n",
    "    transformers=[\n",
    "        (\"personal_feature_1\",  pp.StandardScaler(),                       [\"age\"]),\n",
    "        (\"status_feature_1\",    pp.OneHotEncoder(handle_unknown=\"ignore\"), [\"status_last_archived_0_24m\"]),\n",
    "        (\"status_feature_2\",    pp.FunctionTransformer(),                  [\"status_last_archived_0_24m\"]),\n",
    "        (\"status_feature_3\",    pp.OneHotEncoder(handle_unknown=\"ignore\"), [\"account_worst_status_0_12m\"]),\n",
    "        (\"status_feature_4\",    pp.FunctionTransformer(),                  [\"account_worst_status_0_12m\"]),\n",
    "        (\"account_feature_1\",   pp.FunctionTransformer(),                  [\"num_active_div_by_paid_inv_0_12m\"]),\n",
    "        (\"archieved_feature_1\", pp.StandardScaler(),                       [\"num_arch_dc_0_12m\"]),\n",
    "        (\"archieved_feature_2\", pp.OneHotEncoder(handle_unknown=\"ignore\"), [\"num_arch_dc_0_12m_binned\"]),\n",
    "        (\"archieved_feature_3\", pp.StandardScaler(),                       [\"num_arch_ok_0_12m\"]),\n",
    "        (\"order_feature_1\",     pp.FunctionTransformer(),                  [\"is_merchant_category_blacklisted\"]),\n",
    "    ],\n",
    "    n_jobs=-1,\n",
    "    remainder=\"drop\",\n",
    ")"
   ]
  },
  {
   "cell_type": "code",
   "execution_count": 108,
   "metadata": {},
   "outputs": [
    {
     "output_type": "execute_result",
     "data": {
      "text/plain": [
       "             0    1    2    3    4    5    6    7    8    9    10       11  \\\n",
       "0      0.385621  0.0  1.0  0.0  0.0  1.0  1.0  0.0  0.0  0.0  1.0  0.00000   \n",
       "1      1.541811  0.0  1.0  0.0  0.0  1.0  1.0  0.0  0.0  0.0  1.0  0.00000   \n",
       "2     -0.385173  0.0  1.0  0.0  0.0  1.0  1.0  0.0  0.0  0.0  1.0  0.03125   \n",
       "3      0.616859  0.0  1.0  0.0  0.0  1.0  1.0  0.0  0.0  0.0  1.0  0.00000   \n",
       "4     -0.231014  0.0  1.0  0.0  0.0  1.0  1.0  0.0  0.0  0.0  1.0  0.00000   \n",
       "...         ...  ...  ...  ...  ...  ...  ...  ...  ...  ...  ...      ...   \n",
       "71975 -1.387205  0.0  1.0  0.0  0.0  1.0  1.0  0.0  0.0  0.0  1.0  0.00000   \n",
       "71976 -0.539332  0.0  1.0  0.0  0.0  1.0  0.0  1.0  0.0  0.0  2.0  0.00000   \n",
       "71977 -0.616411  0.0  1.0  0.0  0.0  1.0  0.0  1.0  0.0  0.0  2.0  0.00000   \n",
       "71978  1.079335  0.0  1.0  0.0  0.0  1.0  1.0  0.0  0.0  0.0  1.0  0.10000   \n",
       "71979 -0.153935  0.0  1.0  0.0  0.0  1.0  1.0  0.0  0.0  0.0  1.0  0.00000   \n",
       "\n",
       "             12   13   14   15        16   17  \n",
       "0     -0.163973  1.0  0.0  0.0  0.231769  0.0  \n",
       "1     -0.163973  1.0  0.0  0.0 -0.395708  0.0  \n",
       "2     -0.163973  1.0  0.0  0.0  1.423975  0.0  \n",
       "3     -0.163973  1.0  0.0  0.0 -0.270213  0.0  \n",
       "4     -0.163973  1.0  0.0  0.0 -0.270213  0.0  \n",
       "...         ...  ...  ...  ...       ...  ...  \n",
       "71975 -0.163973  1.0  0.0  0.0 -0.395708  0.0  \n",
       "71976 -0.163973  1.0  0.0  0.0 -0.395708  0.0  \n",
       "71977 -0.163973  1.0  0.0  0.0 -0.395708  0.0  \n",
       "71978 -0.163973  1.0  0.0  0.0  0.043526  0.0  \n",
       "71979 -0.163973  1.0  0.0  0.0 -0.395708  0.0  \n",
       "\n",
       "[71980 rows x 18 columns]"
      ],
      "text/html": "<div>\n<style scoped>\n    .dataframe tbody tr th:only-of-type {\n        vertical-align: middle;\n    }\n\n    .dataframe tbody tr th {\n        vertical-align: top;\n    }\n\n    .dataframe thead th {\n        text-align: right;\n    }\n</style>\n<table border=\"1\" class=\"dataframe\">\n  <thead>\n    <tr style=\"text-align: right;\">\n      <th></th>\n      <th>0</th>\n      <th>1</th>\n      <th>2</th>\n      <th>3</th>\n      <th>4</th>\n      <th>5</th>\n      <th>6</th>\n      <th>7</th>\n      <th>8</th>\n      <th>9</th>\n      <th>10</th>\n      <th>11</th>\n      <th>12</th>\n      <th>13</th>\n      <th>14</th>\n      <th>15</th>\n      <th>16</th>\n      <th>17</th>\n    </tr>\n  </thead>\n  <tbody>\n    <tr>\n      <th>0</th>\n      <td>0.385621</td>\n      <td>0.0</td>\n      <td>1.0</td>\n      <td>0.0</td>\n      <td>0.0</td>\n      <td>1.0</td>\n      <td>1.0</td>\n      <td>0.0</td>\n      <td>0.0</td>\n      <td>0.0</td>\n      <td>1.0</td>\n      <td>0.00000</td>\n      <td>-0.163973</td>\n      <td>1.0</td>\n      <td>0.0</td>\n      <td>0.0</td>\n      <td>0.231769</td>\n      <td>0.0</td>\n    </tr>\n    <tr>\n      <th>1</th>\n      <td>1.541811</td>\n      <td>0.0</td>\n      <td>1.0</td>\n      <td>0.0</td>\n      <td>0.0</td>\n      <td>1.0</td>\n      <td>1.0</td>\n      <td>0.0</td>\n      <td>0.0</td>\n      <td>0.0</td>\n      <td>1.0</td>\n      <td>0.00000</td>\n      <td>-0.163973</td>\n      <td>1.0</td>\n      <td>0.0</td>\n      <td>0.0</td>\n      <td>-0.395708</td>\n      <td>0.0</td>\n    </tr>\n    <tr>\n      <th>2</th>\n      <td>-0.385173</td>\n      <td>0.0</td>\n      <td>1.0</td>\n      <td>0.0</td>\n      <td>0.0</td>\n      <td>1.0</td>\n      <td>1.0</td>\n      <td>0.0</td>\n      <td>0.0</td>\n      <td>0.0</td>\n      <td>1.0</td>\n      <td>0.03125</td>\n      <td>-0.163973</td>\n      <td>1.0</td>\n      <td>0.0</td>\n      <td>0.0</td>\n      <td>1.423975</td>\n      <td>0.0</td>\n    </tr>\n    <tr>\n      <th>3</th>\n      <td>0.616859</td>\n      <td>0.0</td>\n      <td>1.0</td>\n      <td>0.0</td>\n      <td>0.0</td>\n      <td>1.0</td>\n      <td>1.0</td>\n      <td>0.0</td>\n      <td>0.0</td>\n      <td>0.0</td>\n      <td>1.0</td>\n      <td>0.00000</td>\n      <td>-0.163973</td>\n      <td>1.0</td>\n      <td>0.0</td>\n      <td>0.0</td>\n      <td>-0.270213</td>\n      <td>0.0</td>\n    </tr>\n    <tr>\n      <th>4</th>\n      <td>-0.231014</td>\n      <td>0.0</td>\n      <td>1.0</td>\n      <td>0.0</td>\n      <td>0.0</td>\n      <td>1.0</td>\n      <td>1.0</td>\n      <td>0.0</td>\n      <td>0.0</td>\n      <td>0.0</td>\n      <td>1.0</td>\n      <td>0.00000</td>\n      <td>-0.163973</td>\n      <td>1.0</td>\n      <td>0.0</td>\n      <td>0.0</td>\n      <td>-0.270213</td>\n      <td>0.0</td>\n    </tr>\n    <tr>\n      <th>...</th>\n      <td>...</td>\n      <td>...</td>\n      <td>...</td>\n      <td>...</td>\n      <td>...</td>\n      <td>...</td>\n      <td>...</td>\n      <td>...</td>\n      <td>...</td>\n      <td>...</td>\n      <td>...</td>\n      <td>...</td>\n      <td>...</td>\n      <td>...</td>\n      <td>...</td>\n      <td>...</td>\n      <td>...</td>\n      <td>...</td>\n    </tr>\n    <tr>\n      <th>71975</th>\n      <td>-1.387205</td>\n      <td>0.0</td>\n      <td>1.0</td>\n      <td>0.0</td>\n      <td>0.0</td>\n      <td>1.0</td>\n      <td>1.0</td>\n      <td>0.0</td>\n      <td>0.0</td>\n      <td>0.0</td>\n      <td>1.0</td>\n      <td>0.00000</td>\n      <td>-0.163973</td>\n      <td>1.0</td>\n      <td>0.0</td>\n      <td>0.0</td>\n      <td>-0.395708</td>\n      <td>0.0</td>\n    </tr>\n    <tr>\n      <th>71976</th>\n      <td>-0.539332</td>\n      <td>0.0</td>\n      <td>1.0</td>\n      <td>0.0</td>\n      <td>0.0</td>\n      <td>1.0</td>\n      <td>0.0</td>\n      <td>1.0</td>\n      <td>0.0</td>\n      <td>0.0</td>\n      <td>2.0</td>\n      <td>0.00000</td>\n      <td>-0.163973</td>\n      <td>1.0</td>\n      <td>0.0</td>\n      <td>0.0</td>\n      <td>-0.395708</td>\n      <td>0.0</td>\n    </tr>\n    <tr>\n      <th>71977</th>\n      <td>-0.616411</td>\n      <td>0.0</td>\n      <td>1.0</td>\n      <td>0.0</td>\n      <td>0.0</td>\n      <td>1.0</td>\n      <td>0.0</td>\n      <td>1.0</td>\n      <td>0.0</td>\n      <td>0.0</td>\n      <td>2.0</td>\n      <td>0.00000</td>\n      <td>-0.163973</td>\n      <td>1.0</td>\n      <td>0.0</td>\n      <td>0.0</td>\n      <td>-0.395708</td>\n      <td>0.0</td>\n    </tr>\n    <tr>\n      <th>71978</th>\n      <td>1.079335</td>\n      <td>0.0</td>\n      <td>1.0</td>\n      <td>0.0</td>\n      <td>0.0</td>\n      <td>1.0</td>\n      <td>1.0</td>\n      <td>0.0</td>\n      <td>0.0</td>\n      <td>0.0</td>\n      <td>1.0</td>\n      <td>0.10000</td>\n      <td>-0.163973</td>\n      <td>1.0</td>\n      <td>0.0</td>\n      <td>0.0</td>\n      <td>0.043526</td>\n      <td>0.0</td>\n    </tr>\n    <tr>\n      <th>71979</th>\n      <td>-0.153935</td>\n      <td>0.0</td>\n      <td>1.0</td>\n      <td>0.0</td>\n      <td>0.0</td>\n      <td>1.0</td>\n      <td>1.0</td>\n      <td>0.0</td>\n      <td>0.0</td>\n      <td>0.0</td>\n      <td>1.0</td>\n      <td>0.00000</td>\n      <td>-0.163973</td>\n      <td>1.0</td>\n      <td>0.0</td>\n      <td>0.0</td>\n      <td>-0.395708</td>\n      <td>0.0</td>\n    </tr>\n  </tbody>\n</table>\n<p>71980 rows × 18 columns</p>\n</div>"
     },
     "metadata": {},
     "execution_count": 108
    }
   ],
   "source": [
    "pipe = Pipeline(\n",
    "    [\n",
    "        (\"column_creator\", F.ExtraColumnCreator()),\n",
    "        (\"preprocessor\", preprocessor)\n",
    "    ]\n",
    ")\n",
    "\n",
    "pd.DataFrame(pipe.fit_transform(df))"
   ]
  }
 ]
}
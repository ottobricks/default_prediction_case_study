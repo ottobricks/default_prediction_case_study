{
 "cells": [
  {
   "cell_type": "code",
   "execution_count": null,
   "id": "6492ed2b",
   "metadata": {},
   "outputs": [],
   "source": [
    "import joblib\n",
    "import os\n",
    "import numpy as np\n",
    "import pandas as pd\n",
    "from sklearn.compose import ColumnTransformer\n",
    "from sklearn.dummy import DummyRegressor\n",
    "from sklearn.impute import SimpleImputer\n",
    "from sklearn.pipeline import Pipeline\n",
    "import sklearn.preprocessing as pp"
   ]
  },
  {
   "cell_type": "code",
   "execution_count": null,
   "id": "81a5be3f",
   "metadata": {},
   "outputs": [],
   "source": [
    "try:\n",
    "    _ = first_run\n",
    "except NameError:\n",
    "    first_run = True\n",
    "    os.chdir(os.getcwd().rsplit(\"/\", 1)[0])\n",
    "    import _aux.features as F"
   ]
  },
  {
   "cell_type": "markdown",
   "id": "f02bdbc4",
   "metadata": {},
   "source": [
    "# Load Data"
   ]
  },
  {
   "cell_type": "code",
   "execution_count": null,
   "id": "f0960289",
   "metadata": {},
   "outputs": [],
   "source": [
    "df = pd.read_csv(\n",
    "    \"../data/train/X_train.csv\",\n",
    "    index_col=0,\n",
    ").join(pd.read_csv(\"../data/train/y_train.csv\", index_col=0))\n",
    "\n",
    "X_train = pd.read_csv(\n",
    "    \"../data/train/X_train.csv\",\n",
    "    index_col=0,\n",
    ")"
   ]
  },
  {
   "cell_type": "markdown",
   "id": "ab471e65",
   "metadata": {},
   "source": [
    "# Variables from our exploration\n",
    "\n",
    "### 1. Personal\n",
    "- age\n",
    "### 2. Status\n",
    "- status_last_archived_0_24m\n",
    "- account_worst_status_0_12m\n",
    "- is_last_arch_worst_status_possible\n",
    "- is_account_worst_status_0_12m_normal\n",
    "\n",
    "### 3. Account\n",
    "- num_active_div_by_paid_inv_0_12m_is_above_1\n",
    "### 4. Archieved\n",
    "- num_arch_dc_0_12m\n",
    "- num_arch_dc_0_12m_binned\n",
    "- num_arch_ok_0_12m\n",
    "### 5. Order\n",
    "- is_merchant_category_blacklisted\n",
    "    - Tobacco\n",
    "    - Sex toys\n",
    "    - Plants & Flowers\n",
    "    - Dating services"
   ]
  },
  {
   "cell_type": "markdown",
   "id": "7410e963",
   "metadata": {},
   "source": [
    "# Preprocessors"
   ]
  },
  {
   "cell_type": "code",
   "execution_count": null,
   "id": "412204be",
   "metadata": {},
   "outputs": [],
   "source": [
    "preprocessor = ColumnTransformer(\n",
    "    transformers=[\n",
    "        (\"personal_feature_1\", pp.StandardScaler(), [\"age\"]),\n",
    "        (\n",
    "            \"status_feature_1\",\n",
    "            pp.OneHotEncoder(handle_unknown=\"ignore\"),\n",
    "            [\"status_last_archived_0_24m\"],\n",
    "        ),\n",
    "        (\"status_feature_2\", pp.FunctionTransformer(), [\"status_last_archived_0_24m\"]),\n",
    "        (\n",
    "            \"status_feature_3\",\n",
    "            pp.OneHotEncoder(handle_unknown=\"ignore\"),\n",
    "            [\"account_worst_status_0_12m\"],\n",
    "        ),\n",
    "        (\"status_feature_4\", pp.FunctionTransformer(), [\"account_worst_status_0_12m\"]),\n",
    "        (\n",
    "            \"account_feature_1\",\n",
    "            pp.FunctionTransformer(),\n",
    "            [\"num_active_div_by_paid_inv_0_12m_is_above_1\"],\n",
    "        ),\n",
    "        (\"archieved_feature_1\", pp.StandardScaler(), [\"num_arch_dc_0_12m\"]),\n",
    "        (\n",
    "            \"archieved_feature_2\",\n",
    "            pp.OneHotEncoder(handle_unknown=\"ignore\"),\n",
    "            [\"num_arch_dc_0_12m_binned\"],\n",
    "        ),\n",
    "        (\"archieved_feature_3\", pp.StandardScaler(), [\"num_arch_ok_0_12m\"]),\n",
    "        (\n",
    "            \"order_feature_1\",\n",
    "            pp.FunctionTransformer(),\n",
    "            [\"is_merchant_category_blacklisted\"],\n",
    "        ),\n",
    "    ],\n",
    "    n_jobs=-1,\n",
    "    remainder=\"drop\",\n",
    ")"
   ]
  },
  {
   "cell_type": "code",
   "execution_count": null,
   "id": "b7898d76",
   "metadata": {},
   "outputs": [],
   "source": [
    "pipe = Pipeline(\n",
    "    [\n",
    "        (\"column_creator\", F.ExtraColumnCreator()),\n",
    "        (\"preprocessor\", preprocessor),\n",
    "        (\"model\", pp.FunctionTransformer())\n",
    "    ]\n",
    ")\n",
    "\n",
    "pipe = pipe.fit(df, df[\"default\"])\n",
    "\n",
    "joblib.dump(pipe, \"../ml_artifacts/preprocessor.joblib.gz\")"
   ]
  }
 ],
 "metadata": {
  "jupytext": {
   "main_language": "python"
  },
  "kernelspec": {
   "display_name": "Python 3.8.8 64-bit ('klarna': conda)",
   "name": "python38864bitklarnaconda4ef8c56e5567458cb1bf905cc9704f70"
  }
 },
 "nbformat": 4,
 "nbformat_minor": 5
}
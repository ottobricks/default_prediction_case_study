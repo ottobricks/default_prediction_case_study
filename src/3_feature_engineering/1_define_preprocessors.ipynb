{
 "cells": [
  {
   "cell_type": "code",
   "execution_count": null,
   "id": "f773898a",
   "metadata": {},
   "outputs": [],
   "source": [
    "%load_ext autoreload\n",
    "%autoreload 2"
   ]
  },
  {
   "cell_type": "code",
   "execution_count": null,
   "id": "fa7321b3",
   "metadata": {},
   "outputs": [],
   "source": [
    "import os\n",
    "import numpy as np\n",
    "import pandas as pd\n",
    "from sklearn.compose import ColumnTransformer\n",
    "from sklearn.pipeline import Pipeline\n",
    "import sklearn.preprocessing as pp"
   ]
  },
  {
   "cell_type": "code",
   "execution_count": null,
   "id": "f8a8458c",
   "metadata": {},
   "outputs": [],
   "source": [
    "try:\n",
    "    _ = first_run\n",
    "except NameError:\n",
    "    first_run = True\n",
    "    os.chdir(os.getcwd().rsplit(\"/\", 1)[0])\n",
    "    import _aux.features as F"
   ]
  },
  {
   "cell_type": "markdown",
   "id": "24d48a3c",
   "metadata": {},
   "source": [
    "# Load Data"
   ]
  },
  {
   "cell_type": "code",
   "execution_count": null,
   "id": "a3c18a37",
   "metadata": {},
   "outputs": [],
   "source": [
    "df = pd.read_csv(\n",
    "    \"../data/train/X_train.csv\",\n",
    "    index_col=0,\n",
    ").join(pd.read_csv(\"../data/train/y_train.csv\", index_col=0))"
   ]
  },
  {
   "cell_type": "markdown",
   "id": "cb53bb93",
   "metadata": {},
   "source": [
    "# Variables from our exploration\n",
    "\n",
    "### 1. Personal\n",
    "- age\n",
    "### 2. Status\n",
    "- status_last_archived_0_24m\n",
    "- account_worst_status_0_12m\n",
    "- is_last_arch_worst_status_possible\n",
    "- is_account_worst_status_0_12m_normal\n",
    "\n",
    "### 3. Account\n",
    "- num_active_div_by_paid_inv_0_12m_is_above_1\n",
    "### 4. Archieved\n",
    "- num_arch_dc_0_12m\n",
    "- num_arch_dc_0_12m_binned\n",
    "- num_arch_ok_0_12m\n",
    "### 5. Order\n",
    "- is_merchant_category_blacklisted\n",
    "    - Tobacco\n",
    "    - Sex toys\n",
    "    - Plants & Flowers\n",
    "    - Dating services"
   ]
  },
  {
   "cell_type": "markdown",
   "id": "59c4a9d7",
   "metadata": {},
   "source": [
    "# Preprocessors"
   ]
  },
  {
   "cell_type": "code",
   "execution_count": null,
   "id": "c590d164",
   "metadata": {},
   "outputs": [],
   "source": [
    "preprocessor = ColumnTransformer(\n",
    "    transformers=[\n",
    "        (\"personal_feature_1\", pp.StandardScaler(), [\"age\"]),\n",
    "        (\n",
    "            \"status_feature_1\",\n",
    "            pp.OneHotEncoder(handle_unknown=\"ignore\"),\n",
    "            [\"status_last_archived_0_24m\"],\n",
    "        ),\n",
    "        (\"status_feature_2\", pp.FunctionTransformer(), [\"status_last_archived_0_24m\"]),\n",
    "        (\n",
    "            \"status_feature_3\",\n",
    "            pp.OneHotEncoder(handle_unknown=\"ignore\"),\n",
    "            [\"account_worst_status_0_12m\"],\n",
    "        ),\n",
    "        (\"status_feature_4\", pp.FunctionTransformer(), [\"account_worst_status_0_12m\"]),\n",
    "        (\n",
    "            \"account_feature_1\",\n",
    "            pp.FunctionTransformer(),\n",
    "            [\"num_active_div_by_paid_inv_0_12m\"],\n",
    "        ),\n",
    "        (\"archieved_feature_1\", pp.StandardScaler(), [\"num_arch_dc_0_12m\"]),\n",
    "        (\n",
    "            \"archieved_feature_2\",\n",
    "            pp.OneHotEncoder(handle_unknown=\"ignore\"),\n",
    "            [\"num_arch_dc_0_12m_binned\"],\n",
    "        ),\n",
    "        (\"archieved_feature_3\", pp.StandardScaler(), [\"num_arch_ok_0_12m\"]),\n",
    "        (\n",
    "            \"order_feature_1\",\n",
    "            pp.FunctionTransformer(),\n",
    "            [\"is_merchant_category_blacklisted\"],\n",
    "        ),\n",
    "    ],\n",
    "    n_jobs=-1,\n",
    "    remainder=\"drop\",\n",
    ")"
   ]
  },
  {
   "cell_type": "code",
   "execution_count": null,
   "id": "dbe4709f",
   "metadata": {},
   "outputs": [],
   "source": [
    "pipe = Pipeline(\n",
    "    [(\"column_creator\", F.ExtraColumnCreator()), (\"preprocessor\", preprocessor)]\n",
    ")\n",
    "\n",
    "pd.DataFrame(pipe.fit_transform(df))"
   ]
  }
 ],
 "metadata": {
  "jupytext": {
   "main_language": "python"
  },
  "kernelspec": {
   "display_name": "Python 3.8.8 64-bit ('klarna': conda)",
   "name": "python388jvsc74a57bd09f119b1d3a8a63730ae7ee508102d23a56b995c1f2248036bd772c0398b7d40e"
  }
 },
 "nbformat": 4,
 "nbformat_minor": 5
}

{
 "cells": [
  {
   "cell_type": "code",
   "execution_count": null,
   "id": "4a7e9260",
   "metadata": {},
   "outputs": [],
   "source": [
    "%load_ext autoreload\n",
    "%autoreload 2"
   ]
  },
  {
   "cell_type": "code",
   "execution_count": null,
   "id": "46d3b822",
   "metadata": {},
   "outputs": [],
   "source": [
    "import os\n",
    "import joblib\n",
    "import numpy as np\n",
    "import pandas as pd\n",
    "from sklearn.model_selection import train_test_split\n",
    "from sklearn.pipeline import Pipeline\n",
    "import sklearn.preprocessing as pp"
   ]
  },
  {
   "cell_type": "code",
   "execution_count": null,
   "id": "b620f7fa",
   "metadata": {},
   "outputs": [],
   "source": [
    "try:\n",
    "    _ = first_run\n",
    "except NameError:\n",
    "    first_run = True\n",
    "    os.chdir(os.getcwd().rsplit(\"/\", 1)[0])\n",
    "    import _aux.features as F"
   ]
  },
  {
   "cell_type": "markdown",
   "id": "85b8f6c4",
   "metadata": {},
   "source": [
    "# Load Data"
   ]
  },
  {
   "cell_type": "code",
   "execution_count": null,
   "id": "8b731045",
   "metadata": {},
   "outputs": [],
   "source": [
    "df = pd.read_csv(\n",
    "    \"../data/train/X_train.csv\",\n",
    "    index_col=0,\n",
    ").join(pd.read_csv(\"../data/train/y_train.csv\", index_col=0))"
   ]
  },
  {
   "cell_type": "markdown",
   "id": "a19645e4",
   "metadata": {},
   "source": [
    "# Load Preprocessor"
   ]
  },
  {
   "cell_type": "code",
   "execution_count": null,
   "id": "219e84f6",
   "metadata": {},
   "outputs": [],
   "source": [
    "pipe = joblib.load(\"../ml_artifacts/preprocessor.joblib.gz\")"
   ]
  },
  {
   "cell_type": "markdown",
   "id": "60661256",
   "metadata": {},
   "source": [
    "# Split and transform data"
   ]
  },
  {
   "cell_type": "code",
   "execution_count": null,
   "id": "87466de0",
   "metadata": {},
   "outputs": [],
   "source": [
    "X_train, X_validation, y_train, y_validation = train_test_split(\n",
    "    pipe.transform(df.drop(\"default\", axis=1)),\n",
    "    df.default.values,\n",
    "    test_size=0.2,\n",
    "    random_state=42,\n",
    ")"
   ]
  },
  {
   "cell_type": "code",
   "execution_count": null,
   "id": "a4528c92",
   "metadata": {},
   "outputs": [],
   "source": [
    "_ = joblib.dump(\n",
    "    [X_train, y_train], \"../data/train/preprocessed/train_features_labels.joblib.gz\"\n",
    ")\n",
    "_ = joblib.dump(\n",
    "    [X_validation, y_validation],\n",
    "    \"../data/train/preprocessed/validation_features_labels.joblib.gz\",\n",
    ")"
   ]
  }
 ],
 "metadata": {
  "jupytext": {
   "main_language": "python"
  },
  "kernelspec": {
   "display_name": "Python 3.8.8 64-bit ('klarna': conda)",
   "name": "python38864bitklarnaconda4ef8c56e5567458cb1bf905cc9704f70"
  }
 },
 "nbformat": 4,
 "nbformat_minor": 5
}

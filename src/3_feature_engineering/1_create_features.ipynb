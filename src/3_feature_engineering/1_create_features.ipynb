{
 "metadata": {
  "language_info": {
   "codemirror_mode": {
    "name": "ipython",
    "version": 3
   },
   "file_extension": ".py",
   "mimetype": "text/x-python",
   "name": "python",
   "nbconvert_exporter": "python",
   "pygments_lexer": "ipython3",
   "version": "3.8.8"
  },
  "orig_nbformat": 2,
  "kernelspec": {
   "name": "python388jvsc74a57bd09f119b1d3a8a63730ae7ee508102d23a56b995c1f2248036bd772c0398b7d40e",
   "display_name": "Python 3.8.8 64-bit ('klarna': conda)"
  }
 },
 "nbformat": 4,
 "nbformat_minor": 2,
 "cells": [
  {
   "cell_type": "code",
   "execution_count": 1,
   "metadata": {},
   "outputs": [],
   "source": [
    "%load_ext autoreload\n",
    "%autoreload 2"
   ]
  },
  {
   "cell_type": "code",
   "execution_count": 2,
   "metadata": {},
   "outputs": [],
   "source": [
    "import os\n",
    "import numpy as np\n",
    "import pandas as pd\n",
    "from sklearn.pipeline import Pipeline\n",
    "import sklearn.preprocessing as pp"
   ]
  },
  {
   "cell_type": "code",
   "execution_count": 3,
   "metadata": {},
   "outputs": [],
   "source": [
    "try:\n",
    "    _ = first_run\n",
    "except NameError:\n",
    "    first_run = True\n",
    "    os.chdir(os.getcwd().rsplit(\"/\", 1)[0])\n",
    "    import _aux.features as F"
   ]
  },
  {
   "source": [
    "# Load Data"
   ],
   "cell_type": "markdown",
   "metadata": {}
  },
  {
   "cell_type": "code",
   "execution_count": 4,
   "metadata": {},
   "outputs": [],
   "source": [
    "df = pd.read_csv(\"../data/train/X_train.csv\", index_col=0,).join(pd.read_csv(\"../data/train/y_train.csv\", index_col=0))"
   ]
  },
  {
   "source": [
    "# Variables from our exploration\n",
    "\n",
    "### 1. Personal\n",
    "- age\n",
    "### 2. Status\n",
    "- status_last_archived_0_24m\n",
    "- account_worst_status_0_12m\n",
    "- is_last_arch_worst_status_possible\n",
    "- is_account_worst_status_0_12m_normal\n",
    "\n",
    "### 3. Account\n",
    "- num_active_div_by_paid_inv_0_12m_is_above_1\n",
    "### 4. Archieved\n",
    "- num_arch_dc_0_12m\n",
    "- num_arch_dc_0_12m_binned\n",
    "- num_arch_ok_0_12m\n",
    "### 5. Order\n",
    "- is_merchant_category_blacklisted\n",
    "    - Tobacco\n",
    "    - Sex toys\n",
    "    - Plants & Flowers\n",
    "    - Dating services\n",
    "\n",
    "# Preprocessors"
   ],
   "cell_type": "markdown",
   "metadata": {}
  },
  {
   "cell_type": "code",
   "execution_count": 57,
   "metadata": {},
   "outputs": [],
   "source": [
    "# Personal\n",
    "pp_age = pp.StandardScaler().fit(df[[\"age\"]])\n",
    "\n",
    "# Status\n",
    "pp_status_last_archived_0_24m = pp.OneHotEncoder(handle_unknown=\"ignore\").fit(df[[\"status_last_archived_0_24m\"]])\n",
    "pp_is_last_arch_worst_status_possible = pp.FunctionTransformer(F.is_last_arch_worst_status_possible)\n",
    "pp_account_worst_status_0_12m = pp.OneHotEncoder(handle_unknown=\"ignore\").fit(F.get_worst_status_agg(df))\n",
    "pp_is_account_worst_status_0_12m_normal = pp.FunctionTransformer(F.is_account_worst_status_0_12m_normal)\n",
    "\n",
    "# Account\n",
    "pp_num_active_div_by_paid_inv_0_12m_is_above_1 = pp.FunctionTransformer(F.num_active_div_by_paid_inv_0_12m_is_above_1)\n",
    "\n",
    "# Archieved\n",
    "pp_num_arch_dc_0_12m = pp.StandardScaler().fit(df[[\"num_arch_dc_0_12m\"]])\n",
    "pp_num_arch_dc_0_12m_binned = pp.OneHotEncoder(handle_unknown=\"ignore\").fit(F.num_arch_dc_0_12m_binned(df))\n",
    "pp_num_arch_ok_0_12m = pp.StandardScaler().fit(df[[\"num_arch_ok_0_12m\"]])\n",
    "\n",
    "# Order\n",
    "pp_is_merchant_category_blacklisted = pp.FunctionTransformer(F.is_merchant_category_blacklisted)"
   ]
  }
 ]
}
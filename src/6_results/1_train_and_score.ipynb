{
 "cells": [
  {
   "cell_type": "code",
   "execution_count": null,
   "id": "106ed43f",
   "metadata": {},
   "outputs": [],
   "source": [
    "import os\n",
    "import joblib\n",
    "import numpy as np\n",
    "import pandas as pd\n",
    "from sklearn.metrics import confusion_matrix\n",
    "\n",
    "# Import all candidates to support automatic decision making\n",
    "from sklearn.ensemble import RandomForestClassifier\n",
    "from sklearn.metrics import confusion_matrix\n",
    "from xgboost import XGBClassifier"
   ]
  },
  {
   "cell_type": "code",
   "execution_count": null,
   "id": "51055164",
   "metadata": {},
   "outputs": [],
   "source": [
    "try:\n",
    "    _ = first_run\n",
    "except NameError:\n",
    "    first_run = True\n",
    "    os.chdir(os.getcwd().rsplit(\"/\", 1)[0])\n",
    "    from _aux import features as F"
   ]
  },
  {
   "cell_type": "markdown",
   "id": "581e362a",
   "metadata": {},
   "source": [
    "# Load Data\n",
    "\n",
    "Now that we are ready to present our final results, we must load the test set which we held out at step \"0_split_data\"."
   ]
  },
  {
   "cell_type": "code",
   "execution_count": null,
   "id": "07ea395e",
   "metadata": {},
   "outputs": [],
   "source": [
    "X_train, y_train = joblib.load(\n",
    "    \"../data/train/preprocessed/undersampled_train_features_labels.joblib.gz\"\n",
    ")\n",
    "\n",
    "X_test, y_test = pd.read_csv(\"../data/test/X_test.csv\", index_col=0), pd.read_csv(\n",
    "    \"../data/test/y_test.csv\", index_col=0\n",
    ")"
   ]
  },
  {
   "cell_type": "markdown",
   "id": "46cfb05d",
   "metadata": {},
   "source": [
    "# Load the preprocessor and transform test data"
   ]
  },
  {
   "cell_type": "code",
   "execution_count": null,
   "id": "4ae44582",
   "metadata": {},
   "outputs": [],
   "source": [
    "preprocessor = joblib.load(\"../ml_artifacts/preprocessor.joblib.gz\")"
   ]
  },
  {
   "cell_type": "code",
   "execution_count": null,
   "id": "d9f2b273",
   "metadata": {},
   "outputs": [],
   "source": [
    "X_test_preproc = preprocessor.transform(X_test)"
   ]
  },
  {
   "cell_type": "markdown",
   "id": "c702c5ee",
   "metadata": {},
   "source": [
    "# Choose model based on GridSearch performance"
   ]
  },
  {
   "cell_type": "code",
   "execution_count": null,
   "id": "2904a9ee",
   "metadata": {},
   "outputs": [],
   "source": [
    "best_model = joblib.load(\n",
    "    \"../ml_artifacts/gridsearch_results/param_search_result.joblib.gz\"\n",
    ").iloc[0]"
   ]
  },
  {
   "cell_type": "markdown",
   "id": "31b9c3d7",
   "metadata": {},
   "source": [
    "# Fit the best model"
   ]
  },
  {
   "cell_type": "code",
   "execution_count": null,
   "id": "e02d105f",
   "metadata": {},
   "outputs": [],
   "source": [
    "model = eval(best_model.estimator)(**best_model.params).fit(X_train, y_train)"
   ]
  },
  {
   "cell_type": "code",
   "execution_count": null,
   "id": "1b69b628",
   "metadata": {},
   "outputs": [],
   "source": [
    "prediction = model.predict_proba(X_test_preproc)\n",
    "\n",
    "threshold_perf = pd.DataFrame(\n",
    "    [\n",
    "        (\n",
    "            threshold,\n",
    "            *confusion_matrix(\n",
    "                y_test, (prediction[:, 1] > threshold).astype(int)\n",
    "            ).ravel(),\n",
    "        )\n",
    "        for threshold in np.arange(0.05, 1, 0.05)\n",
    "    ],\n",
    "    columns=[\"threshold\", \"tn\", \"fp\", \"fn\", \"tp\"],\n",
    ").assign(\n",
    "    precision=lambda df: df[\"tp\"] / (df[\"tp\"] + df[\"fp\"]),\n",
    "    recall=lambda df: df[\"tp\"] / (df[\"tp\"] + df[\"fn\"]),\n",
    "    f1=lambda df: 2\n",
    "    * (df[\"precision\"] * df[\"recall\"])\n",
    "    / (df[\"precision\"] + df[\"recall\"]),\n",
    ")\n",
    "\n",
    "threshold_perf.to_csv(\"../ml_artifacts/model_performance.csv\", index=False)"
   ]
  },
  {
   "cell_type": "code",
   "execution_count": null,
   "id": "ce5f19c4",
   "metadata": {},
   "outputs": [],
   "source": [
    "def highlight_max(data, color=\"yellow\"):\n",
    "    \"\"\"\n",
    "    highlight the maximum in a Series or DataFrame\n",
    "    \"\"\"\n",
    "    attr = \"background-color: {}\".format(color)\n",
    "    if data.ndim == 1:  # Series from .apply(axis=0) or axis=1\n",
    "        is_max = data == data.max()\n",
    "        return [attr if v else \"\" for v in is_max]\n",
    "    else:  # from .apply(axis=None)\n",
    "        is_max = data == data.max().max()\n",
    "        return pd.DataFrame(\n",
    "            np.where(is_max, attr, \"\"), index=data.index, columns=data.columns\n",
    "        )\n",
    "\n",
    "\n",
    "threshold_perf.style.apply(\n",
    "    highlight_max, color=\"green\", subset=[\"precision\", \"recall\", \"f1\"]\n",
    ")"
   ]
  },
  {
   "cell_type": "markdown",
   "id": "2ea6b476",
   "metadata": {},
   "source": [
    "# Add model to pipeline and save it"
   ]
  },
  {
   "cell_type": "code",
   "execution_count": null,
   "id": "d0cbe7d2",
   "metadata": {},
   "outputs": [],
   "source": [
    "pipeline = preprocessor.set_params(model=model)\n",
    "\n",
    "joblib.dump(pipeline, \"../ml_artifacts/pipeline.joblib.gz\")"
   ]
  },
  {
   "cell_type": "markdown",
   "id": "a7a8087b",
   "metadata": {},
   "source": [
    "# Batch predict required set"
   ]
  },
  {
   "cell_type": "code",
   "execution_count": null,
   "id": "1fc1155a",
   "metadata": {},
   "outputs": [],
   "source": [
    "to_predict = pd.read_csv(\"../data/predict/to_predict.csv\")"
   ]
  },
  {
   "cell_type": "code",
   "execution_count": null,
   "id": "36a12cb9",
   "metadata": {},
   "outputs": [],
   "source": [
    "to_predict[[\"uuid\"]].assign(\n",
    "    pd=pipeline.predict_proba(to_predict.drop(\"default\", axis=1))[:, 1]\n",
    ").to_csv(\"../data/predict/predictions.csv\", index=False)"
   ]
  }
 ],
 "metadata": {
  "jupytext": {
   "main_language": "python"
  },
  "kernelspec": {
   "display_name": "Python 3.8.8 64-bit ('klarna': conda)",
   "name": "python38864bitklarnaconda4ef8c56e5567458cb1bf905cc9704f70"
  }
 },
 "nbformat": 4,
 "nbformat_minor": 5
}

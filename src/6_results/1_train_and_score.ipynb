{
 "cells": [
  {
   "cell_type": "code",
   "execution_count": 1,
   "id": "106ed43f",
   "metadata": {},
   "outputs": [],
   "source": [
    "import os\n",
    "import joblib\n",
    "import numpy as np\n",
    "import pandas as pd\n",
    "from sklearn.metrics import confusion_matrix\n",
    "\n",
    "# Import all candidates to support automatic decision making\n",
    "from sklearn.ensemble import RandomForestClassifier\n",
    "from sklearn.metrics import confusion_matrix\n",
    "from xgboost import XGBClassifier"
   ]
  },
  {
   "cell_type": "code",
   "execution_count": 2,
   "id": "51055164",
   "metadata": {},
   "outputs": [],
   "source": [
    "try:\n",
    "    _ = first_run\n",
    "except NameError:\n",
    "    first_run = True\n",
    "    os.chdir(os.getcwd().rsplit(\"/\", 1)[0])\n",
    "    from _aux import features as F"
   ]
  },
  {
   "cell_type": "markdown",
   "id": "581e362a",
   "metadata": {},
   "source": [
    "# Load Data\n",
    "\n",
    "Now that we are ready to present our final results, we must load the test set which we held out at step \"0_split_data\"."
   ]
  },
  {
   "cell_type": "code",
   "execution_count": 3,
   "id": "07ea395e",
   "metadata": {},
   "outputs": [],
   "source": [
    "X_train, y_train = joblib.load(\n",
    "    \"../data/train/preprocessed/undersampled_train_features_labels.joblib.gz\"\n",
    ")\n",
    "\n",
    "X_test, y_test = pd.read_csv(\"../data/test/X_test.csv\", index_col=0), pd.read_csv(\n",
    "    \"../data/test/y_test.csv\", index_col=0\n",
    ")"
   ]
  },
  {
   "cell_type": "markdown",
   "id": "46cfb05d",
   "metadata": {},
   "source": [
    "# Load the preprocessor and transform test data"
   ]
  },
  {
   "cell_type": "code",
   "execution_count": 4,
   "id": "4ae44582",
   "metadata": {},
   "outputs": [],
   "source": [
    "preprocessor = joblib.load(\"../ml_artifacts/preprocessor.joblib.gz\")"
   ]
  },
  {
   "cell_type": "code",
   "execution_count": 5,
   "id": "d9f2b273",
   "metadata": {},
   "outputs": [],
   "source": [
    "X_test_preproc = preprocessor.transform(X_test)"
   ]
  },
  {
   "cell_type": "markdown",
   "id": "c702c5ee",
   "metadata": {},
   "source": [
    "# Choose model based on GridSearch performance"
   ]
  },
  {
   "cell_type": "code",
   "execution_count": 6,
   "id": "2904a9ee",
   "metadata": {},
   "outputs": [],
   "source": [
    "best_model = joblib.load(\n",
    "    \"../ml_artifacts/gridsearch_results/param_search_result.joblib.gz\"\n",
    ").iloc[0]"
   ]
  },
  {
   "cell_type": "markdown",
   "id": "31b9c3d7",
   "metadata": {},
   "source": [
    "# Fit the best model"
   ]
  },
  {
   "cell_type": "code",
   "execution_count": 7,
   "id": "e02d105f",
   "metadata": {},
   "outputs": [],
   "source": [
    "model = eval(best_model.estimator)(**best_model.params).fit(X_train, y_train)"
   ]
  },
  {
   "cell_type": "code",
   "execution_count": 8,
   "id": "1b69b628",
   "metadata": {},
   "outputs": [],
   "source": [
    "prediction = model.predict_proba(X_test_preproc)\n",
    "\n",
    "threshold_perf = pd.DataFrame(\n",
    "    [\n",
    "        (\n",
    "            threshold,\n",
    "            *confusion_matrix(\n",
    "                y_test, (prediction[:, 1] > threshold).astype(int)\n",
    "            ).ravel(),\n",
    "        )\n",
    "        for threshold in np.arange(0.05, 1, 0.05)\n",
    "    ],\n",
    "    columns=[\"threshold\", \"tn\", \"fp\", \"fn\", \"tp\"],\n",
    ").assign(\n",
    "    precision=lambda df: df[\"tp\"] / (df[\"tp\"] + df[\"fp\"]),\n",
    "    recall=lambda df: df[\"tp\"] / (df[\"tp\"] + df[\"fn\"]),\n",
    "    f1=lambda df: 2\n",
    "    * (df[\"precision\"] * df[\"recall\"])\n",
    "    / (df[\"precision\"] + df[\"recall\"]),\n",
    ")\n",
    "\n",
    "threshold_perf.to_csv(\"../ml_artifacts/model_performance.csv\", index=False)"
   ]
  },
  {
   "cell_type": "code",
   "execution_count": 9,
   "id": "ce5f19c4",
   "metadata": {},
   "outputs": [
    {
     "output_type": "execute_result",
     "data": {
      "text/plain": [
       "<pandas.io.formats.style.Styler at 0x7f68b74407c0>"
      ],
      "text/html": "<style  type=\"text/css\" >\n#T_1b269_row0_col6,#T_1b269_row15_col7,#T_1b269_row16_col5{\n            background-color:  green;\n        }</style><table id=\"T_1b269_\" ><thead>    <tr>        <th class=\"blank level0\" ></th>        <th class=\"col_heading level0 col0\" >threshold</th>        <th class=\"col_heading level0 col1\" >tn</th>        <th class=\"col_heading level0 col2\" >fp</th>        <th class=\"col_heading level0 col3\" >fn</th>        <th class=\"col_heading level0 col4\" >tp</th>        <th class=\"col_heading level0 col5\" >precision</th>        <th class=\"col_heading level0 col6\" >recall</th>        <th class=\"col_heading level0 col7\" >f1</th>    </tr></thead><tbody>\n                <tr>\n                        <th id=\"T_1b269_level0_row0\" class=\"row_heading level0 row0\" >0</th>\n                        <td id=\"T_1b269_row0_col0\" class=\"data row0 col0\" >0.050000</td>\n                        <td id=\"T_1b269_row0_col1\" class=\"data row0 col1\" >3568</td>\n                        <td id=\"T_1b269_row0_col2\" class=\"data row0 col2\" >14170</td>\n                        <td id=\"T_1b269_row0_col3\" class=\"data row0 col3\" >0</td>\n                        <td id=\"T_1b269_row0_col4\" class=\"data row0 col4\" >258</td>\n                        <td id=\"T_1b269_row0_col5\" class=\"data row0 col5\" >0.017882</td>\n                        <td id=\"T_1b269_row0_col6\" class=\"data row0 col6\" >1.000000</td>\n                        <td id=\"T_1b269_row0_col7\" class=\"data row0 col7\" >0.035136</td>\n            </tr>\n            <tr>\n                        <th id=\"T_1b269_level0_row1\" class=\"row_heading level0 row1\" >1</th>\n                        <td id=\"T_1b269_row1_col0\" class=\"data row1 col0\" >0.100000</td>\n                        <td id=\"T_1b269_row1_col1\" class=\"data row1 col1\" >4294</td>\n                        <td id=\"T_1b269_row1_col2\" class=\"data row1 col2\" >13444</td>\n                        <td id=\"T_1b269_row1_col3\" class=\"data row1 col3\" >1</td>\n                        <td id=\"T_1b269_row1_col4\" class=\"data row1 col4\" >257</td>\n                        <td id=\"T_1b269_row1_col5\" class=\"data row1 col5\" >0.018758</td>\n                        <td id=\"T_1b269_row1_col6\" class=\"data row1 col6\" >0.996124</td>\n                        <td id=\"T_1b269_row1_col7\" class=\"data row1 col7\" >0.036822</td>\n            </tr>\n            <tr>\n                        <th id=\"T_1b269_level0_row2\" class=\"row_heading level0 row2\" >2</th>\n                        <td id=\"T_1b269_row2_col0\" class=\"data row2 col0\" >0.150000</td>\n                        <td id=\"T_1b269_row2_col1\" class=\"data row2 col1\" >6231</td>\n                        <td id=\"T_1b269_row2_col2\" class=\"data row2 col2\" >11507</td>\n                        <td id=\"T_1b269_row2_col3\" class=\"data row2 col3\" >4</td>\n                        <td id=\"T_1b269_row2_col4\" class=\"data row2 col4\" >254</td>\n                        <td id=\"T_1b269_row2_col5\" class=\"data row2 col5\" >0.021597</td>\n                        <td id=\"T_1b269_row2_col6\" class=\"data row2 col6\" >0.984496</td>\n                        <td id=\"T_1b269_row2_col7\" class=\"data row2 col7\" >0.042266</td>\n            </tr>\n            <tr>\n                        <th id=\"T_1b269_level0_row3\" class=\"row_heading level0 row3\" >3</th>\n                        <td id=\"T_1b269_row3_col0\" class=\"data row3 col0\" >0.200000</td>\n                        <td id=\"T_1b269_row3_col1\" class=\"data row3 col1\" >6699</td>\n                        <td id=\"T_1b269_row3_col2\" class=\"data row3 col2\" >11039</td>\n                        <td id=\"T_1b269_row3_col3\" class=\"data row3 col3\" >4</td>\n                        <td id=\"T_1b269_row3_col4\" class=\"data row3 col4\" >254</td>\n                        <td id=\"T_1b269_row3_col5\" class=\"data row3 col5\" >0.022492</td>\n                        <td id=\"T_1b269_row3_col6\" class=\"data row3 col6\" >0.984496</td>\n                        <td id=\"T_1b269_row3_col7\" class=\"data row3 col7\" >0.043979</td>\n            </tr>\n            <tr>\n                        <th id=\"T_1b269_level0_row4\" class=\"row_heading level0 row4\" >4</th>\n                        <td id=\"T_1b269_row4_col0\" class=\"data row4 col0\" >0.250000</td>\n                        <td id=\"T_1b269_row4_col1\" class=\"data row4 col1\" >8210</td>\n                        <td id=\"T_1b269_row4_col2\" class=\"data row4 col2\" >9528</td>\n                        <td id=\"T_1b269_row4_col3\" class=\"data row4 col3\" >8</td>\n                        <td id=\"T_1b269_row4_col4\" class=\"data row4 col4\" >250</td>\n                        <td id=\"T_1b269_row4_col5\" class=\"data row4 col5\" >0.025568</td>\n                        <td id=\"T_1b269_row4_col6\" class=\"data row4 col6\" >0.968992</td>\n                        <td id=\"T_1b269_row4_col7\" class=\"data row4 col7\" >0.049821</td>\n            </tr>\n            <tr>\n                        <th id=\"T_1b269_level0_row5\" class=\"row_heading level0 row5\" >5</th>\n                        <td id=\"T_1b269_row5_col0\" class=\"data row5 col0\" >0.300000</td>\n                        <td id=\"T_1b269_row5_col1\" class=\"data row5 col1\" >10212</td>\n                        <td id=\"T_1b269_row5_col2\" class=\"data row5 col2\" >7526</td>\n                        <td id=\"T_1b269_row5_col3\" class=\"data row5 col3\" >12</td>\n                        <td id=\"T_1b269_row5_col4\" class=\"data row5 col4\" >246</td>\n                        <td id=\"T_1b269_row5_col5\" class=\"data row5 col5\" >0.031652</td>\n                        <td id=\"T_1b269_row5_col6\" class=\"data row5 col6\" >0.953488</td>\n                        <td id=\"T_1b269_row5_col7\" class=\"data row5 col7\" >0.061270</td>\n            </tr>\n            <tr>\n                        <th id=\"T_1b269_level0_row6\" class=\"row_heading level0 row6\" >6</th>\n                        <td id=\"T_1b269_row6_col0\" class=\"data row6 col0\" >0.350000</td>\n                        <td id=\"T_1b269_row6_col1\" class=\"data row6 col1\" >10929</td>\n                        <td id=\"T_1b269_row6_col2\" class=\"data row6 col2\" >6809</td>\n                        <td id=\"T_1b269_row6_col3\" class=\"data row6 col3\" >14</td>\n                        <td id=\"T_1b269_row6_col4\" class=\"data row6 col4\" >244</td>\n                        <td id=\"T_1b269_row6_col5\" class=\"data row6 col5\" >0.034595</td>\n                        <td id=\"T_1b269_row6_col6\" class=\"data row6 col6\" >0.945736</td>\n                        <td id=\"T_1b269_row6_col7\" class=\"data row6 col7\" >0.066749</td>\n            </tr>\n            <tr>\n                        <th id=\"T_1b269_level0_row7\" class=\"row_heading level0 row7\" >7</th>\n                        <td id=\"T_1b269_row7_col0\" class=\"data row7 col0\" >0.400000</td>\n                        <td id=\"T_1b269_row7_col1\" class=\"data row7 col1\" >11028</td>\n                        <td id=\"T_1b269_row7_col2\" class=\"data row7 col2\" >6710</td>\n                        <td id=\"T_1b269_row7_col3\" class=\"data row7 col3\" >14</td>\n                        <td id=\"T_1b269_row7_col4\" class=\"data row7 col4\" >244</td>\n                        <td id=\"T_1b269_row7_col5\" class=\"data row7 col5\" >0.035088</td>\n                        <td id=\"T_1b269_row7_col6\" class=\"data row7 col6\" >0.945736</td>\n                        <td id=\"T_1b269_row7_col7\" class=\"data row7 col7\" >0.067665</td>\n            </tr>\n            <tr>\n                        <th id=\"T_1b269_level0_row8\" class=\"row_heading level0 row8\" >8</th>\n                        <td id=\"T_1b269_row8_col0\" class=\"data row8 col0\" >0.450000</td>\n                        <td id=\"T_1b269_row8_col1\" class=\"data row8 col1\" >12744</td>\n                        <td id=\"T_1b269_row8_col2\" class=\"data row8 col2\" >4994</td>\n                        <td id=\"T_1b269_row8_col3\" class=\"data row8 col3\" >31</td>\n                        <td id=\"T_1b269_row8_col4\" class=\"data row8 col4\" >227</td>\n                        <td id=\"T_1b269_row8_col5\" class=\"data row8 col5\" >0.043478</td>\n                        <td id=\"T_1b269_row8_col6\" class=\"data row8 col6\" >0.879845</td>\n                        <td id=\"T_1b269_row8_col7\" class=\"data row8 col7\" >0.082862</td>\n            </tr>\n            <tr>\n                        <th id=\"T_1b269_level0_row9\" class=\"row_heading level0 row9\" >9</th>\n                        <td id=\"T_1b269_row9_col0\" class=\"data row9 col0\" >0.500000</td>\n                        <td id=\"T_1b269_row9_col1\" class=\"data row9 col1\" >13184</td>\n                        <td id=\"T_1b269_row9_col2\" class=\"data row9 col2\" >4554</td>\n                        <td id=\"T_1b269_row9_col3\" class=\"data row9 col3\" >39</td>\n                        <td id=\"T_1b269_row9_col4\" class=\"data row9 col4\" >219</td>\n                        <td id=\"T_1b269_row9_col5\" class=\"data row9 col5\" >0.045883</td>\n                        <td id=\"T_1b269_row9_col6\" class=\"data row9 col6\" >0.848837</td>\n                        <td id=\"T_1b269_row9_col7\" class=\"data row9 col7\" >0.087060</td>\n            </tr>\n            <tr>\n                        <th id=\"T_1b269_level0_row10\" class=\"row_heading level0 row10\" >10</th>\n                        <td id=\"T_1b269_row10_col0\" class=\"data row10 col0\" >0.550000</td>\n                        <td id=\"T_1b269_row10_col1\" class=\"data row10 col1\" >14299</td>\n                        <td id=\"T_1b269_row10_col2\" class=\"data row10 col2\" >3439</td>\n                        <td id=\"T_1b269_row10_col3\" class=\"data row10 col3\" >65</td>\n                        <td id=\"T_1b269_row10_col4\" class=\"data row10 col4\" >193</td>\n                        <td id=\"T_1b269_row10_col5\" class=\"data row10 col5\" >0.053139</td>\n                        <td id=\"T_1b269_row10_col6\" class=\"data row10 col6\" >0.748062</td>\n                        <td id=\"T_1b269_row10_col7\" class=\"data row10 col7\" >0.099229</td>\n            </tr>\n            <tr>\n                        <th id=\"T_1b269_level0_row11\" class=\"row_heading level0 row11\" >11</th>\n                        <td id=\"T_1b269_row11_col0\" class=\"data row11 col0\" >0.600000</td>\n                        <td id=\"T_1b269_row11_col1\" class=\"data row11 col1\" >15136</td>\n                        <td id=\"T_1b269_row11_col2\" class=\"data row11 col2\" >2602</td>\n                        <td id=\"T_1b269_row11_col3\" class=\"data row11 col3\" >86</td>\n                        <td id=\"T_1b269_row11_col4\" class=\"data row11 col4\" >172</td>\n                        <td id=\"T_1b269_row11_col5\" class=\"data row11 col5\" >0.062004</td>\n                        <td id=\"T_1b269_row11_col6\" class=\"data row11 col6\" >0.666667</td>\n                        <td id=\"T_1b269_row11_col7\" class=\"data row11 col7\" >0.113456</td>\n            </tr>\n            <tr>\n                        <th id=\"T_1b269_level0_row12\" class=\"row_heading level0 row12\" >12</th>\n                        <td id=\"T_1b269_row12_col0\" class=\"data row12 col0\" >0.650000</td>\n                        <td id=\"T_1b269_row12_col1\" class=\"data row12 col1\" >15491</td>\n                        <td id=\"T_1b269_row12_col2\" class=\"data row12 col2\" >2247</td>\n                        <td id=\"T_1b269_row12_col3\" class=\"data row12 col3\" >97</td>\n                        <td id=\"T_1b269_row12_col4\" class=\"data row12 col4\" >161</td>\n                        <td id=\"T_1b269_row12_col5\" class=\"data row12 col5\" >0.066860</td>\n                        <td id=\"T_1b269_row12_col6\" class=\"data row12 col6\" >0.624031</td>\n                        <td id=\"T_1b269_row12_col7\" class=\"data row12 col7\" >0.120780</td>\n            </tr>\n            <tr>\n                        <th id=\"T_1b269_level0_row13\" class=\"row_heading level0 row13\" >13</th>\n                        <td id=\"T_1b269_row13_col0\" class=\"data row13 col0\" >0.700000</td>\n                        <td id=\"T_1b269_row13_col1\" class=\"data row13 col1\" >16134</td>\n                        <td id=\"T_1b269_row13_col2\" class=\"data row13 col2\" >1604</td>\n                        <td id=\"T_1b269_row13_col3\" class=\"data row13 col3\" >129</td>\n                        <td id=\"T_1b269_row13_col4\" class=\"data row13 col4\" >129</td>\n                        <td id=\"T_1b269_row13_col5\" class=\"data row13 col5\" >0.074437</td>\n                        <td id=\"T_1b269_row13_col6\" class=\"data row13 col6\" >0.500000</td>\n                        <td id=\"T_1b269_row13_col7\" class=\"data row13 col7\" >0.129583</td>\n            </tr>\n            <tr>\n                        <th id=\"T_1b269_level0_row14\" class=\"row_heading level0 row14\" >14</th>\n                        <td id=\"T_1b269_row14_col0\" class=\"data row14 col0\" >0.750000</td>\n                        <td id=\"T_1b269_row14_col1\" class=\"data row14 col1\" >17047</td>\n                        <td id=\"T_1b269_row14_col2\" class=\"data row14 col2\" >691</td>\n                        <td id=\"T_1b269_row14_col3\" class=\"data row14 col3\" >172</td>\n                        <td id=\"T_1b269_row14_col4\" class=\"data row14 col4\" >86</td>\n                        <td id=\"T_1b269_row14_col5\" class=\"data row14 col5\" >0.110682</td>\n                        <td id=\"T_1b269_row14_col6\" class=\"data row14 col6\" >0.333333</td>\n                        <td id=\"T_1b269_row14_col7\" class=\"data row14 col7\" >0.166184</td>\n            </tr>\n            <tr>\n                        <th id=\"T_1b269_level0_row15\" class=\"row_heading level0 row15\" >15</th>\n                        <td id=\"T_1b269_row15_col0\" class=\"data row15 col0\" >0.800000</td>\n                        <td id=\"T_1b269_row15_col1\" class=\"data row15 col1\" >17297</td>\n                        <td id=\"T_1b269_row15_col2\" class=\"data row15 col2\" >441</td>\n                        <td id=\"T_1b269_row15_col3\" class=\"data row15 col3\" >184</td>\n                        <td id=\"T_1b269_row15_col4\" class=\"data row15 col4\" >74</td>\n                        <td id=\"T_1b269_row15_col5\" class=\"data row15 col5\" >0.143689</td>\n                        <td id=\"T_1b269_row15_col6\" class=\"data row15 col6\" >0.286822</td>\n                        <td id=\"T_1b269_row15_col7\" class=\"data row15 col7\" >0.191462</td>\n            </tr>\n            <tr>\n                        <th id=\"T_1b269_level0_row16\" class=\"row_heading level0 row16\" >16</th>\n                        <td id=\"T_1b269_row16_col0\" class=\"data row16 col0\" >0.850000</td>\n                        <td id=\"T_1b269_row16_col1\" class=\"data row16 col1\" >17456</td>\n                        <td id=\"T_1b269_row16_col2\" class=\"data row16 col2\" >282</td>\n                        <td id=\"T_1b269_row16_col3\" class=\"data row16 col3\" >205</td>\n                        <td id=\"T_1b269_row16_col4\" class=\"data row16 col4\" >53</td>\n                        <td id=\"T_1b269_row16_col5\" class=\"data row16 col5\" >0.158209</td>\n                        <td id=\"T_1b269_row16_col6\" class=\"data row16 col6\" >0.205426</td>\n                        <td id=\"T_1b269_row16_col7\" class=\"data row16 col7\" >0.178752</td>\n            </tr>\n            <tr>\n                        <th id=\"T_1b269_level0_row17\" class=\"row_heading level0 row17\" >17</th>\n                        <td id=\"T_1b269_row17_col0\" class=\"data row17 col0\" >0.900000</td>\n                        <td id=\"T_1b269_row17_col1\" class=\"data row17 col1\" >17544</td>\n                        <td id=\"T_1b269_row17_col2\" class=\"data row17 col2\" >194</td>\n                        <td id=\"T_1b269_row17_col3\" class=\"data row17 col3\" >229</td>\n                        <td id=\"T_1b269_row17_col4\" class=\"data row17 col4\" >29</td>\n                        <td id=\"T_1b269_row17_col5\" class=\"data row17 col5\" >0.130045</td>\n                        <td id=\"T_1b269_row17_col6\" class=\"data row17 col6\" >0.112403</td>\n                        <td id=\"T_1b269_row17_col7\" class=\"data row17 col7\" >0.120582</td>\n            </tr>\n            <tr>\n                        <th id=\"T_1b269_level0_row18\" class=\"row_heading level0 row18\" >18</th>\n                        <td id=\"T_1b269_row18_col0\" class=\"data row18 col0\" >0.950000</td>\n                        <td id=\"T_1b269_row18_col1\" class=\"data row18 col1\" >17738</td>\n                        <td id=\"T_1b269_row18_col2\" class=\"data row18 col2\" >0</td>\n                        <td id=\"T_1b269_row18_col3\" class=\"data row18 col3\" >258</td>\n                        <td id=\"T_1b269_row18_col4\" class=\"data row18 col4\" >0</td>\n                        <td id=\"T_1b269_row18_col5\" class=\"data row18 col5\" >nan</td>\n                        <td id=\"T_1b269_row18_col6\" class=\"data row18 col6\" >0.000000</td>\n                        <td id=\"T_1b269_row18_col7\" class=\"data row18 col7\" >nan</td>\n            </tr>\n    </tbody></table>"
     },
     "metadata": {},
     "execution_count": 9
    }
   ],
   "source": [
    "def highlight_max(data, color=\"yellow\"):\n",
    "    \"\"\"\n",
    "    highlight the maximum in a Series or DataFrame\n",
    "    \"\"\"\n",
    "    attr = \"background-color: {}\".format(color)\n",
    "    if data.ndim == 1:  # Series from .apply(axis=0) or axis=1\n",
    "        is_max = data == data.max()\n",
    "        return [attr if v else \"\" for v in is_max]\n",
    "    else:  # from .apply(axis=None)\n",
    "        is_max = data == data.max().max()\n",
    "        return pd.DataFrame(\n",
    "            np.where(is_max, attr, \"\"), index=data.index, columns=data.columns\n",
    "        )\n",
    "\n",
    "\n",
    "threshold_perf.style.apply(\n",
    "    highlight_max, color=\"green\", subset=[\"precision\", \"recall\", \"f1\"]\n",
    ")"
   ]
  },
  {
   "cell_type": "markdown",
   "id": "2ea6b476",
   "metadata": {},
   "source": [
    "# Add model to pipeline and save it"
   ]
  },
  {
   "cell_type": "code",
   "execution_count": 10,
   "id": "d0cbe7d2",
   "metadata": {},
   "outputs": [
    {
     "output_type": "execute_result",
     "data": {
      "text/plain": [
       "['../ml_artifacts/pipeline.joblib.gz']"
      ]
     },
     "metadata": {},
     "execution_count": 10
    }
   ],
   "source": [
    "pipeline = preprocessor.set_params(model=model)\n",
    "\n",
    "joblib.dump(pipeline, \"../ml_artifacts/pipeline.joblib.gz\")"
   ]
  },
  {
   "cell_type": "markdown",
   "id": "a7a8087b",
   "metadata": {},
   "source": [
    "# Batch predict required set"
   ]
  },
  {
   "cell_type": "code",
   "execution_count": 11,
   "id": "1fc1155a",
   "metadata": {},
   "outputs": [],
   "source": [
    "to_predict = pd.read_csv(\"../data/predict/to_predict.csv\")"
   ]
  },
  {
   "cell_type": "code",
   "execution_count": 12,
   "id": "36a12cb9",
   "metadata": {},
   "outputs": [],
   "source": [
    "to_predict[[\"uuid\"]].assign(\n",
    "    pd=pipeline.predict_proba(to_predict.drop(\"default\", axis=1))[:, 1]\n",
    ").to_csv(\"../data/predict/predictions.csv\", index=False)"
   ]
  }
 ],
 "metadata": {
  "jupytext": {
   "main_language": "python"
  },
  "kernelspec": {
   "display_name": "Python 3.8.10 64-bit ('klarna': conda)",
   "name": "python381064bitklarnacondaf238ae83b93148ae9699955d68f1389c"
  }
 },
 "nbformat": 4,
 "nbformat_minor": 5
}
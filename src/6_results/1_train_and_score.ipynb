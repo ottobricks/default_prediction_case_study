{
 "cells": [
  {
   "cell_type": "code",
   "execution_count": 1,
   "id": "f0643d1f",
   "metadata": {},
   "outputs": [],
   "source": [
    "import os\n",
    "import joblib\n",
    "import numpy as np\n",
    "import pandas as pd\n",
    "from sklearn.metrics import confusion_matrix"
   ]
  },
  {
   "cell_type": "code",
   "execution_count": 3,
   "id": "874cf3d0",
   "metadata": {},
   "outputs": [],
   "source": [
    "try:\n",
    "    _ = first_run\n",
    "except NameError:\n",
    "    first_run = True\n",
    "    os.chdir(os.getcwd().rsplit(\"/\", 1)[0])\n",
    "    from _aux import features as F"
   ]
  },
  {
   "cell_type": "markdown",
   "id": "2b6c28e2",
   "metadata": {},
   "source": [
    "# Load Data\n",
    "\n",
    "Now that we are ready to present our final results, we must load the test set which we held out at step \"0_split_data\"."
   ]
  },
  {
   "cell_type": "code",
   "execution_count": 10,
   "id": "6d99414a",
   "metadata": {},
   "outputs": [],
   "source": [
    "X_train, y_train = joblib.load(\"../data/train/preprocessed/train_features_labels.joblib.gz\")\n",
    "\n",
    "X_test, y_test = pd.read_csv(\"../data/test/X_test.csv\", index_col=0), pd.read_csv(\"../data/test/y_test.csv\", index_col=0)"
   ]
  },
  {
   "source": [
    "# Load the preprocessor"
   ],
   "cell_type": "markdown",
   "metadata": {}
  },
  {
   "cell_type": "code",
   "execution_count": 5,
   "metadata": {},
   "outputs": [],
   "source": [
    "preprocessor = joblib.load(\"../ml_artifacts/preprocessor.joblib.gz\")"
   ]
  },
  {
   "cell_type": "markdown",
   "id": "74e3d80d",
   "metadata": {},
   "source": [
    "# Fit the best model"
   ]
  },
  {
   "cell_type": "code",
   "execution_count": 37,
   "metadata": {},
   "outputs": [],
   "source": [
    "model = RandomForestRegressor().fit(X_train, y_train)\n",
    "\n",
    "_ = joblib.dump(baseline, \"../ml_artifacts/baseline_model.joblib.gz\")"
   ]
  },
  {
   "cell_type": "code",
   "execution_count": 49,
   "metadata": {},
   "outputs": [],
   "source": [
    "threshold_perf = pd.DataFrame(\n",
    "    [\n",
    "        (threshold, *confusion_matrix(y_validation, (baseline.predict(X_validation) > threshold).astype(int)).ravel())\n",
    "        for threshold in np.arange(.05, .95, .05)\n",
    "    ],\n",
    "    columns=[\"threshold\", \"tn\", \"fp\", \"fn\", \"tp\"]\n",
    ").assign(\n",
    "    precision=lambda df: df[\"tp\"] / (df[\"tp\"] + df[\"fp\"]),\n",
    "    recall=lambda df: df[\"tp\"] / (df[\"tp\"] + df[\"fn\"]),\n",
    "    f1=lambda df: 2 * (df[\"precision\"] * df[\"recall\"]) / (df[\"precision\"] + df[\"recall\"])\n",
    ")\n",
    "\n",
    "threshold_perf.to_csv(\"../ml_artifacts/baseline_model_performance.csv\", index=False)"
   ]
  },
  {
   "cell_type": "code",
   "execution_count": 47,
   "metadata": {},
   "outputs": [
    {
     "output_type": "execute_result",
     "data": {
      "text/plain": [
       "<pandas.io.formats.style.Styler at 0x7f25a9dd6dc0>"
      ],
      "text/html": "<style  type=\"text/css\" >\n#T_3976e_row0_col6,#T_3976e_row1_col7,#T_3976e_row16_col5,#T_3976e_row17_col5{\n            background-color:  darkorange;\n        }</style><table id=\"T_3976e_\" ><thead>    <tr>        <th class=\"blank level0\" ></th>        <th class=\"col_heading level0 col0\" >threshold</th>        <th class=\"col_heading level0 col1\" >tn</th>        <th class=\"col_heading level0 col2\" >fp</th>        <th class=\"col_heading level0 col3\" >fn</th>        <th class=\"col_heading level0 col4\" >tp</th>        <th class=\"col_heading level0 col5\" >precision</th>        <th class=\"col_heading level0 col6\" >recall</th>        <th class=\"col_heading level0 col7\" >f1</th>    </tr></thead><tbody>\n                <tr>\n                        <th id=\"T_3976e_level0_row0\" class=\"row_heading level0 row0\" >0</th>\n                        <td id=\"T_3976e_row0_col0\" class=\"data row0 col0\" >0.050000</td>\n                        <td id=\"T_3976e_row0_col1\" class=\"data row0 col1\" >13582</td>\n                        <td id=\"T_3976e_row0_col2\" class=\"data row0 col2\" >600</td>\n                        <td id=\"T_3976e_row0_col3\" class=\"data row0 col3\" >128</td>\n                        <td id=\"T_3976e_row0_col4\" class=\"data row0 col4\" >86</td>\n                        <td id=\"T_3976e_row0_col5\" class=\"data row0 col5\" >0.125364</td>\n                        <td id=\"T_3976e_row0_col6\" class=\"data row0 col6\" >0.401869</td>\n                        <td id=\"T_3976e_row0_col7\" class=\"data row0 col7\" >0.191111</td>\n            </tr>\n            <tr>\n                        <th id=\"T_3976e_level0_row1\" class=\"row_heading level0 row1\" >1</th>\n                        <td id=\"T_3976e_row1_col0\" class=\"data row1 col0\" >0.100000</td>\n                        <td id=\"T_3976e_row1_col1\" class=\"data row1 col1\" >13830</td>\n                        <td id=\"T_3976e_row1_col2\" class=\"data row1 col2\" >352</td>\n                        <td id=\"T_3976e_row1_col3\" class=\"data row1 col3\" >143</td>\n                        <td id=\"T_3976e_row1_col4\" class=\"data row1 col4\" >71</td>\n                        <td id=\"T_3976e_row1_col5\" class=\"data row1 col5\" >0.167849</td>\n                        <td id=\"T_3976e_row1_col6\" class=\"data row1 col6\" >0.331776</td>\n                        <td id=\"T_3976e_row1_col7\" class=\"data row1 col7\" >0.222920</td>\n            </tr>\n            <tr>\n                        <th id=\"T_3976e_level0_row2\" class=\"row_heading level0 row2\" >2</th>\n                        <td id=\"T_3976e_row2_col0\" class=\"data row2 col0\" >0.150000</td>\n                        <td id=\"T_3976e_row2_col1\" class=\"data row2 col1\" >13930</td>\n                        <td id=\"T_3976e_row2_col2\" class=\"data row2 col2\" >252</td>\n                        <td id=\"T_3976e_row2_col3\" class=\"data row2 col3\" >160</td>\n                        <td id=\"T_3976e_row2_col4\" class=\"data row2 col4\" >54</td>\n                        <td id=\"T_3976e_row2_col5\" class=\"data row2 col5\" >0.176471</td>\n                        <td id=\"T_3976e_row2_col6\" class=\"data row2 col6\" >0.252336</td>\n                        <td id=\"T_3976e_row2_col7\" class=\"data row2 col7\" >0.207692</td>\n            </tr>\n            <tr>\n                        <th id=\"T_3976e_level0_row3\" class=\"row_heading level0 row3\" >3</th>\n                        <td id=\"T_3976e_row3_col0\" class=\"data row3 col0\" >0.200000</td>\n                        <td id=\"T_3976e_row3_col1\" class=\"data row3 col1\" >13992</td>\n                        <td id=\"T_3976e_row3_col2\" class=\"data row3 col2\" >190</td>\n                        <td id=\"T_3976e_row3_col3\" class=\"data row3 col3\" >168</td>\n                        <td id=\"T_3976e_row3_col4\" class=\"data row3 col4\" >46</td>\n                        <td id=\"T_3976e_row3_col5\" class=\"data row3 col5\" >0.194915</td>\n                        <td id=\"T_3976e_row3_col6\" class=\"data row3 col6\" >0.214953</td>\n                        <td id=\"T_3976e_row3_col7\" class=\"data row3 col7\" >0.204444</td>\n            </tr>\n            <tr>\n                        <th id=\"T_3976e_level0_row4\" class=\"row_heading level0 row4\" >4</th>\n                        <td id=\"T_3976e_row4_col0\" class=\"data row4 col0\" >0.250000</td>\n                        <td id=\"T_3976e_row4_col1\" class=\"data row4 col1\" >14032</td>\n                        <td id=\"T_3976e_row4_col2\" class=\"data row4 col2\" >150</td>\n                        <td id=\"T_3976e_row4_col3\" class=\"data row4 col3\" >172</td>\n                        <td id=\"T_3976e_row4_col4\" class=\"data row4 col4\" >42</td>\n                        <td id=\"T_3976e_row4_col5\" class=\"data row4 col5\" >0.218750</td>\n                        <td id=\"T_3976e_row4_col6\" class=\"data row4 col6\" >0.196262</td>\n                        <td id=\"T_3976e_row4_col7\" class=\"data row4 col7\" >0.206897</td>\n            </tr>\n            <tr>\n                        <th id=\"T_3976e_level0_row5\" class=\"row_heading level0 row5\" >5</th>\n                        <td id=\"T_3976e_row5_col0\" class=\"data row5 col0\" >0.300000</td>\n                        <td id=\"T_3976e_row5_col1\" class=\"data row5 col1\" >14069</td>\n                        <td id=\"T_3976e_row5_col2\" class=\"data row5 col2\" >113</td>\n                        <td id=\"T_3976e_row5_col3\" class=\"data row5 col3\" >178</td>\n                        <td id=\"T_3976e_row5_col4\" class=\"data row5 col4\" >36</td>\n                        <td id=\"T_3976e_row5_col5\" class=\"data row5 col5\" >0.241611</td>\n                        <td id=\"T_3976e_row5_col6\" class=\"data row5 col6\" >0.168224</td>\n                        <td id=\"T_3976e_row5_col7\" class=\"data row5 col7\" >0.198347</td>\n            </tr>\n            <tr>\n                        <th id=\"T_3976e_level0_row6\" class=\"row_heading level0 row6\" >6</th>\n                        <td id=\"T_3976e_row6_col0\" class=\"data row6 col0\" >0.350000</td>\n                        <td id=\"T_3976e_row6_col1\" class=\"data row6 col1\" >14097</td>\n                        <td id=\"T_3976e_row6_col2\" class=\"data row6 col2\" >85</td>\n                        <td id=\"T_3976e_row6_col3\" class=\"data row6 col3\" >184</td>\n                        <td id=\"T_3976e_row6_col4\" class=\"data row6 col4\" >30</td>\n                        <td id=\"T_3976e_row6_col5\" class=\"data row6 col5\" >0.260870</td>\n                        <td id=\"T_3976e_row6_col6\" class=\"data row6 col6\" >0.140187</td>\n                        <td id=\"T_3976e_row6_col7\" class=\"data row6 col7\" >0.182371</td>\n            </tr>\n            <tr>\n                        <th id=\"T_3976e_level0_row7\" class=\"row_heading level0 row7\" >7</th>\n                        <td id=\"T_3976e_row7_col0\" class=\"data row7 col0\" >0.400000</td>\n                        <td id=\"T_3976e_row7_col1\" class=\"data row7 col1\" >14117</td>\n                        <td id=\"T_3976e_row7_col2\" class=\"data row7 col2\" >65</td>\n                        <td id=\"T_3976e_row7_col3\" class=\"data row7 col3\" >189</td>\n                        <td id=\"T_3976e_row7_col4\" class=\"data row7 col4\" >25</td>\n                        <td id=\"T_3976e_row7_col5\" class=\"data row7 col5\" >0.277778</td>\n                        <td id=\"T_3976e_row7_col6\" class=\"data row7 col6\" >0.116822</td>\n                        <td id=\"T_3976e_row7_col7\" class=\"data row7 col7\" >0.164474</td>\n            </tr>\n            <tr>\n                        <th id=\"T_3976e_level0_row8\" class=\"row_heading level0 row8\" >8</th>\n                        <td id=\"T_3976e_row8_col0\" class=\"data row8 col0\" >0.450000</td>\n                        <td id=\"T_3976e_row8_col1\" class=\"data row8 col1\" >14134</td>\n                        <td id=\"T_3976e_row8_col2\" class=\"data row8 col2\" >48</td>\n                        <td id=\"T_3976e_row8_col3\" class=\"data row8 col3\" >197</td>\n                        <td id=\"T_3976e_row8_col4\" class=\"data row8 col4\" >17</td>\n                        <td id=\"T_3976e_row8_col5\" class=\"data row8 col5\" >0.261538</td>\n                        <td id=\"T_3976e_row8_col6\" class=\"data row8 col6\" >0.079439</td>\n                        <td id=\"T_3976e_row8_col7\" class=\"data row8 col7\" >0.121864</td>\n            </tr>\n            <tr>\n                        <th id=\"T_3976e_level0_row9\" class=\"row_heading level0 row9\" >9</th>\n                        <td id=\"T_3976e_row9_col0\" class=\"data row9 col0\" >0.500000</td>\n                        <td id=\"T_3976e_row9_col1\" class=\"data row9 col1\" >14145</td>\n                        <td id=\"T_3976e_row9_col2\" class=\"data row9 col2\" >37</td>\n                        <td id=\"T_3976e_row9_col3\" class=\"data row9 col3\" >200</td>\n                        <td id=\"T_3976e_row9_col4\" class=\"data row9 col4\" >14</td>\n                        <td id=\"T_3976e_row9_col5\" class=\"data row9 col5\" >0.274510</td>\n                        <td id=\"T_3976e_row9_col6\" class=\"data row9 col6\" >0.065421</td>\n                        <td id=\"T_3976e_row9_col7\" class=\"data row9 col7\" >0.105660</td>\n            </tr>\n            <tr>\n                        <th id=\"T_3976e_level0_row10\" class=\"row_heading level0 row10\" >10</th>\n                        <td id=\"T_3976e_row10_col0\" class=\"data row10 col0\" >0.550000</td>\n                        <td id=\"T_3976e_row10_col1\" class=\"data row10 col1\" >14150</td>\n                        <td id=\"T_3976e_row10_col2\" class=\"data row10 col2\" >32</td>\n                        <td id=\"T_3976e_row10_col3\" class=\"data row10 col3\" >201</td>\n                        <td id=\"T_3976e_row10_col4\" class=\"data row10 col4\" >13</td>\n                        <td id=\"T_3976e_row10_col5\" class=\"data row10 col5\" >0.288889</td>\n                        <td id=\"T_3976e_row10_col6\" class=\"data row10 col6\" >0.060748</td>\n                        <td id=\"T_3976e_row10_col7\" class=\"data row10 col7\" >0.100386</td>\n            </tr>\n            <tr>\n                        <th id=\"T_3976e_level0_row11\" class=\"row_heading level0 row11\" >11</th>\n                        <td id=\"T_3976e_row11_col0\" class=\"data row11 col0\" >0.600000</td>\n                        <td id=\"T_3976e_row11_col1\" class=\"data row11 col1\" >14161</td>\n                        <td id=\"T_3976e_row11_col2\" class=\"data row11 col2\" >21</td>\n                        <td id=\"T_3976e_row11_col3\" class=\"data row11 col3\" >201</td>\n                        <td id=\"T_3976e_row11_col4\" class=\"data row11 col4\" >13</td>\n                        <td id=\"T_3976e_row11_col5\" class=\"data row11 col5\" >0.382353</td>\n                        <td id=\"T_3976e_row11_col6\" class=\"data row11 col6\" >0.060748</td>\n                        <td id=\"T_3976e_row11_col7\" class=\"data row11 col7\" >0.104839</td>\n            </tr>\n            <tr>\n                        <th id=\"T_3976e_level0_row12\" class=\"row_heading level0 row12\" >12</th>\n                        <td id=\"T_3976e_row12_col0\" class=\"data row12 col0\" >0.650000</td>\n                        <td id=\"T_3976e_row12_col1\" class=\"data row12 col1\" >14167</td>\n                        <td id=\"T_3976e_row12_col2\" class=\"data row12 col2\" >15</td>\n                        <td id=\"T_3976e_row12_col3\" class=\"data row12 col3\" >202</td>\n                        <td id=\"T_3976e_row12_col4\" class=\"data row12 col4\" >12</td>\n                        <td id=\"T_3976e_row12_col5\" class=\"data row12 col5\" >0.444444</td>\n                        <td id=\"T_3976e_row12_col6\" class=\"data row12 col6\" >0.056075</td>\n                        <td id=\"T_3976e_row12_col7\" class=\"data row12 col7\" >0.099585</td>\n            </tr>\n            <tr>\n                        <th id=\"T_3976e_level0_row13\" class=\"row_heading level0 row13\" >13</th>\n                        <td id=\"T_3976e_row13_col0\" class=\"data row13 col0\" >0.700000</td>\n                        <td id=\"T_3976e_row13_col1\" class=\"data row13 col1\" >14173</td>\n                        <td id=\"T_3976e_row13_col2\" class=\"data row13 col2\" >9</td>\n                        <td id=\"T_3976e_row13_col3\" class=\"data row13 col3\" >205</td>\n                        <td id=\"T_3976e_row13_col4\" class=\"data row13 col4\" >9</td>\n                        <td id=\"T_3976e_row13_col5\" class=\"data row13 col5\" >0.500000</td>\n                        <td id=\"T_3976e_row13_col6\" class=\"data row13 col6\" >0.042056</td>\n                        <td id=\"T_3976e_row13_col7\" class=\"data row13 col7\" >0.077586</td>\n            </tr>\n            <tr>\n                        <th id=\"T_3976e_level0_row14\" class=\"row_heading level0 row14\" >14</th>\n                        <td id=\"T_3976e_row14_col0\" class=\"data row14 col0\" >0.750000</td>\n                        <td id=\"T_3976e_row14_col1\" class=\"data row14 col1\" >14178</td>\n                        <td id=\"T_3976e_row14_col2\" class=\"data row14 col2\" >4</td>\n                        <td id=\"T_3976e_row14_col3\" class=\"data row14 col3\" >205</td>\n                        <td id=\"T_3976e_row14_col4\" class=\"data row14 col4\" >9</td>\n                        <td id=\"T_3976e_row14_col5\" class=\"data row14 col5\" >0.692308</td>\n                        <td id=\"T_3976e_row14_col6\" class=\"data row14 col6\" >0.042056</td>\n                        <td id=\"T_3976e_row14_col7\" class=\"data row14 col7\" >0.079295</td>\n            </tr>\n            <tr>\n                        <th id=\"T_3976e_level0_row15\" class=\"row_heading level0 row15\" >15</th>\n                        <td id=\"T_3976e_row15_col0\" class=\"data row15 col0\" >0.800000</td>\n                        <td id=\"T_3976e_row15_col1\" class=\"data row15 col1\" >14181</td>\n                        <td id=\"T_3976e_row15_col2\" class=\"data row15 col2\" >1</td>\n                        <td id=\"T_3976e_row15_col3\" class=\"data row15 col3\" >206</td>\n                        <td id=\"T_3976e_row15_col4\" class=\"data row15 col4\" >8</td>\n                        <td id=\"T_3976e_row15_col5\" class=\"data row15 col5\" >0.888889</td>\n                        <td id=\"T_3976e_row15_col6\" class=\"data row15 col6\" >0.037383</td>\n                        <td id=\"T_3976e_row15_col7\" class=\"data row15 col7\" >0.071749</td>\n            </tr>\n            <tr>\n                        <th id=\"T_3976e_level0_row16\" class=\"row_heading level0 row16\" >16</th>\n                        <td id=\"T_3976e_row16_col0\" class=\"data row16 col0\" >0.850000</td>\n                        <td id=\"T_3976e_row16_col1\" class=\"data row16 col1\" >14182</td>\n                        <td id=\"T_3976e_row16_col2\" class=\"data row16 col2\" >0</td>\n                        <td id=\"T_3976e_row16_col3\" class=\"data row16 col3\" >207</td>\n                        <td id=\"T_3976e_row16_col4\" class=\"data row16 col4\" >7</td>\n                        <td id=\"T_3976e_row16_col5\" class=\"data row16 col5\" >1.000000</td>\n                        <td id=\"T_3976e_row16_col6\" class=\"data row16 col6\" >0.032710</td>\n                        <td id=\"T_3976e_row16_col7\" class=\"data row16 col7\" >0.063348</td>\n            </tr>\n            <tr>\n                        <th id=\"T_3976e_level0_row17\" class=\"row_heading level0 row17\" >17</th>\n                        <td id=\"T_3976e_row17_col0\" class=\"data row17 col0\" >0.900000</td>\n                        <td id=\"T_3976e_row17_col1\" class=\"data row17 col1\" >14182</td>\n                        <td id=\"T_3976e_row17_col2\" class=\"data row17 col2\" >0</td>\n                        <td id=\"T_3976e_row17_col3\" class=\"data row17 col3\" >213</td>\n                        <td id=\"T_3976e_row17_col4\" class=\"data row17 col4\" >1</td>\n                        <td id=\"T_3976e_row17_col5\" class=\"data row17 col5\" >1.000000</td>\n                        <td id=\"T_3976e_row17_col6\" class=\"data row17 col6\" >0.004673</td>\n                        <td id=\"T_3976e_row17_col7\" class=\"data row17 col7\" >0.009302</td>\n            </tr>\n    </tbody></table>"
     },
     "metadata": {},
     "execution_count": 47
    }
   ],
   "source": [
    "def highlight_max(data, color='yellow'):\n",
    "    '''\n",
    "    highlight the maximum in a Series or DataFrame\n",
    "    '''\n",
    "    attr = 'background-color: {}'.format(color)\n",
    "    if data.ndim == 1:  # Series from .apply(axis=0) or axis=1\n",
    "        is_max = data == data.max()\n",
    "        return [attr if v else '' for v in is_max]\n",
    "    else:  # from .apply(axis=None)\n",
    "        is_max = data == data.max().max()\n",
    "        return pd.DataFrame(np.where(is_max, attr, ''),\n",
    "                            index=data.index, columns=data.columns)\n",
    "\n",
    "\n",
    "threshold_perf.style.apply(\n",
    "    highlight_max, color='darkorange', subset=[\"precision\", \"recall\", 'f1']\n",
    ")"
   ]
  }
 ],
 "metadata": {
  "jupytext": {
   "main_language": "python"
  },
  "kernelspec": {
   "name": "python38864bitklarnaconda4ef8c56e5567458cb1bf905cc9704f70",
   "display_name": "Python 3.8.8 64-bit ('klarna': conda)"
  }
 },
 "nbformat": 4,
 "nbformat_minor": 5
}
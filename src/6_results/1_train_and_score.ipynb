{
 "cells": [
  {
   "cell_type": "code",
   "execution_count": 1,
   "id": "f0643d1f",
   "metadata": {},
   "outputs": [],
   "source": [
    "import os\n",
    "import joblib\n",
    "import numpy as np\n",
    "import pandas as pd\n",
    "from sklearn.metrics import confusion_matrix\n",
    "\n",
    "# Import all candidates to support automatic decision making\n",
    "from sklearn.ensemble import RandomForestRegressor\n",
    "from sklearn.linear_model import Ridge\n",
    "from sklearn.metrics import confusion_matrix\n",
    "from sklearn.svm import SVR\n",
    "from xgboost import XGBRegressor"
   ]
  },
  {
   "cell_type": "code",
   "execution_count": 2,
   "id": "874cf3d0",
   "metadata": {},
   "outputs": [],
   "source": [
    "try:\n",
    "    _ = first_run\n",
    "except NameError:\n",
    "    first_run = True\n",
    "    os.chdir(os.getcwd().rsplit(\"/\", 1)[0])\n",
    "    from _aux import features as F"
   ]
  },
  {
   "cell_type": "markdown",
   "id": "2b6c28e2",
   "metadata": {},
   "source": [
    "# Load Data\n",
    "\n",
    "Now that we are ready to present our final results, we must load the test set which we held out at step \"0_split_data\"."
   ]
  },
  {
   "cell_type": "code",
   "execution_count": 3,
   "id": "6d99414a",
   "metadata": {},
   "outputs": [],
   "source": [
    "X_train, y_train = joblib.load(\"../data/train/preprocessed/undersampled_train_features_labels.joblib.gz\")\n",
    "\n",
    "X_test, y_test = pd.read_csv(\"../data/test/X_test.csv\", index_col=0), pd.read_csv(\"../data/test/y_test.csv\", index_col=0)"
   ]
  },
  {
   "source": [
    "# Load the preprocessor and transform test data"
   ],
   "cell_type": "markdown",
   "metadata": {}
  },
  {
   "cell_type": "code",
   "execution_count": 4,
   "metadata": {},
   "outputs": [],
   "source": [
    "preprocessor = joblib.load(\"../ml_artifacts/preprocessor.joblib.gz\")"
   ]
  },
  {
   "cell_type": "code",
   "execution_count": 5,
   "metadata": {},
   "outputs": [],
   "source": [
    "X_test_preproc = preprocessor.transform(X_test)"
   ]
  },
  {
   "source": [
    "# Choose model based on GridSearch performance"
   ],
   "cell_type": "markdown",
   "metadata": {}
  },
  {
   "cell_type": "code",
   "execution_count": 6,
   "metadata": {},
   "outputs": [],
   "source": [
    "best_model = joblib.load(\"../ml_artifacts/gridsearch_results/2021-05-23T14:13:24broad_param_search_result.joblib.gz\").iloc[0]"
   ]
  },
  {
   "cell_type": "markdown",
   "id": "74e3d80d",
   "metadata": {},
   "source": [
    "# Fit the best model"
   ]
  },
  {
   "cell_type": "code",
   "execution_count": 7,
   "metadata": {},
   "outputs": [],
   "source": [
    "model = eval(best_model.estimator)(**best_model.params).fit(X_train, y_train)"
   ]
  },
  {
   "cell_type": "code",
   "execution_count": 8,
   "metadata": {},
   "outputs": [],
   "source": [
    "threshold_perf = pd.DataFrame(\n",
    "    [\n",
    "        (threshold, *confusion_matrix(y_test, (model.predict(X_test_preproc) > threshold).astype(int)).ravel())\n",
    "        for threshold in np.arange(.05, 1, .05)\n",
    "    ],\n",
    "    columns=[\"threshold\", \"tn\", \"fp\", \"fn\", \"tp\"]\n",
    ").assign(\n",
    "    precision=lambda df: df[\"tp\"] / (df[\"tp\"] + df[\"fp\"]),\n",
    "    recall=lambda df: df[\"tp\"] / (df[\"tp\"] + df[\"fn\"]),\n",
    "    f1=lambda df: 2 * (df[\"precision\"] * df[\"recall\"]) / (df[\"precision\"] + df[\"recall\"])\n",
    ")\n",
    "\n",
    "threshold_perf.to_csv(\"../ml_artifacts/model_performance.csv\", index=False)"
   ]
  },
  {
   "cell_type": "code",
   "execution_count": 9,
   "metadata": {},
   "outputs": [
    {
     "output_type": "execute_result",
     "data": {
      "text/plain": [
       "<pandas.io.formats.style.Styler at 0x7f2ab9007a60>"
      ],
      "text/html": "<style  type=\"text/css\" >\n#T_5a4b5_row0_col6,#T_5a4b5_row15_col7,#T_5a4b5_row18_col5{\n            background-color:  green;\n        }</style><table id=\"T_5a4b5_\" ><thead>    <tr>        <th class=\"blank level0\" ></th>        <th class=\"col_heading level0 col0\" >threshold</th>        <th class=\"col_heading level0 col1\" >tn</th>        <th class=\"col_heading level0 col2\" >fp</th>        <th class=\"col_heading level0 col3\" >fn</th>        <th class=\"col_heading level0 col4\" >tp</th>        <th class=\"col_heading level0 col5\" >precision</th>        <th class=\"col_heading level0 col6\" >recall</th>        <th class=\"col_heading level0 col7\" >f1</th>    </tr></thead><tbody>\n                <tr>\n                        <th id=\"T_5a4b5_level0_row0\" class=\"row_heading level0 row0\" >0</th>\n                        <td id=\"T_5a4b5_row0_col0\" class=\"data row0 col0\" >0.050000</td>\n                        <td id=\"T_5a4b5_row0_col1\" class=\"data row0 col1\" >3695</td>\n                        <td id=\"T_5a4b5_row0_col2\" class=\"data row0 col2\" >14043</td>\n                        <td id=\"T_5a4b5_row0_col3\" class=\"data row0 col3\" >0</td>\n                        <td id=\"T_5a4b5_row0_col4\" class=\"data row0 col4\" >258</td>\n                        <td id=\"T_5a4b5_row0_col5\" class=\"data row0 col5\" >0.018041</td>\n                        <td id=\"T_5a4b5_row0_col6\" class=\"data row0 col6\" >1.000000</td>\n                        <td id=\"T_5a4b5_row0_col7\" class=\"data row0 col7\" >0.035442</td>\n            </tr>\n            <tr>\n                        <th id=\"T_5a4b5_level0_row1\" class=\"row_heading level0 row1\" >1</th>\n                        <td id=\"T_5a4b5_row1_col0\" class=\"data row1 col0\" >0.100000</td>\n                        <td id=\"T_5a4b5_row1_col1\" class=\"data row1 col1\" >6009</td>\n                        <td id=\"T_5a4b5_row1_col2\" class=\"data row1 col2\" >11729</td>\n                        <td id=\"T_5a4b5_row1_col3\" class=\"data row1 col3\" >3</td>\n                        <td id=\"T_5a4b5_row1_col4\" class=\"data row1 col4\" >255</td>\n                        <td id=\"T_5a4b5_row1_col5\" class=\"data row1 col5\" >0.021278</td>\n                        <td id=\"T_5a4b5_row1_col6\" class=\"data row1 col6\" >0.988372</td>\n                        <td id=\"T_5a4b5_row1_col7\" class=\"data row1 col7\" >0.041660</td>\n            </tr>\n            <tr>\n                        <th id=\"T_5a4b5_level0_row2\" class=\"row_heading level0 row2\" >2</th>\n                        <td id=\"T_5a4b5_row2_col0\" class=\"data row2 col0\" >0.150000</td>\n                        <td id=\"T_5a4b5_row2_col1\" class=\"data row2 col1\" >6983</td>\n                        <td id=\"T_5a4b5_row2_col2\" class=\"data row2 col2\" >10755</td>\n                        <td id=\"T_5a4b5_row2_col3\" class=\"data row2 col3\" >4</td>\n                        <td id=\"T_5a4b5_row2_col4\" class=\"data row2 col4\" >254</td>\n                        <td id=\"T_5a4b5_row2_col5\" class=\"data row2 col5\" >0.023072</td>\n                        <td id=\"T_5a4b5_row2_col6\" class=\"data row2 col6\" >0.984496</td>\n                        <td id=\"T_5a4b5_row2_col7\" class=\"data row2 col7\" >0.045087</td>\n            </tr>\n            <tr>\n                        <th id=\"T_5a4b5_level0_row3\" class=\"row_heading level0 row3\" >3</th>\n                        <td id=\"T_5a4b5_row3_col0\" class=\"data row3 col0\" >0.200000</td>\n                        <td id=\"T_5a4b5_row3_col1\" class=\"data row3 col1\" >8481</td>\n                        <td id=\"T_5a4b5_row3_col2\" class=\"data row3 col2\" >9257</td>\n                        <td id=\"T_5a4b5_row3_col3\" class=\"data row3 col3\" >10</td>\n                        <td id=\"T_5a4b5_row3_col4\" class=\"data row3 col4\" >248</td>\n                        <td id=\"T_5a4b5_row3_col5\" class=\"data row3 col5\" >0.026092</td>\n                        <td id=\"T_5a4b5_row3_col6\" class=\"data row3 col6\" >0.961240</td>\n                        <td id=\"T_5a4b5_row3_col7\" class=\"data row3 col7\" >0.050804</td>\n            </tr>\n            <tr>\n                        <th id=\"T_5a4b5_level0_row4\" class=\"row_heading level0 row4\" >4</th>\n                        <td id=\"T_5a4b5_row4_col0\" class=\"data row4 col0\" >0.250000</td>\n                        <td id=\"T_5a4b5_row4_col1\" class=\"data row4 col1\" >9797</td>\n                        <td id=\"T_5a4b5_row4_col2\" class=\"data row4 col2\" >7941</td>\n                        <td id=\"T_5a4b5_row4_col3\" class=\"data row4 col3\" >12</td>\n                        <td id=\"T_5a4b5_row4_col4\" class=\"data row4 col4\" >246</td>\n                        <td id=\"T_5a4b5_row4_col5\" class=\"data row4 col5\" >0.030048</td>\n                        <td id=\"T_5a4b5_row4_col6\" class=\"data row4 col6\" >0.953488</td>\n                        <td id=\"T_5a4b5_row4_col7\" class=\"data row4 col7\" >0.058259</td>\n            </tr>\n            <tr>\n                        <th id=\"T_5a4b5_level0_row5\" class=\"row_heading level0 row5\" >5</th>\n                        <td id=\"T_5a4b5_row5_col0\" class=\"data row5 col0\" >0.300000</td>\n                        <td id=\"T_5a4b5_row5_col1\" class=\"data row5 col1\" >10740</td>\n                        <td id=\"T_5a4b5_row5_col2\" class=\"data row5 col2\" >6998</td>\n                        <td id=\"T_5a4b5_row5_col3\" class=\"data row5 col3\" >14</td>\n                        <td id=\"T_5a4b5_row5_col4\" class=\"data row5 col4\" >244</td>\n                        <td id=\"T_5a4b5_row5_col5\" class=\"data row5 col5\" >0.033692</td>\n                        <td id=\"T_5a4b5_row5_col6\" class=\"data row5 col6\" >0.945736</td>\n                        <td id=\"T_5a4b5_row5_col7\" class=\"data row5 col7\" >0.065067</td>\n            </tr>\n            <tr>\n                        <th id=\"T_5a4b5_level0_row6\" class=\"row_heading level0 row6\" >6</th>\n                        <td id=\"T_5a4b5_row6_col0\" class=\"data row6 col0\" >0.350000</td>\n                        <td id=\"T_5a4b5_row6_col1\" class=\"data row6 col1\" >11433</td>\n                        <td id=\"T_5a4b5_row6_col2\" class=\"data row6 col2\" >6305</td>\n                        <td id=\"T_5a4b5_row6_col3\" class=\"data row6 col3\" >18</td>\n                        <td id=\"T_5a4b5_row6_col4\" class=\"data row6 col4\" >240</td>\n                        <td id=\"T_5a4b5_row6_col5\" class=\"data row6 col5\" >0.036669</td>\n                        <td id=\"T_5a4b5_row6_col6\" class=\"data row6 col6\" >0.930233</td>\n                        <td id=\"T_5a4b5_row6_col7\" class=\"data row6 col7\" >0.070557</td>\n            </tr>\n            <tr>\n                        <th id=\"T_5a4b5_level0_row7\" class=\"row_heading level0 row7\" >7</th>\n                        <td id=\"T_5a4b5_row7_col0\" class=\"data row7 col0\" >0.400000</td>\n                        <td id=\"T_5a4b5_row7_col1\" class=\"data row7 col1\" >12117</td>\n                        <td id=\"T_5a4b5_row7_col2\" class=\"data row7 col2\" >5621</td>\n                        <td id=\"T_5a4b5_row7_col3\" class=\"data row7 col3\" >25</td>\n                        <td id=\"T_5a4b5_row7_col4\" class=\"data row7 col4\" >233</td>\n                        <td id=\"T_5a4b5_row7_col5\" class=\"data row7 col5\" >0.039802</td>\n                        <td id=\"T_5a4b5_row7_col6\" class=\"data row7 col6\" >0.903101</td>\n                        <td id=\"T_5a4b5_row7_col7\" class=\"data row7 col7\" >0.076243</td>\n            </tr>\n            <tr>\n                        <th id=\"T_5a4b5_level0_row8\" class=\"row_heading level0 row8\" >8</th>\n                        <td id=\"T_5a4b5_row8_col0\" class=\"data row8 col0\" >0.450000</td>\n                        <td id=\"T_5a4b5_row8_col1\" class=\"data row8 col1\" >12575</td>\n                        <td id=\"T_5a4b5_row8_col2\" class=\"data row8 col2\" >5163</td>\n                        <td id=\"T_5a4b5_row8_col3\" class=\"data row8 col3\" >36</td>\n                        <td id=\"T_5a4b5_row8_col4\" class=\"data row8 col4\" >222</td>\n                        <td id=\"T_5a4b5_row8_col5\" class=\"data row8 col5\" >0.041226</td>\n                        <td id=\"T_5a4b5_row8_col6\" class=\"data row8 col6\" >0.860465</td>\n                        <td id=\"T_5a4b5_row8_col7\" class=\"data row8 col7\" >0.078682</td>\n            </tr>\n            <tr>\n                        <th id=\"T_5a4b5_level0_row9\" class=\"row_heading level0 row9\" >9</th>\n                        <td id=\"T_5a4b5_row9_col0\" class=\"data row9 col0\" >0.500000</td>\n                        <td id=\"T_5a4b5_row9_col1\" class=\"data row9 col1\" >13069</td>\n                        <td id=\"T_5a4b5_row9_col2\" class=\"data row9 col2\" >4669</td>\n                        <td id=\"T_5a4b5_row9_col3\" class=\"data row9 col3\" >44</td>\n                        <td id=\"T_5a4b5_row9_col4\" class=\"data row9 col4\" >214</td>\n                        <td id=\"T_5a4b5_row9_col5\" class=\"data row9 col5\" >0.043826</td>\n                        <td id=\"T_5a4b5_row9_col6\" class=\"data row9 col6\" >0.829457</td>\n                        <td id=\"T_5a4b5_row9_col7\" class=\"data row9 col7\" >0.083252</td>\n            </tr>\n            <tr>\n                        <th id=\"T_5a4b5_level0_row10\" class=\"row_heading level0 row10\" >10</th>\n                        <td id=\"T_5a4b5_row10_col0\" class=\"data row10 col0\" >0.550000</td>\n                        <td id=\"T_5a4b5_row10_col1\" class=\"data row10 col1\" >14008</td>\n                        <td id=\"T_5a4b5_row10_col2\" class=\"data row10 col2\" >3730</td>\n                        <td id=\"T_5a4b5_row10_col3\" class=\"data row10 col3\" >69</td>\n                        <td id=\"T_5a4b5_row10_col4\" class=\"data row10 col4\" >189</td>\n                        <td id=\"T_5a4b5_row10_col5\" class=\"data row10 col5\" >0.048227</td>\n                        <td id=\"T_5a4b5_row10_col6\" class=\"data row10 col6\" >0.732558</td>\n                        <td id=\"T_5a4b5_row10_col7\" class=\"data row10 col7\" >0.090496</td>\n            </tr>\n            <tr>\n                        <th id=\"T_5a4b5_level0_row11\" class=\"row_heading level0 row11\" >11</th>\n                        <td id=\"T_5a4b5_row11_col0\" class=\"data row11 col0\" >0.600000</td>\n                        <td id=\"T_5a4b5_row11_col1\" class=\"data row11 col1\" >14966</td>\n                        <td id=\"T_5a4b5_row11_col2\" class=\"data row11 col2\" >2772</td>\n                        <td id=\"T_5a4b5_row11_col3\" class=\"data row11 col3\" >88</td>\n                        <td id=\"T_5a4b5_row11_col4\" class=\"data row11 col4\" >170</td>\n                        <td id=\"T_5a4b5_row11_col5\" class=\"data row11 col5\" >0.057784</td>\n                        <td id=\"T_5a4b5_row11_col6\" class=\"data row11 col6\" >0.658915</td>\n                        <td id=\"T_5a4b5_row11_col7\" class=\"data row11 col7\" >0.106250</td>\n            </tr>\n            <tr>\n                        <th id=\"T_5a4b5_level0_row12\" class=\"row_heading level0 row12\" >12</th>\n                        <td id=\"T_5a4b5_row12_col0\" class=\"data row12 col0\" >0.650000</td>\n                        <td id=\"T_5a4b5_row12_col1\" class=\"data row12 col1\" >15644</td>\n                        <td id=\"T_5a4b5_row12_col2\" class=\"data row12 col2\" >2094</td>\n                        <td id=\"T_5a4b5_row12_col3\" class=\"data row12 col3\" >105</td>\n                        <td id=\"T_5a4b5_row12_col4\" class=\"data row12 col4\" >153</td>\n                        <td id=\"T_5a4b5_row12_col5\" class=\"data row12 col5\" >0.068091</td>\n                        <td id=\"T_5a4b5_row12_col6\" class=\"data row12 col6\" >0.593023</td>\n                        <td id=\"T_5a4b5_row12_col7\" class=\"data row12 col7\" >0.122156</td>\n            </tr>\n            <tr>\n                        <th id=\"T_5a4b5_level0_row13\" class=\"row_heading level0 row13\" >13</th>\n                        <td id=\"T_5a4b5_row13_col0\" class=\"data row13 col0\" >0.700000</td>\n                        <td id=\"T_5a4b5_row13_col1\" class=\"data row13 col1\" >16718</td>\n                        <td id=\"T_5a4b5_row13_col2\" class=\"data row13 col2\" >1020</td>\n                        <td id=\"T_5a4b5_row13_col3\" class=\"data row13 col3\" >149</td>\n                        <td id=\"T_5a4b5_row13_col4\" class=\"data row13 col4\" >109</td>\n                        <td id=\"T_5a4b5_row13_col5\" class=\"data row13 col5\" >0.096546</td>\n                        <td id=\"T_5a4b5_row13_col6\" class=\"data row13 col6\" >0.422481</td>\n                        <td id=\"T_5a4b5_row13_col7\" class=\"data row13 col7\" >0.157174</td>\n            </tr>\n            <tr>\n                        <th id=\"T_5a4b5_level0_row14\" class=\"row_heading level0 row14\" >14</th>\n                        <td id=\"T_5a4b5_row14_col0\" class=\"data row14 col0\" >0.750000</td>\n                        <td id=\"T_5a4b5_row14_col1\" class=\"data row14 col1\" >16919</td>\n                        <td id=\"T_5a4b5_row14_col2\" class=\"data row14 col2\" >819</td>\n                        <td id=\"T_5a4b5_row14_col3\" class=\"data row14 col3\" >160</td>\n                        <td id=\"T_5a4b5_row14_col4\" class=\"data row14 col4\" >98</td>\n                        <td id=\"T_5a4b5_row14_col5\" class=\"data row14 col5\" >0.106870</td>\n                        <td id=\"T_5a4b5_row14_col6\" class=\"data row14 col6\" >0.379845</td>\n                        <td id=\"T_5a4b5_row14_col7\" class=\"data row14 col7\" >0.166809</td>\n            </tr>\n            <tr>\n                        <th id=\"T_5a4b5_level0_row15\" class=\"row_heading level0 row15\" >15</th>\n                        <td id=\"T_5a4b5_row15_col0\" class=\"data row15 col0\" >0.800000</td>\n                        <td id=\"T_5a4b5_row15_col1\" class=\"data row15 col1\" >17194</td>\n                        <td id=\"T_5a4b5_row15_col2\" class=\"data row15 col2\" >544</td>\n                        <td id=\"T_5a4b5_row15_col3\" class=\"data row15 col3\" >183</td>\n                        <td id=\"T_5a4b5_row15_col4\" class=\"data row15 col4\" >75</td>\n                        <td id=\"T_5a4b5_row15_col5\" class=\"data row15 col5\" >0.121163</td>\n                        <td id=\"T_5a4b5_row15_col6\" class=\"data row15 col6\" >0.290698</td>\n                        <td id=\"T_5a4b5_row15_col7\" class=\"data row15 col7\" >0.171038</td>\n            </tr>\n            <tr>\n                        <th id=\"T_5a4b5_level0_row16\" class=\"row_heading level0 row16\" >16</th>\n                        <td id=\"T_5a4b5_row16_col0\" class=\"data row16 col0\" >0.850000</td>\n                        <td id=\"T_5a4b5_row16_col1\" class=\"data row16 col1\" >17372</td>\n                        <td id=\"T_5a4b5_row16_col2\" class=\"data row16 col2\" >366</td>\n                        <td id=\"T_5a4b5_row16_col3\" class=\"data row16 col3\" >201</td>\n                        <td id=\"T_5a4b5_row16_col4\" class=\"data row16 col4\" >57</td>\n                        <td id=\"T_5a4b5_row16_col5\" class=\"data row16 col5\" >0.134752</td>\n                        <td id=\"T_5a4b5_row16_col6\" class=\"data row16 col6\" >0.220930</td>\n                        <td id=\"T_5a4b5_row16_col7\" class=\"data row16 col7\" >0.167401</td>\n            </tr>\n            <tr>\n                        <th id=\"T_5a4b5_level0_row17\" class=\"row_heading level0 row17\" >17</th>\n                        <td id=\"T_5a4b5_row17_col0\" class=\"data row17 col0\" >0.900000</td>\n                        <td id=\"T_5a4b5_row17_col1\" class=\"data row17 col1\" >17479</td>\n                        <td id=\"T_5a4b5_row17_col2\" class=\"data row17 col2\" >259</td>\n                        <td id=\"T_5a4b5_row17_col3\" class=\"data row17 col3\" >219</td>\n                        <td id=\"T_5a4b5_row17_col4\" class=\"data row17 col4\" >39</td>\n                        <td id=\"T_5a4b5_row17_col5\" class=\"data row17 col5\" >0.130872</td>\n                        <td id=\"T_5a4b5_row17_col6\" class=\"data row17 col6\" >0.151163</td>\n                        <td id=\"T_5a4b5_row17_col7\" class=\"data row17 col7\" >0.140288</td>\n            </tr>\n            <tr>\n                        <th id=\"T_5a4b5_level0_row18\" class=\"row_heading level0 row18\" >18</th>\n                        <td id=\"T_5a4b5_row18_col0\" class=\"data row18 col0\" >0.950000</td>\n                        <td id=\"T_5a4b5_row18_col1\" class=\"data row18 col1\" >17621</td>\n                        <td id=\"T_5a4b5_row18_col2\" class=\"data row18 col2\" >117</td>\n                        <td id=\"T_5a4b5_row18_col3\" class=\"data row18 col3\" >235</td>\n                        <td id=\"T_5a4b5_row18_col4\" class=\"data row18 col4\" >23</td>\n                        <td id=\"T_5a4b5_row18_col5\" class=\"data row18 col5\" >0.164286</td>\n                        <td id=\"T_5a4b5_row18_col6\" class=\"data row18 col6\" >0.089147</td>\n                        <td id=\"T_5a4b5_row18_col7\" class=\"data row18 col7\" >0.115578</td>\n            </tr>\n    </tbody></table>"
     },
     "metadata": {},
     "execution_count": 9
    }
   ],
   "source": [
    "def highlight_max(data, color='yellow'):\n",
    "    '''\n",
    "    highlight the maximum in a Series or DataFrame\n",
    "    '''\n",
    "    attr = 'background-color: {}'.format(color)\n",
    "    if data.ndim == 1:  # Series from .apply(axis=0) or axis=1\n",
    "        is_max = data == data.max()\n",
    "        return [attr if v else '' for v in is_max]\n",
    "    else:  # from .apply(axis=None)\n",
    "        is_max = data == data.max().max()\n",
    "        return pd.DataFrame(np.where(is_max, attr, ''),\n",
    "                            index=data.index, columns=data.columns)\n",
    "\n",
    "\n",
    "threshold_perf.style.apply(\n",
    "    highlight_max, color='green', subset=[\"precision\", \"recall\", 'f1']\n",
    ")"
   ]
  },
  {
   "source": [
    "# Add model to pipeline and save it"
   ],
   "cell_type": "markdown",
   "metadata": {}
  },
  {
   "cell_type": "code",
   "execution_count": 10,
   "metadata": {},
   "outputs": [
    {
     "output_type": "execute_result",
     "data": {
      "text/plain": [
       "['../ml_artifacts/model.joblib']"
      ]
     },
     "metadata": {},
     "execution_count": 10
    }
   ],
   "source": [
    "preprocessor.steps.append((\"model\", model))\n",
    "joblib.dump(preprocessor, \"../ml_artifacts/model.joblib\")"
   ]
  }
 ],
 "metadata": {
  "jupytext": {
   "main_language": "python"
  },
  "kernelspec": {
   "name": "python38864bitklarnaconda4ef8c56e5567458cb1bf905cc9704f70",
   "display_name": "Python 3.8.8 64-bit ('klarna': conda)"
  }
 },
 "nbformat": 4,
 "nbformat_minor": 5
}
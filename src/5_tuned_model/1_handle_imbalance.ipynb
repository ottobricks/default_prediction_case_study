{
 "cells": [
  {
   "cell_type": "code",
   "execution_count": 41,
   "id": "f0643d1f",
   "metadata": {},
   "outputs": [],
   "source": [
    "import joblib\n",
    "import math\n",
    "import multiprocessing as mp\n",
    "import os\n",
    "from typing import List\n",
    "import numpy as np\n",
    "import pandas as pd\n",
    "from sklearn.metrics import confusion_matrix\n",
    "from sklearn.model_selection import KFold"
   ]
  },
  {
   "cell_type": "code",
   "execution_count": 2,
   "id": "874cf3d0",
   "metadata": {},
   "outputs": [],
   "source": [
    "try:\n",
    "    _ = first_run\n",
    "except NameError:\n",
    "    first_run = True\n",
    "    os.chdir(os.getcwd().rsplit(\"/\", 1)[0])"
   ]
  },
  {
   "cell_type": "markdown",
   "id": "2b6c28e2",
   "metadata": {},
   "source": [
    "# Load Data"
   ]
  },
  {
   "cell_type": "code",
   "execution_count": 3,
   "id": "6d99414a",
   "metadata": {},
   "outputs": [],
   "source": [
    "X_train, y_train = joblib.load(\"../data/train/preprocessed/train_features_labels.joblib.gz\")\n",
    "\n",
    "X_validation, y_validation = joblib.load(\"../data/train/preprocessed/validation_features_labels.joblib.gz\")"
   ]
  },
  {
   "source": [
    "# Hold your SMOTE for a moment\n",
    "\n",
    "SMOTE has become a ubiquitous way to handle imbalanced classes by oversampling the minority class. However, the fact that many of our features have low variance due to a lot of zero values, generating artificial samples from them can actually become quite counterproductive. Thus, we will experiment with both SMOTE and a custom undersampler that tries to capture most of the variance of the majority class. Whichever strategy yields better results for our baseline model will be the one we move forward with."
   ],
   "cell_type": "markdown",
   "metadata": {}
  },
  {
   "source": [
    "### 1. Custom undersampler"
   ],
   "cell_type": "markdown",
   "metadata": {}
  },
  {
   "cell_type": "code",
   "execution_count": 32,
   "metadata": {},
   "outputs": [],
   "source": [
    "class BinaryUndersampler:\n",
    "    \n",
    "    def __init__(self, n_iterations: int=5, n_jobs: int=-1):\n",
    "        self.n_iterations = n_iterations\n",
    "        self.highest_variance_sample = (None, None)\n",
    "        self.n_jobs = min(mp.cpu_count(), n_jobs) if n_jobs > 1 else mp.cpu_count()\n",
    "    \n",
    "    def fit(X: np.ndarray, y: np.ndarray):\n",
    "        self.minority_class = pd.value_counts(pd.Series(y)).index[-1]\n",
    "        self.n_splits = math.floor(X.shape[0] / np.sum(y==self.minority_class))\n",
    "        # split and select the sample with highest variance (decide how significant via bootstraping)\n",
    "        with mp.Pool(self.n_jobs) as pool:\n",
    "            best_of_iteration = pool.map(\n",
    "                fun,\n",
    "                \n",
    "            )\n",
    "\n",
    "    def _shuffle_split_observations(X: np.ndarray, y_label: np.ndarray, n_splits: int) -> List:\n",
    "        \"\"\"Return a list of disjoint samples with the `y_label` concatenated at axis=1 (column)\"\"\"\n",
    "        return np.array_split(np.random.permutation(np.concatenate((X, y_label.reshape(-1, 1)), axis=1)), n_splits)\n",
    "\n",
    "    def _get_mean_feature_variance(sample: np.ndarray) -> float:\n",
    "        X, y_label = sample[:, :-1], sample[:, -1]\n",
    "        mean_variance = np.mean(np.ma.var(X, axis=0))\n",
    "        return (X, y_label, mean_variance)"
   ]
  },
  {
   "cell_type": "code",
   "execution_count": 44,
   "metadata": {},
   "outputs": [
    {
     "output_type": "execute_result",
     "data": {
      "text/plain": [
       "[array([[ 2.23806427e-04,  0.00000000e+00,  1.00000000e+00, ...,\n",
       "         -3.32960355e-01,  0.00000000e+00,  0.00000000e+00],\n",
       "        [-1.23304598e+00,  0.00000000e+00,  1.00000000e+00, ...,\n",
       "         -1.92218244e-02,  0.00000000e+00,  0.00000000e+00],\n",
       "        [-1.23304598e+00,  1.00000000e+00,  0.00000000e+00, ...,\n",
       "         -4.58455768e-01,  0.00000000e+00,  0.00000000e+00],\n",
       "        ...,\n",
       "        [-1.31012535e+00,  1.00000000e+00,  0.00000000e+00, ...,\n",
       "         -4.58455768e-01,  0.00000000e+00,  0.00000000e+00],\n",
       "        [ 3.08541254e-01,  0.00000000e+00,  1.00000000e+00, ...,\n",
       "          3.57264413e-01,  0.00000000e+00,  0.00000000e+00],\n",
       "        [ 7.73031684e-02,  0.00000000e+00,  1.00000000e+00, ...,\n",
       "         -3.32960355e-01,  0.00000000e+00,  0.00000000e+00]]),\n",
       " array([[ 0.53977934,  0.        ,  1.        , ..., -0.39570806,\n",
       "          0.        ,  0.        ],\n",
       "        [ 2.8521602 ,  0.        ,  1.        , ..., -0.39570806,\n",
       "          0.        ,  0.        ],\n",
       "        [ 0.30854125,  1.        ,  0.        , ..., -0.45845577,\n",
       "          0.        ,  0.        ],\n",
       "        ...,\n",
       "        [ 1.92720785,  0.        ,  1.        , ...,  0.35726441,\n",
       "          0.        ,  0.        ],\n",
       "        [-1.07888726,  0.        ,  1.        , ..., -0.01922182,\n",
       "          0.        ,  0.        ],\n",
       "        [ 1.07933487,  0.        ,  1.        , ..., -0.33296036,\n",
       "          0.        ,  1.        ]])]"
      ]
     },
     "metadata": {},
     "execution_count": 44
    }
   ],
   "source": [
    "np.array_split(np.random.permutation(np.concatenate((X_train, y_train.reshape(-1, 1)), axis=1)), 2)"
   ]
  },
  {
   "cell_type": "code",
   "execution_count": 59,
   "metadata": {},
   "outputs": [
    {
     "output_type": "execute_result",
     "data": {
      "text/plain": [
       "0.2392738513537641"
      ]
     },
     "metadata": {},
     "execution_count": 59
    }
   ],
   "source": [
    "np.mean(np.ma.var(X, axis=0))"
   ]
  },
  {
   "cell_type": "code",
   "execution_count": 49,
   "metadata": {},
   "outputs": [
    {
     "output_type": "execute_result",
     "data": {
      "text/plain": [
       "(28792,)"
      ]
     },
     "metadata": {},
     "execution_count": 49
    }
   ],
   "source": [
    "y_label"
   ]
  },
  {
   "cell_type": "code",
   "execution_count": 30,
   "metadata": {},
   "outputs": [
    {
     "output_type": "execute_result",
     "data": {
      "text/plain": [
       "(57584, 17)"
      ]
     },
     "metadata": {},
     "execution_count": 30
    }
   ],
   "source": []
  }
 ],
 "metadata": {
  "jupytext": {
   "main_language": "python"
  },
  "kernelspec": {
   "name": "python388jvsc74a57bd09f119b1d3a8a63730ae7ee508102d23a56b995c1f2248036bd772c0398b7d40e",
   "display_name": "Python 3.8.8 64-bit ('klarna': conda)"
  }
 },
 "nbformat": 4,
 "nbformat_minor": 5
}
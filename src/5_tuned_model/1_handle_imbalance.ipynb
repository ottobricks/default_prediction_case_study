{
 "cells": [
  {
   "cell_type": "code",
   "execution_count": null,
   "id": "3eacc8bb",
   "metadata": {},
   "outputs": [],
   "source": [
    "import joblib\n",
    "import os\n",
    "import numpy as np\n",
    "import pandas as pd\n",
    "from sklearn.ensemble import RandomForestClassifier\n",
    "from sklearn.metrics import confusion_matrix"
   ]
  },
  {
   "cell_type": "code",
   "execution_count": null,
   "id": "0e6176f2",
   "metadata": {},
   "outputs": [],
   "source": [
    "try:\n",
    "    _ = first_run\n",
    "except NameError:\n",
    "    first_run = True\n",
    "    os.chdir(os.getcwd().rsplit(\"/\", 1)[0])\n",
    "    from _aux import ml"
   ]
  },
  {
   "cell_type": "markdown",
   "id": "92d8bec5",
   "metadata": {},
   "source": [
    "# Load Data"
   ]
  },
  {
   "cell_type": "code",
   "execution_count": null,
   "id": "7d2c5abb",
   "metadata": {},
   "outputs": [],
   "source": [
    "X_train, y_train = joblib.load(\n",
    "    \"../data/train/preprocessed/train_features_labels.joblib.gz\"\n",
    ")\n",
    "\n",
    "X_validation, y_validation = joblib.load(\n",
    "    \"../data/train/preprocessed/validation_features_labels.joblib.gz\"\n",
    ")"
   ]
  },
  {
   "cell_type": "markdown",
   "id": "8a93af95",
   "metadata": {},
   "source": [
    "# Hold your SMOTE for a moment\n",
    "\n",
    "SMOTE has become a ubiquitous way to handle imbalanced classes by oversampling the minority class. However, the fact that many of our features have low variance due to a lot of zero values, generating artificial samples from them can actually become quite counterproductive. Thus, we will experiment with both SMOTE and a custom undersampler that tries to capture most of the variance of the majority class. Whichever strategy yields better results for our baseline model will be the one we move forward with."
   ]
  },
  {
   "cell_type": "markdown",
   "id": "be440fd2",
   "metadata": {},
   "source": [
    "### 1. Custom undersampler"
   ]
  },
  {
   "cell_type": "code",
   "execution_count": null,
   "id": "49d6aa35",
   "metadata": {},
   "outputs": [],
   "source": [
    "(\n",
    "    X_train_maj,\n",
    "    y_train_maj,\n",
    "    sample_variance,\n",
    "    sample_variance_zscore,\n",
    "    is_significant,\n",
    ") = ml.BinaryUndersampler(n_iterations=1_000).fit(X_train, y_train)\n",
    "print(sample_variance, sample_variance_zscore, is_significant)"
   ]
  },
  {
   "cell_type": "code",
   "execution_count": null,
   "id": "ad0b2ebd",
   "metadata": {},
   "outputs": [],
   "source": [
    "# Create new training set\n",
    "X_train_undersample = np.concatenate((X_train_maj, X_train[y_train == 1]))\n",
    "y_train_undersample = np.concatenate((y_train_maj, y_train[y_train == 1]))\n",
    "\n",
    "# Save the new trainig set\n",
    "joblib.dump(\n",
    "    [X_train_undersample, y_train_undersample],\n",
    "    \"../data/train/preprocessed/undersampled_train_features_labels.joblib.gz\",\n",
    ")\n",
    "\n",
    "# Check class balance\n",
    "pd.Series(y_train_undersample).value_counts()"
   ]
  },
  {
   "cell_type": "markdown",
   "id": "d4f464f8",
   "metadata": {},
   "source": [
    "As we can see, classes are almost equally matched. Hopefully, our stategy will improve the baseline performance, as the new sample catches an extremely high amount of variance if compared to bootstrap results. Let the drums roll..."
   ]
  },
  {
   "cell_type": "code",
   "execution_count": null,
   "id": "6dd62e4c",
   "metadata": {},
   "outputs": [],
   "source": [
    "baseline = RandomForestClassifier().fit(X_train_undersample, y_train_undersample)"
   ]
  },
  {
   "cell_type": "code",
   "execution_count": null,
   "id": "d04cf6b8",
   "metadata": {},
   "outputs": [],
   "source": [
    "predictions = baseline.predict_proba(X_validation)\n",
    "\n",
    "threshold_perf = pd.DataFrame(\n",
    "    [\n",
    "        (\n",
    "            threshold,\n",
    "            *confusion_matrix(\n",
    "                y_validation, (predictions[:, 1] > threshold).astype(int)\n",
    "            ).ravel(),\n",
    "        )\n",
    "        for threshold in np.arange(0.05, 1, 0.05)\n",
    "    ],\n",
    "    columns=[\"threshold\", \"tn\", \"fp\", \"fn\", \"tp\"],\n",
    ").assign(\n",
    "    precision=lambda df: df[\"tp\"] / (df[\"tp\"] + df[\"fp\"]),\n",
    "    recall=lambda df: df[\"tp\"] / (df[\"tp\"] + df[\"fn\"]),\n",
    "    f1=lambda df: 2\n",
    "    * (df[\"precision\"] * df[\"recall\"])\n",
    "    / (df[\"precision\"] + df[\"recall\"]),\n",
    ")\n",
    "\n",
    "threshold_perf.to_csv(\"../ml_artifacts/baseline2_model_performance.csv\", index=False)\n",
    "\n",
    "threshold_perf.query(\"threshold > .5\")"
   ]
  },
  {
   "cell_type": "markdown",
   "id": "4cc7d268",
   "metadata": {},
   "source": [
    "Honestly, these results are better than what we had expected. As we move the threshold, we can the the \"precision-recall\" trade-off take place. However, note that the F1 score does continually improve, which is a sympton of the fact that the trade-off is not perfectly squred in this case -- as it rarely is.\n",
    "\n",
    "Make no mistake, these are not good prediction results by any stretch of the imagination. Nevertheless, they do suggest that our strategy is successfull as baseline performance improved significantly with no change to the model, only the data changed. Let's compare them to the previous baseline."
   ]
  },
  {
   "cell_type": "code",
   "execution_count": null,
   "id": "0f52a680",
   "metadata": {},
   "outputs": [],
   "source": [
    "pd.read_csv(\"../ml_artifacts/baseline_model_performance.csv\").query(\"threshold > .5\")"
   ]
  },
  {
   "cell_type": "markdown",
   "id": "25b1f7bc",
   "metadata": {},
   "source": [
    "Contrary to what observed earlier, the F1 score drops as we move up the threshold, which is a symptom of the behaviour induced by the model. The model flags very little, which is good in the perpective of customer experience but at the cost of losing too much money for the company. In fact, such model doesn't even justify the cost of developing and maintaining it.\n",
    "\n",
    "As we get good results from our undersampling strategy and due to time constraints, we choose not to explore how SMOTE would perform at this time. Instead, we decide to allocate more time for hyperparameter tuning and model selection next."
   ]
  }
 ],
 "metadata": {
  "jupytext": {
   "main_language": "python"
  },
  "kernelspec": {
   "display_name": "Python 3.8.8 64-bit ('klarna': conda)",
   "name": "python38864bitklarnaconda4ef8c56e5567458cb1bf905cc9704f70"
  }
 },
 "nbformat": 4,
 "nbformat_minor": 5
}
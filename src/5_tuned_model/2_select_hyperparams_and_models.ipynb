{
 "cells": [
  {
   "cell_type": "code",
   "execution_count": null,
   "id": "d6647ba9",
   "metadata": {},
   "outputs": [],
   "source": [
    "import joblib\n",
    "import os\n",
    "import numpy as np\n",
    "import pandas as pd\n",
    "from sklearn.ensemble import RandomForestClassifier\n",
    "from sklearn.metrics import confusion_matrix\n",
    "from xgboost import XGBClassifier"
   ]
  },
  {
   "cell_type": "code",
   "execution_count": null,
   "id": "5ee4f8d2",
   "metadata": {},
   "outputs": [],
   "source": [
    "try:\n",
    "    _ = first_run\n",
    "except NameError:\n",
    "    first_run = True\n",
    "    os.chdir(os.getcwd().rsplit(\"/\", 1)[0])\n",
    "    from _aux import ml"
   ]
  },
  {
   "cell_type": "markdown",
   "id": "2f7e463f",
   "metadata": {},
   "source": [
    "# Load data"
   ]
  },
  {
   "cell_type": "code",
   "execution_count": null,
   "id": "0ecba804",
   "metadata": {},
   "outputs": [],
   "source": [
    "X_train, y_train = joblib.load(\n",
    "    \"../data/train/preprocessed/undersampled_train_features_labels.joblib.gz\"\n",
    ")\n",
    "\n",
    "X_validation, y_validation = joblib.load(\n",
    "    \"../data/train/preprocessed/validation_features_labels.joblib.gz\"\n",
    ")"
   ]
  },
  {
   "cell_type": "markdown",
   "id": "f571d8c7",
   "metadata": {},
   "source": [
    "# Estimators"
   ]
  },
  {
   "cell_type": "code",
   "execution_count": null,
   "id": "fc9cab54",
   "metadata": {},
   "outputs": [],
   "source": [
    "estimators = {\n",
    "    \"RandomForestClassifier\": RandomForestClassifier(),\n",
    "    \"XGBClassifier\": XGBClassifier(),\n",
    "}"
   ]
  },
  {
   "cell_type": "markdown",
   "id": "49772873",
   "metadata": {},
   "source": [
    "# Parameters - broad search space"
   ]
  },
  {
   "cell_type": "code",
   "execution_count": null,
   "id": "50c40440",
   "metadata": {},
   "outputs": [],
   "source": [
    "params = {\n",
    "    \"RandomForestClassifier\": {\n",
    "        \"n_estimators\": [100, 500],\n",
    "        \"max_depth\": [100, 500, None],\n",
    "        \"min_samples_split\": [2, 10, 25, 100],\n",
    "        \"min_samples_leaf\": [1, 5, 10],\n",
    "        \"bootstrap\": [True],\n",
    "        \"oob_score\": [True, False],\n",
    "        \"max_samples\": [None, 0.75],\n",
    "    },\n",
    "    \"XGBClassifier\": {\n",
    "        \"n_estimators\": [250, 500],\n",
    "        \"max_depth\": [100, 500, None],\n",
    "        \"learning_rate\": [0.001, 0.01],\n",
    "        \"n_jobs\": [1],\n",
    "        \"gamma\": [0, 1, 5],\n",
    "        \"reg_alpha\": [0],\n",
    "        \"reg_lambda\": [1, 5],\n",
    "    },\n",
    "}"
   ]
  },
  {
   "cell_type": "markdown",
   "id": "9c1963a5",
   "metadata": {},
   "source": [
    "# Model selection - Grid Search"
   ]
  },
  {
   "cell_type": "code",
   "execution_count": null,
   "id": "aa274f56",
   "metadata": {},
   "outputs": [],
   "source": [
    "selector = ml.EstimatorSelector(estimators, params)\n",
    "selector.fit(X_train, y_train, scoring=\"f1\", cv=5, n_jobs=11)\n",
    "joblib.dump(\n",
    "    selector.score_summary(sort_by=\"mean_score\"),\n",
    "    f\"../ml_artifacts/gridsearch_results/param_search_result.joblib.gz\",\n",
    ")"
   ]
  },
  {
   "cell_type": "code",
   "execution_count": null,
   "id": "e099a61e",
   "metadata": {},
   "outputs": [],
   "source": [
    "pd.set_option(\"display.max_colwidth\", 500)\n",
    "\n",
    "selector.score_summary(sort_by=\"mean_score\")"
   ]
  }
 ],
 "metadata": {
  "jupytext": {
   "main_language": "python"
  },
  "kernelspec": {
   "display_name": "Python 3.8.8 64-bit ('klarna': conda)",
   "name": "python38864bitklarnaconda4ef8c56e5567458cb1bf905cc9704f70"
  }
 },
 "nbformat": 4,
 "nbformat_minor": 5
}

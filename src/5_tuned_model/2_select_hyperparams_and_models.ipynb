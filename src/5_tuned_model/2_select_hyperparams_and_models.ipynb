{
 "metadata": {
  "language_info": {
   "codemirror_mode": {
    "name": "ipython",
    "version": 3
   },
   "file_extension": ".py",
   "mimetype": "text/x-python",
   "name": "python",
   "nbconvert_exporter": "python",
   "pygments_lexer": "ipython3",
   "version": "3.8.8-final"
  },
  "orig_nbformat": 2,
  "kernelspec": {
   "name": "python38864bitklarnaconda4ef8c56e5567458cb1bf905cc9704f70",
   "display_name": "Python 3.8.8 64-bit ('klarna': conda)"
  }
 },
 "nbformat": 4,
 "nbformat_minor": 2,
 "cells": [
  {
   "cell_type": "code",
   "execution_count": 27,
   "metadata": {},
   "outputs": [],
   "source": [
    "import datetime as dt\n",
    "import joblib\n",
    "import os\n",
    "import numpy as np\n",
    "import pandas as pd\n",
    "from sklearn.ensemble import RandomForestRegressor\n",
    "from sklearn.metrics import confusion_matrix\n",
    "from xgboost import XGBRegressor"
   ]
  },
  {
   "cell_type": "code",
   "execution_count": 2,
   "metadata": {},
   "outputs": [],
   "source": [
    "try:\n",
    "    _ = first_run\n",
    "except NameError:\n",
    "    first_run = True\n",
    "    os.chdir(os.getcwd().rsplit(\"/\", 1)[0])\n",
    "    from _aux import ml"
   ]
  },
  {
   "source": [
    "# Load data"
   ],
   "cell_type": "markdown",
   "metadata": {}
  },
  {
   "cell_type": "code",
   "execution_count": 3,
   "metadata": {},
   "outputs": [],
   "source": [
    "X_train, y_train = joblib.load(\n",
    "    \"../data/train/preprocessed/undersampled_train_features_labels.joblib.gz\"\n",
    ")\n",
    "\n",
    "X_validation, y_validation = joblib.load(\n",
    "    \"../data/train/preprocessed/validation_features_labels.joblib.gz\"\n",
    ")"
   ]
  },
  {
   "source": [
    "# Estimators"
   ],
   "cell_type": "markdown",
   "metadata": {}
  },
  {
   "cell_type": "code",
   "execution_count": 4,
   "metadata": {},
   "outputs": [],
   "source": [
    "estimators = {\n",
    "    \"RandomForestRegressor\": RandomForestRegressor(),\n",
    "    \"XGBRegressor\": XGBRegressor(),\n",
    "}"
   ]
  },
  {
   "source": [
    "# Parameters - broad search space"
   ],
   "cell_type": "markdown",
   "metadata": {}
  },
  {
   "cell_type": "code",
   "execution_count": 36,
   "metadata": {},
   "outputs": [],
   "source": [
    "params = {\n",
    "    \"RandomForestRegressor\": {\n",
    "        \"n_estimators\": [100, 500],\n",
    "        \"criterion\": [\"mse\", \"mae\"],\n",
    "        \"max_depth\": [100, 500, None],\n",
    "        \"min_samples_split\": [2, 10, 25, 100],\n",
    "        \"min_samples_leaf\": [1, 5, 10],\n",
    "        \"bootstrap\": [True],\n",
    "        \"oob_score\": [True, False],\n",
    "        \"max_samples\": [None, .75]\n",
    "    },\n",
    "    \"XGBRegressor\": {\n",
    "        \"n_estimators\": [100, 500],\n",
    "        \"max_depth\": [100, 500, None],\n",
    "        \"learning_rate\": [.001, .01, .1],\n",
    "        \"n_jobs\": [1],\n",
    "        \"gamma\": [.01, .05, .1],\n",
    "        \"subsample\": [0.6, 0.8, 1],\n",
    "        \"colsample_bytree\": [0.5, 1.0],\n",
    "        \"reg_alpha\": [0],\n",
    "        \"reg_lambda\": [.05, .5, 1., 3],\n",
    "        \"base_score\": [0, 1]\n",
    "    },\n",
    "}"
   ]
  },
  {
   "source": [
    "# Model selection - Grid Search"
   ],
   "cell_type": "markdown",
   "metadata": {}
  },
  {
   "cell_type": "code",
   "execution_count": 38,
   "metadata": {},
   "outputs": [
    {
     "output_type": "stream",
     "name": "stdout",
     "text": [
      "Running GridSearchCV for RandomForestRegressor.\n",
      "Fitting 5 folds for each of 576 candidates, totalling 2880 fits\n",
      "Running GridSearchCV for Ridge.\n",
      "Fitting 5 folds for each of 90 candidates, totalling 450 fits\n",
      "Running GridSearchCV for SVR.\n",
      "Fitting 5 folds for each of 120 candidates, totalling 600 fits\n",
      "Running GridSearchCV for XGBRegressor.\n",
      "Fitting 5 folds for each of 972 candidates, totalling 4860 fits\n"
     ]
    },
    {
     "output_type": "execute_result",
     "data": {
      "text/plain": [
       "['../ml_artifacts/gridsearch_results/2021-05-23T12:50:40broad_param_search_result.joblib.gz']"
      ]
     },
     "metadata": {},
     "execution_count": 38
    }
   ],
   "source": [
    "selector = ml.EstimatorSelector(estimators, params)\n",
    "selector.fit(X_train, y_train, scoring=\"neg_root_mean_squared_error\", cv=5, n_jobs=11)\n",
    "joblib.dump(\n",
    "    selector.score_summary(sort_by=\"mean_score\"),\n",
    "    f\"../ml_artifacts/gridsearch_results/{dt.datetime.now().strftime('%FT%T')}broad_param_search_result.joblib.gz\"\n",
    ")"
   ]
  },
  {
   "cell_type": "code",
   "execution_count": 39,
   "metadata": {},
   "outputs": [
    {
     "output_type": "execute_result",
     "data": {
      "text/plain": [
       "         estimator min_score mean_score max_score std_score                                                                                                                                                                                     params\n",
       "775            SVR -0.504235  -0.434606 -0.356607   0.05104                                                                                             {'C': 1.0, 'epsilon': 0.10772173450159415, 'gamma': 'scale', 'kernel': 'rbf', 'max_iter': 100}\n",
       "769            SVR -0.586565   -0.45974 -0.356607  0.080333                                                                                            {'C': 1.0, 'epsilon': 0.023207944168063883, 'gamma': 'scale', 'kernel': 'rbf', 'max_iter': 100}\n",
       "763            SVR -0.586565   -0.45974 -0.356607  0.080333                                                                                                           {'C': 1.0, 'epsilon': 0.005, 'gamma': 'scale', 'kernel': 'rbf', 'max_iter': 100}\n",
       "1156  XGBRegressor -0.496709  -0.460911  -0.39614  0.037912  {'base_score': 0, 'colsample_bytree': 0.5, 'gamma': 0.1, 'learning_rate': 0.01, 'max_depth': None, 'n_estimators': 500, 'n_jobs': 1, 'reg_alpha': 0, 'reg_lambda': 1.0, 'subsample': 0.6}\n",
       "1154  XGBRegressor -0.497554  -0.461246 -0.395876  0.038057  {'base_score': 0, 'colsample_bytree': 0.5, 'gamma': 0.1, 'learning_rate': 0.01, 'max_depth': None, 'n_estimators': 500, 'n_jobs': 1, 'reg_alpha': 0, 'reg_lambda': 0.5, 'subsample': 0.6}\n",
       "...            ...       ...        ...       ...       ...                                                                                                                                                                                        ...\n",
       "767            SVR -4.820495  -4.107473 -3.308229  0.492584                                                                                                      {'C': 1.0, 'epsilon': 0.005, 'gamma': 'scale', 'kernel': 'sigmoid', 'max_iter': 1000}\n",
       "773            SVR -4.830982  -4.112015 -3.350359  0.479077                                                                                       {'C': 1.0, 'epsilon': 0.023207944168063883, 'gamma': 'scale', 'kernel': 'sigmoid', 'max_iter': 1000}\n",
       "772            SVR  -7.81331  -5.387465 -3.738398  1.684899                                                                                        {'C': 1.0, 'epsilon': 0.023207944168063883, 'gamma': 'scale', 'kernel': 'sigmoid', 'max_iter': 100}\n",
       "766            SVR  -7.81331  -5.399477 -3.738398  1.701322                                                                                                       {'C': 1.0, 'epsilon': 0.005, 'gamma': 'scale', 'kernel': 'sigmoid', 'max_iter': 100}\n",
       "778            SVR  -7.81331  -5.512468 -3.707467  1.622758                                                                                         {'C': 1.0, 'epsilon': 0.10772173450159415, 'gamma': 'scale', 'kernel': 'sigmoid', 'max_iter': 100}\n",
       "\n",
       "[1758 rows x 6 columns]"
      ],
      "text/html": "<div>\n<style scoped>\n    .dataframe tbody tr th:only-of-type {\n        vertical-align: middle;\n    }\n\n    .dataframe tbody tr th {\n        vertical-align: top;\n    }\n\n    .dataframe thead th {\n        text-align: right;\n    }\n</style>\n<table border=\"1\" class=\"dataframe\">\n  <thead>\n    <tr style=\"text-align: right;\">\n      <th></th>\n      <th>estimator</th>\n      <th>min_score</th>\n      <th>mean_score</th>\n      <th>max_score</th>\n      <th>std_score</th>\n      <th>params</th>\n    </tr>\n  </thead>\n  <tbody>\n    <tr>\n      <th>775</th>\n      <td>SVR</td>\n      <td>-0.504235</td>\n      <td>-0.434606</td>\n      <td>-0.356607</td>\n      <td>0.05104</td>\n      <td>{'C': 1.0, 'epsilon': 0.10772173450159415, 'gamma': 'scale', 'kernel': 'rbf', 'max_iter': 100}</td>\n    </tr>\n    <tr>\n      <th>769</th>\n      <td>SVR</td>\n      <td>-0.586565</td>\n      <td>-0.45974</td>\n      <td>-0.356607</td>\n      <td>0.080333</td>\n      <td>{'C': 1.0, 'epsilon': 0.023207944168063883, 'gamma': 'scale', 'kernel': 'rbf', 'max_iter': 100}</td>\n    </tr>\n    <tr>\n      <th>763</th>\n      <td>SVR</td>\n      <td>-0.586565</td>\n      <td>-0.45974</td>\n      <td>-0.356607</td>\n      <td>0.080333</td>\n      <td>{'C': 1.0, 'epsilon': 0.005, 'gamma': 'scale', 'kernel': 'rbf', 'max_iter': 100}</td>\n    </tr>\n    <tr>\n      <th>1156</th>\n      <td>XGBRegressor</td>\n      <td>-0.496709</td>\n      <td>-0.460911</td>\n      <td>-0.39614</td>\n      <td>0.037912</td>\n      <td>{'base_score': 0, 'colsample_bytree': 0.5, 'gamma': 0.1, 'learning_rate': 0.01, 'max_depth': None, 'n_estimators': 500, 'n_jobs': 1, 'reg_alpha': 0, 'reg_lambda': 1.0, 'subsample': 0.6}</td>\n    </tr>\n    <tr>\n      <th>1154</th>\n      <td>XGBRegressor</td>\n      <td>-0.497554</td>\n      <td>-0.461246</td>\n      <td>-0.395876</td>\n      <td>0.038057</td>\n      <td>{'base_score': 0, 'colsample_bytree': 0.5, 'gamma': 0.1, 'learning_rate': 0.01, 'max_depth': None, 'n_estimators': 500, 'n_jobs': 1, 'reg_alpha': 0, 'reg_lambda': 0.5, 'subsample': 0.6}</td>\n    </tr>\n    <tr>\n      <th>...</th>\n      <td>...</td>\n      <td>...</td>\n      <td>...</td>\n      <td>...</td>\n      <td>...</td>\n      <td>...</td>\n    </tr>\n    <tr>\n      <th>767</th>\n      <td>SVR</td>\n      <td>-4.820495</td>\n      <td>-4.107473</td>\n      <td>-3.308229</td>\n      <td>0.492584</td>\n      <td>{'C': 1.0, 'epsilon': 0.005, 'gamma': 'scale', 'kernel': 'sigmoid', 'max_iter': 1000}</td>\n    </tr>\n    <tr>\n      <th>773</th>\n      <td>SVR</td>\n      <td>-4.830982</td>\n      <td>-4.112015</td>\n      <td>-3.350359</td>\n      <td>0.479077</td>\n      <td>{'C': 1.0, 'epsilon': 0.023207944168063883, 'gamma': 'scale', 'kernel': 'sigmoid', 'max_iter': 1000}</td>\n    </tr>\n    <tr>\n      <th>772</th>\n      <td>SVR</td>\n      <td>-7.81331</td>\n      <td>-5.387465</td>\n      <td>-3.738398</td>\n      <td>1.684899</td>\n      <td>{'C': 1.0, 'epsilon': 0.023207944168063883, 'gamma': 'scale', 'kernel': 'sigmoid', 'max_iter': 100}</td>\n    </tr>\n    <tr>\n      <th>766</th>\n      <td>SVR</td>\n      <td>-7.81331</td>\n      <td>-5.399477</td>\n      <td>-3.738398</td>\n      <td>1.701322</td>\n      <td>{'C': 1.0, 'epsilon': 0.005, 'gamma': 'scale', 'kernel': 'sigmoid', 'max_iter': 100}</td>\n    </tr>\n    <tr>\n      <th>778</th>\n      <td>SVR</td>\n      <td>-7.81331</td>\n      <td>-5.512468</td>\n      <td>-3.707467</td>\n      <td>1.622758</td>\n      <td>{'C': 1.0, 'epsilon': 0.10772173450159415, 'gamma': 'scale', 'kernel': 'sigmoid', 'max_iter': 100}</td>\n    </tr>\n  </tbody>\n</table>\n<p>1758 rows × 6 columns</p>\n</div>"
     },
     "metadata": {},
     "execution_count": 39
    }
   ],
   "source": [
    "selector.score_summary(sort_by=\"mean_score\")"
   ]
  }
 ]
}
{
 "metadata": {
  "language_info": {
   "codemirror_mode": {
    "name": "ipython",
    "version": 3
   },
   "file_extension": ".py",
   "mimetype": "text/x-python",
   "name": "python",
   "nbconvert_exporter": "python",
   "pygments_lexer": "ipython3",
   "version": "3.8.8-final"
  },
  "orig_nbformat": 2,
  "kernelspec": {
   "name": "python38864bitklarnaconda4ef8c56e5567458cb1bf905cc9704f70",
   "display_name": "Python 3.8.8 64-bit ('klarna': conda)"
  }
 },
 "nbformat": 4,
 "nbformat_minor": 2,
 "cells": [
  {
   "cell_type": "code",
   "execution_count": null,
   "metadata": {},
   "outputs": [],
   "source": [
    "import datetime as dt\n",
    "import joblib\n",
    "import os\n",
    "import numpy as np\n",
    "import pandas as pd\n",
    "from sklearn.ensemble import RandomForestRegressor\n",
    "from sklearn.metrics import confusion_matrix\n",
    "from xgboost import XGBRegressor"
   ]
  },
  {
   "cell_type": "code",
   "execution_count": null,
   "metadata": {},
   "outputs": [],
   "source": [
    "try:\n",
    "    _ = first_run\n",
    "except NameError:\n",
    "    first_run = True\n",
    "    os.chdir(os.getcwd().rsplit(\"/\", 1)[0])\n",
    "    from _aux import ml"
   ]
  },
  {
   "source": [
    "# Load data"
   ],
   "cell_type": "markdown",
   "metadata": {}
  },
  {
   "cell_type": "code",
   "execution_count": null,
   "metadata": {},
   "outputs": [],
   "source": [
    "X_train, y_train = joblib.load(\n",
    "    \"../data/train/preprocessed/undersampled_train_features_labels.joblib.gz\"\n",
    ")\n",
    "\n",
    "X_validation, y_validation = joblib.load(\n",
    "    \"../data/train/preprocessed/validation_features_labels.joblib.gz\"\n",
    ")"
   ]
  },
  {
   "source": [
    "# Estimators"
   ],
   "cell_type": "markdown",
   "metadata": {}
  },
  {
   "cell_type": "code",
   "execution_count": null,
   "metadata": {},
   "outputs": [],
   "source": [
    "estimators = {\n",
    "    \"RandomForestRegressor\": RandomForestRegressor(),\n",
    "    \"XGBRegressor\": XGBRegressor(),\n",
    "}"
   ]
  },
  {
   "source": [
    "# Parameters - broad search space"
   ],
   "cell_type": "markdown",
   "metadata": {}
  },
  {
   "cell_type": "code",
   "execution_count": null,
   "metadata": {},
   "outputs": [],
   "source": [
    "params = {\n",
    "    \"RandomForestRegressor\": {\n",
    "        \"n_estimators\": [100, 500],\n",
    "        \"criterion\": [\"mse\", \"mae\"],\n",
    "        \"max_depth\": [100, 500, None],\n",
    "        \"min_samples_split\": [2, 10, 25, 100],\n",
    "        \"min_samples_leaf\": [1, 5, 10],\n",
    "        \"bootstrap\": [True],\n",
    "        \"oob_score\": [True, False],\n",
    "        \"max_samples\": [None, .75]\n",
    "    },\n",
    "    \"XGBRegressor\": {\n",
    "        \"objective\": [\"reg:squarederror\"],\n",
    "        \"n_estimators\": [250, 500],\n",
    "        \"max_depth\": [100, 500, None],\n",
    "        \"learning_rate\": [.01],\n",
    "        \"n_jobs\": [1],\n",
    "        \"gamma\": [0, 1, 3, 5],\n",
    "        \"subsample\": [1],\n",
    "        \"colsample_bytree\": [0.5, 1.0],\n",
    "        \"reg_alpha\": [0],\n",
    "        \"reg_lambda\": [1, 3, 5],\n",
    "        \"base_score\": [0, 1]\n",
    "    },\n",
    "}"
   ]
  },
  {
   "source": [
    "# Model selection - Grid Search"
   ],
   "cell_type": "markdown",
   "metadata": {}
  },
  {
   "cell_type": "code",
   "execution_count": null,
   "metadata": {},
   "outputs": [],
   "source": [
    "selector = ml.EstimatorSelector(estimators, params)\n",
    "selector.fit(X_train, y_train, scoring=\"neg_root_mean_squared_error\", cv=5, n_jobs=11)\n",
    "joblib.dump(\n",
    "    selector.score_summary(sort_by=\"mean_score\"),\n",
    "    f\"../ml_artifacts/gridsearch_results/{dt.datetime.now().strftime('%FT%T')}broad_param_search_result.joblib.gz\"\n",
    ")"
   ]
  },
  {
   "cell_type": "code",
   "execution_count": null,
   "metadata": {},
   "outputs": [],
   "source": [
    "pd.set_option(\"display.max_colwidth\",500)\n",
    "\n",
    "selector.score_summary(sort_by=\"mean_score\")"
   ]
  }
 ]
}
{
 "metadata": {
  "language_info": {
   "codemirror_mode": {
    "name": "ipython",
    "version": 3
   },
   "file_extension": ".py",
   "mimetype": "text/x-python",
   "name": "python",
   "nbconvert_exporter": "python",
   "pygments_lexer": "ipython3",
   "version": "3.8.8-final"
  },
  "orig_nbformat": 2,
  "kernelspec": {
   "name": "python38864bitklarnaconda4ef8c56e5567458cb1bf905cc9704f70",
   "display_name": "Python 3.8.8 64-bit ('klarna': conda)"
  }
 },
 "nbformat": 4,
 "nbformat_minor": 2,
 "cells": [
  {
   "cell_type": "code",
   "execution_count": 1,
   "metadata": {},
   "outputs": [],
   "source": [
    "import datetime as dt\n",
    "import joblib\n",
    "import os\n",
    "import numpy as np\n",
    "import pandas as pd\n",
    "from sklearn.ensemble import RandomForestRegressor\n",
    "from sklearn.metrics import confusion_matrix\n",
    "from xgboost import XGBRegressor"
   ]
  },
  {
   "cell_type": "code",
   "execution_count": 2,
   "metadata": {},
   "outputs": [],
   "source": [
    "try:\n",
    "    _ = first_run\n",
    "except NameError:\n",
    "    first_run = True\n",
    "    os.chdir(os.getcwd().rsplit(\"/\", 1)[0])\n",
    "    from _aux import ml"
   ]
  },
  {
   "source": [
    "# Load data"
   ],
   "cell_type": "markdown",
   "metadata": {}
  },
  {
   "cell_type": "code",
   "execution_count": 3,
   "metadata": {},
   "outputs": [],
   "source": [
    "X_train, y_train = joblib.load(\n",
    "    \"../data/train/preprocessed/undersampled_train_features_labels.joblib.gz\"\n",
    ")\n",
    "\n",
    "X_validation, y_validation = joblib.load(\n",
    "    \"../data/train/preprocessed/validation_features_labels.joblib.gz\"\n",
    ")"
   ]
  },
  {
   "source": [
    "# Estimators"
   ],
   "cell_type": "markdown",
   "metadata": {}
  },
  {
   "cell_type": "code",
   "execution_count": 4,
   "metadata": {},
   "outputs": [],
   "source": [
    "estimators = {\n",
    "    \"RandomForestRegressor\": RandomForestRegressor(),\n",
    "    \"XGBRegressor\": XGBRegressor(),\n",
    "}"
   ]
  },
  {
   "source": [
    "# Parameters - broad search space"
   ],
   "cell_type": "markdown",
   "metadata": {}
  },
  {
   "cell_type": "code",
   "execution_count": 5,
   "metadata": {},
   "outputs": [],
   "source": [
    "params = {\n",
    "    \"RandomForestRegressor\": {\n",
    "        \"n_estimators\": [100, 500],\n",
    "        \"criterion\": [\"mse\", \"mae\"],\n",
    "        \"max_depth\": [100, 500, None],\n",
    "        \"min_samples_split\": [2, 10, 25, 100],\n",
    "        \"min_samples_leaf\": [1, 5, 10],\n",
    "        \"bootstrap\": [True],\n",
    "        \"oob_score\": [True, False],\n",
    "        \"max_samples\": [None, .75]\n",
    "    },\n",
    "    \"XGBRegressor\": {\n",
    "        \"n_estimators\": [100, 500],\n",
    "        \"max_depth\": [100, 500, None],\n",
    "        \"learning_rate\": [.001, .01, .1],\n",
    "        \"n_jobs\": [1],\n",
    "        \"gamma\": [.01, .05, .1],\n",
    "        \"subsample\": [0.6, 0.8, 1],\n",
    "        \"colsample_bytree\": [0.5, 1.0],\n",
    "        \"reg_alpha\": [0],\n",
    "        \"reg_lambda\": [.05, .5, 1., 3],\n",
    "        \"base_score\": [0, 1]\n",
    "    },\n",
    "}"
   ]
  },
  {
   "source": [
    "# Model selection - Grid Search"
   ],
   "cell_type": "markdown",
   "metadata": {}
  },
  {
   "cell_type": "code",
   "execution_count": 6,
   "metadata": {},
   "outputs": [
    {
     "output_type": "stream",
     "name": "stdout",
     "text": [
      "Running GridSearchCV for RandomForestRegressor.\n",
      "Fitting 5 folds for each of 576 candidates, totalling 2880 fits\n",
      "Running GridSearchCV for XGBRegressor.\n",
      "Fitting 5 folds for each of 2592 candidates, totalling 12960 fits\n"
     ]
    },
    {
     "output_type": "execute_result",
     "data": {
      "text/plain": [
       "['../ml_artifacts/gridsearch_results/2021-05-23T14:13:24broad_param_search_result.joblib.gz']"
      ]
     },
     "metadata": {},
     "execution_count": 6
    }
   ],
   "source": [
    "selector = ml.EstimatorSelector(estimators, params)\n",
    "selector.fit(X_train, y_train, scoring=\"neg_root_mean_squared_error\", cv=5, n_jobs=11)\n",
    "joblib.dump(\n",
    "    selector.score_summary(sort_by=\"mean_score\"),\n",
    "    f\"../ml_artifacts/gridsearch_results/{dt.datetime.now().strftime('%FT%T')}broad_param_search_result.joblib.gz\"\n",
    ")"
   ]
  },
  {
   "cell_type": "code",
   "execution_count": 7,
   "metadata": {},
   "outputs": [
    {
     "output_type": "execute_result",
     "data": {
      "text/plain": [
       "         estimator min_score mean_score max_score std_score  \\\n",
       "1151  XGBRegressor -0.496387  -0.459071 -0.393981  0.038312   \n",
       "935   XGBRegressor -0.497128  -0.459259 -0.393674  0.038427   \n",
       "719   XGBRegressor -0.497488  -0.459333 -0.394033  0.038324   \n",
       "2445  XGBRegressor -0.504987  -0.459993 -0.395838  0.040205   \n",
       "1150  XGBRegressor -0.496427   -0.46002 -0.395293  0.038006   \n",
       "...            ...       ...        ...       ...       ...   \n",
       "1394  XGBRegressor  -0.59695  -0.546465 -0.484602  0.039803   \n",
       "1382  XGBRegressor -0.596962  -0.546466 -0.484601  0.039807   \n",
       "1406  XGBRegressor -0.596962  -0.546466 -0.484601  0.039807   \n",
       "1380  XGBRegressor -0.594731  -0.547704 -0.483443  0.041296   \n",
       "1404  XGBRegressor -0.594731  -0.547704 -0.483443  0.041296   \n",
       "\n",
       "                                                 params  \n",
       "1151  {'base_score': 0, 'colsample_bytree': 0.5, 'ga...  \n",
       "935   {'base_score': 0, 'colsample_bytree': 0.5, 'ga...  \n",
       "719   {'base_score': 0, 'colsample_bytree': 0.5, 'ga...  \n",
       "2445  {'base_score': 1, 'colsample_bytree': 0.5, 'ga...  \n",
       "1150  {'base_score': 0, 'colsample_bytree': 0.5, 'ga...  \n",
       "...                                                 ...  \n",
       "1394  {'base_score': 0, 'colsample_bytree': 1.0, 'ga...  \n",
       "1382  {'base_score': 0, 'colsample_bytree': 1.0, 'ga...  \n",
       "1406  {'base_score': 0, 'colsample_bytree': 1.0, 'ga...  \n",
       "1380  {'base_score': 0, 'colsample_bytree': 1.0, 'ga...  \n",
       "1404  {'base_score': 0, 'colsample_bytree': 1.0, 'ga...  \n",
       "\n",
       "[3168 rows x 6 columns]"
      ],
      "text/html": "<div>\n<style scoped>\n    .dataframe tbody tr th:only-of-type {\n        vertical-align: middle;\n    }\n\n    .dataframe tbody tr th {\n        vertical-align: top;\n    }\n\n    .dataframe thead th {\n        text-align: right;\n    }\n</style>\n<table border=\"1\" class=\"dataframe\">\n  <thead>\n    <tr style=\"text-align: right;\">\n      <th></th>\n      <th>estimator</th>\n      <th>min_score</th>\n      <th>mean_score</th>\n      <th>max_score</th>\n      <th>std_score</th>\n      <th>params</th>\n    </tr>\n  </thead>\n  <tbody>\n    <tr>\n      <th>1151</th>\n      <td>XGBRegressor</td>\n      <td>-0.496387</td>\n      <td>-0.459071</td>\n      <td>-0.393981</td>\n      <td>0.038312</td>\n      <td>{'base_score': 0, 'colsample_bytree': 0.5, 'ga...</td>\n    </tr>\n    <tr>\n      <th>935</th>\n      <td>XGBRegressor</td>\n      <td>-0.497128</td>\n      <td>-0.459259</td>\n      <td>-0.393674</td>\n      <td>0.038427</td>\n      <td>{'base_score': 0, 'colsample_bytree': 0.5, 'ga...</td>\n    </tr>\n    <tr>\n      <th>719</th>\n      <td>XGBRegressor</td>\n      <td>-0.497488</td>\n      <td>-0.459333</td>\n      <td>-0.394033</td>\n      <td>0.038324</td>\n      <td>{'base_score': 0, 'colsample_bytree': 0.5, 'ga...</td>\n    </tr>\n    <tr>\n      <th>2445</th>\n      <td>XGBRegressor</td>\n      <td>-0.504987</td>\n      <td>-0.459993</td>\n      <td>-0.395838</td>\n      <td>0.040205</td>\n      <td>{'base_score': 1, 'colsample_bytree': 0.5, 'ga...</td>\n    </tr>\n    <tr>\n      <th>1150</th>\n      <td>XGBRegressor</td>\n      <td>-0.496427</td>\n      <td>-0.46002</td>\n      <td>-0.395293</td>\n      <td>0.038006</td>\n      <td>{'base_score': 0, 'colsample_bytree': 0.5, 'ga...</td>\n    </tr>\n    <tr>\n      <th>...</th>\n      <td>...</td>\n      <td>...</td>\n      <td>...</td>\n      <td>...</td>\n      <td>...</td>\n      <td>...</td>\n    </tr>\n    <tr>\n      <th>1394</th>\n      <td>XGBRegressor</td>\n      <td>-0.59695</td>\n      <td>-0.546465</td>\n      <td>-0.484602</td>\n      <td>0.039803</td>\n      <td>{'base_score': 0, 'colsample_bytree': 1.0, 'ga...</td>\n    </tr>\n    <tr>\n      <th>1382</th>\n      <td>XGBRegressor</td>\n      <td>-0.596962</td>\n      <td>-0.546466</td>\n      <td>-0.484601</td>\n      <td>0.039807</td>\n      <td>{'base_score': 0, 'colsample_bytree': 1.0, 'ga...</td>\n    </tr>\n    <tr>\n      <th>1406</th>\n      <td>XGBRegressor</td>\n      <td>-0.596962</td>\n      <td>-0.546466</td>\n      <td>-0.484601</td>\n      <td>0.039807</td>\n      <td>{'base_score': 0, 'colsample_bytree': 1.0, 'ga...</td>\n    </tr>\n    <tr>\n      <th>1380</th>\n      <td>XGBRegressor</td>\n      <td>-0.594731</td>\n      <td>-0.547704</td>\n      <td>-0.483443</td>\n      <td>0.041296</td>\n      <td>{'base_score': 0, 'colsample_bytree': 1.0, 'ga...</td>\n    </tr>\n    <tr>\n      <th>1404</th>\n      <td>XGBRegressor</td>\n      <td>-0.594731</td>\n      <td>-0.547704</td>\n      <td>-0.483443</td>\n      <td>0.041296</td>\n      <td>{'base_score': 0, 'colsample_bytree': 1.0, 'ga...</td>\n    </tr>\n  </tbody>\n</table>\n<p>3168 rows × 6 columns</p>\n</div>"
     },
     "metadata": {},
     "execution_count": 7
    }
   ],
   "source": [
    "selector.score_summary(sort_by=\"mean_score\")"
   ]
  }
 ]
}
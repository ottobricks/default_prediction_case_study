{
 "cells": [
  {
   "cell_type": "code",
   "execution_count": 1,
   "id": "e2c860a9",
   "metadata": {},
   "outputs": [],
   "source": [
    "import os\n",
    "import pandas as pd\n",
    "from sklearn.model_selection import train_test_split"
   ]
  },
  {
   "cell_type": "code",
   "execution_count": 2,
   "id": "af9177c0",
   "metadata": {},
   "outputs": [],
   "source": [
    "try:\n",
    "    _ = first_run\n",
    "except NameError:\n",
    "    first_run = True\n",
    "    os.chdir(os.getcwd().rsplit(\"/\", 1)[0])"
   ]
  },
  {
   "cell_type": "markdown",
   "id": "fc88527a",
   "metadata": {},
   "source": [
    "# Load Data"
   ]
  },
  {
   "cell_type": "code",
   "execution_count": 3,
   "id": "b20dd36d",
   "metadata": {},
   "outputs": [],
   "source": [
    "df = pd.read_csv(\"../data/dataset.csv\", delimiter=\";\").dropna(subset=[\"default\"])"
   ]
  },
  {
   "cell_type": "code",
   "execution_count": 4,
   "id": "2b63af9d",
   "metadata": {},
   "outputs": [
    {
     "output_type": "stream",
     "name": "stdout",
     "text": [
      "<class 'pandas.core.frame.DataFrame'>\nInt64Index: 89976 entries, 0 to 89975\nData columns (total 43 columns):\n #   Column                               Non-Null Count  Dtype  \n---  ------                               --------------  -----  \n 0   uuid                                 89976 non-null  object \n 1   default                              89976 non-null  float64\n 2   account_amount_added_12_24m          89976 non-null  int64  \n 3   account_days_in_dc_12_24m            79293 non-null  float64\n 4   account_days_in_rem_12_24m           79293 non-null  float64\n 5   account_days_in_term_12_24m          79293 non-null  float64\n 6   account_incoming_debt_vs_paid_0_24m  36619 non-null  float64\n 7   account_status                       41042 non-null  float64\n 8   account_worst_status_0_3m            41042 non-null  float64\n 9   account_worst_status_12_24m          29921 non-null  float64\n 10  account_worst_status_3_6m            38038 non-null  float64\n 11  account_worst_status_6_12m           35663 non-null  float64\n 12  age                                  89976 non-null  int64  \n 13  avg_payment_span_0_12m               68508 non-null  float64\n 14  avg_payment_span_0_3m                45594 non-null  float64\n 15  merchant_category                    89976 non-null  object \n 16  merchant_group                       89976 non-null  object \n 17  has_paid                             89976 non-null  bool   \n 18  max_paid_inv_0_12m                   89976 non-null  float64\n 19  max_paid_inv_0_24m                   89976 non-null  float64\n 20  name_in_email                        89976 non-null  object \n 21  num_active_div_by_paid_inv_0_12m     69318 non-null  float64\n 22  num_active_inv                       89976 non-null  int64  \n 23  num_arch_dc_0_12m                    89976 non-null  int64  \n 24  num_arch_dc_12_24m                   89976 non-null  int64  \n 25  num_arch_ok_0_12m                    89976 non-null  int64  \n 26  num_arch_ok_12_24m                   89976 non-null  int64  \n 27  num_arch_rem_0_12m                   89976 non-null  int64  \n 28  num_arch_written_off_0_12m           73671 non-null  float64\n 29  num_arch_written_off_12_24m          73671 non-null  float64\n 30  num_unpaid_bills                     89976 non-null  int64  \n 31  status_last_archived_0_24m           89976 non-null  int64  \n 32  status_2nd_last_archived_0_24m       89976 non-null  int64  \n 33  status_3rd_last_archived_0_24m       89976 non-null  int64  \n 34  status_max_archived_0_6_months       89976 non-null  int64  \n 35  status_max_archived_0_12_months      89976 non-null  int64  \n 36  status_max_archived_0_24_months      89976 non-null  int64  \n 37  recovery_debt                        89976 non-null  int64  \n 38  sum_capital_paid_account_0_12m       89976 non-null  int64  \n 39  sum_capital_paid_account_12_24m      89976 non-null  int64  \n 40  sum_paid_inv_0_12m                   89976 non-null  int64  \n 41  time_hours                           89976 non-null  float64\n 42  worst_status_active_inv              27436 non-null  float64\ndtypes: bool(1), float64(19), int64(19), object(4)\nmemory usage: 29.6+ MB\n"
     ]
    }
   ],
   "source": [
    "df.info()"
   ]
  },
  {
   "cell_type": "markdown",
   "id": "9c822138",
   "metadata": {},
   "source": [
    "# What does a row represent?\n",
    "\n",
    "Looking at the variables, we can conclude that each row represents a snapshot of an account for up to 24 months before its most recent appearance in the database. We can go one step further and supose that such event happens when the account tries to make a new purchase and the model must infer the probability that the account will default the payment."
   ]
  },
  {
   "cell_type": "code",
   "execution_count": 5,
   "id": "5a93b935",
   "metadata": {},
   "outputs": [
    {
     "output_type": "execute_result",
     "data": {
      "text/plain": [
       "count    89976.000000\n",
       "mean        15.336351\n",
       "std          5.030674\n",
       "min          0.000278\n",
       "25%         11.629167\n",
       "50%         15.800833\n",
       "75%         19.548056\n",
       "max         23.999722\n",
       "Name: time_hours, dtype: float64"
      ]
     },
     "metadata": {},
     "execution_count": 5
    }
   ],
   "source": [
    "df[\"time_hours\"].describe()"
   ]
  },
  {
   "cell_type": "markdown",
   "id": "40d74a36",
   "metadata": {},
   "source": [
    "# Is there a timeline between snapshots?\n",
    "\n",
    "Although the variable \"time_hours\" can give us a sense of order between snapshots, it is hardly a good candidate to separate the past and future as it is not a full timestamp.\n",
    "Thus, for the sake of brevity, it is fair to assume that the behaviour of accounts is independent of others and that \"time_hours\" is intended to be used only as a feature for our models.\n"
   ]
  },
  {
   "cell_type": "markdown",
   "id": "3e6374e5",
   "metadata": {},
   "source": [
    "# Stratified Split\n",
    "\n",
    "Before going any further, we must set aside 20% of our dataset to be used as our test (unseen) set. Assuming that our dataset is representative of real-world data, we choose to maintain the rate of contamination in the test set."
   ]
  },
  {
   "cell_type": "code",
   "execution_count": 6,
   "id": "24dc2c9b",
   "metadata": {},
   "outputs": [],
   "source": [
    "try:\n",
    "    y = df.pop(\"default\")\n",
    "except KeyError:\n",
    "    pass"
   ]
  },
  {
   "cell_type": "code",
   "execution_count": 7,
   "id": "af4c43d6",
   "metadata": {},
   "outputs": [],
   "source": [
    "X_train, X_test, y_train, y_test = train_test_split(\n",
    "    df, y, train_size=0.8, random_state=42, shuffle=True, stratify=y\n",
    ")"
   ]
  },
  {
   "cell_type": "code",
   "execution_count": 8,
   "id": "b082cd6f",
   "metadata": {},
   "outputs": [],
   "source": [
    "X_test.index.name = \"row_id\"\n",
    "y_test.index.name = \"row_id\"\n",
    "\n",
    "X_test.to_csv(\"../data/test/X_test.csv\", index=True)\n",
    "y_test.to_csv(\"../data/test/y_test.csv\", index=True)"
   ]
  },
  {
   "cell_type": "code",
   "execution_count": 9,
   "id": "1ddb4b71",
   "metadata": {},
   "outputs": [],
   "source": [
    "X_train.index.name = \"row_id\"\n",
    "y_train.index.name = \"row_id\"\n",
    "\n",
    "X_train.to_csv(\"../data/train/X_train.csv\", index=True)\n",
    "y_train.to_csv(\"../data/train/y_train.csv\", index=True)"
   ]
  },
  {
   "cell_type": "code",
   "execution_count": 10,
   "id": "d2d76c7b",
   "metadata": {},
   "outputs": [],
   "source": [
    "pd.read_csv(\"../data/dataset.csv\", delimiter=\";\").query(\"default.isna()\").to_csv(\n",
    "    \"../data/predict/to_predict.csv\", index=False\n",
    ")"
   ]
  }
 ],
 "metadata": {
  "jupytext": {
   "main_language": "python"
  },
  "kernelspec": {
   "display_name": "Python 3.8.10 64-bit ('klarna': conda)",
   "name": "python381064bitklarnacondaf238ae83b93148ae9699955d68f1389c"
  }
 },
 "nbformat": 4,
 "nbformat_minor": 5
}
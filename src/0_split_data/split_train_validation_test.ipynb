{
 "cells": [
  {
   "cell_type": "code",
   "execution_count": null,
   "id": "e2c860a9",
   "metadata": {},
   "outputs": [],
   "source": [
    "import os\n",
    "import pandas as pd\n",
    "from sklearn.model_selection import train_test_split"
   ]
  },
  {
   "cell_type": "code",
   "execution_count": null,
   "id": "af9177c0",
   "metadata": {},
   "outputs": [],
   "source": [
    "try:\n",
    "    _ = first_run\n",
    "except NameError:\n",
    "    first_run = True\n",
    "    os.chdir(os.getcwd().rsplit(\"/\", 1)[0])"
   ]
  },
  {
   "cell_type": "markdown",
   "id": "fc88527a",
   "metadata": {},
   "source": [
    "# Load Data"
   ]
  },
  {
   "cell_type": "code",
   "execution_count": null,
   "id": "b20dd36d",
   "metadata": {},
   "outputs": [],
   "source": [
    "df = pd.read_csv(\"../data/dataset.csv\", delimiter=\";\").dropna(subset=[\"default\"])"
   ]
  },
  {
   "cell_type": "code",
   "execution_count": null,
   "id": "2b63af9d",
   "metadata": {},
   "outputs": [],
   "source": [
    "df.info()"
   ]
  },
  {
   "cell_type": "markdown",
   "id": "9c822138",
   "metadata": {},
   "source": [
    "# What does a row represent?\n",
    "\n",
    "Looking at the variables, we can conclude that each row represents a snapshot of an account for up to 24 months before its most recent appearance in the database. We can go one step further and supose that such event happens when the account tries to make a new purchase and the model must infer the probability that the account will default the payment."
   ]
  },
  {
   "cell_type": "code",
   "execution_count": null,
   "id": "5a93b935",
   "metadata": {},
   "outputs": [],
   "source": [
    "df[\"time_hours\"].describe()"
   ]
  },
  {
   "cell_type": "markdown",
   "id": "40d74a36",
   "metadata": {},
   "source": [
    "# Is there a timeline between snapshots?\n",
    "\n",
    "Although the variable \"time_hours\" can give us a sense of order between snapshots, it is hardly a good candidate to separate the past and future as it is not a full timestamp.\n",
    "Thus, for the sake of brevity, it is fair to assume that the behaviour of accounts is independent of others and that \"time_hours\" is intended to be used only as a feature for our models.\n"
   ]
  },
  {
   "cell_type": "markdown",
   "id": "3e6374e5",
   "metadata": {},
   "source": [
    "# Stratified Split\n",
    "\n",
    "Before going any further, we must set aside 20% of our dataset to be used as our test (unseen) set. Assuming that our dataset is representative of real-world data, we choose to maintain the rate of contamination in the test set."
   ]
  },
  {
   "cell_type": "code",
   "execution_count": null,
   "id": "24dc2c9b",
   "metadata": {},
   "outputs": [],
   "source": [
    "try:\n",
    "    y = df.pop(\"default\")\n",
    "except KeyError:\n",
    "    pass"
   ]
  },
  {
   "cell_type": "code",
   "execution_count": null,
   "id": "af4c43d6",
   "metadata": {},
   "outputs": [],
   "source": [
    "X_train, X_test, y_train, y_test = train_test_split(\n",
    "    df, y, train_size=0.8, random_state=42, shuffle=True, stratify=y\n",
    ")"
   ]
  },
  {
   "cell_type": "code",
   "execution_count": null,
   "id": "b082cd6f",
   "metadata": {},
   "outputs": [],
   "source": [
    "X_test.index.name = \"row_id\"\n",
    "y_test.index.name = \"row_id\"\n",
    "\n",
    "X_test.to_csv(\"../data/test/X_test.csv\", index=True)\n",
    "y_test.to_csv(\"../data/test/y_test.csv\", index=True)"
   ]
  },
  {
   "cell_type": "code",
   "execution_count": null,
   "id": "1ddb4b71",
   "metadata": {},
   "outputs": [],
   "source": [
    "X_test.index.name = \"row_id\"\n",
    "y_test.index.name = \"row_id\"\n",
    "\n",
    "X_train.to_csv(\"../data/train/X_train.csv\", index=True)\n",
    "y_train.to_csv(\"../data/train/y_train.csv\", index=True)"
   ]
  },
  {
   "cell_type": "code",
   "execution_count": null,
   "id": "d2d76c7b",
   "metadata": {},
   "outputs": [],
   "source": [
    "pd.read_csv(\"../data/dataset.csv\", delimiter=\";\").query(\"default.isna()\").to_csv(\n",
    "    \"../data/predict/to_predict.csv\", index=False\n",
    ")"
   ]
  }
 ],
 "metadata": {
  "jupytext": {
   "main_language": "python"
  },
  "kernelspec": {
   "display_name": "Python 3.8.8 64-bit ('klarna': conda)",
   "name": "python388jvsc74a57bd09f119b1d3a8a63730ae7ee508102d23a56b995c1f2248036bd772c0398b7d40e"
  }
 },
 "nbformat": 4,
 "nbformat_minor": 5
}

{
 "cells": [
  {
   "cell_type": "code",
   "execution_count": 1,
   "id": "90d43881",
   "metadata": {},
   "outputs": [],
   "source": [
    "import os\n",
    "import joblib\n",
    "import numpy as np\n",
    "import pandas as pd\n",
    "from sklearn.ensemble import RandomForestClassifier\n",
    "from sklearn.metrics import confusion_matrix"
   ]
  },
  {
   "cell_type": "code",
   "execution_count": 2,
   "id": "5ce3b059",
   "metadata": {},
   "outputs": [],
   "source": [
    "try:\n",
    "    _ = first_run\n",
    "except NameError:\n",
    "    first_run = True\n",
    "    os.chdir(os.getcwd().rsplit(\"/\", 1)[0])"
   ]
  },
  {
   "cell_type": "markdown",
   "id": "1653e8fa",
   "metadata": {},
   "source": [
    "# Load Data"
   ]
  },
  {
   "cell_type": "code",
   "execution_count": 3,
   "id": "b6f3d5b6",
   "metadata": {},
   "outputs": [],
   "source": [
    "X_train, y_train = joblib.load(\n",
    "    \"../data/train/preprocessed/train_features_labels.joblib.gz\"\n",
    ")\n",
    "\n",
    "X_validation, y_validation = joblib.load(\n",
    "    \"../data/train/preprocessed/validation_features_labels.joblib.gz\"\n",
    ")"
   ]
  },
  {
   "cell_type": "markdown",
   "id": "29808f0d",
   "metadata": {},
   "source": [
    "# Define baseline model"
   ]
  },
  {
   "cell_type": "code",
   "execution_count": 4,
   "id": "a932c439",
   "metadata": {},
   "outputs": [],
   "source": [
    "baseline = RandomForestClassifier().fit(X_train, y_train)\n",
    "\n",
    "_ = joblib.dump(baseline, \"../ml_artifacts/baseline_model.joblib.gz\")"
   ]
  },
  {
   "cell_type": "code",
   "execution_count": 5,
   "id": "5ff14068",
   "metadata": {},
   "outputs": [],
   "source": [
    "prediction = baseline.predict_proba(X_validation)\n",
    "\n",
    "threshold_perf = pd.DataFrame(\n",
    "    [\n",
    "        (\n",
    "            threshold,\n",
    "            *confusion_matrix(\n",
    "                y_validation, (prediction[:, 1] > threshold).astype(int)\n",
    "            ).ravel(),\n",
    "        )\n",
    "        for threshold in np.arange(0.05, 0.95, 0.05)\n",
    "    ],\n",
    "    columns=[\"threshold\", \"tn\", \"fp\", \"fn\", \"tp\"],\n",
    ").assign(\n",
    "    precision=lambda df: df[\"tp\"] / (df[\"tp\"] + df[\"fp\"]),\n",
    "    recall=lambda df: df[\"tp\"] / (df[\"tp\"] + df[\"fn\"]),\n",
    "    f1=lambda df: 2\n",
    "    * (df[\"precision\"] * df[\"recall\"])\n",
    "    / (df[\"precision\"] + df[\"recall\"]),\n",
    ")\n",
    "\n",
    "threshold_perf.to_csv(\"../ml_artifacts/baseline_model_performance.csv\", index=False)"
   ]
  },
  {
   "cell_type": "code",
   "execution_count": 6,
   "id": "feb21727",
   "metadata": {},
   "outputs": [
    {
     "output_type": "execute_result",
     "data": {
      "text/plain": [
       "<pandas.io.formats.style.Styler at 0x7f7117bb4c40>"
      ],
      "text/html": "<style  type=\"text/css\" >\n#T_cf120_row0_col6,#T_cf120_row0_col7,#T_cf120_row16_col5{\n            background-color:  darkorange;\n        }</style><table id=\"T_cf120_\" ><thead>    <tr>        <th class=\"blank level0\" ></th>        <th class=\"col_heading level0 col0\" >threshold</th>        <th class=\"col_heading level0 col1\" >tn</th>        <th class=\"col_heading level0 col2\" >fp</th>        <th class=\"col_heading level0 col3\" >fn</th>        <th class=\"col_heading level0 col4\" >tp</th>        <th class=\"col_heading level0 col5\" >precision</th>        <th class=\"col_heading level0 col6\" >recall</th>        <th class=\"col_heading level0 col7\" >f1</th>    </tr></thead><tbody>\n                <tr>\n                        <th id=\"T_cf120_level0_row0\" class=\"row_heading level0 row0\" >0</th>\n                        <td id=\"T_cf120_row0_col0\" class=\"data row0 col0\" >0.050000</td>\n                        <td id=\"T_cf120_row0_col1\" class=\"data row0 col1\" >13695</td>\n                        <td id=\"T_cf120_row0_col2\" class=\"data row0 col2\" >487</td>\n                        <td id=\"T_cf120_row0_col3\" class=\"data row0 col3\" >141</td>\n                        <td id=\"T_cf120_row0_col4\" class=\"data row0 col4\" >73</td>\n                        <td id=\"T_cf120_row0_col5\" class=\"data row0 col5\" >0.130357</td>\n                        <td id=\"T_cf120_row0_col6\" class=\"data row0 col6\" >0.341121</td>\n                        <td id=\"T_cf120_row0_col7\" class=\"data row0 col7\" >0.188630</td>\n            </tr>\n            <tr>\n                        <th id=\"T_cf120_level0_row1\" class=\"row_heading level0 row1\" >1</th>\n                        <td id=\"T_cf120_row1_col0\" class=\"data row1 col0\" >0.100000</td>\n                        <td id=\"T_cf120_row1_col1\" class=\"data row1 col1\" >13867</td>\n                        <td id=\"T_cf120_row1_col2\" class=\"data row1 col2\" >315</td>\n                        <td id=\"T_cf120_row1_col3\" class=\"data row1 col3\" >160</td>\n                        <td id=\"T_cf120_row1_col4\" class=\"data row1 col4\" >54</td>\n                        <td id=\"T_cf120_row1_col5\" class=\"data row1 col5\" >0.146341</td>\n                        <td id=\"T_cf120_row1_col6\" class=\"data row1 col6\" >0.252336</td>\n                        <td id=\"T_cf120_row1_col7\" class=\"data row1 col7\" >0.185249</td>\n            </tr>\n            <tr>\n                        <th id=\"T_cf120_level0_row2\" class=\"row_heading level0 row2\" >2</th>\n                        <td id=\"T_cf120_row2_col0\" class=\"data row2 col0\" >0.150000</td>\n                        <td id=\"T_cf120_row2_col1\" class=\"data row2 col1\" >13971</td>\n                        <td id=\"T_cf120_row2_col2\" class=\"data row2 col2\" >211</td>\n                        <td id=\"T_cf120_row2_col3\" class=\"data row2 col3\" >174</td>\n                        <td id=\"T_cf120_row2_col4\" class=\"data row2 col4\" >40</td>\n                        <td id=\"T_cf120_row2_col5\" class=\"data row2 col5\" >0.159363</td>\n                        <td id=\"T_cf120_row2_col6\" class=\"data row2 col6\" >0.186916</td>\n                        <td id=\"T_cf120_row2_col7\" class=\"data row2 col7\" >0.172043</td>\n            </tr>\n            <tr>\n                        <th id=\"T_cf120_level0_row3\" class=\"row_heading level0 row3\" >3</th>\n                        <td id=\"T_cf120_row3_col0\" class=\"data row3 col0\" >0.200000</td>\n                        <td id=\"T_cf120_row3_col1\" class=\"data row3 col1\" >14029</td>\n                        <td id=\"T_cf120_row3_col2\" class=\"data row3 col2\" >153</td>\n                        <td id=\"T_cf120_row3_col3\" class=\"data row3 col3\" >179</td>\n                        <td id=\"T_cf120_row3_col4\" class=\"data row3 col4\" >35</td>\n                        <td id=\"T_cf120_row3_col5\" class=\"data row3 col5\" >0.186170</td>\n                        <td id=\"T_cf120_row3_col6\" class=\"data row3 col6\" >0.163551</td>\n                        <td id=\"T_cf120_row3_col7\" class=\"data row3 col7\" >0.174129</td>\n            </tr>\n            <tr>\n                        <th id=\"T_cf120_level0_row4\" class=\"row_heading level0 row4\" >4</th>\n                        <td id=\"T_cf120_row4_col0\" class=\"data row4 col0\" >0.250000</td>\n                        <td id=\"T_cf120_row4_col1\" class=\"data row4 col1\" >14058</td>\n                        <td id=\"T_cf120_row4_col2\" class=\"data row4 col2\" >124</td>\n                        <td id=\"T_cf120_row4_col3\" class=\"data row4 col3\" >182</td>\n                        <td id=\"T_cf120_row4_col4\" class=\"data row4 col4\" >32</td>\n                        <td id=\"T_cf120_row4_col5\" class=\"data row4 col5\" >0.205128</td>\n                        <td id=\"T_cf120_row4_col6\" class=\"data row4 col6\" >0.149533</td>\n                        <td id=\"T_cf120_row4_col7\" class=\"data row4 col7\" >0.172973</td>\n            </tr>\n            <tr>\n                        <th id=\"T_cf120_level0_row5\" class=\"row_heading level0 row5\" >5</th>\n                        <td id=\"T_cf120_row5_col0\" class=\"data row5 col0\" >0.300000</td>\n                        <td id=\"T_cf120_row5_col1\" class=\"data row5 col1\" >14080</td>\n                        <td id=\"T_cf120_row5_col2\" class=\"data row5 col2\" >102</td>\n                        <td id=\"T_cf120_row5_col3\" class=\"data row5 col3\" >185</td>\n                        <td id=\"T_cf120_row5_col4\" class=\"data row5 col4\" >29</td>\n                        <td id=\"T_cf120_row5_col5\" class=\"data row5 col5\" >0.221374</td>\n                        <td id=\"T_cf120_row5_col6\" class=\"data row5 col6\" >0.135514</td>\n                        <td id=\"T_cf120_row5_col7\" class=\"data row5 col7\" >0.168116</td>\n            </tr>\n            <tr>\n                        <th id=\"T_cf120_level0_row6\" class=\"row_heading level0 row6\" >6</th>\n                        <td id=\"T_cf120_row6_col0\" class=\"data row6 col0\" >0.350000</td>\n                        <td id=\"T_cf120_row6_col1\" class=\"data row6 col1\" >14099</td>\n                        <td id=\"T_cf120_row6_col2\" class=\"data row6 col2\" >83</td>\n                        <td id=\"T_cf120_row6_col3\" class=\"data row6 col3\" >187</td>\n                        <td id=\"T_cf120_row6_col4\" class=\"data row6 col4\" >27</td>\n                        <td id=\"T_cf120_row6_col5\" class=\"data row6 col5\" >0.245455</td>\n                        <td id=\"T_cf120_row6_col6\" class=\"data row6 col6\" >0.126168</td>\n                        <td id=\"T_cf120_row6_col7\" class=\"data row6 col7\" >0.166667</td>\n            </tr>\n            <tr>\n                        <th id=\"T_cf120_level0_row7\" class=\"row_heading level0 row7\" >7</th>\n                        <td id=\"T_cf120_row7_col0\" class=\"data row7 col0\" >0.400000</td>\n                        <td id=\"T_cf120_row7_col1\" class=\"data row7 col1\" >14115</td>\n                        <td id=\"T_cf120_row7_col2\" class=\"data row7 col2\" >67</td>\n                        <td id=\"T_cf120_row7_col3\" class=\"data row7 col3\" >190</td>\n                        <td id=\"T_cf120_row7_col4\" class=\"data row7 col4\" >24</td>\n                        <td id=\"T_cf120_row7_col5\" class=\"data row7 col5\" >0.263736</td>\n                        <td id=\"T_cf120_row7_col6\" class=\"data row7 col6\" >0.112150</td>\n                        <td id=\"T_cf120_row7_col7\" class=\"data row7 col7\" >0.157377</td>\n            </tr>\n            <tr>\n                        <th id=\"T_cf120_level0_row8\" class=\"row_heading level0 row8\" >8</th>\n                        <td id=\"T_cf120_row8_col0\" class=\"data row8 col0\" >0.450000</td>\n                        <td id=\"T_cf120_row8_col1\" class=\"data row8 col1\" >14129</td>\n                        <td id=\"T_cf120_row8_col2\" class=\"data row8 col2\" >53</td>\n                        <td id=\"T_cf120_row8_col3\" class=\"data row8 col3\" >192</td>\n                        <td id=\"T_cf120_row8_col4\" class=\"data row8 col4\" >22</td>\n                        <td id=\"T_cf120_row8_col5\" class=\"data row8 col5\" >0.293333</td>\n                        <td id=\"T_cf120_row8_col6\" class=\"data row8 col6\" >0.102804</td>\n                        <td id=\"T_cf120_row8_col7\" class=\"data row8 col7\" >0.152249</td>\n            </tr>\n            <tr>\n                        <th id=\"T_cf120_level0_row9\" class=\"row_heading level0 row9\" >9</th>\n                        <td id=\"T_cf120_row9_col0\" class=\"data row9 col0\" >0.500000</td>\n                        <td id=\"T_cf120_row9_col1\" class=\"data row9 col1\" >14138</td>\n                        <td id=\"T_cf120_row9_col2\" class=\"data row9 col2\" >44</td>\n                        <td id=\"T_cf120_row9_col3\" class=\"data row9 col3\" >195</td>\n                        <td id=\"T_cf120_row9_col4\" class=\"data row9 col4\" >19</td>\n                        <td id=\"T_cf120_row9_col5\" class=\"data row9 col5\" >0.301587</td>\n                        <td id=\"T_cf120_row9_col6\" class=\"data row9 col6\" >0.088785</td>\n                        <td id=\"T_cf120_row9_col7\" class=\"data row9 col7\" >0.137184</td>\n            </tr>\n            <tr>\n                        <th id=\"T_cf120_level0_row10\" class=\"row_heading level0 row10\" >10</th>\n                        <td id=\"T_cf120_row10_col0\" class=\"data row10 col0\" >0.550000</td>\n                        <td id=\"T_cf120_row10_col1\" class=\"data row10 col1\" >14144</td>\n                        <td id=\"T_cf120_row10_col2\" class=\"data row10 col2\" >38</td>\n                        <td id=\"T_cf120_row10_col3\" class=\"data row10 col3\" >200</td>\n                        <td id=\"T_cf120_row10_col4\" class=\"data row10 col4\" >14</td>\n                        <td id=\"T_cf120_row10_col5\" class=\"data row10 col5\" >0.269231</td>\n                        <td id=\"T_cf120_row10_col6\" class=\"data row10 col6\" >0.065421</td>\n                        <td id=\"T_cf120_row10_col7\" class=\"data row10 col7\" >0.105263</td>\n            </tr>\n            <tr>\n                        <th id=\"T_cf120_level0_row11\" class=\"row_heading level0 row11\" >11</th>\n                        <td id=\"T_cf120_row11_col0\" class=\"data row11 col0\" >0.600000</td>\n                        <td id=\"T_cf120_row11_col1\" class=\"data row11 col1\" >14157</td>\n                        <td id=\"T_cf120_row11_col2\" class=\"data row11 col2\" >25</td>\n                        <td id=\"T_cf120_row11_col3\" class=\"data row11 col3\" >201</td>\n                        <td id=\"T_cf120_row11_col4\" class=\"data row11 col4\" >13</td>\n                        <td id=\"T_cf120_row11_col5\" class=\"data row11 col5\" >0.342105</td>\n                        <td id=\"T_cf120_row11_col6\" class=\"data row11 col6\" >0.060748</td>\n                        <td id=\"T_cf120_row11_col7\" class=\"data row11 col7\" >0.103175</td>\n            </tr>\n            <tr>\n                        <th id=\"T_cf120_level0_row12\" class=\"row_heading level0 row12\" >12</th>\n                        <td id=\"T_cf120_row12_col0\" class=\"data row12 col0\" >0.650000</td>\n                        <td id=\"T_cf120_row12_col1\" class=\"data row12 col1\" >14166</td>\n                        <td id=\"T_cf120_row12_col2\" class=\"data row12 col2\" >16</td>\n                        <td id=\"T_cf120_row12_col3\" class=\"data row12 col3\" >205</td>\n                        <td id=\"T_cf120_row12_col4\" class=\"data row12 col4\" >9</td>\n                        <td id=\"T_cf120_row12_col5\" class=\"data row12 col5\" >0.360000</td>\n                        <td id=\"T_cf120_row12_col6\" class=\"data row12 col6\" >0.042056</td>\n                        <td id=\"T_cf120_row12_col7\" class=\"data row12 col7\" >0.075314</td>\n            </tr>\n            <tr>\n                        <th id=\"T_cf120_level0_row13\" class=\"row_heading level0 row13\" >13</th>\n                        <td id=\"T_cf120_row13_col0\" class=\"data row13 col0\" >0.700000</td>\n                        <td id=\"T_cf120_row13_col1\" class=\"data row13 col1\" >14173</td>\n                        <td id=\"T_cf120_row13_col2\" class=\"data row13 col2\" >9</td>\n                        <td id=\"T_cf120_row13_col3\" class=\"data row13 col3\" >207</td>\n                        <td id=\"T_cf120_row13_col4\" class=\"data row13 col4\" >7</td>\n                        <td id=\"T_cf120_row13_col5\" class=\"data row13 col5\" >0.437500</td>\n                        <td id=\"T_cf120_row13_col6\" class=\"data row13 col6\" >0.032710</td>\n                        <td id=\"T_cf120_row13_col7\" class=\"data row13 col7\" >0.060870</td>\n            </tr>\n            <tr>\n                        <th id=\"T_cf120_level0_row14\" class=\"row_heading level0 row14\" >14</th>\n                        <td id=\"T_cf120_row14_col0\" class=\"data row14 col0\" >0.750000</td>\n                        <td id=\"T_cf120_row14_col1\" class=\"data row14 col1\" >14177</td>\n                        <td id=\"T_cf120_row14_col2\" class=\"data row14 col2\" >5</td>\n                        <td id=\"T_cf120_row14_col3\" class=\"data row14 col3\" >208</td>\n                        <td id=\"T_cf120_row14_col4\" class=\"data row14 col4\" >6</td>\n                        <td id=\"T_cf120_row14_col5\" class=\"data row14 col5\" >0.545455</td>\n                        <td id=\"T_cf120_row14_col6\" class=\"data row14 col6\" >0.028037</td>\n                        <td id=\"T_cf120_row14_col7\" class=\"data row14 col7\" >0.053333</td>\n            </tr>\n            <tr>\n                        <th id=\"T_cf120_level0_row15\" class=\"row_heading level0 row15\" >15</th>\n                        <td id=\"T_cf120_row15_col0\" class=\"data row15 col0\" >0.800000</td>\n                        <td id=\"T_cf120_row15_col1\" class=\"data row15 col1\" >14180</td>\n                        <td id=\"T_cf120_row15_col2\" class=\"data row15 col2\" >2</td>\n                        <td id=\"T_cf120_row15_col3\" class=\"data row15 col3\" >209</td>\n                        <td id=\"T_cf120_row15_col4\" class=\"data row15 col4\" >5</td>\n                        <td id=\"T_cf120_row15_col5\" class=\"data row15 col5\" >0.714286</td>\n                        <td id=\"T_cf120_row15_col6\" class=\"data row15 col6\" >0.023364</td>\n                        <td id=\"T_cf120_row15_col7\" class=\"data row15 col7\" >0.045249</td>\n            </tr>\n            <tr>\n                        <th id=\"T_cf120_level0_row16\" class=\"row_heading level0 row16\" >16</th>\n                        <td id=\"T_cf120_row16_col0\" class=\"data row16 col0\" >0.850000</td>\n                        <td id=\"T_cf120_row16_col1\" class=\"data row16 col1\" >14181</td>\n                        <td id=\"T_cf120_row16_col2\" class=\"data row16 col2\" >1</td>\n                        <td id=\"T_cf120_row16_col3\" class=\"data row16 col3\" >209</td>\n                        <td id=\"T_cf120_row16_col4\" class=\"data row16 col4\" >5</td>\n                        <td id=\"T_cf120_row16_col5\" class=\"data row16 col5\" >0.833333</td>\n                        <td id=\"T_cf120_row16_col6\" class=\"data row16 col6\" >0.023364</td>\n                        <td id=\"T_cf120_row16_col7\" class=\"data row16 col7\" >0.045455</td>\n            </tr>\n            <tr>\n                        <th id=\"T_cf120_level0_row17\" class=\"row_heading level0 row17\" >17</th>\n                        <td id=\"T_cf120_row17_col0\" class=\"data row17 col0\" >0.900000</td>\n                        <td id=\"T_cf120_row17_col1\" class=\"data row17 col1\" >14181</td>\n                        <td id=\"T_cf120_row17_col2\" class=\"data row17 col2\" >1</td>\n                        <td id=\"T_cf120_row17_col3\" class=\"data row17 col3\" >210</td>\n                        <td id=\"T_cf120_row17_col4\" class=\"data row17 col4\" >4</td>\n                        <td id=\"T_cf120_row17_col5\" class=\"data row17 col5\" >0.800000</td>\n                        <td id=\"T_cf120_row17_col6\" class=\"data row17 col6\" >0.018692</td>\n                        <td id=\"T_cf120_row17_col7\" class=\"data row17 col7\" >0.036530</td>\n            </tr>\n    </tbody></table>"
     },
     "metadata": {},
     "execution_count": 6
    }
   ],
   "source": [
    "def highlight_max(data, color=\"yellow\"):\n",
    "    \"\"\"\n",
    "    highlight the maximum in a Series or DataFrame\n",
    "    \"\"\"\n",
    "    attr = \"background-color: {}\".format(color)\n",
    "    if data.ndim == 1:  # Series from .apply(axis=0) or axis=1\n",
    "        is_max = data == data.max()\n",
    "        return [attr if v else \"\" for v in is_max]\n",
    "    else:  # from .apply(axis=None)\n",
    "        is_max = data == data.max().max()\n",
    "        return pd.DataFrame(\n",
    "            np.where(is_max, attr, \"\"), index=data.index, columns=data.columns\n",
    "        )\n",
    "\n",
    "\n",
    "threshold_perf.style.apply(\n",
    "    highlight_max, color=\"darkorange\", subset=[\"precision\", \"recall\", \"f1\"]\n",
    ")"
   ]
  },
  {
   "cell_type": "code",
   "execution_count": null,
   "id": "f4c4266f",
   "metadata": {},
   "outputs": [],
   "source": []
  }
 ],
 "metadata": {
  "jupytext": {
   "main_language": "python"
  },
  "kernelspec": {
   "display_name": "Python 3.8.10 64-bit ('klarna': conda)",
   "name": "python381064bitklarnacondaf238ae83b93148ae9699955d68f1389c"
  }
 },
 "nbformat": 4,
 "nbformat_minor": 5
}